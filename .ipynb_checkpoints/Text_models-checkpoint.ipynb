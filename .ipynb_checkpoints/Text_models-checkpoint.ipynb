{
 "cells": [
  {
   "cell_type": "markdown",
   "id": "cb3b805f",
   "metadata": {},
   "source": [
    "# StackOverflow Tags Prediction\n",
    "\n",
    "# Outline\n",
    "- [ 1 - Import the Data](#1)\n",
    "- [ 2 - Exploring the Data](#2)\n",
    "  - [ 2.1 - Bag of words](#2.1)\n",
    "  - [ 2.2 - TF-IDF](#2.2)\n",
    "  - [ 2.3 - CBOW](#2.3)"
   ]
  },
  {
   "cell_type": "markdown",
   "id": "7ddbc416",
   "metadata": {},
   "source": [
    "<a name=\"1\"></a>\n",
    "## 1 - Import the Data"
   ]
  },
  {
   "cell_type": "markdown",
   "id": "968e3d5e",
   "metadata": {},
   "source": [
    "TO DO!!!!\n",
    "\n",
    "In this section, you will use [`Kaggle Questions csv file`](https://www.kaggle.com/code/miljan/predicting-tags-for-stackoverflow/input?select=Questions.csv) to transform the sentences into integers, so they can be fed into the model you will build later on.\n",
    "[`Kaggle Labled Tags csv file`](https://www.kaggle.com/code/miljan/predicting-tags-for-stackoverflow/input?select=Tags.csv)"
   ]
  },
  {
   "cell_type": "code",
   "execution_count": 4,
   "id": "c7db10a4",
   "metadata": {},
   "outputs": [],
   "source": [
    "import numpy as np\n",
    "import pandas as pd\n",
    "from scipy import sparse as sp_sparse\n",
    "import re\n",
    "from ast import literal_eval\n",
    "from tqdm import tqdm\n",
    "import scipy as sp"
   ]
  },
  {
   "cell_type": "code",
   "execution_count": 5,
   "id": "deea2a40",
   "metadata": {},
   "outputs": [],
   "source": [
    "%timeit\n",
    "train = pd.read_csv('Questions.csv\\Questions.csv', encoding = \"ISO-8859-1\")"
   ]
  },
  {
   "cell_type": "code",
   "execution_count": 6,
   "id": "b983745f",
   "metadata": {},
   "outputs": [],
   "source": [
    "y_data = pd.read_csv('Tags.csv\\Tags.csv', encoding = \"ISO-8859-1\")"
   ]
  },
  {
   "cell_type": "markdown",
   "id": "31f864c4",
   "metadata": {},
   "source": [
    "<a name=\"2\"></a>\n",
    "## 2 - Exploring the Data"
   ]
  },
  {
   "cell_type": "code",
   "execution_count": 7,
   "id": "2e806f53",
   "metadata": {},
   "outputs": [
    {
     "data": {
      "text/plain": [
       "True"
      ]
     },
     "execution_count": 7,
     "metadata": {},
     "output_type": "execute_result"
    }
   ],
   "source": [
    "train[\"Id\"].nunique() == len(train) == y_data[\"Id\"].nunique()"
   ]
  },
  {
   "cell_type": "code",
   "execution_count": 8,
   "id": "8494f9bd",
   "metadata": {},
   "outputs": [
    {
     "data": {
      "text/plain": [
       "False"
      ]
     },
     "execution_count": 8,
     "metadata": {},
     "output_type": "execute_result"
    }
   ],
   "source": [
    "y_data[\"Id\"].nunique() == len(y_data)"
   ]
  },
  {
   "cell_type": "code",
   "execution_count": 9,
   "id": "36c334a1",
   "metadata": {},
   "outputs": [
    {
     "data": {
      "text/html": [
       "<div>\n",
       "<style scoped>\n",
       "    .dataframe tbody tr th:only-of-type {\n",
       "        vertical-align: middle;\n",
       "    }\n",
       "\n",
       "    .dataframe tbody tr th {\n",
       "        vertical-align: top;\n",
       "    }\n",
       "\n",
       "    .dataframe thead th {\n",
       "        text-align: right;\n",
       "    }\n",
       "</style>\n",
       "<table border=\"1\" class=\"dataframe\">\n",
       "  <thead>\n",
       "    <tr style=\"text-align: right;\">\n",
       "      <th></th>\n",
       "      <th>Id</th>\n",
       "      <th>Tag</th>\n",
       "    </tr>\n",
       "  </thead>\n",
       "  <tbody>\n",
       "    <tr>\n",
       "      <th>0</th>\n",
       "      <td>80</td>\n",
       "      <td>[flex, actionscript-3, air]</td>\n",
       "    </tr>\n",
       "    <tr>\n",
       "      <th>1</th>\n",
       "      <td>90</td>\n",
       "      <td>[svn, tortoisesvn, branch, branching-and-merging]</td>\n",
       "    </tr>\n",
       "    <tr>\n",
       "      <th>2</th>\n",
       "      <td>120</td>\n",
       "      <td>[sql, asp.net, sitemap]</td>\n",
       "    </tr>\n",
       "    <tr>\n",
       "      <th>3</th>\n",
       "      <td>180</td>\n",
       "      <td>[algorithm, language-agnostic, colors, color-s...</td>\n",
       "    </tr>\n",
       "    <tr>\n",
       "      <th>4</th>\n",
       "      <td>260</td>\n",
       "      <td>[c#, .net, scripting, compiler-construction]</td>\n",
       "    </tr>\n",
       "  </tbody>\n",
       "</table>\n",
       "</div>"
      ],
      "text/plain": [
       "    Id                                                Tag\n",
       "0   80                        [flex, actionscript-3, air]\n",
       "1   90  [svn, tortoisesvn, branch, branching-and-merging]\n",
       "2  120                            [sql, asp.net, sitemap]\n",
       "3  180  [algorithm, language-agnostic, colors, color-s...\n",
       "4  260       [c#, .net, scripting, compiler-construction]"
      ]
     },
     "execution_count": 9,
     "metadata": {},
     "output_type": "execute_result"
    }
   ],
   "source": [
    "y_data = y_data.groupby(\"Id\")[\"Tag\"].apply(list).reset_index()\n",
    "y_data.head()"
   ]
  },
  {
   "cell_type": "code",
   "execution_count": 10,
   "id": "b00c65f5",
   "metadata": {},
   "outputs": [
    {
     "data": {
      "text/plain": [
       "True"
      ]
     },
     "execution_count": 10,
     "metadata": {},
     "output_type": "execute_result"
    }
   ],
   "source": [
    "y_data[\"Id\"].nunique() == len(y_data)"
   ]
  },
  {
   "cell_type": "code",
   "execution_count": 11,
   "id": "2ae23f57",
   "metadata": {},
   "outputs": [
    {
     "data": {
      "text/plain": [
       "0"
      ]
     },
     "execution_count": 11,
     "metadata": {},
     "output_type": "execute_result"
    }
   ],
   "source": [
    "all_data = train.merge(y_data, how='left', left_on='Id', right_on='Id')\n",
    "all_data[\"Tag\"].isna().sum()"
   ]
  },
  {
   "cell_type": "code",
   "execution_count": 12,
   "id": "c3590ac5",
   "metadata": {},
   "outputs": [],
   "source": [
    "%matplotlib inline\n",
    "import matplotlib.pyplot as plt"
   ]
  },
  {
   "cell_type": "code",
   "execution_count": 13,
   "id": "a1f8834d",
   "metadata": {},
   "outputs": [
    {
     "data": {
      "image/png": "[encoded data removed]",
      "text/plain": [
       "<Figure size 640x480 with 1 Axes>"
      ]
     },
     "metadata": {},
     "output_type": "display_data"
    }
   ],
   "source": [
    "n=1000\n",
    "\n",
    "fig,ax = plt.subplots(1)\n",
    "ax.plot(range(len(all_data[\"CreationDate\"][::n])), all_data[\"CreationDate\"][::n], 'o', color='blue')\n",
    "ax.set_ylabel('CreationDate')\n",
    "ax.set_xlabel('Row number')\n",
    "\n",
    "# Turn off tick labels\n",
    "ax.set_yticklabels([])\n",
    "plt.show()"
   ]
  },
  {
   "cell_type": "code",
   "execution_count": 14,
   "id": "f7944e06",
   "metadata": {},
   "outputs": [],
   "source": [
    "def train_test_splitting(X, y, test_size, shuffle=True):\n",
    "    length_data = len(X)\n",
    "    test_len = int(length_data*test_size)\n",
    "    train_len = length_data - test_len\n",
    "    if shuffle:\n",
    "        index = np.random.permutation(length_data)\n",
    "    else:\n",
    "        index = np.arange(length_data)\n",
    "    train_index = index[:train_len]\n",
    "    test_index = index[train_len:]\n",
    "\n",
    "    return X[train_index],X[test_index],y[train_index],y[test_index]"
   ]
  },
  {
   "cell_type": "code",
   "execution_count": 15,
   "id": "f32e0baa",
   "metadata": {},
   "outputs": [],
   "source": [
    "X_train,X_test,y_train,y_test = train_test_splitting(all_data[\"Title\"], all_data[\"Tag\"], test_size=0.3 , shuffle=True) "
   ]
  },
  {
   "cell_type": "code",
   "execution_count": 16,
   "id": "3a80f1a1",
   "metadata": {},
   "outputs": [
    {
     "name": "stderr",
     "output_type": "stream",
     "text": [
      "[nltk_data] Downloading package stopwords to\n",
      "[nltk_data]     C:\\Users\\tyure\\AppData\\Roaming\\nltk_data...\n",
      "[nltk_data]   Package stopwords is already up-to-date!\n"
     ]
    }
   ],
   "source": [
    "import nltk\n",
    "nltk.download('stopwords')\n",
    "from nltk.corpus import stopwords"
   ]
  },
  {
   "cell_type": "code",
   "execution_count": 17,
   "id": "72258ee7",
   "metadata": {},
   "outputs": [],
   "source": [
    "def text_prepare(text):\n",
    "    \n",
    "    REPLACE_BY_SPACE_RE = re.compile('[/(){}\\[\\]\\|@,;]')\n",
    "    BAD_SYMBOLS_RE = re.compile('[^0-9a-z #+_]')\n",
    "    STOPWORDS = set(stopwords.words('english'))\n",
    "    text = text.lower()\n",
    "\n",
    "    text = REPLACE_BY_SPACE_RE.sub(r' ',text)\n",
    "    text = BAD_SYMBOLS_RE.sub(r'',text)\n",
    "    text = [w for w in text.split() if not w in STOPWORDS]\n",
    "    \n",
    "    return ' '.join(text)"
   ]
  },
  {
   "cell_type": "code",
   "execution_count": 18,
   "id": "fb60a238",
   "metadata": {},
   "outputs": [],
   "source": [
    "X_train = [text_prepare(x) for x in X_train]\n",
    "X_test = [text_prepare(x) for x in X_test]"
   ]
  },
  {
   "cell_type": "markdown",
   "id": "b8939936",
   "metadata": {},
   "source": [
    "<a name=\"2.1\"></a>\n",
    "## 2.1 - Bag of words"
   ]
  },
  {
   "cell_type": "code",
   "execution_count": 19,
   "id": "ba9a5e34",
   "metadata": {},
   "outputs": [],
   "source": [
    "def most_common_words(X):\n",
    "    words_counts = {}\n",
    "    \n",
    "    for i in X:\n",
    "        try:\n",
    "            for j in i.split():\n",
    "                words_counts[j] = words_counts.get(j, 0) + 1\n",
    "        except:\n",
    "            for j in i:\n",
    "                words_counts[j] = words_counts.get(j, 0) + 1\n",
    "\n",
    "    return sorted(words_counts.items(), key=lambda x: x[1], reverse=True)"
   ]
  },
  {
   "cell_type": "code",
   "execution_count": 20,
   "id": "36d0d9f1",
   "metadata": {},
   "outputs": [],
   "source": [
    "X_most_common_words, y_most_common_tags  = most_common_words(X_train), most_common_words(y_train)"
   ]
  },
  {
   "cell_type": "code",
   "execution_count": null,
   "id": "6450ef35",
   "metadata": {},
   "outputs": [],
   "source": [
    "y_most_common_tags[:5]"
   ]
  },
  {
   "cell_type": "code",
   "execution_count": 21,
   "id": "5a96e673",
   "metadata": {},
   "outputs": [],
   "source": [
    "DICT_SIZE = 5000"
   ]
  },
  {
   "cell_type": "code",
   "execution_count": 22,
   "id": "8e9bf112",
   "metadata": {},
   "outputs": [],
   "source": [
    "words_index = {k: v for k, v in X_most_common_words[:DICT_SIZE]}\n",
    "index_words = {value: key for key, value in words_index.items()}"
   ]
  },
  {
   "cell_type": "code",
   "execution_count": 23,
   "id": "0b015652",
   "metadata": {},
   "outputs": [],
   "source": [
    "dict_index = {k: v for k, v in enumerate(words_index)}\n",
    "index_dict = {value: key for key, value in dict_index.items()}"
   ]
  },
  {
   "cell_type": "code",
   "execution_count": 24,
   "id": "d23a3598",
   "metadata": {},
   "outputs": [],
   "source": [
    "def my_bag_of_words(text, words_index, dict_size):\n",
    "\n",
    "#     words_to_index = {k:num for num,k in enumerate(words_index.keys())}\n",
    "    ALL_WORDS = words_index.keys()\n",
    "    result_vector = np.zeros(dict_size)\n",
    "    for i in text.split():\n",
    "        if i in ALL_WORDS:\n",
    "            result_vector[words_to_index[i]] = 1\n",
    "\n",
    "    return result_vector"
   ]
  },
  {
   "cell_type": "code",
   "execution_count": 25,
   "id": "eda85f14",
   "metadata": {},
   "outputs": [],
   "source": [
    "X_train_mybag = sp_sparse.vstack([sp_sparse.csr_matrix(my_bag_of_words(text, dict_index, DICT_SIZE)) for text in X_train])\n",
    "\n",
    "X_test_mybag = sp_sparse.vstack([sp_sparse.csr_matrix(my_bag_of_words(text, dict_index, DICT_SIZE)) for text in X_test])"
   ]
  },
  {
   "cell_type": "markdown",
   "id": "2e467331",
   "metadata": {},
   "source": [
    "<a name=\"2.2\"></a>\n",
    "## 2.2 - TF-IDF"
   ]
  },
  {
   "cell_type": "code",
   "execution_count": 30,
   "id": "b7325799",
   "metadata": {},
   "outputs": [],
   "source": [
    "def tfidf(text):\n",
    "    common_words = most_common_words(text)\n",
    "    \n",
    "    every_words_list = [word[0] for word in common_words]\n",
    "    word_to_index = {word:index for index,word in enumerate(every_words_list)}\n",
    "    length_rows = len(text)\n",
    "    lenght_cols = len(every_words_list)\n",
    "    TF_matrix = sp_sparse.lil_matrix((length_rows,lenght_cols))\n",
    "    for row,sent in enumerate(text):\n",
    "        if row % 100000 == 0:\n",
    "            print(row)\n",
    "        for word in sent.split():\n",
    "            if word in every_words_list:\n",
    "                TF_matrix[row,word_to_index.get(word,0)] += 1\n",
    "    \n",
    "    idf = np.log((length_rows+1)/(((TF_matrix>0)*1).sum(axis = 0) + 1))+1\n",
    "    tfidf = TF_matrix.multiply(idf)\n",
    "    norm_tfidf = tfidf.multiply(1/np.sqrt(np.sum(tfidf.power(2), axis = 1)).reshape((length_rows,1)))\n",
    "    return norm_tfidf"
   ]
  },
  {
   "cell_type": "code",
   "execution_count": 31,
   "id": "cb1b9091",
   "metadata": {},
   "outputs": [
    {
     "name": "stdout",
     "output_type": "stream",
     "text": [
      "0\n",
      "100000\n",
      "200000\n",
      "300000\n",
      "400000\n",
      "500000\n",
      "600000\n",
      "700000\n",
      "800000\n"
     ]
    },
    {
     "name": "stderr",
     "output_type": "stream",
     "text": [
      "C:\\Users\\tyure\\AppData\\Local\\Temp\\ipykernel_5704\\3510924934.py:18: RuntimeWarning: divide by zero encountered in divide\n",
      "  norm_tfidf = tfidf.multiply(1/np.sqrt(np.sum(tfidf.power(2), axis = 1)).reshape((length_rows,1)))\n"
     ]
    }
   ],
   "source": [
    "X_train_tfidf = tfidf(X_train)"
   ]
  },
  {
   "cell_type": "code",
   "execution_count": 33,
   "id": "85ba255d",
   "metadata": {},
   "outputs": [
    {
     "data": {
      "text/plain": [
       "<884952x163396 sparse matrix of type '<class 'numpy.float64'>'\n",
       "\twith 4987916 stored elements in COOrdinate format>"
      ]
     },
     "execution_count": 33,
     "metadata": {},
     "output_type": "execute_result"
    }
   ],
   "source": [
    "X_train_tfidf"
   ]
  },
  {
   "cell_type": "code",
   "execution_count": null,
   "id": "cfc9a52a",
   "metadata": {},
   "outputs": [],
   "source": [
    "def pca(data, number_components):\n",
    "    if number_components<=data.shape[1]:\n",
    "        cov_mat = np.cov(data.T)\n",
    "        eigenvalues, eigenvectors = LA.eig(cov_mat)\n",
    "        two_vectors = eigenvectors[np.argsort(eigenvalues)[:number_components]]\n",
    "    return data@two_vectors.T\n",
    "    else:\n",
    "        raise ValueError(\"Number of components > data dimention\")"
   ]
  },
  {
   "cell_type": "code",
   "execution_count": null,
   "id": "217649db",
   "metadata": {},
   "outputs": [],
   "source": []
  },
  {
   "cell_type": "markdown",
   "id": "44333be6",
   "metadata": {},
   "source": [
    "<a name=\"2.3\"></a>\n",
    "## 2.3 - CBOW"
   ]
  },
  {
   "cell_type": "code",
   "execution_count": 62,
   "id": "717eb497",
   "metadata": {},
   "outputs": [],
   "source": [
    "def add_pad(text, num_of_padding, padding_car):\n",
    "    text_with_pad = []\n",
    "    for sent in text:\n",
    "        sent = (padding_car + \" \") * num_of_padding + sent + (\" \" + padding_car) * num_of_padding\n",
    "        text_with_pad.append(sent)\n",
    "    return text_with_pad"
   ]
  },
  {
   "cell_type": "code",
   "execution_count": 63,
   "id": "c38423ea",
   "metadata": {},
   "outputs": [],
   "source": [
    "def get_dict(text): \n",
    "    idx = 0\n",
    "    word2Ind = {}\n",
    "    Ind2word = {}\n",
    "    for sent in text:\n",
    "        for word in sent.split():\n",
    "            if word not in word2Ind.keys():\n",
    "                word2Ind[word] = idx\n",
    "                Ind2word[idx] = word\n",
    "                idx += 1\n",
    "    return word2Ind,Ind2word"
   ]
  },
  {
   "cell_type": "code",
   "execution_count": 98,
   "id": "89757570",
   "metadata": {},
   "outputs": [],
   "source": [
    "def get_data_with_window(text, num_neighbor_words, padding = False):\n",
    "    \n",
    "    if padding:\n",
    "        text = add_pad(text, num_neighbor_words, \"PAD\")\n",
    "        \n",
    "    word2Ind, Ind2word = get_dict(text)\n",
    "    vector_lenght = len(word2Ind)\n",
    "    count = 0\n",
    "    for sent in text:\n",
    "        length = len(sent.split()) - 2*num_neighbor_words\n",
    "        if length > 0:\n",
    "            count += length\n",
    "    X_matrix = sp.sparse.lil_matrix((count,vector_lenght))\n",
    "    y_matrix = sp.sparse.lil_matrix((count,vector_lenght))\n",
    "    Y = []\n",
    "    n = 0\n",
    "    for row, sent in enumerate(text):\n",
    "        sent_to_separete = sent.split()\n",
    "        for i in range(num_neighbor_words, len(sent_to_separete) - num_neighbor_words):\n",
    "            center_word = sent_to_separete[i]\n",
    "            context_words = sent_to_separete[(i - num_neighbor_words):i] + sent_to_separete[(i+1):(i+num_neighbor_words+1)]\n",
    "            y_matrix[n, word2Ind[center_word]] = 1\n",
    "            Y.append(word2Ind[center_word])\n",
    "            for con_word in context_words:\n",
    "                X_matrix[n, word2Ind[con_word]] += 1\n",
    "            n += 1\n",
    "    X_matrix = (X_matrix/sp.sparse.lil_matrix.sum(X_matrix, axis = 1)).tolil()\n",
    "    Y = np.array(Y)\n",
    "    return X_matrix, Y, word2Ind, Ind2word"
   ]
  },
  {
   "cell_type": "code",
   "execution_count": 159,
   "id": "210aaec3",
   "metadata": {},
   "outputs": [],
   "source": [
    "X_train_small = X_train[:100]"
   ]
  },
  {
   "cell_type": "code",
   "execution_count": 160,
   "id": "b6f14495",
   "metadata": {},
   "outputs": [],
   "source": [
    "X, y, word2Ind, Ind2word  = get_data_with_window(X_train_small, 2, padding = True)"
   ]
  },
  {
   "cell_type": "code",
   "execution_count": 102,
   "id": "af2efc1f",
   "metadata": {},
   "outputs": [],
   "source": [
    "import NN_for_CBOW as NN"
   ]
  },
  {
   "cell_type": "code",
   "execution_count": 158,
   "id": "ebcb80c1",
   "metadata": {},
   "outputs": [
    {
     "data": {
      "text/plain": [
       "<module 'NN_for_CBOW' from 'C:\\\\Users\\\\tyure\\\\Google Drive\\\\My Drive\\\\My_project\\\\NN_for_CBOW.py'>"
      ]
     },
     "execution_count": 158,
     "metadata": {},
     "output_type": "execute_result"
    }
   ],
   "source": [
    "from importlib import reload\n",
    "reload(NN)"
   ]
  },
  {
   "cell_type": "code",
   "execution_count": 164,
   "id": "0455f3dc",
   "metadata": {},
   "outputs": [
    {
     "name": "stdout",
     "output_type": "stream",
     "text": [
      "0\n",
      "(10, 438)\n",
      "(10, 438)\n",
      "(10, 438)\n",
      "(10, 438)\n",
      "(10, 438)\n",
      "(10, 438)\n",
      "(10, 438)\n",
      "(10, 438)\n",
      "(10, 438)\n",
      "(10, 438)\n",
      "(10, 438)\n",
      "(10, 438)\n",
      "(10, 438)\n",
      "(10, 438)\n",
      "(10, 438)\n",
      "(10, 438)\n",
      "(10, 438)\n",
      "(10, 438)\n",
      "(10, 438)\n",
      "(10, 438)\n",
      "(10, 438)\n",
      "(10, 438)\n",
      "(10, 438)\n",
      "(10, 438)\n",
      "(10, 438)\n",
      "(10, 438)\n",
      "(10, 438)\n",
      "(10, 438)\n",
      "(10, 438)\n",
      "(10, 438)\n",
      "(10, 438)\n",
      "(10, 438)\n",
      "(10, 438)\n",
      "(10, 438)\n",
      "(10, 438)\n",
      "(10, 438)\n",
      "(10, 438)\n",
      "(10, 438)\n",
      "(10, 438)\n",
      "(10, 438)\n",
      "(10, 438)\n",
      "(10, 438)\n",
      "(10, 438)\n",
      "(10, 438)\n",
      "(10, 438)\n",
      "(10, 438)\n",
      "(10, 438)\n",
      "(10, 438)\n",
      "(10, 438)\n",
      "(10, 438)\n",
      "(10, 438)\n",
      "(10, 438)\n",
      "(10, 438)\n",
      "1\n",
      "(10, 438)\n",
      "(10, 438)\n",
      "(10, 438)\n",
      "(10, 438)\n",
      "(10, 438)\n",
      "(10, 438)\n",
      "(10, 438)\n",
      "(10, 438)\n",
      "(10, 438)\n",
      "(10, 438)\n",
      "(10, 438)\n",
      "(10, 438)\n",
      "(10, 438)\n",
      "(10, 438)\n",
      "(10, 438)\n",
      "(10, 438)\n",
      "(10, 438)\n",
      "(10, 438)\n",
      "(10, 438)\n",
      "(10, 438)\n",
      "(10, 438)\n",
      "(10, 438)\n",
      "(10, 438)\n",
      "(10, 438)\n",
      "(10, 438)\n",
      "(10, 438)\n",
      "(10, 438)\n",
      "(10, 438)\n",
      "(10, 438)\n",
      "(10, 438)\n",
      "(10, 438)\n",
      "(10, 438)\n",
      "(10, 438)\n",
      "(10, 438)\n",
      "(10, 438)\n",
      "(10, 438)\n",
      "(10, 438)\n",
      "(10, 438)\n",
      "(10, 438)\n",
      "(10, 438)\n",
      "(10, 438)\n",
      "(10, 438)\n",
      "(10, 438)\n",
      "(10, 438)\n",
      "(10, 438)\n",
      "(10, 438)\n",
      "(10, 438)\n",
      "(10, 438)\n",
      "(10, 438)\n",
      "(10, 438)\n",
      "(10, 438)\n",
      "(10, 438)\n",
      "(10, 438)\n",
      "2\n",
      "(10, 438)\n",
      "(10, 438)\n",
      "(10, 438)\n",
      "(10, 438)\n",
      "(10, 438)\n",
      "(10, 438)\n",
      "(10, 438)\n",
      "(10, 438)\n",
      "(10, 438)\n",
      "(10, 438)\n",
      "(10, 438)\n",
      "(10, 438)\n",
      "(10, 438)\n",
      "(10, 438)\n",
      "(10, 438)\n",
      "(10, 438)\n",
      "(10, 438)\n",
      "(10, 438)\n",
      "(10, 438)\n",
      "(10, 438)\n",
      "(10, 438)\n",
      "(10, 438)\n",
      "(10, 438)\n",
      "(10, 438)\n",
      "(10, 438)\n",
      "(10, 438)\n",
      "(10, 438)\n",
      "(10, 438)\n",
      "(10, 438)\n",
      "(10, 438)\n",
      "(10, 438)\n",
      "(10, 438)\n",
      "(10, 438)\n",
      "(10, 438)\n",
      "(10, 438)\n",
      "(10, 438)\n",
      "(10, 438)\n",
      "(10, 438)\n",
      "(10, 438)\n",
      "(10, 438)\n",
      "(10, 438)\n",
      "(10, 438)\n",
      "(10, 438)\n",
      "(10, 438)\n",
      "(10, 438)\n",
      "(10, 438)\n",
      "(10, 438)\n",
      "(10, 438)\n",
      "(10, 438)\n",
      "(10, 438)\n",
      "(10, 438)\n",
      "(10, 438)\n",
      "(10, 438)\n",
      "3\n",
      "(10, 438)\n",
      "(10, 438)\n",
      "(10, 438)\n",
      "(10, 438)\n",
      "(10, 438)\n",
      "(10, 438)\n",
      "(10, 438)\n",
      "(10, 438)\n",
      "(10, 438)\n",
      "(10, 438)\n",
      "(10, 438)\n",
      "(10, 438)\n",
      "(10, 438)\n",
      "(10, 438)\n",
      "(10, 438)\n",
      "(10, 438)\n",
      "(10, 438)\n",
      "(10, 438)\n",
      "(10, 438)\n",
      "(10, 438)\n",
      "(10, 438)\n",
      "(10, 438)\n",
      "(10, 438)\n",
      "(10, 438)\n",
      "(10, 438)\n",
      "(10, 438)\n",
      "(10, 438)\n",
      "(10, 438)\n",
      "(10, 438)\n",
      "(10, 438)\n",
      "(10, 438)\n",
      "(10, 438)\n",
      "(10, 438)\n",
      "(10, 438)\n",
      "(10, 438)\n",
      "(10, 438)\n",
      "(10, 438)\n",
      "(10, 438)\n",
      "(10, 438)\n",
      "(10, 438)\n",
      "(10, 438)\n",
      "(10, 438)\n",
      "(10, 438)\n",
      "(10, 438)\n",
      "(10, 438)\n",
      "(10, 438)\n",
      "(10, 438)\n",
      "(10, 438)\n",
      "(10, 438)\n",
      "(10, 438)\n",
      "(10, 438)\n",
      "(10, 438)\n",
      "(10, 438)\n"
     ]
    }
   ],
   "source": [
    "res, W_1,W_2 = NN.train_network(X, y, hidden_neurons = 128, num_epoch = 4, batchsize = 500)"
   ]
  },
  {
   "cell_type": "code",
   "execution_count": 157,
   "id": "aa57580e",
   "metadata": {},
   "outputs": [
    {
     "data": {
      "text/plain": [
       "(56842, 10190)"
      ]
     },
     "execution_count": 157,
     "metadata": {},
     "output_type": "execute_result"
    }
   ],
   "source": [
    "X.shape"
   ]
  },
  {
   "cell_type": "code",
   "execution_count": 121,
   "id": "4993a278",
   "metadata": {},
   "outputs": [],
   "source": [
    "embeded_weights = (W_1 + W_2.T)/2"
   ]
  },
  {
   "cell_type": "code",
   "execution_count": 123,
   "id": "64d8f39d",
   "metadata": {},
   "outputs": [
    {
     "data": {
      "text/plain": [
       "(54, 128)"
      ]
     },
     "execution_count": 123,
     "metadata": {},
     "output_type": "execute_result"
    }
   ],
   "source": [
    "embeded_weights.shape"
   ]
  },
  {
   "cell_type": "code",
   "execution_count": 111,
   "id": "473d96c5",
   "metadata": {},
   "outputs": [
    {
     "data": {
      "text/plain": [
       "(128, 54)"
      ]
     },
     "execution_count": 111,
     "metadata": {},
     "output_type": "execute_result"
    }
   ],
   "source": [
    "W_2.shape"
   ]
  }
 ],
 "metadata": {
  "kernelspec": {
   "display_name": "Python 3 (ipykernel)",
   "language": "python",
   "name": "python3"
  },
  "language_info": {
   "codemirror_mode": {
    "name": "ipython",
    "version": 3
   },
   "file_extension": ".py",
   "mimetype": "text/x-python",
   "name": "python",
   "nbconvert_exporter": "python",
   "pygments_lexer": "ipython3",
   "version": "3.11.5"
  }
 },
 "nbformat": 4,
 "nbformat_minor": 5
}
