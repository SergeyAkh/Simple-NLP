{
 "cells": [
  {
   "cell_type": "markdown",
   "id": "cb3b805f",
   "metadata": {},
   "source": [
    "# StackOverflow Tags Prediction without specific packagess\n",
    "\n",
    "# Outline\n",
    "- [ 1 - Import the Data](#1)\n",
    "- [ 2 - Exploring and preparing data for model](#2)\n",
    "  - [ 2.1 - Bag of words](#2.1)\n",
    "  - [ 2.2 - TF-IDF](#2.2)\n",
    "  - [ 2.3 - CBOW](#2.3)\n",
    "    - [ 2.3.1 - Data prepare](#2.3.1)\n",
    "    - [ 2.3.2 - Train neuron network](#2.3.2)\n",
    "    - [ 2.3.3 - PCA for plotting results](#2.3.3)\n",
    "- [ 3 - Model creation and evaluation](#3)\n",
    "    - [ 3.1 - BOW model](#3.1)\n",
    "    - [ 3.2 - TFIDF model](#3.2)\n",
    "    - [ 3.3 - CBOW model](#3.3)    \n",
    "    "
   ]
  },
  {
   "cell_type": "markdown",
   "id": "7ddbc416",
   "metadata": {},
   "source": [
    "<a name=\"1\"></a>\n",
    "## 1 - Import the Data"
   ]
  },
  {
   "cell_type": "markdown",
   "id": "968e3d5e",
   "metadata": {},
   "source": [
    "TO DO!!!!\n",
    "\n",
    "In this section, you will use [`Kaggle Questions csv file`](https://www.kaggle.com/code/miljan/predicting-tags-for-stackoverflow/input?select=Questions.csv) to transform the sentences into integers, so they can be fed into the model you will build later on.\n",
    "[`Kaggle Labled Tags csv file`](https://www.kaggle.com/code/miljan/predicting-tags-for-stackoverflow/input?select=Tags.csv)"
   ]
  },
  {
   "cell_type": "code",
   "execution_count": 191,
   "id": "c7db10a4",
   "metadata": {},
   "outputs": [],
   "source": [
    "import numpy as np\n",
    "import pandas as pd\n",
    "from scipy import sparse as sp_sparse\n",
    "import re\n",
    "from numpy import linalg as LA\n",
    "from ast import literal_eval"
   ]
  },
  {
   "cell_type": "code",
   "execution_count": 193,
   "id": "21b0dc54-eb04-4358-878d-d83ddcff72ac",
   "metadata": {},
   "outputs": [],
   "source": [
    "train = pd.read_csv('/Users/sergeiakhmadulin/Library/CloudStorage/GoogleDrive-akhmadulinsergey@gmail.com/My Drive/Simple NLP/Questions.csv/Questions.csv',\\\n",
    "                    encoding = \"ISO-8859-1\", nrows=100000,index_col=False)"
   ]
  },
  {
   "cell_type": "code",
   "execution_count": 195,
   "id": "83cc8b77-3d4e-44df-94f2-bea5978856cc",
   "metadata": {},
   "outputs": [],
   "source": [
    "y_data = pd.read_csv('/Users/sergeiakhmadulin/Library/CloudStorage/GoogleDrive-akhmadulinsergey@gmail.com/My Drive/Simple NLP/Tags.csv/Tags_1.csv',\\\n",
    "                     encoding = \"ISO-8859-1\",index_col=False)"
   ]
  },
  {
   "cell_type": "code",
   "execution_count": 113,
   "id": "42da1945-3524-4c2d-850d-e978e2a4e39b",
   "metadata": {},
   "outputs": [],
   "source": [
    "all_data = pd.concat([train, y_data], axis=1)"
   ]
  },
  {
   "cell_type": "markdown",
   "id": "31f864c4",
   "metadata": {},
   "source": [
    "<a name=\"2\"></a>\n",
    "## 2 - Exploring and preparing data for model"
   ]
  },
  {
   "cell_type": "code",
   "execution_count": 117,
   "id": "3e0900ec-f5cb-4e89-92ae-0f00184e07a6",
   "metadata": {},
   "outputs": [
    {
     "data": {
      "text/html": [
       "<div>\n",
       "<style scoped>\n",
       "    .dataframe tbody tr th:only-of-type {\n",
       "        vertical-align: middle;\n",
       "    }\n",
       "\n",
       "    .dataframe tbody tr th {\n",
       "        vertical-align: top;\n",
       "    }\n",
       "\n",
       "    .dataframe thead th {\n",
       "        text-align: right;\n",
       "    }\n",
       "</style>\n",
       "<table border=\"1\" class=\"dataframe\">\n",
       "  <thead>\n",
       "    <tr style=\"text-align: right;\">\n",
       "      <th></th>\n",
       "      <th>title</th>\n",
       "      <th>tags</th>\n",
       "    </tr>\n",
       "  </thead>\n",
       "  <tbody>\n",
       "    <tr>\n",
       "      <th>0</th>\n",
       "      <td>How to draw a stacked dotplot in R?</td>\n",
       "      <td>['r']</td>\n",
       "    </tr>\n",
       "    <tr>\n",
       "      <th>1</th>\n",
       "      <td>mysql select all records where a datetime fiel...</td>\n",
       "      <td>['php', 'mysql']</td>\n",
       "    </tr>\n",
       "    <tr>\n",
       "      <th>2</th>\n",
       "      <td>How to terminate windows phone 8.1 app</td>\n",
       "      <td>['c#']</td>\n",
       "    </tr>\n",
       "    <tr>\n",
       "      <th>3</th>\n",
       "      <td>get current time in a specific country via jquery</td>\n",
       "      <td>['javascript', 'jquery']</td>\n",
       "    </tr>\n",
       "    <tr>\n",
       "      <th>4</th>\n",
       "      <td>Configuring Tomcat to Use SSL</td>\n",
       "      <td>['java']</td>\n",
       "    </tr>\n",
       "  </tbody>\n",
       "</table>\n",
       "</div>"
      ],
      "text/plain": [
       "                                               title                      tags\n",
       "0                How to draw a stacked dotplot in R?                     ['r']\n",
       "1  mysql select all records where a datetime fiel...          ['php', 'mysql']\n",
       "2             How to terminate windows phone 8.1 app                    ['c#']\n",
       "3  get current time in a specific country via jquery  ['javascript', 'jquery']\n",
       "4                      Configuring Tomcat to Use SSL                  ['java']"
      ]
     },
     "execution_count": 117,
     "metadata": {},
     "output_type": "execute_result"
    }
   ],
   "source": [
    "all_data.head()"
   ]
  },
  {
   "cell_type": "code",
   "execution_count": 115,
   "id": "2ae23f57",
   "metadata": {},
   "outputs": [
    {
     "data": {
      "text/plain": [
       "100000"
      ]
     },
     "execution_count": 115,
     "metadata": {},
     "output_type": "execute_result"
    }
   ],
   "source": [
    "len(all_data)"
   ]
  },
  {
   "cell_type": "code",
   "execution_count": 197,
   "id": "38915fab-8a6c-4c40-a1b1-a6ebd6aa6240",
   "metadata": {},
   "outputs": [],
   "source": [
    "all_data['tags'] = all_data['tags'].apply(literal_eval)"
   ]
  },
  {
   "cell_type": "code",
   "execution_count": 201,
   "id": "c3590ac5",
   "metadata": {},
   "outputs": [],
   "source": [
    "%matplotlib inline\n",
    "import matplotlib.pyplot as plt"
   ]
  },
  {
   "cell_type": "code",
   "execution_count": 203,
   "id": "bf48751e-d893-43c6-ad66-b200032b94f6",
   "metadata": {},
   "outputs": [],
   "source": [
    "def most_common_words(text):\n",
    "    words_counts = {}\n",
    "\n",
    "    for i in text:\n",
    "        try:\n",
    "            for j in i.split():\n",
    "                words_counts[j] = words_counts.get(j, 0) + 1\n",
    "        except:\n",
    "            for j in i:\n",
    "                words_counts[j] = words_counts.get(j, 0) + 1\n",
    "    return words_counts\n",
    "\n",
    "words_counts = most_common_words(all_data[\"tags\"])\n",
    "words_counts = dict(sorted(words_counts.items(), key=lambda x: x[1], reverse=True))"
   ]
  },
  {
   "cell_type": "code",
   "execution_count": 205,
   "id": "8cfa2597-24fe-4a4f-ae38-d391ff28c74c",
   "metadata": {},
   "outputs": [
    {
     "data": {
      "image/png": "[encoded data removed]",
      "text/plain": [
       "<Figure size 640x480 with 1 Axes>"
      ]
     },
     "metadata": {},
     "output_type": "display_data"
    }
   ],
   "source": [
    "max_words = 11\n",
    "x = range(max_words)\n",
    "y = list(words_counts.values())[:max_words]\n",
    "z = [i/10 for i in list(words_counts.values())[:max_words]]\n",
    "\n",
    "fig, ax = plt.subplots()\n",
    "\n",
    "ax.set_xlabel(\"Number\")\n",
    "ax.set_ylabel(\"Frequansy\")\n",
    "    \n",
    "ax.scatter(x, y, s=z)\n",
    "\n",
    "for i, txt in enumerate(list(words_counts.keys())[:max_words]):\n",
    "    ax.annotate(txt, (x[i], y[i]+100))\n",
    "\n",
    "\n",
    "plt.show()"
   ]
  },
  {
   "cell_type": "code",
   "execution_count": 221,
   "id": "f7944e06",
   "metadata": {},
   "outputs": [],
   "source": [
    "def train_test_splitting(X, y, test_size, shuffle=True):\n",
    "    length_data = len(X)\n",
    "    test_len = int(length_data*test_size)\n",
    "    train_len = length_data - test_len\n",
    "    if shuffle:\n",
    "        index = np.random.permutation(length_data)\n",
    "    else:\n",
    "        index = np.arange(length_data)\n",
    "    train_index = index[:train_len]\n",
    "    test_index = index[train_len:]\n",
    "\n",
    "    return X[train_index],X[test_index],y[train_index],y[test_index]"
   ]
  },
  {
   "cell_type": "code",
   "execution_count": 223,
   "id": "f32e0baa",
   "metadata": {},
   "outputs": [],
   "source": [
    "np.random.seed(0)\n",
    "X_train,X_test,y_train,y_test = train_test_splitting(all_data[\"title\"], all_data[\"tags\"], test_size=0.3 , shuffle=True) "
   ]
  },
  {
   "cell_type": "code",
   "execution_count": 217,
   "id": "3a80f1a1",
   "metadata": {},
   "outputs": [
    {
     "name": "stderr",
     "output_type": "stream",
     "text": [
      "[nltk_data] Downloading package stopwords to\n",
      "[nltk_data]     /Users/sergeiakhmadulin/nltk_data...\n",
      "[nltk_data]   Package stopwords is already up-to-date!\n"
     ]
    }
   ],
   "source": [
    "import nltk\n",
    "nltk.download('stopwords')\n",
    "from nltk.corpus import stopwords"
   ]
  },
  {
   "cell_type": "code",
   "execution_count": 225,
   "id": "72258ee7",
   "metadata": {},
   "outputs": [],
   "source": [
    "def text_prepare(text):\n",
    "    \n",
    "    REPLACE_BY_SPACE_RE = re.compile('[/(){}\\[\\]\\|@,;]')\n",
    "    BAD_SYMBOLS_RE = re.compile('[^0-9a-z #+_]')\n",
    "    STOPWORDS = set(stopwords.words('english'))\n",
    "    text = text.lower()\n",
    "\n",
    "    text = REPLACE_BY_SPACE_RE.sub(r' ',text)\n",
    "    text = BAD_SYMBOLS_RE.sub(r'',text)\n",
    "    text = [w for w in text.split() if not w in STOPWORDS]\n",
    "    \n",
    "    return ' '.join(text)"
   ]
  },
  {
   "cell_type": "code",
   "execution_count": 227,
   "id": "fb60a238",
   "metadata": {},
   "outputs": [],
   "source": [
    "X_train = [text_prepare(x) for x in X_train]\n",
    "X_test = [text_prepare(x) for x in X_test]"
   ]
  },
  {
   "cell_type": "markdown",
   "id": "b8939936",
   "metadata": {
    "jp-MarkdownHeadingCollapsed": true
   },
   "source": [
    "<a name=\"2.1\"></a>\n",
    "## 2.1 - Bag of words"
   ]
  },
  {
   "cell_type": "code",
   "execution_count": 229,
   "id": "116c4f2f",
   "metadata": {},
   "outputs": [],
   "source": [
    "import Bagofwords as BOW\n",
    "\n",
    "BagOW = BOW.BagOfWords(maximum_words = 5000)\n",
    "BagOW.fit(X_train)\n",
    "X_train_mybag = BagOW.transform(X_train)\n",
    "X_test_mybag = BagOW.transform(X_test)\n",
    "bag_of_words_dic = BagOW.get_vocab()"
   ]
  },
  {
   "cell_type": "code",
   "execution_count": 231,
   "id": "27c4bed8",
   "metadata": {},
   "outputs": [
    {
     "data": {
      "text/plain": [
       "<70000x5000 sparse matrix of type '<class 'numpy.float64'>'\n",
       "\twith 360175 stored elements in List of Lists format>"
      ]
     },
     "execution_count": 231,
     "metadata": {},
     "output_type": "execute_result"
    }
   ],
   "source": [
    "X_train_mybag"
   ]
  },
  {
   "cell_type": "markdown",
   "id": "2e467331",
   "metadata": {
    "jp-MarkdownHeadingCollapsed": true
   },
   "source": [
    "<a name=\"2.2\"></a>\n",
    "## 2.2 - TF-IDF"
   ]
  },
  {
   "cell_type": "markdown",
   "id": "775a1ce9",
   "metadata": {},
   "source": [
    " For this approuch we'll create module Tfidf that create a class and make fit, transform tramsformation"
   ]
  },
  {
   "cell_type": "code",
   "execution_count": 233,
   "id": "1f2fe852",
   "metadata": {},
   "outputs": [
    {
     "name": "stderr",
     "output_type": "stream",
     "text": [
      "/Users/sergeiakhmadulin/My Drive/Simple NLP/Tfidf.py:43: RuntimeWarning: divide by zero encountered in divide\n",
      "  norm_tfidf = tfidf.multiply(1/np.sqrt(np.sum(tfidf.power(2), axis = 1)).reshape((length_rows,1)))\n"
     ]
    }
   ],
   "source": [
    "import Tfidf as tf\n",
    "\n",
    "tfidf_obj = tf.TFIDF()\n",
    "tfidf_obj.fit(X_train)\n",
    "\n",
    "X_train_tfidf = tfidf_obj.transform(X_train)\n",
    "X_test_tfidf = tfidf_obj.transform(X_test)\n",
    "tfidf_vocab = tfidf_obj.get_vocab()\n",
    "\n",
    "tfidf_index_to_word = {word[0]:index for index,word in enumerate(tfidf_vocab)}"
   ]
  },
  {
   "cell_type": "code",
   "execution_count": 235,
   "id": "d2cd8d31",
   "metadata": {},
   "outputs": [
    {
     "data": {
      "text/plain": [
       "<70000x25420 sparse matrix of type '<class 'numpy.float64'>'\n",
       "\twith 389409 stored elements in COOrdinate format>"
      ]
     },
     "execution_count": 235,
     "metadata": {},
     "output_type": "execute_result"
    }
   ],
   "source": [
    "X_train_tfidf"
   ]
  },
  {
   "cell_type": "markdown",
   "id": "44333be6",
   "metadata": {
    "jp-MarkdownHeadingCollapsed": true
   },
   "source": [
    "<a name=\"2.3\"></a>\n",
    "## 2.3 - CBOW"
   ]
  },
  {
   "cell_type": "markdown",
   "id": "018f4ad4",
   "metadata": {},
   "source": [
    " For this approuch we'll create two dictionaries to convert all unick words into a number and vise versa. Next we'll create two arres one with context words and another with center, that is what we are going to feed into neuron network. Train simple neuron networt with only 2 layers. As a result we'll get two matrises with trained weights the mean sum of them give us embedings of each word."
   ]
  },
  {
   "cell_type": "markdown",
   "id": "35787d9b",
   "metadata": {},
   "source": [
    "<a name=\"2.3.1\"></a>\n",
    "### 2.3.1 - Data prepare"
   ]
  },
  {
   "cell_type": "code",
   "execution_count": 237,
   "id": "717eb497",
   "metadata": {},
   "outputs": [],
   "source": [
    "def add_pad(text, num_of_padding, padding_car):\n",
    "    text_with_pad = []\n",
    "    for sent in text:\n",
    "        sent = (padding_car + \" \") * num_of_padding + sent + (\" \" + padding_car) * num_of_padding\n",
    "        text_with_pad.append(sent)\n",
    "    return text_with_pad"
   ]
  },
  {
   "cell_type": "code",
   "execution_count": 239,
   "id": "c38423ea",
   "metadata": {},
   "outputs": [],
   "source": [
    "def get_dict(text): \n",
    "    idx = 0\n",
    "    word2Ind = {}\n",
    "    Ind2word = {}\n",
    "    for sent in text:\n",
    "        try:\n",
    "            for word in sent.split():\n",
    "                if word not in word2Ind.keys():\n",
    "                    word2Ind[word] = idx\n",
    "                    Ind2word[idx] = word\n",
    "                    idx += 1\n",
    "        except:\n",
    "            for word in sent:\n",
    "                if word not in word2Ind.keys():\n",
    "                    word2Ind[word] = idx\n",
    "                    Ind2word[idx] = word\n",
    "                    idx += 1\n",
    "    return word2Ind,Ind2word"
   ]
  },
  {
   "cell_type": "code",
   "execution_count": 241,
   "id": "89757570",
   "metadata": {},
   "outputs": [],
   "source": [
    "def get_data_with_window(text, num_neighbor_words, padding = False):\n",
    "    \n",
    "    if padding:\n",
    "        text = add_pad(text, num_neighbor_words, \"PAD\")\n",
    "        \n",
    "    word2Ind, Ind2word = get_dict(text)\n",
    "    vector_lenght = len(word2Ind)\n",
    "    count = 0\n",
    "    for sent in text:\n",
    "        length = len(sent.split()) - 2*num_neighbor_words\n",
    "        if length > 0:\n",
    "            count += length\n",
    "    X_matrix = sp_sparse.lil_matrix((count,vector_lenght))\n",
    "    y_matrix = sp_sparse.lil_matrix((count,vector_lenght))\n",
    "    Y = []\n",
    "    n = 0\n",
    "    for row, sent in enumerate(text):\n",
    "        sent_to_separete = sent.split()\n",
    "        for i in range(num_neighbor_words, len(sent_to_separete) - num_neighbor_words):\n",
    "            center_word = sent_to_separete[i]\n",
    "            context_words = sent_to_separete[(i - num_neighbor_words):i] + sent_to_separete[(i+1):(i+num_neighbor_words+1)]\n",
    "            y_matrix[n, word2Ind[center_word]] = 1\n",
    "            Y.append(word2Ind[center_word])\n",
    "            for con_word in context_words:\n",
    "                X_matrix[n, word2Ind[con_word]] += 1\n",
    "            n += 1\n",
    "    X_matrix = (X_matrix/sp_sparse.lil_matrix.sum(X_matrix, axis = 1)).tolil()\n",
    "    Y = np.array(Y)\n",
    "    return X_matrix, Y, word2Ind, Ind2word"
   ]
  },
  {
   "cell_type": "code",
   "execution_count": 243,
   "id": "b6f14495",
   "metadata": {},
   "outputs": [],
   "source": [
    "X, y, word2Ind, Ind2word  = get_data_with_window(X_train, 2, padding = True)"
   ]
  },
  {
   "cell_type": "code",
   "execution_count": 245,
   "id": "83a7bf66",
   "metadata": {},
   "outputs": [
    {
     "data": {
      "text/plain": [
       "((396118, 25421), 25420)"
      ]
     },
     "execution_count": 245,
     "metadata": {},
     "output_type": "execute_result"
    }
   ],
   "source": [
    "X.shape, max(Ind2word)"
   ]
  },
  {
   "cell_type": "markdown",
   "id": "c1b9d436",
   "metadata": {
    "jp-MarkdownHeadingCollapsed": true
   },
   "source": [
    "<a name=\"2.3.2\"></a>\n",
    "### 2.3.2 - Train neuron network"
   ]
  },
  {
   "cell_type": "code",
   "execution_count": 247,
   "id": "af2efc1f",
   "metadata": {},
   "outputs": [],
   "source": [
    "import NN_for_CBOW as NN"
   ]
  },
  {
   "cell_type": "code",
   "execution_count": 249,
   "id": "0455f3dc",
   "metadata": {
    "scrolled": true
   },
   "outputs": [
    {
     "name": "stdout",
     "output_type": "stream",
     "text": [
      "done 25.2% of epoch - 0, loss: 9.835504319804997 \n",
      "time for 100000 samples: 0:01:42.864870\n",
      "done 50.5% of epoch - 0, loss: 7.601119228009797 \n",
      "time for 100000 samples: 0:03:23.169776\n",
      "done 75.7% of epoch - 0, loss: 8.135808942196274 \n",
      "time for 100000 samples: 0:05:02.087272\n",
      "done epoch: 0, loss: 8.040965648086656 \n",
      " weights saved\n",
      "done 25.2% of epoch - 1, loss: 7.4894166825617825 \n",
      "time for 100000 samples: 0:01:39.686562\n",
      "done 50.5% of epoch - 1, loss: 7.329932766516989 \n",
      "time for 100000 samples: 0:03:15.100200\n",
      "done 75.7% of epoch - 1, loss: 8.090981331077376 \n",
      "time for 100000 samples: 0:04:51.828144\n",
      "done epoch: 1, loss: 7.973940282389899 \n",
      " weights saved\n",
      "done 25.2% of epoch - 2, loss: 7.454808484533598 \n",
      "time for 100000 samples: 0:01:34.357255\n",
      "done 50.5% of epoch - 2, loss: 7.319846396372145 \n",
      "time for 100000 samples: 0:03:08.988066\n",
      "done 75.7% of epoch - 2, loss: 8.07492924856683 \n",
      "time for 100000 samples: 0:04:46.395467\n",
      "done epoch: 2, loss: 7.9579878904119115 \n",
      " weights saved\n",
      "done 25.2% of epoch - 3, loss: 7.429325248614837 \n",
      "time for 100000 samples: 0:01:41.382439\n",
      "done 50.5% of epoch - 3, loss: 7.296364389734063 \n",
      "time for 100000 samples: 0:03:17.429591\n",
      "done 75.7% of epoch - 3, loss: 8.051736184149707 \n",
      "time for 100000 samples: 0:05:07.520810\n",
      "done epoch: 3, loss: 7.938042515546831 \n",
      " weights saved\n"
     ]
    }
   ],
   "source": [
    "res, W_1,W_2 = NN.train_network(X, y, hidden_neurons = 64, num_epoch = 4, batchsize = 100, initialization = \"xavier\")"
   ]
  },
  {
   "cell_type": "code",
   "execution_count": 250,
   "id": "df945b61-232f-45c0-a537-16b30035ff0e",
   "metadata": {
    "scrolled": true
   },
   "outputs": [
    {
     "name": "stdout",
     "output_type": "stream",
     "text": [
      "done 25.2% of epoch - 0, loss: 7.407572283713425 \n",
      "time for 100000 samples: 0:01:37.040867\n"
     ]
    },
    {
     "ename": "KeyboardInterrupt",
     "evalue": "",
     "output_type": "error",
     "traceback": [
      "\u001b[0;31m---------------------------------------------------------------------------\u001b[0m",
      "\u001b[0;31mKeyboardInterrupt\u001b[0m                         Traceback (most recent call last)",
      "Cell \u001b[0;32mIn[250], line 1\u001b[0m\n\u001b[0;32m----> 1\u001b[0m res, W_1,W_2 \u001b[38;5;241m=\u001b[39m NN\u001b[38;5;241m.\u001b[39mtrain_network(X, y, hidden_neurons \u001b[38;5;241m=\u001b[39m \u001b[38;5;241m64\u001b[39m, num_epoch \u001b[38;5;241m=\u001b[39m \u001b[38;5;241m6\u001b[39m, batchsize \u001b[38;5;241m=\u001b[39m \u001b[38;5;241m100\u001b[39m, \\\n\u001b[1;32m      2\u001b[0m                                 initialization \u001b[38;5;241m=\u001b[39m \u001b[38;5;124m\"\u001b[39m\u001b[38;5;124mcustom\u001b[39m\u001b[38;5;124m\"\u001b[39m,weights_1 \u001b[38;5;241m=\u001b[39m W_1, weights_2 \u001b[38;5;241m=\u001b[39m W_2)\n",
      "File \u001b[0;32m~/My Drive/Simple NLP/NN_for_CBOW.py:153\u001b[0m, in \u001b[0;36mtrain_network\u001b[0;34m(X_train, y_train, hidden_neurons, num_epoch, batchsize, initialization, weights_1, weights_2)\u001b[0m\n\u001b[1;32m    151\u001b[0m passes \u001b[38;5;241m=\u001b[39m \u001b[38;5;241m0\u001b[39m\n\u001b[1;32m    152\u001b[0m \u001b[38;5;28;01mfor\u001b[39;00m x_batch,y_batch \u001b[38;5;129;01min\u001b[39;00m iterate_minibatches(X_train, y_train, batchsize \u001b[38;5;241m=\u001b[39m batchsize):\n\u001b[0;32m--> 153\u001b[0m     loss \u001b[38;5;241m=\u001b[39m train(network,x_batch,y_batch)\n\u001b[1;32m    154\u001b[0m     passes \u001b[38;5;241m+\u001b[39m\u001b[38;5;241m=\u001b[39m batchsize\n\u001b[1;32m    155\u001b[0m     \u001b[38;5;28;01mif\u001b[39;00m passes \u001b[38;5;241m%\u001b[39m \u001b[38;5;241m100000\u001b[39m \u001b[38;5;241m==\u001b[39m \u001b[38;5;241m0\u001b[39m:\n",
      "File \u001b[0;32m~/My Drive/Simple NLP/NN_for_CBOW.py:115\u001b[0m, in \u001b[0;36mtrain\u001b[0;34m(network, X, y)\u001b[0m\n\u001b[1;32m    112\u001b[0m \u001b[38;5;28;01mfor\u001b[39;00m layer_index \u001b[38;5;129;01min\u001b[39;00m \u001b[38;5;28mrange\u001b[39m(\u001b[38;5;28mlen\u001b[39m(network))[::\u001b[38;5;241m-\u001b[39m\u001b[38;5;241m1\u001b[39m]:\n\u001b[1;32m    113\u001b[0m     layer \u001b[38;5;241m=\u001b[39m network[layer_index]\n\u001b[0;32m--> 115\u001b[0m     loss_grad \u001b[38;5;241m=\u001b[39m layer\u001b[38;5;241m.\u001b[39mbackward(layer_inputs[layer_index],loss_grad) \n\u001b[1;32m    118\u001b[0m \u001b[38;5;28;01mreturn\u001b[39;00m np\u001b[38;5;241m.\u001b[39mmean(loss)\n",
      "File \u001b[0;32m~/My Drive/Simple NLP/NN_for_CBOW.py:53\u001b[0m, in \u001b[0;36mDense.backward\u001b[0;34m(self, input, grad_output)\u001b[0m\n\u001b[1;32m     51\u001b[0m \u001b[38;5;28;01mdef\u001b[39;00m \u001b[38;5;21mbackward\u001b[39m(\u001b[38;5;28mself\u001b[39m,\u001b[38;5;28minput\u001b[39m,grad_output):\n\u001b[0;32m---> 53\u001b[0m     grad_input \u001b[38;5;241m=\u001b[39m grad_output\u001b[38;5;241m.\u001b[39mdot(\u001b[38;5;28mself\u001b[39m\u001b[38;5;241m.\u001b[39mweights\u001b[38;5;241m.\u001b[39mT)\n\u001b[1;32m     55\u001b[0m     grad_weights \u001b[38;5;241m=\u001b[39m \u001b[38;5;28minput\u001b[39m\u001b[38;5;241m.\u001b[39mT\u001b[38;5;241m.\u001b[39mdot(grad_output)\n\u001b[1;32m     56\u001b[0m     grad_biases \u001b[38;5;241m=\u001b[39m np\u001b[38;5;241m.\u001b[39msum(grad_output,axis\u001b[38;5;241m=\u001b[39m\u001b[38;5;241m0\u001b[39m)\n",
      "\u001b[0;31mKeyboardInterrupt\u001b[0m: "
     ]
    }
   ],
   "source": [
    "res, W_1,W_2 = NN.train_network(X, y, hidden_neurons = 64, num_epoch = 6, batchsize = 100, \\\n",
    "                                initialization = \"custom\",weights_1 = W_1, weights_2 = W_2)"
   ]
  },
  {
   "cell_type": "code",
   "execution_count": 36,
   "id": "e4d0e33b",
   "metadata": {},
   "outputs": [],
   "source": [
    "# W_1 = np.array(pd.read_csv(\"weights_1.csv\", header=None))\n",
    "# W_2 = np.array(pd.read_csv(\"weights_2.csv\", header=None))"
   ]
  },
  {
   "cell_type": "code",
   "execution_count": 252,
   "id": "4993a278",
   "metadata": {},
   "outputs": [],
   "source": [
    "word_embedings = (W_1 + W_2.T)/2"
   ]
  },
  {
   "cell_type": "code",
   "execution_count": 266,
   "id": "737f3c81",
   "metadata": {},
   "outputs": [],
   "source": [
    "embedings_means_for_model = np.mean(word_embedings[1:],axis = 1)"
   ]
  },
  {
   "cell_type": "markdown",
   "id": "bf1edb46",
   "metadata": {},
   "source": [
    "<a name=\"2.3.3\"></a>\n",
    "### 2.3.3 - PCA for plotting results"
   ]
  },
  {
   "cell_type": "code",
   "execution_count": 396,
   "id": "65beacf4",
   "metadata": {},
   "outputs": [],
   "source": [
    "def pca_manual(data):\n",
    "    cov_mat = np.cov(data.T)\n",
    "    variance = cov_mat.diagonal()\n",
    "    eigenvalues, eigenvectors = LA.eig(cov_mat)\n",
    "        # two_vectors = eigenvectors[np.argsort(eigenvalues)[:number_components]]\n",
    "    return eigenvalues, eigenvectors, variance\n",
    "        # data@two_vectors.T"
   ]
  },
  {
   "cell_type": "code",
   "execution_count": 398,
   "id": "1771e3e7-9d76-44f0-bf01-a17a71566a7b",
   "metadata": {},
   "outputs": [],
   "source": [
    "def pca_transform(data, num_components):\n",
    "    if num_components<=data.shape[1]:\n",
    "        ei_val, ei_vec, _ = pca_manual(data)\n",
    "        two_vectors = ei_vec[np.argsort(ei_val)[:num_components]]\n",
    "        return data@two_vectors.T\n",
    "    else:\n",
    "        raise ValueError(\"Number of components > data dimention\") "
   ]
  },
  {
   "cell_type": "code",
   "execution_count": 262,
   "id": "8eeb2a85",
   "metadata": {},
   "outputs": [],
   "source": [
    "data_form_pca = pca_transform(word_embedings[1:], 2)\n",
    "Ind2word_no_pad = {k:v for k,v in enumerate(list(Ind2word.values())[1:])}\n",
    "word2Ind_no_pad = {k:v for v,k in Ind2word_no_pad.items()}"
   ]
  },
  {
   "cell_type": "code",
   "execution_count": 388,
   "id": "1432fbb2",
   "metadata": {},
   "outputs": [],
   "source": [
    "def plot_some_data(data, names):\n",
    "    num_of_rows = list(map(word2Ind_no_pad.get, names) )\n",
    "    data_to_plot = data[num_of_rows]\n",
    "    A = [i[0] for i in data_to_plot]\n",
    "    B = [i[1] for i in data_to_plot]\n",
    "    fig, ax = plt.subplots()\n",
    "    ax.set_xlabel(\"Component_1\")\n",
    "    ax.set_ylabel(\"Component_2\")\n",
    "    \n",
    "    ax.scatter(A, B)\n",
    "\n",
    "    for i, txt in enumerate(names):\n",
    "        ax.annotate(txt, (A[i], B[i]))\n",
    "    plt.show()"
   ]
  },
  {
   "cell_type": "code",
   "execution_count": 392,
   "id": "79e47f2b",
   "metadata": {},
   "outputs": [
    {
     "data": {
      "image/png": "[encoded data removed]",
      "text/plain": [
       "<Figure size 640x480 with 1 Axes>"
      ]
     },
     "metadata": {},
     "output_type": "display_data"
    }
   ],
   "source": [
    "plot_some_data(data_form_pca, ['python','c','c++','c#','objectivec','sql','vba','get','java', 'android'])"
   ]
  },
  {
   "cell_type": "markdown",
   "id": "52720152",
   "metadata": {},
   "source": [
    "<a name=\"3\"></a>\n",
    "## 3 - Model creation and evaluation"
   ]
  },
  {
   "cell_type": "code",
   "execution_count": 400,
   "id": "defcfbe9",
   "metadata": {},
   "outputs": [],
   "source": [
    "import Binarizer as binar"
   ]
  },
  {
   "cell_type": "code",
   "execution_count": 402,
   "id": "a799b041",
   "metadata": {},
   "outputs": [],
   "source": [
    "bnr = binar.Binarizer()\n",
    "bnr.fit(y_train)\n",
    "y_train_mat = bnr.transform(y_train)\n",
    "y_test_mat = bnr.transform(y_test)"
   ]
  },
  {
   "cell_type": "code",
   "execution_count": 404,
   "id": "6e81f9d8-d81b-4a05-ab3f-cb0d57b84ac9",
   "metadata": {},
   "outputs": [],
   "source": [
    "import Logistic_Reg as LR"
   ]
  },
  {
   "cell_type": "code",
   "execution_count": 472,
   "id": "0a2fc597-0ad1-4568-98b1-fd7807d70f4d",
   "metadata": {},
   "outputs": [],
   "source": [
    "lib = \"/Users/sergeiakhmadulin/Library/CloudStorage/GoogleDrive-akhmadulinsergey@gmail.com/My Drive/Simple NLP/\"\n",
    "\n",
    "def train_model(model, model_name, x_train, y_train, x_test, resume_training = False):\n",
    "    if resume_training:\n",
    "        try:\n",
    "            all_weights = np.load(lib + 'all_weights_'+ model_name +'.npy',allow_pickle='TRUE').item()\n",
    "            all_preds = np.load(lib + 'all_preds_'+ model_name +'.npy')\n",
    "            all_preds_train = np.load(lib + 'all_preds_train_'+ model_name +'.npy')\n",
    "            starting_point = all_weights['w'].shape[0]\n",
    "            if starting_point == y_train.shape[1]:\n",
    "                print(\"All models trained\")\n",
    "                return all_weights, all_preds\n",
    "\n",
    "        except (FileNotFoundError, IOError):\n",
    "            starting_point = 0\n",
    "    else:\n",
    "        starting_point = 0\n",
    "\n",
    "    for i in range(starting_point, y_train.shape[1]):\n",
    "        model.fit(x_train, y_train[:,i, None],batchsize = 64)\n",
    "        weights = model.get_param()\n",
    "        predictions = model.predict_proba(x_test)\n",
    "        predictions_train = model.predict_proba(x_train)\n",
    "        if i == 0:\n",
    "            all_weights = weights\n",
    "            all_preds = predictions\n",
    "            all_preds_train = predictions_train\n",
    "        else:\n",
    "            all_weights = {key:np.concatenate(([all_weights[key],weights[key]]), axis=0) for key in all_weights.keys()}\n",
    "            all_preds = np.concatenate((all_preds ,predictions), axis=1)\n",
    "            all_preds_train = np.concatenate((all_preds_train ,predictions_train), axis=1)\n",
    "        np.save(lib + 'all_weights_'+ model_name +'.npy', all_weights)\n",
    "        np.save(lib + 'all_preds_'+ model_name +'.npy', all_preds)\n",
    "        np.save(lib + 'all_preds_train_'+ model_name +'.npy', all_preds_train)\n",
    "        print(\"data stored\", i)\n",
    "\n",
    "    print(\"All models trained\")\n",
    "    return predictions, all_weights"
   ]
  },
  {
   "cell_type": "markdown",
   "id": "6d110ce2",
   "metadata": {},
   "source": [
    "<a name=\"3.1\"></a>\n",
    "## 3.1 - BOW model"
   ]
  },
  {
   "cell_type": "code",
   "execution_count": 414,
   "id": "dd455cf9-cc88-44d5-8e32-db179511a651",
   "metadata": {},
   "outputs": [],
   "source": [
    "Log_reg = LR.MyLogisticRegression(learning_rate = 0.01, num_iterations = 50)"
   ]
  },
  {
   "cell_type": "code",
   "execution_count": 474,
   "id": "86c570f5-d652-4ae0-b798-1d70a8fec69d",
   "metadata": {
    "scrolled": true
   },
   "outputs": [
    {
     "name": "stdout",
     "output_type": "stream",
     "text": [
      "data stored 0\n",
      "data stored 1\n",
      "data stored 2\n",
      "data stored 3\n",
      "data stored 4\n",
      "data stored 5\n",
      "data stored 6\n",
      "data stored 7\n",
      "data stored 8\n",
      "data stored 9\n",
      "data stored 10\n",
      "data stored 11\n",
      "data stored 12\n",
      "data stored 13\n",
      "data stored 14\n",
      "data stored 15\n",
      "data stored 16\n",
      "data stored 17\n",
      "data stored 18\n",
      "data stored 19\n",
      "data stored 20\n",
      "data stored 21\n",
      "data stored 22\n",
      "data stored 23\n",
      "data stored 24\n",
      "data stored 25\n",
      "data stored 26\n",
      "data stored 27\n",
      "data stored 28\n",
      "data stored 29\n",
      "data stored 30\n",
      "data stored 31\n",
      "data stored 32\n",
      "data stored 33\n",
      "data stored 34\n",
      "data stored 35\n",
      "data stored 36\n",
      "data stored 37\n",
      "data stored 38\n",
      "data stored 39\n",
      "data stored 40\n",
      "data stored 41\n",
      "data stored 42\n",
      "data stored 43\n",
      "data stored 44\n",
      "data stored 45\n",
      "data stored 46\n",
      "data stored 47\n",
      "data stored 48\n",
      "data stored 49\n",
      "data stored 50\n",
      "data stored 51\n",
      "data stored 52\n",
      "data stored 53\n",
      "data stored 54\n",
      "data stored 55\n",
      "data stored 56\n",
      "data stored 57\n",
      "data stored 58\n",
      "data stored 59\n",
      "data stored 60\n",
      "data stored 61\n",
      "data stored 62\n",
      "data stored 63\n",
      "data stored 64\n",
      "data stored 65\n",
      "data stored 66\n",
      "data stored 67\n",
      "data stored 68\n",
      "data stored 69\n",
      "data stored 70\n",
      "data stored 71\n",
      "data stored 72\n",
      "data stored 73\n",
      "data stored 74\n",
      "data stored 75\n",
      "data stored 76\n",
      "data stored 77\n",
      "data stored 78\n",
      "data stored 79\n",
      "data stored 80\n",
      "data stored 81\n",
      "data stored 82\n",
      "data stored 83\n",
      "data stored 84\n",
      "data stored 85\n",
      "data stored 86\n",
      "data stored 87\n",
      "data stored 88\n",
      "data stored 89\n",
      "data stored 90\n",
      "data stored 91\n",
      "data stored 92\n",
      "data stored 93\n",
      "data stored 94\n",
      "data stored 95\n",
      "data stored 96\n",
      "data stored 97\n",
      "data stored 98\n",
      "data stored 99\n",
      "All models trained\n"
     ]
    }
   ],
   "source": [
    "model_name = \"BOW\"\n",
    "w, p = train_model(Log_reg, model_name, X_train_mybag, y_train_mat, X_test_mybag, resume_training = False)"
   ]
  },
  {
   "cell_type": "code",
   "execution_count": 552,
   "id": "997fc4b6-6b6a-451a-b9d5-d1a53cd9a46d",
   "metadata": {},
   "outputs": [],
   "source": [
    "all_weights = np.load('all_weights_'+ model_name +'.npy',allow_pickle='TRUE').item()\n",
    "all_preds_test = np.load('all_preds_'+ model_name +'.npy').astype(np.float16)\n",
    "all_preds_train = np.load('all_preds_train_'+ model_name +'.npy').astype(np.float16)"
   ]
  },
  {
   "cell_type": "code",
   "execution_count": 540,
   "id": "004e8f8d-2792-4799-aac4-469474e3fb91",
   "metadata": {},
   "outputs": [],
   "source": [
    "import Classification_report as CR\n",
    "rep_BOW = CR.Report()"
   ]
  },
  {
   "cell_type": "code",
   "execution_count": 606,
   "id": "5c829808-4c28-4afc-a4da-e1fd859e3b46",
   "metadata": {},
   "outputs": [],
   "source": [
    "from importlib import reload\n",
    "reload(CR)\n",
    "rep_BOW = CR.Report()"
   ]
  },
  {
   "cell_type": "code",
   "execution_count": 514,
   "id": "a6512c81-333d-477e-b209-577f9f01eec5",
   "metadata": {},
   "outputs": [],
   "source": [
    "#Finding the optimal threshold based on train data\n",
    "FPR, TPR, thresh = dict(), dict(), dict()\n",
    "opt_thresh = []\n",
    "for i in range(y_train_mat.shape[1]):\n",
    "    FPR[i], TPR[i], thresh[i] = rep_BOW.calculate_ROC(y_train_mat[:,i], all_preds_train[:,i])\n",
    "    opt_thresh.append(thresh[i][np.argmax(TPR[i] - FPR[i])])\n",
    "opt_thresh = np.sum(opt_thresh)/y_train_mat.shape[1]"
   ]
  },
  {
   "cell_type": "code",
   "execution_count": 580,
   "id": "cd80d6e6-df85-4349-b862-84498cecc73c",
   "metadata": {},
   "outputs": [
    {
     "name": "stdout",
     "output_type": "stream",
     "text": [
      "               precision   recall   f1-score\n",
      "\n",
      "    micro avg       0.94      0.27      0.41\n",
      "    macro avg       0.26      0.07      0.10\n",
      "    weighted avg    0.69      0.27      0.37\n",
      "\n"
     ]
    }
   ],
   "source": [
    "Y_train_zero_ones = (all_preds_train >= 0.5).astype(int)\n",
    "rep_BOW.calc_metrics(y_train_mat, Y_train_zero_ones)"
   ]
  },
  {
   "cell_type": "code",
   "execution_count": 582,
   "id": "b811760c-ec0e-40fc-876f-a557d5b83304",
   "metadata": {},
   "outputs": [
    {
     "name": "stdout",
     "output_type": "stream",
     "text": [
      "               precision   recall   f1-score\n",
      "\n",
      "    micro avg       0.94      0.27      0.42\n",
      "    macro avg       0.27      0.07      0.10\n",
      "    weighted avg    0.71      0.27      0.37\n",
      "\n"
     ]
    }
   ],
   "source": [
    "Y_test_zero_ones = (all_preds_test >= 0.5).astype(int)\n",
    "rep_BOW.calc_metrics(y_test_mat, Y_test_zero_ones)"
   ]
  },
  {
   "cell_type": "code",
   "execution_count": 612,
   "id": "994e7823-d772-4edd-8bce-433db164b745",
   "metadata": {},
   "outputs": [
    {
     "data": {
      "image/png": "[encoded data removed]",
      "text/plain": [
       "<Figure size 640x480 with 1 Axes>"
      ]
     },
     "metadata": {},
     "output_type": "display_data"
    }
   ],
   "source": [
    "rep_BOW.plot_ROC_curve(y_test_mat, all_preds_test)"
   ]
  },
  {
   "cell_type": "markdown",
   "id": "80539626",
   "metadata": {},
   "source": [
    "<a name=\"3.2\"></a>\n",
    "## 3.2 - Tfidf evaluation"
   ]
  },
  {
   "cell_type": "code",
   "execution_count": 286,
   "id": "c2018094",
   "metadata": {},
   "outputs": [
    {
     "data": {
      "text/plain": [
       "(70000,)"
      ]
     },
     "execution_count": 286,
     "metadata": {},
     "output_type": "execute_result"
    }
   ],
   "source": [
    "Log_reg_tfidf = LR.MyLogisticRegression(learning_rate = 0.01, num_iterations = 50)"
   ]
  },
  {
   "cell_type": "code",
   "execution_count": null,
   "id": "b5bc40bb",
   "metadata": {},
   "outputs": [],
   "source": [
    "w, p = train_model(Log_reg_tfidf, X_train_mybag, y_train_mat, X_test_mybag, resume_training = False)"
   ]
  },
  {
   "cell_type": "markdown",
   "id": "117b65af",
   "metadata": {},
   "source": [
    "<a name=\"3.3\"></a>\n",
    "## 3.3 - CBOW evaluation"
   ]
  },
  {
   "cell_type": "code",
   "execution_count": 83,
   "id": "78e47e64",
   "metadata": {},
   "outputs": [
    {
     "data": {
      "text/plain": [
       "(884952, 163224)"
      ]
     },
     "execution_count": 83,
     "metadata": {},
     "output_type": "execute_result"
    }
   ],
   "source": [
    "Log_reg_cbow = LR.MyLogisticRegression(learning_rate = 0.01, num_iterations = 50)"
   ]
  },
  {
   "cell_type": "code",
   "execution_count": 64,
   "id": "ea6d348a",
   "metadata": {},
   "outputs": [
    {
     "data": {
      "text/plain": [
       "(884952,)"
      ]
     },
     "execution_count": 64,
     "metadata": {},
     "output_type": "execute_result"
    }
   ],
   "source": [
    "w, p = train_model(Log_reg_cbow, X_train_mybag, y_train_mat, X_test_mybag, resume_training = False)"
   ]
  }
 ],
 "metadata": {
  "kernelspec": {
   "display_name": "Python 3 (ipykernel)",
   "language": "python",
   "name": "python3"
  },
  "language_info": {
   "codemirror_mode": {
    "name": "ipython",
    "version": 3
   },
   "file_extension": ".py",
   "mimetype": "text/x-python",
   "name": "python",
   "nbconvert_exporter": "python",
   "pygments_lexer": "ipython3",
   "version": "3.11.7"
  }
 },
 "nbformat": 4,
 "nbformat_minor": 5
}
