{
 "cells": [
  {
   "attachments": {},
   "cell_type": "markdown",
   "id": "c874133c-5f16-4068-a157-8a1c844afee4",
   "metadata": {},
   "source": [
    "# StackOverflow Tags Prediction without specific ML packagess\n",
    "\n",
    "# Outline\n",
    "- [ 1 - Import Data](#1)\n",
    "- [ 2 - Exploring and preparing data for model](#2)\n",
    "  - [ 2.1 - Bag of words](#2.1)\n",
    "  - [ 2.2 - TF-IDF](#2.2)\n",
    "  - [ 2.3 - CBOW](#2.3)\n",
    "    - [ 2.3.1 - Data prepare](#2.3.1)\n",
    "    - [ 2.3.2 - Train neuron network and transform train/test data](#2.3.2)\n",
    "    - [ 2.3.3 - PCA for plotting results](#2.3.3)\n",
    "- [ 3 - Model creation and evaluation](#3)\n",
    "    - [ 3.1 - BOW model](#3.1)\n",
    "    - [ 3.2 - TFIDF model](#3.2)\n",
    "    - [ 3.3 - CBOW model](#3.3)    \n",
    "    \n",
    "\n",
    "<a name=\"1\"></a>\n",
    "## 1 - Import Data"
   ]
  },
  {
   "cell_type": "markdown",
   "id": "968e3d5e",
   "metadata": {},
   "source": [
    "TO DO!!!!\n",
    "\n",
    "In this section, you will use [`Kaggle Questions csv file`](https://www.kaggle.com/code/miljan/predicting-tags-for-stackoverflow/input?select=Questions.csv) to transform the sentences into integers, so they can be fed into the model you will build later on.\n",
    "[`Kaggle Labled Tags csv file`](https://www.kaggle.com/code/miljan/predicting-tags-for-stackoverflow/input?select=Tags.csv)"
   ]
  },
  {
   "cell_type": "code",
   "execution_count": 3,
   "id": "c7db10a4",
   "metadata": {},
   "outputs": [
    {
     "name": "stderr",
     "output_type": "stream",
     "text": [
      "[nltk_data] Downloading package stopwords to\n",
      "[nltk_data]     /Users/sergeiakhmadulin/nltk_data...\n",
      "[nltk_data]   Package stopwords is already up-to-date!\n"
     ]
    }
   ],
   "source": [
    "import numpy as np\n",
    "import pandas as pd\n",
    "from scipy import sparse as sp_sparse\n",
    "import re\n",
    "%matplotlib inline\n",
    "import matplotlib.pyplot as plt\n",
    "\n",
    "from ast import literal_eval\n",
    "\n",
    "import nltk\n",
    "nltk.download('stopwords')\n",
    "from nltk.corpus import stopwords"
   ]
  },
  {
   "cell_type": "code",
   "execution_count": 4,
   "id": "21b0dc54-eb04-4358-878d-d83ddcff72ac",
   "metadata": {},
   "outputs": [],
   "source": [
    "train = pd.read_csv('/Users/sergeiakhmadulin/Library/CloudStorage/GoogleDrive-akhmadulinsergey@gmail.com/My Drive/Simple NLP/Questions.csv/Questions.csv',\\\n",
    "                    encoding = \"ISO-8859-1\", nrows=100000,index_col=False)"
   ]
  },
  {
   "cell_type": "code",
   "execution_count": 5,
   "id": "83cc8b77-3d4e-44df-94f2-bea5978856cc",
   "metadata": {},
   "outputs": [],
   "source": [
    "y_data = pd.read_csv('/Users/sergeiakhmadulin/Library/CloudStorage/GoogleDrive-akhmadulinsergey@gmail.com/My Drive/Simple NLP/Tags.csv/Tags_1.csv',\\\n",
    "                     encoding = \"ISO-8859-1\",index_col=False)"
   ]
  },
  {
   "cell_type": "code",
   "execution_count": 6,
   "id": "42da1945-3524-4c2d-850d-e978e2a4e39b",
   "metadata": {},
   "outputs": [],
   "source": [
    "all_data = pd.concat([train, y_data], axis=1)"
   ]
  },
  {
   "cell_type": "markdown",
   "id": "31f864c4",
   "metadata": {},
   "source": [
    "<a name=\"2\"></a>\n",
    "## 2 - Exploring and preparing data for model"
   ]
  },
  {
   "cell_type": "code",
   "execution_count": 7,
   "id": "3e0900ec-f5cb-4e89-92ae-0f00184e07a6",
   "metadata": {},
   "outputs": [
    {
     "data": {
      "text/html": [
       "<div>\n",
       "<style scoped>\n",
       "    .dataframe tbody tr th:only-of-type {\n",
       "        vertical-align: middle;\n",
       "    }\n",
       "\n",
       "    .dataframe tbody tr th {\n",
       "        vertical-align: top;\n",
       "    }\n",
       "\n",
       "    .dataframe thead th {\n",
       "        text-align: right;\n",
       "    }\n",
       "</style>\n",
       "<table border=\"1\" class=\"dataframe\">\n",
       "  <thead>\n",
       "    <tr style=\"text-align: right;\">\n",
       "      <th></th>\n",
       "      <th>title</th>\n",
       "      <th>tags</th>\n",
       "    </tr>\n",
       "  </thead>\n",
       "  <tbody>\n",
       "    <tr>\n",
       "      <th>0</th>\n",
       "      <td>How to draw a stacked dotplot in R?</td>\n",
       "      <td>['r']</td>\n",
       "    </tr>\n",
       "    <tr>\n",
       "      <th>1</th>\n",
       "      <td>mysql select all records where a datetime fiel...</td>\n",
       "      <td>['php', 'mysql']</td>\n",
       "    </tr>\n",
       "    <tr>\n",
       "      <th>2</th>\n",
       "      <td>How to terminate windows phone 8.1 app</td>\n",
       "      <td>['c#']</td>\n",
       "    </tr>\n",
       "    <tr>\n",
       "      <th>3</th>\n",
       "      <td>get current time in a specific country via jquery</td>\n",
       "      <td>['javascript', 'jquery']</td>\n",
       "    </tr>\n",
       "    <tr>\n",
       "      <th>4</th>\n",
       "      <td>Configuring Tomcat to Use SSL</td>\n",
       "      <td>['java']</td>\n",
       "    </tr>\n",
       "  </tbody>\n",
       "</table>\n",
       "</div>"
      ],
      "text/plain": [
       "                                               title                      tags\n",
       "0                How to draw a stacked dotplot in R?                     ['r']\n",
       "1  mysql select all records where a datetime fiel...          ['php', 'mysql']\n",
       "2             How to terminate windows phone 8.1 app                    ['c#']\n",
       "3  get current time in a specific country via jquery  ['javascript', 'jquery']\n",
       "4                      Configuring Tomcat to Use SSL                  ['java']"
      ]
     },
     "execution_count": 7,
     "metadata": {},
     "output_type": "execute_result"
    }
   ],
   "source": [
    "all_data.head()"
   ]
  },
  {
   "cell_type": "code",
   "execution_count": 8,
   "id": "2ae23f57",
   "metadata": {},
   "outputs": [
    {
     "data": {
      "text/plain": [
       "100000"
      ]
     },
     "execution_count": 8,
     "metadata": {},
     "output_type": "execute_result"
    }
   ],
   "source": [
    "len(all_data)"
   ]
  },
  {
   "cell_type": "code",
   "execution_count": 9,
   "id": "38915fab-8a6c-4c40-a1b1-a6ebd6aa6240",
   "metadata": {},
   "outputs": [],
   "source": [
    "all_data['tags'] = all_data['tags'].apply(literal_eval)"
   ]
  },
  {
   "cell_type": "code",
   "execution_count": 10,
   "id": "bf48751e-d893-43c6-ad66-b200032b94f6",
   "metadata": {},
   "outputs": [],
   "source": [
    "def most_common_words(text):\n",
    "    words_counts = {}\n",
    "\n",
    "    for i in text:\n",
    "        try:\n",
    "            for j in i.split():\n",
    "                words_counts[j] = words_counts.get(j, 0) + 1\n",
    "        except:\n",
    "            for j in i:\n",
    "                words_counts[j] = words_counts.get(j, 0) + 1\n",
    "    return words_counts\n",
    "\n",
    "words_counts = most_common_words(all_data[\"tags\"])\n",
    "words_counts = dict(sorted(words_counts.items(), key=lambda x: x[1], reverse=True))"
   ]
  },
  {
   "cell_type": "code",
   "execution_count": 11,
   "id": "8cfa2597-24fe-4a4f-ae38-d391ff28c74c",
   "metadata": {},
   "outputs": [
    {
     "data": {
      "image/png": "[encoded data removed]",
      "text/plain": [
       "<Figure size 640x480 with 1 Axes>"
      ]
     },
     "metadata": {},
     "output_type": "display_data"
    }
   ],
   "source": [
    "max_words = 11\n",
    "x = range(max_words)\n",
    "y = list(words_counts.values())[:max_words]\n",
    "z = [i/10 for i in list(words_counts.values())[:max_words]]\n",
    "\n",
    "fig, ax = plt.subplots()\n",
    "\n",
    "ax.set_xlabel(\"Number\")\n",
    "ax.set_ylabel(\"Frequancy\")\n",
    "    \n",
    "ax.scatter(x, y, s=z)\n",
    "\n",
    "for i, txt in enumerate(list(words_counts.keys())[:max_words]):\n",
    "    ax.annotate(txt, (x[i], y[i]+100))\n",
    "\n",
    "\n",
    "plt.show()"
   ]
  },
  {
   "cell_type": "code",
   "execution_count": 12,
   "id": "f7944e06",
   "metadata": {},
   "outputs": [],
   "source": [
    "def train_test_splitting(X, y, test_size, shuffle=True):\n",
    "    length_data = len(X)\n",
    "    test_len = int(length_data*test_size)\n",
    "    train_len = length_data - test_len\n",
    "    if shuffle:\n",
    "        index = np.random.permutation(length_data)\n",
    "    else:\n",
    "        index = np.arange(length_data)\n",
    "    train_index = index[:train_len]\n",
    "    test_index = index[train_len:]\n",
    "\n",
    "    return X[train_index],X[test_index],y[train_index],y[test_index]"
   ]
  },
  {
   "cell_type": "code",
   "execution_count": 19,
   "id": "f32e0baa",
   "metadata": {},
   "outputs": [],
   "source": [
    "np.random.seed(0)\n",
    "X_train,X_test,y_train,y_test = train_test_splitting(all_data[\"title\"], all_data[\"tags\"], test_size=0.3 , shuffle=True) "
   ]
  },
  {
   "cell_type": "code",
   "execution_count": 24,
   "id": "72258ee7",
   "metadata": {},
   "outputs": [],
   "source": [
    "def text_prepare(text):\n",
    "    \n",
    "    REPLACE_BY_SPACE_RE = re.compile('[/(){}\\[\\]\\|@,;]')\n",
    "    BAD_SYMBOLS_RE = re.compile('[^0-9a-z #+_]')\n",
    "    STOPWORDS = set(stopwords.words('english'))\n",
    "    text = text.lower()\n",
    "\n",
    "    text = REPLACE_BY_SPACE_RE.sub(r' ',text)\n",
    "    text = BAD_SYMBOLS_RE.sub(r'',text)\n",
    "    text = [w for w in text.split() if not w in STOPWORDS]\n",
    "    \n",
    "    return ' '.join(text)"
   ]
  },
  {
   "cell_type": "code",
   "execution_count": 27,
   "id": "fb60a238",
   "metadata": {},
   "outputs": [],
   "source": [
    "X_train = [text_prepare(x) for x in X_train]\n",
    "X_test = [text_prepare(x) for x in X_test]"
   ]
  },
  {
   "cell_type": "markdown",
   "id": "b8939936",
   "metadata": {},
   "source": [
    "<a name=\"2.1\"></a>\n",
    "## 2.1 - Bag of words"
   ]
  },
  {
   "cell_type": "code",
   "execution_count": 28,
   "id": "116c4f2f",
   "metadata": {},
   "outputs": [],
   "source": [
    "import Bagofwords as BOW\n",
    "\n",
    "BagOW = BOW.BagOfWords(maximum_words = 5000)\n",
    "BagOW.fit(X_train)\n",
    "X_train_mybag = BagOW.transform(X_train)\n",
    "X_test_mybag = BagOW.transform(X_test)\n",
    "bag_of_words_dic = BagOW.get_vocab()"
   ]
  },
  {
   "cell_type": "code",
   "execution_count": 27,
   "id": "27c4bed8",
   "metadata": {},
   "outputs": [
    {
     "data": {
      "text/plain": [
       "<70000x5000 sparse matrix of type '<class 'numpy.float64'>'\n",
       "\twith 360175 stored elements in List of Lists format>"
      ]
     },
     "execution_count": 27,
     "metadata": {},
     "output_type": "execute_result"
    }
   ],
   "source": [
    "X_train_mybag"
   ]
  },
  {
   "cell_type": "markdown",
   "id": "2e467331",
   "metadata": {},
   "source": [
    "<a name=\"2.2\"></a>\n",
    "## 2.2 - TF-IDF"
   ]
  },
  {
   "cell_type": "markdown",
   "id": "775a1ce9",
   "metadata": {},
   "source": [
    " For this approuch we'll create module Tfidf that create a class and make fit, transform tramsformation"
   ]
  },
  {
   "cell_type": "code",
   "execution_count": 34,
   "id": "1f2fe852",
   "metadata": {
    "scrolled": true
   },
   "outputs": [
    {
     "name": "stderr",
     "output_type": "stream",
     "text": [
      "/Users/sergeiakhmadulin/My Drive/Simple NLP/Tfidf.py:55: RuntimeWarning: divide by zero encountered in divide\n",
      "  norm_tfidf = tfidf.multiply(1/np.sqrt(np.sum(tfidf.power(2), axis = 1)).reshape((length_rows,1)))\n"
     ]
    }
   ],
   "source": [
    "import Tfidf as tf\n",
    "\n",
    "tfidf_obj = tf.TFIDF()\n",
    "tfidf_obj.fit(X_train)\n",
    "\n",
    "X_train_tfidf = tfidf_obj.transform(X_train)\n",
    "X_test_tfidf = tfidf_obj.transform(X_test)\n",
    "tfidf_vocab = tfidf_obj.get_vocab()\n",
    "\n",
    "tfidf_index_to_word = {index:word for index,word in enumerate(tfidf_vocab)}"
   ]
  },
  {
   "cell_type": "code",
   "execution_count": null,
   "id": "c1480bce-9d96-4579-849e-cef335724123",
   "metadata": {},
   "outputs": [],
   "source": [
    "from importlib import reload\n",
    "reload(tf)"
   ]
  },
  {
   "cell_type": "code",
   "execution_count": 38,
   "id": "d2cd8d31",
   "metadata": {},
   "outputs": [
    {
     "data": {
      "text/plain": [
       "<70000x25420 sparse matrix of type '<class 'numpy.float64'>'\n",
       "\twith 389409 stored elements in List of Lists format>"
      ]
     },
     "execution_count": 38,
     "metadata": {},
     "output_type": "execute_result"
    }
   ],
   "source": [
    "X_train_tfidf"
   ]
  },
  {
   "cell_type": "markdown",
   "id": "44333be6",
   "metadata": {
    "jp-MarkdownHeadingCollapsed": true
   },
   "source": [
    "<a name=\"2.3\"></a>\n",
    "## 2.3 - CBOW"
   ]
  },
  {
   "cell_type": "markdown",
   "id": "018f4ad4",
   "metadata": {},
   "source": [
    " For this approuch we'll create two dictionaries to convert all unick words into a number and vise versa. Next we'll create two arres one with context words and another with center, that is what we are going to feed into neuron network. Train simple neuron networt with only 2 layers. As a result we'll get two matrises with trained weights the mean sum of them give us embedings of each word."
   ]
  },
  {
   "cell_type": "markdown",
   "id": "35787d9b",
   "metadata": {},
   "source": [
    "<a name=\"2.3.1\"></a>\n",
    "### 2.3.1 - Data prepare"
   ]
  },
  {
   "cell_type": "code",
   "execution_count": 29,
   "id": "717eb497",
   "metadata": {},
   "outputs": [],
   "source": [
    "def add_pad(text, num_of_padding, padding_car):\n",
    "    text_with_pad = []\n",
    "    for sent in text:\n",
    "        sent = (padding_car + \" \") * num_of_padding + sent + (\" \" + padding_car) * num_of_padding\n",
    "        text_with_pad.append(sent)\n",
    "    return text_with_pad"
   ]
  },
  {
   "cell_type": "code",
   "execution_count": 31,
   "id": "c38423ea",
   "metadata": {},
   "outputs": [],
   "source": [
    "def get_dict(text): \n",
    "    idx = 0\n",
    "    word2Ind = {}\n",
    "    Ind2word = {}\n",
    "    for sent in text:\n",
    "        try:\n",
    "            for word in sent.split():\n",
    "                if word not in word2Ind.keys():\n",
    "                    word2Ind[word] = idx\n",
    "                    Ind2word[idx] = word\n",
    "                    idx += 1\n",
    "        except:\n",
    "            for word in sent:\n",
    "                if word not in word2Ind.keys():\n",
    "                    word2Ind[word] = idx\n",
    "                    Ind2word[idx] = word\n",
    "                    idx += 1\n",
    "    return word2Ind,Ind2word"
   ]
  },
  {
   "cell_type": "code",
   "execution_count": null,
   "id": "65cf4e6e-aaca-4b82-92ae-775a8c3fb4fd",
   "metadata": {},
   "outputs": [],
   "source": []
  },
  {
   "cell_type": "code",
   "execution_count": 107,
   "id": "89757570",
   "metadata": {},
   "outputs": [],
   "source": [
    "def get_data_with_window(text, num_neighbor_words, padding = False):\n",
    "    \n",
    "    if padding:\n",
    "        text = add_pad(text, num_neighbor_words, \"PAD\")\n",
    "        \n",
    "    word2Ind, Ind2word = get_dict(text)\n",
    "    vector_lenght = len(word2Ind)\n",
    "    count = 0\n",
    "    for sent in text:\n",
    "        length = len(sent.split()) - 2*num_neighbor_words\n",
    "        if length > 0:\n",
    "            count += length\n",
    "    X_matrix = sp_sparse.lil_matrix((count,vector_lenght))\n",
    "    y_matrix = sp_sparse.lil_matrix((count,vector_lenght))\n",
    "    Y = []\n",
    "    n = 0\n",
    "    for row, sent in enumerate(text):\n",
    "        sent_to_separete = sent.split()\n",
    "        for i in range(num_neighbor_words, len(sent_to_separete) - num_neighbor_words):\n",
    "            center_word = sent_to_separete[i]\n",
    "            context_words = sent_to_separete[(i - num_neighbor_words):i] + sent_to_separete[(i+1):(i+num_neighbor_words+1)]\n",
    "            \n",
    "            y_matrix[n, word2Ind[center_word]] = 1\n",
    "            Y.append(word2Ind[center_word])\n",
    "            for con_word in context_words:\n",
    "                X_matrix[n, word2Ind[con_word]] += 1\n",
    "                print(center_word, con_word)\n",
    "            n += 1\n",
    "    X_matrix = (X_matrix/sp_sparse.lil_matrix.sum(X_matrix, axis = 1)).tolil()\n",
    "    Y = np.array(Y)\n",
    "    return X_matrix, y_matrix, word2Ind, Ind2word"
   ]
  },
  {
   "cell_type": "code",
   "execution_count": 148,
   "id": "3ad5e524-03b6-4edb-98d3-9826c626b7ae",
   "metadata": {},
   "outputs": [],
   "source": [
    "import tensorflow as tf\n",
    "from tensorflow.keras.preprocessing.text import Tokenizer\n",
    "from tensorflow.keras.preprocessing.sequence import pad_sequences\n",
    "\n",
    "# Sample corpus\n",
    "corpus = [\n",
    "    \"the quick brown fox jumps\",\n",
    "    \"over the lazy dog\",\n",
    "    \"hello world over the lazy dog\",\n",
    "    # Add more sentences as needed\n",
    "]\n",
    "\n",
    "# Tokenize and create vocabulary\n",
    "tokenizer = Tokenizer()\n",
    "tokenizer.fit_on_texts(corpus)\n",
    "word_index = tokenizer.word_index\n",
    "vocab_size = len(word_index) + 1"
   ]
  },
  {
   "cell_type": "code",
   "execution_count": 150,
   "id": "58bd8094-f5e9-4fc9-a508-b83fc5fb3611",
   "metadata": {},
   "outputs": [
    {
     "name": "stdout",
     "output_type": "stream",
     "text": [
      "[[1, 5, 6, 7, 8], [2, 1, 3, 4], [9, 10, 2, 1, 3, 4]]\n"
     ]
    }
   ],
   "source": [
    "import numpy as np\n",
    "\n",
    "context_window = 2\n",
    "\n",
    "def generate_data(corpus, context_window, tokenizer):\n",
    "    sequences = tokenizer.texts_to_sequences(corpus)\n",
    "    print(sequences)\n",
    "    X, y = [], []\n",
    "    for sequence in sequences:\n",
    "        for i in range(context_window, len(sequence) - context_window):\n",
    "            context = sequence[i - context_window : i] + sequence[i + 1 : i + context_window + 1]\n",
    "            target = sequence[i]\n",
    "            X.append(context)\n",
    "            y.append(target)\n",
    "    return np.array(X), np.array(y)\n",
    "\n",
    "X_train, y_train = generate_data(corpus, context_window, tokenizer)"
   ]
  },
  {
   "cell_type": "code",
   "execution_count": 156,
   "id": "324d52ae-44c1-4259-94c3-d8e8cbec6a8c",
   "metadata": {},
   "outputs": [
    {
     "data": {
      "text/plain": [
       "array([6, 2, 1])"
      ]
     },
     "execution_count": 156,
     "metadata": {},
     "output_type": "execute_result"
    }
   ],
   "source": [
    "y_train"
   ]
  },
  {
   "cell_type": "code",
   "execution_count": 158,
   "id": "fd397835-6b54-4505-925a-b855ee76b227",
   "metadata": {},
   "outputs": [
    {
     "data": {
      "text/plain": [
       "array([[ 1,  5,  7,  8],\n",
       "       [ 9, 10,  1,  3],\n",
       "       [10,  2,  3,  4]])"
      ]
     },
     "execution_count": 158,
     "metadata": {},
     "output_type": "execute_result"
    }
   ],
   "source": [
    "X_train"
   ]
  },
  {
   "cell_type": "code",
   "execution_count": 133,
   "id": "8a5b33af-3124-49dc-8cb9-08c627c73e93",
   "metadata": {},
   "outputs": [],
   "source": [
    "embedding_dim = 100\n",
    "\n",
    "model = tf.keras.Sequential([\n",
    "    tf.keras.layers.Embedding(input_dim=vocab_size, output_dim=embedding_dim),\n",
    "    tf.keras.layers.GlobalAveragePooling1D(),\n",
    "    tf.keras.layers.Dense(vocab_size, activation='softmax')\n",
    "])\n",
    "\n",
    "model.compile(loss='sparse_categorical_crossentropy', optimizer='adam')"
   ]
  },
  {
   "cell_type": "code",
   "execution_count": 162,
   "id": "1547daca-1b8f-4c07-8427-03a530e3842e",
   "metadata": {},
   "outputs": [
    {
     "ename": "AttributeError",
     "evalue": "'Sequential' object has no attribute 'param'",
     "output_type": "error",
     "traceback": [
      "\u001b[0;31m---------------------------------------------------------------------------\u001b[0m",
      "\u001b[0;31mAttributeError\u001b[0m                            Traceback (most recent call last)",
      "Cell \u001b[0;32mIn[162], line 1\u001b[0m\n\u001b[0;32m----> 1\u001b[0m model\u001b[38;5;241m.\u001b[39mparam()\n",
      "\u001b[0;31mAttributeError\u001b[0m: 'Sequential' object has no attribute 'param'"
     ]
    }
   ],
   "source": [
    "model.param()"
   ]
  },
  {
   "cell_type": "code",
   "execution_count": 135,
   "id": "60580c77-1c38-49fa-affa-26d0afc4c792",
   "metadata": {
    "scrolled": true
   },
   "outputs": [
    {
     "name": "stdout",
     "output_type": "stream",
     "text": [
      "Epoch 1/50\n",
      "\u001b[1m1/1\u001b[0m \u001b[32m━━━━━━━━━━━━━━━━━━━━\u001b[0m\u001b[37m\u001b[0m \u001b[1m0s\u001b[0m 297ms/step - loss: 2.4006\n",
      "Epoch 2/50\n",
      "\u001b[1m1/1\u001b[0m \u001b[32m━━━━━━━━━━━━━━━━━━━━\u001b[0m\u001b[37m\u001b[0m \u001b[1m0s\u001b[0m 10ms/step - loss: 2.3855\n",
      "Epoch 3/50\n",
      "\u001b[1m1/1\u001b[0m \u001b[32m━━━━━━━━━━━━━━━━━━━━\u001b[0m\u001b[37m\u001b[0m \u001b[1m0s\u001b[0m 11ms/step - loss: 2.3704\n",
      "Epoch 4/50\n",
      "\u001b[1m1/1\u001b[0m \u001b[32m━━━━━━━━━━━━━━━━━━━━\u001b[0m\u001b[37m\u001b[0m \u001b[1m0s\u001b[0m 13ms/step - loss: 2.3553\n",
      "Epoch 5/50\n",
      "\u001b[1m1/1\u001b[0m \u001b[32m━━━━━━━━━━━━━━━━━━━━\u001b[0m\u001b[37m\u001b[0m \u001b[1m0s\u001b[0m 13ms/step - loss: 2.3401\n",
      "Epoch 6/50\n",
      "\u001b[1m1/1\u001b[0m \u001b[32m━━━━━━━━━━━━━━━━━━━━\u001b[0m\u001b[37m\u001b[0m \u001b[1m0s\u001b[0m 14ms/step - loss: 2.3248\n",
      "Epoch 7/50\n",
      "\u001b[1m1/1\u001b[0m \u001b[32m━━━━━━━━━━━━━━━━━━━━\u001b[0m\u001b[37m\u001b[0m \u001b[1m0s\u001b[0m 13ms/step - loss: 2.3095\n",
      "Epoch 8/50\n",
      "\u001b[1m1/1\u001b[0m \u001b[32m━━━━━━━━━━━━━━━━━━━━\u001b[0m\u001b[37m\u001b[0m \u001b[1m0s\u001b[0m 14ms/step - loss: 2.2941\n",
      "Epoch 9/50\n",
      "\u001b[1m1/1\u001b[0m \u001b[32m━━━━━━━━━━━━━━━━━━━━\u001b[0m\u001b[37m\u001b[0m \u001b[1m0s\u001b[0m 15ms/step - loss: 2.2786\n",
      "Epoch 10/50\n",
      "\u001b[1m1/1\u001b[0m \u001b[32m━━━━━━━━━━━━━━━━━━━━\u001b[0m\u001b[37m\u001b[0m \u001b[1m0s\u001b[0m 14ms/step - loss: 2.2629\n",
      "Epoch 11/50\n",
      "\u001b[1m1/1\u001b[0m \u001b[32m━━━━━━━━━━━━━━━━━━━━\u001b[0m\u001b[37m\u001b[0m \u001b[1m0s\u001b[0m 13ms/step - loss: 2.2472\n",
      "Epoch 12/50\n",
      "\u001b[1m1/1\u001b[0m \u001b[32m━━━━━━━━━━━━━━━━━━━━\u001b[0m\u001b[37m\u001b[0m \u001b[1m0s\u001b[0m 13ms/step - loss: 2.2312\n",
      "Epoch 13/50\n",
      "\u001b[1m1/1\u001b[0m \u001b[32m━━━━━━━━━━━━━━━━━━━━\u001b[0m\u001b[37m\u001b[0m \u001b[1m0s\u001b[0m 12ms/step - loss: 2.2151\n",
      "Epoch 14/50\n",
      "\u001b[1m1/1\u001b[0m \u001b[32m━━━━━━━━━━━━━━━━━━━━\u001b[0m\u001b[37m\u001b[0m \u001b[1m0s\u001b[0m 13ms/step - loss: 2.1988\n",
      "Epoch 15/50\n",
      "\u001b[1m1/1\u001b[0m \u001b[32m━━━━━━━━━━━━━━━━━━━━\u001b[0m\u001b[37m\u001b[0m \u001b[1m0s\u001b[0m 13ms/step - loss: 2.1824\n",
      "Epoch 16/50\n",
      "\u001b[1m1/1\u001b[0m \u001b[32m━━━━━━━━━━━━━━━━━━━━\u001b[0m\u001b[37m\u001b[0m \u001b[1m0s\u001b[0m 13ms/step - loss: 2.1657\n",
      "Epoch 17/50\n",
      "\u001b[1m1/1\u001b[0m \u001b[32m━━━━━━━━━━━━━━━━━━━━\u001b[0m\u001b[37m\u001b[0m \u001b[1m0s\u001b[0m 68ms/step - loss: 2.1487\n",
      "Epoch 18/50\n",
      "\u001b[1m1/1\u001b[0m \u001b[32m━━━━━━━━━━━━━━━━━━━━\u001b[0m\u001b[37m\u001b[0m \u001b[1m0s\u001b[0m 15ms/step - loss: 2.1316\n",
      "Epoch 19/50\n",
      "\u001b[1m1/1\u001b[0m \u001b[32m━━━━━━━━━━━━━━━━━━━━\u001b[0m\u001b[37m\u001b[0m \u001b[1m0s\u001b[0m 15ms/step - loss: 2.1141\n",
      "Epoch 20/50\n",
      "\u001b[1m1/1\u001b[0m \u001b[32m━━━━━━━━━━━━━━━━━━━━\u001b[0m\u001b[37m\u001b[0m \u001b[1m0s\u001b[0m 14ms/step - loss: 2.0964\n",
      "Epoch 21/50\n",
      "\u001b[1m1/1\u001b[0m \u001b[32m━━━━━━━━━━━━━━━━━━━━\u001b[0m\u001b[37m\u001b[0m \u001b[1m0s\u001b[0m 13ms/step - loss: 2.0783\n",
      "Epoch 22/50\n",
      "\u001b[1m1/1\u001b[0m \u001b[32m━━━━━━━━━━━━━━━━━━━━\u001b[0m\u001b[37m\u001b[0m \u001b[1m0s\u001b[0m 15ms/step - loss: 2.0600\n",
      "Epoch 23/50\n",
      "\u001b[1m1/1\u001b[0m \u001b[32m━━━━━━━━━━━━━━━━━━━━\u001b[0m\u001b[37m\u001b[0m \u001b[1m0s\u001b[0m 13ms/step - loss: 2.0413\n",
      "Epoch 24/50\n",
      "\u001b[1m1/1\u001b[0m \u001b[32m━━━━━━━━━━━━━━━━━━━━\u001b[0m\u001b[37m\u001b[0m \u001b[1m0s\u001b[0m 13ms/step - loss: 2.0224\n",
      "Epoch 25/50\n",
      "\u001b[1m1/1\u001b[0m \u001b[32m━━━━━━━━━━━━━━━━━━━━\u001b[0m\u001b[37m\u001b[0m \u001b[1m0s\u001b[0m 13ms/step - loss: 2.0030\n",
      "Epoch 26/50\n",
      "\u001b[1m1/1\u001b[0m \u001b[32m━━━━━━━━━━━━━━━━━━━━\u001b[0m\u001b[37m\u001b[0m \u001b[1m0s\u001b[0m 13ms/step - loss: 1.9833\n",
      "Epoch 27/50\n",
      "\u001b[1m1/1\u001b[0m \u001b[32m━━━━━━━━━━━━━━━━━━━━\u001b[0m\u001b[37m\u001b[0m \u001b[1m0s\u001b[0m 12ms/step - loss: 1.9632\n",
      "Epoch 28/50\n",
      "\u001b[1m1/1\u001b[0m \u001b[32m━━━━━━━━━━━━━━━━━━━━\u001b[0m\u001b[37m\u001b[0m \u001b[1m0s\u001b[0m 12ms/step - loss: 1.9428\n",
      "Epoch 29/50\n",
      "\u001b[1m1/1\u001b[0m \u001b[32m━━━━━━━━━━━━━━━━━━━━\u001b[0m\u001b[37m\u001b[0m \u001b[1m0s\u001b[0m 12ms/step - loss: 1.9220\n",
      "Epoch 30/50\n",
      "\u001b[1m1/1\u001b[0m \u001b[32m━━━━━━━━━━━━━━━━━━━━\u001b[0m\u001b[37m\u001b[0m \u001b[1m0s\u001b[0m 12ms/step - loss: 1.9007\n",
      "Epoch 31/50\n",
      "\u001b[1m1/1\u001b[0m \u001b[32m━━━━━━━━━━━━━━━━━━━━\u001b[0m\u001b[37m\u001b[0m \u001b[1m0s\u001b[0m 12ms/step - loss: 1.8791\n",
      "Epoch 32/50\n",
      "\u001b[1m1/1\u001b[0m \u001b[32m━━━━━━━━━━━━━━━━━━━━\u001b[0m\u001b[37m\u001b[0m \u001b[1m0s\u001b[0m 12ms/step - loss: 1.8571\n",
      "Epoch 33/50\n",
      "\u001b[1m1/1\u001b[0m \u001b[32m━━━━━━━━━━━━━━━━━━━━\u001b[0m\u001b[37m\u001b[0m \u001b[1m0s\u001b[0m 11ms/step - loss: 1.8347\n",
      "Epoch 34/50\n",
      "\u001b[1m1/1\u001b[0m \u001b[32m━━━━━━━━━━━━━━━━━━━━\u001b[0m\u001b[37m\u001b[0m \u001b[1m0s\u001b[0m 11ms/step - loss: 1.8119\n",
      "Epoch 35/50\n",
      "\u001b[1m1/1\u001b[0m \u001b[32m━━━━━━━━━━━━━━━━━━━━\u001b[0m\u001b[37m\u001b[0m \u001b[1m0s\u001b[0m 11ms/step - loss: 1.7887\n",
      "Epoch 36/50\n",
      "\u001b[1m1/1\u001b[0m \u001b[32m━━━━━━━━━━━━━━━━━━━━\u001b[0m\u001b[37m\u001b[0m \u001b[1m0s\u001b[0m 11ms/step - loss: 1.7650\n",
      "Epoch 37/50\n",
      "\u001b[1m1/1\u001b[0m \u001b[32m━━━━━━━━━━━━━━━━━━━━\u001b[0m\u001b[37m\u001b[0m \u001b[1m0s\u001b[0m 11ms/step - loss: 1.7410\n",
      "Epoch 38/50\n",
      "\u001b[1m1/1\u001b[0m \u001b[32m━━━━━━━━━━━━━━━━━━━━\u001b[0m\u001b[37m\u001b[0m \u001b[1m0s\u001b[0m 12ms/step - loss: 1.7166\n",
      "Epoch 39/50\n",
      "\u001b[1m1/1\u001b[0m \u001b[32m━━━━━━━━━━━━━━━━━━━━\u001b[0m\u001b[37m\u001b[0m \u001b[1m0s\u001b[0m 11ms/step - loss: 1.6918\n",
      "Epoch 40/50\n",
      "\u001b[1m1/1\u001b[0m \u001b[32m━━━━━━━━━━━━━━━━━━━━\u001b[0m\u001b[37m\u001b[0m \u001b[1m0s\u001b[0m 11ms/step - loss: 1.6665\n",
      "Epoch 41/50\n",
      "\u001b[1m1/1\u001b[0m \u001b[32m━━━━━━━━━━━━━━━━━━━━\u001b[0m\u001b[37m\u001b[0m \u001b[1m0s\u001b[0m 11ms/step - loss: 1.6409\n",
      "Epoch 42/50\n",
      "\u001b[1m1/1\u001b[0m \u001b[32m━━━━━━━━━━━━━━━━━━━━\u001b[0m\u001b[37m\u001b[0m \u001b[1m0s\u001b[0m 12ms/step - loss: 1.6150\n",
      "Epoch 43/50\n",
      "\u001b[1m1/1\u001b[0m \u001b[32m━━━━━━━━━━━━━━━━━━━━\u001b[0m\u001b[37m\u001b[0m \u001b[1m0s\u001b[0m 10ms/step - loss: 1.5886\n",
      "Epoch 44/50\n",
      "\u001b[1m1/1\u001b[0m \u001b[32m━━━━━━━━━━━━━━━━━━━━\u001b[0m\u001b[37m\u001b[0m \u001b[1m0s\u001b[0m 11ms/step - loss: 1.5619\n",
      "Epoch 45/50\n",
      "\u001b[1m1/1\u001b[0m \u001b[32m━━━━━━━━━━━━━━━━━━━━\u001b[0m\u001b[37m\u001b[0m \u001b[1m0s\u001b[0m 11ms/step - loss: 1.5349\n",
      "Epoch 46/50\n",
      "\u001b[1m1/1\u001b[0m \u001b[32m━━━━━━━━━━━━━━━━━━━━\u001b[0m\u001b[37m\u001b[0m \u001b[1m0s\u001b[0m 12ms/step - loss: 1.5075\n",
      "Epoch 47/50\n",
      "\u001b[1m1/1\u001b[0m \u001b[32m━━━━━━━━━━━━━━━━━━━━\u001b[0m\u001b[37m\u001b[0m \u001b[1m0s\u001b[0m 11ms/step - loss: 1.4799\n",
      "Epoch 48/50\n",
      "\u001b[1m1/1\u001b[0m \u001b[32m━━━━━━━━━━━━━━━━━━━━\u001b[0m\u001b[37m\u001b[0m \u001b[1m0s\u001b[0m 11ms/step - loss: 1.4519\n",
      "Epoch 49/50\n",
      "\u001b[1m1/1\u001b[0m \u001b[32m━━━━━━━━━━━━━━━━━━━━\u001b[0m\u001b[37m\u001b[0m \u001b[1m0s\u001b[0m 12ms/step - loss: 1.4236\n",
      "Epoch 50/50\n",
      "\u001b[1m1/1\u001b[0m \u001b[32m━━━━━━━━━━━━━━━━━━━━\u001b[0m\u001b[37m\u001b[0m \u001b[1m0s\u001b[0m 11ms/step - loss: 1.3951\n"
     ]
    },
    {
     "data": {
      "text/plain": [
       "<keras.src.callbacks.history.History at 0x3285237d0>"
      ]
     },
     "execution_count": 135,
     "metadata": {},
     "output_type": "execute_result"
    }
   ],
   "source": [
    "epochs = 50\n",
    "batch_size = 16\n",
    "\n",
    "model.fit(X_train, y_train, epochs=epochs, batch_size=batch_size)"
   ]
  },
  {
   "cell_type": "code",
   "execution_count": 75,
   "id": "c04f5ba1-d7b8-4cfa-927d-967d8cdd42a1",
   "metadata": {},
   "outputs": [
    {
     "data": {
      "text/plain": [
       "array([[0.5 , 0.  , 0.25, ..., 0.  , 0.  , 0.  ]])"
      ]
     },
     "execution_count": 75,
     "metadata": {},
     "output_type": "execute_result"
    }
   ],
   "source": [
    "X[0].A"
   ]
  },
  {
   "cell_type": "code",
   "execution_count": 99,
   "id": "6221f8b3-9920-4277-99ad-517ef637f91f",
   "metadata": {},
   "outputs": [
    {
     "data": {
      "text/plain": [
       "'imlementing'"
      ]
     },
     "execution_count": 99,
     "metadata": {},
     "output_type": "execute_result"
    }
   ],
   "source": [
    "Ind2word[np.argmax(y[0].A)]"
   ]
  },
  {
   "cell_type": "code",
   "execution_count": 81,
   "id": "b6f14495",
   "metadata": {},
   "outputs": [],
   "source": [
    "X, y, word2Ind, Ind2word  = get_data_with_window(X_train, 2, padding = True)"
   ]
  },
  {
   "cell_type": "code",
   "execution_count": 42,
   "id": "83a7bf66",
   "metadata": {},
   "outputs": [
    {
     "data": {
      "text/plain": [
       "((396118, 25421), 25420)"
      ]
     },
     "execution_count": 42,
     "metadata": {},
     "output_type": "execute_result"
    }
   ],
   "source": [
    "X.shape, max(Ind2word)"
   ]
  },
  {
   "cell_type": "markdown",
   "id": "c1b9d436",
   "metadata": {},
   "source": [
    "<a name=\"2.3.2\"></a>\n",
    "### 2.3.2 - Train neuron network and transform train/test data"
   ]
  },
  {
   "cell_type": "code",
   "execution_count": 75,
   "id": "af2efc1f",
   "metadata": {},
   "outputs": [],
   "source": [
    "import NN_for_CBOW as NN"
   ]
  },
  {
   "cell_type": "code",
   "execution_count": 79,
   "id": "53854c6b-3955-47b8-8d6e-120a9106f022",
   "metadata": {},
   "outputs": [
    {
     "data": {
      "text/plain": [
       "<module 'NN_for_CBOW' from '/Users/sergeiakhmadulin/My Drive/Simple NLP/NN_for_CBOW.py'>"
      ]
     },
     "execution_count": 79,
     "metadata": {},
     "output_type": "execute_result"
    }
   ],
   "source": [
    "from importlib import reload\n",
    "reload(NN)"
   ]
  },
  {
   "cell_type": "code",
   "execution_count": null,
   "id": "0455f3dc",
   "metadata": {
    "scrolled": true
   },
   "outputs": [],
   "source": [
    "res, W_1,W_2 = NN.train_network(X, y, learning_rate = 0.5, hidden_neurons = 128, num_epoch = 4,initialization = \"xavier\")"
   ]
  },
  {
   "cell_type": "code",
   "execution_count": null,
   "id": "ff1ff144-7c74-42a5-ad43-b7454be933d4",
   "metadata": {},
   "outputs": [],
   "source": [
    "X"
   ]
  },
  {
   "cell_type": "code",
   "execution_count": null,
   "id": "7fa1bac5-90d9-4161-8e83-815be91cd4b4",
   "metadata": {},
   "outputs": [],
   "source": []
  },
  {
   "cell_type": "code",
   "execution_count": null,
   "id": "f2996354-6bfe-4402-8d7a-bd13111fc5ff",
   "metadata": {},
   "outputs": [],
   "source": [
    "# Resume training code, with alredy updated weights\n",
    "\n",
    "# res, W_1,W_2 = NN.train_network(X, y, hidden_neurons = 64, num_epoch = 6, batchsize = 100, \\\n",
    "#                                 initialization = \"custom\",weights_1 = W_1, weights_2 = W_2)"
   ]
  },
  {
   "cell_type": "code",
   "execution_count": 45,
   "id": "e4d0e33b",
   "metadata": {},
   "outputs": [],
   "source": [
    "W_1 = np.array(pd.read_csv(\"weights_1.csv\", header=None))\n",
    "W_2 = np.array(pd.read_csv(\"weights_2.csv\", header=None))"
   ]
  },
  {
   "cell_type": "code",
   "execution_count": 1,
   "id": "4993a278",
   "metadata": {},
   "outputs": [
    {
     "ename": "NameError",
     "evalue": "name 'W_1' is not defined",
     "output_type": "error",
     "traceback": [
      "\u001b[0;31m---------------------------------------------------------------------------\u001b[0m",
      "\u001b[0;31mNameError\u001b[0m                                 Traceback (most recent call last)",
      "Cell \u001b[0;32mIn[1], line 1\u001b[0m\n\u001b[0;32m----> 1\u001b[0m word_embedings \u001b[38;5;241m=\u001b[39m (W_1 \u001b[38;5;241m+\u001b[39m W_2\u001b[38;5;241m.\u001b[39mT)\u001b[38;5;241m/\u001b[39m\u001b[38;5;241m2\u001b[39m\n",
      "\u001b[0;31mNameError\u001b[0m: name 'W_1' is not defined"
     ]
    }
   ],
   "source": [
    "word_embedings = (W_1 + W_2.T)/2"
   ]
  },
  {
   "cell_type": "markdown",
   "id": "bf1edb46",
   "metadata": {},
   "source": [
    "<a name=\"2.3.3\"></a>\n",
    "### 2.3.3 - PCA for plotting results"
   ]
  },
  {
   "cell_type": "code",
   "execution_count": 49,
   "id": "65beacf4",
   "metadata": {},
   "outputs": [],
   "source": [
    "import PCA as pca\n",
    "pca_obj = pca.PCA()"
   ]
  },
  {
   "cell_type": "code",
   "execution_count": 181,
   "id": "badd5bcc-43f8-481b-ac26-9f6e12c80c80",
   "metadata": {},
   "outputs": [],
   "source": [
    "from importlib import reload\n",
    "reload(pca)\n",
    "pca_obj = pca.PCA()"
   ]
  },
  {
   "cell_type": "code",
   "execution_count": 53,
   "id": "64615746-99c4-4ecf-8964-babf7eed5293",
   "metadata": {},
   "outputs": [
    {
     "data": {
      "text/plain": [
       "(25420, 64)"
      ]
     },
     "execution_count": 53,
     "metadata": {},
     "output_type": "execute_result"
    }
   ],
   "source": [
    "W_2.T[1:].shape"
   ]
  },
  {
   "cell_type": "code",
   "execution_count": 85,
   "id": "38e2d1ca-6eaf-4d7d-b1ab-e2c5f591dc00",
   "metadata": {},
   "outputs": [],
   "source": [
    "all_embedings_for_model = word_embedings[1:]"
   ]
  },
  {
   "cell_type": "code",
   "execution_count": 87,
   "id": "af6df6ee-70de-4e03-91e3-113aa41636bd",
   "metadata": {},
   "outputs": [],
   "source": [
    "Ind2word_no_pad = {k:v for k,v in enumerate(list(Ind2word.values())[1:])}\n",
    "word2Ind_no_pad = {k:v for v,k in Ind2word_no_pad.items()}"
   ]
  },
  {
   "cell_type": "code",
   "execution_count": 97,
   "id": "8fc97e5a-4d07-4d5d-90f5-ac122d001ca0",
   "metadata": {
    "scrolled": true
   },
   "outputs": [
    {
     "data": {
      "text/plain": [
       "{0: 'imlementing',\n",
       " 1: 'custom',\n",
       " 2: 'irouter',\n",
       " 3: 'aspnet',\n",
       " 4: '5',\n",
       " 5: 'vnext',\n",
       " 6: 'mvc',\n",
       " 7: '6',\n",
       " 8: 'uiwebview',\n",
       " 9: 'application',\n",
       " 10: 'using',\n",
       " 11: 'proxy',\n",
       " 12: 'server',\n",
       " 13: 'formal',\n",
       " 14: 'argument',\n",
       " 15: 'type',\n",
       " 16: 'matched',\n",
       " 17: 'multiple',\n",
       " 18: 'actual',\n",
       " 19: 'arguments',\n",
       " 20: 'android',\n",
       " 21: 'java',\n",
       " 22: 'embed',\n",
       " 23: 'online',\n",
       " 24: 'video',\n",
       " 25: 'python',\n",
       " 26: 'copying',\n",
       " 27: 'one',\n",
       " 28: 'work',\n",
       " 29: 'sheet',\n",
       " 30: 'another',\n",
       " 31: 'excel',\n",
       " 32: 'pdo',\n",
       " 33: 'rowcount',\n",
       " 34: 'select',\n",
       " 35: 'mysql',\n",
       " 36: 'load',\n",
       " 37: 'backgroundimages',\n",
       " 38: 'js',\n",
       " 39: 'css',\n",
       " 40: 'upload',\n",
       " 41: 'image',\n",
       " 42: 'codeigniter',\n",
       " 43: 'working',\n",
       " 44: 'ajax',\n",
       " 45: 'example',\n",
       " 46: 'reduce',\n",
       " 47: 'quality',\n",
       " 48: 'uploading',\n",
       " 49: 'paperclip',\n",
       " 50: 'making',\n",
       " 51: 'column',\n",
       " 52: 'editable',\n",
       " 53: 'gridview',\n",
       " 54: 'plot',\n",
       " 55: 'jpg',\n",
       " 56: 'base',\n",
       " 57: 'graphics',\n",
       " 58: 'r',\n",
       " 59: 'string',\n",
       " 60: 'comparison',\n",
       " 61: 'ignoring',\n",
       " 62: 'encoding',\n",
       " 63: 'properly',\n",
       " 64: 'register',\n",
       " 65: 'protocol',\n",
       " 66: 'handler',\n",
       " 67: 'windows',\n",
       " 68: '8',\n",
       " 69: 'unit',\n",
       " 70: 'test',\n",
       " 71: 'sessions',\n",
       " 72: 'failed',\n",
       " 73: 'execute',\n",
       " 74: 'angularjs',\n",
       " 75: 'animation',\n",
       " 76: 'show',\n",
       " 77: 'hide',\n",
       " 78: 'speed',\n",
       " 79: 'vbnet',\n",
       " 80: 'classes',\n",
       " 81: 'object',\n",
       " 82: 'reference',\n",
       " 83: 'set',\n",
       " 84: 'instance',\n",
       " 85: 'remove',\n",
       " 86: 'standart',\n",
       " 87: 'menuitem',\n",
       " 88: 'qtextedit',\n",
       " 89: 'context',\n",
       " 90: 'menu',\n",
       " 91: 'send',\n",
       " 92: 'json',\n",
       " 93: 'c#',\n",
       " 94: 'web',\n",
       " 95: 'manage',\n",
       " 96: 'syspath',\n",
       " 97: 'globally',\n",
       " 98: 'pycharm',\n",
       " 99: 'long',\n",
       " 100: 'press',\n",
       " 101: 'gesture',\n",
       " 102: 'uiimageview',\n",
       " 103: 'print',\n",
       " 104: 'value',\n",
       " 105: 'split',\n",
       " 106: 'javascript',\n",
       " 107: 'zoom',\n",
       " 108: 'center',\n",
       " 109: 'viewable',\n",
       " 110: 'area',\n",
       " 111: 'filter',\n",
       " 112: 'results',\n",
       " 113: 'ransack',\n",
       " 114: 'laravel',\n",
       " 115: 'modal',\n",
       " 116: 'confimation',\n",
       " 117: 'controller',\n",
       " 118: 'destroy',\n",
       " 119: 'function',\n",
       " 120: 'youtube',\n",
       " 121: 'doesnt',\n",
       " 122: 'stop',\n",
       " 123: 'ie',\n",
       " 124: 'parent',\n",
       " 125: 'div',\n",
       " 126: 'dropdown',\n",
       " 127: 'created',\n",
       " 128: 'via',\n",
       " 129: 'jquery',\n",
       " 130: 'ajaxhow',\n",
       " 131: 'get',\n",
       " 132: 'related',\n",
       " 133: 'items',\n",
       " 134: 'second',\n",
       " 135: 'selected',\n",
       " 136: 'first',\n",
       " 137: 'ckeditor',\n",
       " 138: 'wordpress',\n",
       " 139: 'creating',\n",
       " 140: 'tables',\n",
       " 141: 'matplotlib',\n",
       " 142: 'random',\n",
       " 143: 'enum',\n",
       " 144: 'group',\n",
       " 145: 'gridstackjs',\n",
       " 146: 'plugin',\n",
       " 147: 'cell',\n",
       " 148: 'width',\n",
       " 149: 'height',\n",
       " 150: 'keep',\n",
       " 151: 'resizable',\n",
       " 152: 'php',\n",
       " 153: 'htmlspecialchars',\n",
       " 154: 'text',\n",
       " 155: 'input',\n",
       " 156: 'focus',\n",
       " 157: 'cant',\n",
       " 158: 'radio',\n",
       " 159: 'button',\n",
       " 160: 'bootstrap',\n",
       " 161: 'handling',\n",
       " 162: 'exception',\n",
       " 163: 'spring',\n",
       " 164: 'boot',\n",
       " 165: 'rest',\n",
       " 166: 'thrown',\n",
       " 167: 'converter',\n",
       " 168: 'variable',\n",
       " 169: 'business',\n",
       " 170: 'hours',\n",
       " 171: 'fullcalendar',\n",
       " 172: 'oop',\n",
       " 173: 'create',\n",
       " 174: 'objects',\n",
       " 175: 'encode',\n",
       " 176: 'http',\n",
       " 177: 'post',\n",
       " 178: 'parameters',\n",
       " 179: 'client',\n",
       " 180: 'replaceall',\n",
       " 181: 'ignore',\n",
       " 182: 'case',\n",
       " 183: 'special',\n",
       " 184: 'characters',\n",
       " 185: 'annotation',\n",
       " 186: 'basic',\n",
       " 187: 'transient',\n",
       " 188: 'variables',\n",
       " 189: 'accessing',\n",
       " 190: 'values',\n",
       " 191: 'dynamic',\n",
       " 192: 'table',\n",
       " 193: 'row',\n",
       " 194: 'disable',\n",
       " 195: 'smart',\n",
       " 196: 'indent',\n",
       " 197: 'eclipse',\n",
       " 198: 'code',\n",
       " 199: 'volatile',\n",
       " 200: 'unsigned',\n",
       " 201: 'int',\n",
       " 202: 'const',\n",
       " 203: 'environment',\n",
       " 204: 'changes',\n",
       " 205: 'nls_date_format',\n",
       " 206: 'parameter',\n",
       " 207: 'inflater',\n",
       " 208: 'cannot',\n",
       " 209: 'find',\n",
       " 210: 'layout',\n",
       " 211: 'comparing',\n",
       " 212: 'strings',\n",
       " 213: 'ruby',\n",
       " 214: 'valid',\n",
       " 215: 'identifier',\n",
       " 216: 'calculate',\n",
       " 217: 'average',\n",
       " 218: 'calling',\n",
       " 219: 'service',\n",
       " 220: 'ssl',\n",
       " 221: 'finding',\n",
       " 222: 'partial',\n",
       " 223: 'matches',\n",
       " 224: 'large',\n",
       " 225: 'corpus',\n",
       " 226: 'illegal',\n",
       " 227: 'character',\n",
       " 228: 'query',\n",
       " 229: 'index',\n",
       " 230: 'getting',\n",
       " 231: 'following',\n",
       " 232: 'build',\n",
       " 233: 'error',\n",
       " 234: 'resolved',\n",
       " 235: 'indirectly',\n",
       " 236: 'referenced',\n",
       " 237: 'required',\n",
       " 238: 'class',\n",
       " 239: 'files',\n",
       " 240: 'file',\n",
       " 241: 'name',\n",
       " 242: 'list',\n",
       " 243: 'fileinfo',\n",
       " 244: 'angular',\n",
       " 245: '2',\n",
       " 246: 'debounce',\n",
       " 247: 'ngmodelchange',\n",
       " 248: 'reflection',\n",
       " 249: 'entityframework',\n",
       " 250: 'model',\n",
       " 251: 'approach',\n",
       " 252: 'convert',\n",
       " 253: 'void',\n",
       " 254: 'stdfunctionvoid',\n",
       " 255: 'clear',\n",
       " 256: 'uitextview',\n",
       " 257: 'upon',\n",
       " 258: 'editing',\n",
       " 259: 'enclosing',\n",
       " 260: 'parentheses',\n",
       " 261: 'macro',\n",
       " 262: 'collection_select',\n",
       " 263: 'saving',\n",
       " 264: 'option',\n",
       " 265: 'database',\n",
       " 266: 'tooltip',\n",
       " 267: 'mouseover',\n",
       " 268: 'integration',\n",
       " 269: 'deserializing',\n",
       " 270: 'empty',\n",
       " 271: 'array',\n",
       " 272: 'jsonnet',\n",
       " 273: 'read',\n",
       " 274: 'content',\n",
       " 275: 'browser',\n",
       " 276: 'wpf',\n",
       " 277: 'data',\n",
       " 278: 'httppost',\n",
       " 279: 'comobject',\n",
       " 280: '80070776',\n",
       " 281: 'fabricjs',\n",
       " 282: 'controls',\n",
       " 283: 'behind',\n",
       " 284: 'overlay',\n",
       " 285: 'free',\n",
       " 286: 'c',\n",
       " 287: 'c++',\n",
       " 288: 'refactoring',\n",
       " 289: 'tool',\n",
       " 290: 'visual',\n",
       " 291: 'studio',\n",
       " 292: '2012',\n",
       " 293: 'drawbacks',\n",
       " 294: 'jasper',\n",
       " 295: 'reports',\n",
       " 296: 'runtime',\n",
       " 297: 'support',\n",
       " 298: 'property',\n",
       " 299: 'method',\n",
       " 300: 'sooperfish',\n",
       " 301: 'sort',\n",
       " 302: 'numeric',\n",
       " 303: 'datatables',\n",
       " 304: '2015',\n",
       " 305: 'nonstandard',\n",
       " 306: 'syntax',\n",
       " 307: 'use',\n",
       " 308: 'pointer',\n",
       " 309: 'member',\n",
       " 310: 'click',\n",
       " 311: 'event',\n",
       " 312: 'chrome',\n",
       " 313: 'extensions',\n",
       " 314: 'background',\n",
       " 315: 'page',\n",
       " 316: 'drawing',\n",
       " 317: 'line',\n",
       " 318: 'divs',\n",
       " 319: 'pdf',\n",
       " 320: 'thumbnails',\n",
       " 321: 'like',\n",
       " 322: 'ibooks',\n",
       " 323: 'ipad',\n",
       " 324: 'iphone',\n",
       " 325: 'passing',\n",
       " 326: '2d',\n",
       " 327: 'char',\n",
       " 328: 'static',\n",
       " 329: 'library',\n",
       " 330: 'linking',\n",
       " 331: 'express',\n",
       " 332: '2008',\n",
       " 333: 'clob',\n",
       " 334: 'hibernate',\n",
       " 335: 'oracle',\n",
       " 336: 'control',\n",
       " 337: 'collection',\n",
       " 338: 'mp3',\n",
       " 339: 'player',\n",
       " 340: 'grooveshark',\n",
       " 341: 'routing',\n",
       " 342: '3',\n",
       " 343: 'issue',\n",
       " 344: 'binary',\n",
       " 345: 'entity',\n",
       " 346: 'servlet',\n",
       " 347: 'multipartentity',\n",
       " 348: 'let',\n",
       " 349: 'many',\n",
       " 350: 'expressions',\n",
       " 351: 'memorystream',\n",
       " 352: 'namespace',\n",
       " 353: 'check',\n",
       " 354: 'conditional',\n",
       " 355: 'compilation',\n",
       " 356: 'symbols',\n",
       " 357: 'inconsistent',\n",
       " 358: 'return',\n",
       " 359: 'points',\n",
       " 360: 'restful',\n",
       " 361: 'api',\n",
       " 362: 'bundle',\n",
       " 363: 'redistributable',\n",
       " 364: 'dlls',\n",
       " 365: 'datagrid',\n",
       " 366: 'add',\n",
       " 367: 'checkbox',\n",
       " 368: 'header',\n",
       " 369: 'latitude',\n",
       " 370: 'longitude',\n",
       " 371: 'airport',\n",
       " 372: 'doevents',\n",
       " 373: 'dll',\n",
       " 374: 'mvvm',\n",
       " 375: 'linqtosql',\n",
       " 376: 'block',\n",
       " 377: 'outgoing',\n",
       " 378: 'tcp',\n",
       " 379: 'connection',\n",
       " 380: 'given',\n",
       " 381: 'host',\n",
       " 382: 'ip',\n",
       " 383: 'open',\n",
       " 384: 'source',\n",
       " 385: 'openssl',\n",
       " 386: 'bnh',\n",
       " 387: 'dot',\n",
       " 388: 'node',\n",
       " 389: 'lefthandside',\n",
       " 390: 'hql',\n",
       " 391: 'join',\n",
       " 392: 'whats',\n",
       " 393: 'good',\n",
       " 394: 'way',\n",
       " 395: 'backbonejs',\n",
       " 396: 'project',\n",
       " 397: 'representation',\n",
       " 398: 'cap',\n",
       " 399: 'deploymigrations',\n",
       " 400: 'allowed',\n",
       " 401: '1',\n",
       " 402: 'psychsyntaxerror',\n",
       " 403: 'accomplish',\n",
       " 404: 'asynchronous',\n",
       " 405: 'animations',\n",
       " 406: 'assets',\n",
       " 407: '4',\n",
       " 408: 'public',\n",
       " 409: 'directory',\n",
       " 410: 'tlb',\n",
       " 411: 'webapi',\n",
       " 412: 'route',\n",
       " 413: 'attribute',\n",
       " 414: 'joomla',\n",
       " 415: '25',\n",
       " 416: 'fetch',\n",
       " 417: 'module',\n",
       " 418: 'suffix',\n",
       " 419: 'display',\n",
       " 420: 'phtml',\n",
       " 421: 'pages',\n",
       " 422: 'magento',\n",
       " 423: 'design',\n",
       " 424: '2columnsright',\n",
       " 425: 'local',\n",
       " 426: 'txt',\n",
       " 427: 'side',\n",
       " 428: 'switch',\n",
       " 429: 'statement',\n",
       " 430: 'redirection',\n",
       " 431: 'make',\n",
       " 432: 'full',\n",
       " 433: 'without',\n",
       " 434: 'resizing',\n",
       " 435: 'cropping',\n",
       " 436: 'know',\n",
       " 437: 'clicking',\n",
       " 438: 'transparent',\n",
       " 439: 'nontransparent',\n",
       " 440: 'part',\n",
       " 441: 'png',\n",
       " 442: 'item',\n",
       " 443: 'django',\n",
       " 444: 'admin',\n",
       " 445: 'inline',\n",
       " 446: 'buttons',\n",
       " 447: 'current',\n",
       " 448: 'main',\n",
       " 449: 'directorys',\n",
       " 450: 'response',\n",
       " 451: 'displaying',\n",
       " 452: 'uilabel',\n",
       " 453: 'documentready',\n",
       " 454: 'inside',\n",
       " 455: 'iframe',\n",
       " 456: 'every',\n",
       " 457: 'pixel',\n",
       " 458: 'specific',\n",
       " 459: 'color',\n",
       " 460: 'simulating',\n",
       " 461: 'continue',\n",
       " 462: 'break',\n",
       " 463: 'lambdabased',\n",
       " 464: 'foreach',\n",
       " 465: 'loops',\n",
       " 466: 'decimal',\n",
       " 467: 'validation',\n",
       " 468: 'allowing',\n",
       " 469: 'two',\n",
       " 470: 'digits',\n",
       " 471: 'point',\n",
       " 472: 'keypress',\n",
       " 473: 'canvas',\n",
       " 474: 'functions',\n",
       " 475: 'global',\n",
       " 476: 'contact',\n",
       " 477: 'form',\n",
       " 478: 'emails',\n",
       " 479: 'sent',\n",
       " 480: 'due',\n",
       " 481: 'spam',\n",
       " 482: 'filtering',\n",
       " 483: 'referenceerror',\n",
       " 484: 'defined',\n",
       " 485: 'detect',\n",
       " 486: 'nsarray',\n",
       " 487: 'objc',\n",
       " 488: 'nsmutablearray',\n",
       " 489: 'duplicates',\n",
       " 490: 'outofmemoryerror',\n",
       " 491: 'reading',\n",
       " 492: 'huge',\n",
       " 493: 'csv',\n",
       " 494: 'superview',\n",
       " 495: 'uitableviewcell',\n",
       " 496: 'vb',\n",
       " 497: 'rename',\n",
       " 498: 'also',\n",
       " 499: 'renaming',\n",
       " 500: 'calls',\n",
       " 501: 'shared',\n",
       " 502: 'methods',\n",
       " 503: 'configuration',\n",
       " 504: 'construct',\n",
       " 505: 'symfony',\n",
       " 506: '14',\n",
       " 507: 'field',\n",
       " 508: 'html',\n",
       " 509: 'exec',\n",
       " 510: 'call',\n",
       " 511: 'tmp',\n",
       " 512: 'uploads',\n",
       " 513: 'wont',\n",
       " 514: 'running',\n",
       " 515: 'task',\n",
       " 516: 'async',\n",
       " 517: 'unittest',\n",
       " 518: 'blocks',\n",
       " 519: 'doctrine',\n",
       " 520: 'always',\n",
       " 521: 'regenerating',\n",
       " 522: 'checked',\n",
       " 523: 'insert',\n",
       " 524: 'different',\n",
       " 525: 'forms',\n",
       " 526: 'integer',\n",
       " 527: 'requires',\n",
       " 528: 'twice',\n",
       " 529: 'nextline',\n",
       " 530: 'repeats',\n",
       " 531: 'deal',\n",
       " 532: 'time',\n",
       " 533: 'series',\n",
       " 534: 'generate',\n",
       " 535: 'equivalent',\n",
       " 536: 'instrrev',\n",
       " 537: 'difference',\n",
       " 538: 'elements',\n",
       " 539: 'must',\n",
       " 540: 'consist',\n",
       " 541: 'wellformed',\n",
       " 542: 'markup',\n",
       " 543: 'binding',\n",
       " 544: 'creation',\n",
       " 545: 'stateless',\n",
       " 546: 'session',\n",
       " 547: 'bean',\n",
       " 548: 'delete',\n",
       " 549: 'google',\n",
       " 550: 'visualizations',\n",
       " 551: 'cast',\n",
       " 552: 'bool',\n",
       " 553: 'vice',\n",
       " 554: 'versa',\n",
       " 555: 'g++',\n",
       " 556: 'hello',\n",
       " 557: 'world',\n",
       " 558: 'maybe',\n",
       " 559: 'javalangnoclassdeffounderror',\n",
       " 560: 'com',\n",
       " 561: 'inject',\n",
       " 562: 'guiceservletcontextlistener',\n",
       " 563: 'needs',\n",
       " 564: 'injected',\n",
       " 565: 'facebook',\n",
       " 566: 'req_perms',\n",
       " 567: 'ext_perms',\n",
       " 568: 'datagridview',\n",
       " 569: 'new',\n",
       " 570: 'flasksqlalchemy',\n",
       " 571: 'postgresql',\n",
       " 572: 'define',\n",
       " 573: 'schema',\n",
       " 574: 'ppb_graphics2dpaintimagedata',\n",
       " 575: 'rectangle',\n",
       " 576: 'outside',\n",
       " 577: 'bounds',\n",
       " 578: 'types',\n",
       " 579: 'bindparam',\n",
       " 580: 'hinputtext',\n",
       " 581: 'nested',\n",
       " 582: 'hdatatable',\n",
       " 583: 'update',\n",
       " 584: 'rake',\n",
       " 585: 'dbmigrate',\n",
       " 586: 'dont',\n",
       " 587: 'rangeerror',\n",
       " 588: 'maximum',\n",
       " 589: 'stack',\n",
       " 590: 'size',\n",
       " 591: 'exceeded',\n",
       " 592: 'arrayforeach',\n",
       " 593: 'uploaded',\n",
       " 594: 'search',\n",
       " 595: 'result',\n",
       " 596: 'percentage',\n",
       " 597: 'match',\n",
       " 598: 'linq',\n",
       " 599: 'sql',\n",
       " 600: 'change',\n",
       " 601: 'font',\n",
       " 602: 'uitextfield',\n",
       " 603: 'pinch',\n",
       " 604: 'sticky',\n",
       " 605: 'footer',\n",
       " 606: 'help',\n",
       " 607: 'channel',\n",
       " 608: 'opencart',\n",
       " 609: 'framework',\n",
       " 610: 'alternate',\n",
       " 611: 'colors',\n",
       " 612: 'stacked',\n",
       " 613: 'bar',\n",
       " 614: 'graph',\n",
       " 615: 'twisted',\n",
       " 616: 'celery',\n",
       " 617: 'right',\n",
       " 618: 'lots',\n",
       " 619: 'soap',\n",
       " 620: 'yii',\n",
       " 621: 'setting',\n",
       " 622: 'nginx',\n",
       " 623: 'yii2user',\n",
       " 624: 'user',\n",
       " 625: 'registration',\n",
       " 626: 'yii2',\n",
       " 627: 'double',\n",
       " 628: 'interview',\n",
       " 629: 'questions',\n",
       " 630: 'book',\n",
       " 631: 'append',\n",
       " 632: 'id',\n",
       " 633: 'url',\n",
       " 634: 'importing',\n",
       " 635: 'packages',\n",
       " 636: 'app',\n",
       " 637: 'engine',\n",
       " 638: 'divide',\n",
       " 639: 'columns',\n",
       " 640: 'dynamically',\n",
       " 641: 'animate',\n",
       " 642: 'backgroundcolor',\n",
       " 643: 'xml',\n",
       " 644: 'xcode',\n",
       " 645: 'pressed',\n",
       " 646: 'datasource',\n",
       " 647: 'lose',\n",
       " 648: 'viewstate',\n",
       " 649: 'uidatepicker',\n",
       " 650: 'month',\n",
       " 651: 'year',\n",
       " 652: 'rails',\n",
       " 653: 'action',\n",
       " 654: 'redirect_to',\n",
       " 655: 'refresh',\n",
       " 656: 'details',\n",
       " 657: 'catch',\n",
       " 658: 'swift',\n",
       " 659: 'simple',\n",
       " 660: 'sample',\n",
       " 661: 'regex',\n",
       " 662: 'replacing',\n",
       " 663: 'src',\n",
       " 664: 'move',\n",
       " 665: 'qcolumnview',\n",
       " 666: 'hangs',\n",
       " 667: 'loop',\n",
       " 668: 'childnode',\n",
       " 669: 'position',\n",
       " 670: 'element',\n",
       " 671: 'singleelement',\n",
       " 672: 'nodejs',\n",
       " 673: 'mongoose',\n",
       " 674: 'recover',\n",
       " 675: '_id',\n",
       " 676: 'sqlite3operationalerror',\n",
       " 677: 'unable',\n",
       " 678: 'phpunit',\n",
       " 679: 'symfony2',\n",
       " 680: 'pgerror',\n",
       " 681: 'unrecognized',\n",
       " 682: 'zone',\n",
       " 683: 'utc',\n",
       " 684: 'cordova',\n",
       " 685: 'ionic',\n",
       " 686: 'back',\n",
       " 687: 'blank',\n",
       " 688: 'fields',\n",
       " 689: 'run',\n",
       " 690: 'mssql',\n",
       " 691: 'trigger',\n",
       " 692: 'map',\n",
       " 693: 'resize',\n",
       " 694: 'uimap',\n",
       " 695: 'directive',\n",
       " 696: 'rendered',\n",
       " 697: 'sum',\n",
       " 698: 'prime',\n",
       " 699: 'numbers',\n",
       " 700: 'sdk',\n",
       " 701: 'generic',\n",
       " 702: 'manually',\n",
       " 703: 'bitwise',\n",
       " 704: 'perform',\n",
       " 705: 'float',\n",
       " 706: 'x',\n",
       " 707: 'submit',\n",
       " 708: 'showing',\n",
       " 709: 'smashing',\n",
       " 710: 'detected',\n",
       " 711: 'aout',\n",
       " 712: 'terminated',\n",
       " 713: 'aborted',\n",
       " 714: 'core',\n",
       " 715: 'dumped',\n",
       " 716: 'pop',\n",
       " 717: 'box',\n",
       " 718: 'cells',\n",
       " 719: 'hidden',\n",
       " 720: 'total',\n",
       " 721: '100',\n",
       " 722: 'fancybox',\n",
       " 723: 'combining',\n",
       " 724: 'images',\n",
       " 725: 'iframes',\n",
       " 726: 'gallery',\n",
       " 727: 'happens',\n",
       " 728: 'memory',\n",
       " 729: 'instantiated',\n",
       " 730: 'customizing',\n",
       " 731: 'activerecord',\n",
       " 732: 'union',\n",
       " 733: 'debug',\n",
       " 734: 'flaskapp',\n",
       " 735: '2x',\n",
       " 736: 'thats',\n",
       " 737: 'gunicorn',\n",
       " 738: 'loading',\n",
       " 739: 'rmi',\n",
       " 740: 'localhost',\n",
       " 741: 'home',\n",
       " 742: 'network',\n",
       " 743: 'correct',\n",
       " 744: 'remote',\n",
       " 745: 'firing',\n",
       " 746: '403',\n",
       " 747: 'img',\n",
       " 748: 'updating',\n",
       " 749: 'jtable',\n",
       " 750: 'setdatavector',\n",
       " 751: 'xaml',\n",
       " 752: 'textbox',\n",
       " 753: 'textarea',\n",
       " 754: 'based',\n",
       " 755: 'widget',\n",
       " 756: 'recognizing',\n",
       " 757: 'databases',\n",
       " 758: 'automapper',\n",
       " 759: 'mapping',\n",
       " 760: 'collections',\n",
       " 761: 'would',\n",
       " 762: 'want',\n",
       " 763: 'itertoolsislice',\n",
       " 764: 'instead',\n",
       " 765: 'normal',\n",
       " 766: 'slicing',\n",
       " 767: 'locate',\n",
       " 768: 'compile',\n",
       " 769: 'qt',\n",
       " 770: 'material',\n",
       " 771: 'focused',\n",
       " 772: 'dragging',\n",
       " 773: 'overriding',\n",
       " 774: 'browsers',\n",
       " 775: 'keyboard',\n",
       " 776: 'shortcuts',\n",
       " 777: 'access',\n",
       " 778: 'phpmyadmin',\n",
       " 779: 'command',\n",
       " 780: 'avoid',\n",
       " 781: 'responseend',\n",
       " 782: 'thread',\n",
       " 783: 'download',\n",
       " 784: 'weblogic',\n",
       " 785: '12c',\n",
       " 786: 'upgrade',\n",
       " 787: 'ensure',\n",
       " 788: 'annotations',\n",
       " 789: 'orgapachetaglibsstandardtagelcorewhentag',\n",
       " 790: 'vaadin',\n",
       " 791: 'servletexception',\n",
       " 792: 'applying',\n",
       " 793: 'tkinter',\n",
       " 794: 'contains',\n",
       " 795: 'writing',\n",
       " 796: 'program',\n",
       " 797: 'shell',\n",
       " 798: 'functionality',\n",
       " 799: 'netcat',\n",
       " 800: 'console',\n",
       " 801: 'vs',\n",
       " 802: 'appml',\n",
       " 803: '+android',\n",
       " 804: 'webview',\n",
       " 805: 'autoscroll',\n",
       " 806: 'stream',\n",
       " 807: 'cameras',\n",
       " 808: 'jpanel',\n",
       " 809: 'grids',\n",
       " 810: 'opencv',\n",
       " 811: 'sqlalchemy',\n",
       " 812: 'unicode',\n",
       " 813: 'idisposable',\n",
       " 814: 'proper',\n",
       " 815: 'usage',\n",
       " 816: 'dispose',\n",
       " 817: 'takes',\n",
       " 818: 'across',\n",
       " 819: 'slides',\n",
       " 820: 'ppt',\n",
       " 821: 'apache',\n",
       " 822: 'poi',\n",
       " 823: 'emulator',\n",
       " 824: 'launching',\n",
       " 825: 'implementing',\n",
       " 826: 'jacobi',\n",
       " 827: 'algorithm',\n",
       " 828: 'implement',\n",
       " 829: 'laplace',\n",
       " 830: 'equation',\n",
       " 831: 'jni',\n",
       " 832: 'prevent',\n",
       " 833: 'process',\n",
       " 834: 'dock',\n",
       " 835: 'avoiding',\n",
       " 836: 'script',\n",
       " 837: 'dialog',\n",
       " 838: 'intervals',\n",
       " 839: 'phpstorm',\n",
       " 840: 'unresolved',\n",
       " 841: 'resolve',\n",
       " 842: 'output',\n",
       " 843: 'jaxb',\n",
       " 844: 'javaawtcontainer',\n",
       " 845: 'uncheck',\n",
       " 846: 'checkboxes',\n",
       " 847: 'attempting',\n",
       " 848: 'install',\n",
       " 849: '7',\n",
       " 850: '64bit',\n",
       " 851: 'tag',\n",
       " 852: 'real',\n",
       " 853: 'enumerating',\n",
       " 854: 'reload',\n",
       " 855: 'ios',\n",
       " 856: 'ui',\n",
       " 857: 'trying',\n",
       " 858: 'li',\n",
       " 859: 'disabled',\n",
       " 860: 'socket',\n",
       " 861: 'listbox',\n",
       " 862: 'selection',\n",
       " 863: 'spot',\n",
       " 864: 'netbeans',\n",
       " 865: 'adding',\n",
       " 866: 'columng',\n",
       " 867: 'headers',\n",
       " 868: 'jqgrid',\n",
       " 869: 'arabic',\n",
       " 870: 'keywords',\n",
       " 871: 'clicktochange',\n",
       " 872: 'fix',\n",
       " 873: 'bot',\n",
       " 874: 'connecting',\n",
       " 875: 'discord',\n",
       " 876: 'phpini',\n",
       " 877: 'multidimensional',\n",
       " 878: 'arrays',\n",
       " 879: 'countdown',\n",
       " 880: 'timer',\n",
       " 881: 'velocity',\n",
       " 882: 'rigidbody',\n",
       " 883: 'workbookgetworkbook',\n",
       " 884: 'jexcel',\n",
       " 885: 'various',\n",
       " 886: 'scopes',\n",
       " 887: 'nsstring',\n",
       " 888: 'number',\n",
       " 889: 'restrictions',\n",
       " 890: 'pathelement',\n",
       " 891: 'attributes',\n",
       " 892: 'path',\n",
       " 893: 'location',\n",
       " 894: 'ant',\n",
       " 895: 'names',\n",
       " 896: 'tuple',\n",
       " 897: 'unix',\n",
       " 898: 'flat',\n",
       " 899: 'unbind',\n",
       " 900: 'singleton',\n",
       " 901: 'populated',\n",
       " 902: 'temporarily',\n",
       " 903: 'dom',\n",
       " 904: 'emberjs',\n",
       " 905: 'includes',\n",
       " 906: 'to_json',\n",
       " 907: 'include',\n",
       " 908: 'relations',\n",
       " 909: 'encrypt',\n",
       " 910: 'directorynotfoundexception',\n",
       " 911: 'programdata',\n",
       " 912: 'vista',\n",
       " 913: 'could',\n",
       " 914: 'winioerror',\n",
       " 915: 'sencha',\n",
       " 916: 'touch',\n",
       " 917: 'store',\n",
       " 918: 'sqlstate',\n",
       " 919: '42000',\n",
       " 920: 'violation',\n",
       " 921: '1064',\n",
       " 922: 'password',\n",
       " 923: 'redirect',\n",
       " 924: 'nodes',\n",
       " 925: 'range',\n",
       " 926: 'retrieving',\n",
       " 927: 'hashmap',\n",
       " 928: 'isrowversion',\n",
       " 929: 'configured',\n",
       " 930: 'byte',\n",
       " 931: 'properties',\n",
       " 932: 'survdiff',\n",
       " 933: 'returned',\n",
       " 934: 'p',\n",
       " 935: 'length',\n",
       " 936: 'exceeds',\n",
       " 937: 'chain',\n",
       " 938: 'autowiring',\n",
       " 939: 'linux',\n",
       " 940: 'cython',\n",
       " 941: 'lists',\n",
       " 942: 'unlike',\n",
       " 943: 'pythonlists',\n",
       " 944: 'symbol',\n",
       " 945: 'polyline',\n",
       " 946: 'svg',\n",
       " 947: 'httpresponseredirect',\n",
       " 948: 'objectivec',\n",
       " 949: 'declare',\n",
       " 950: 'carray',\n",
       " 951: 'floats',\n",
       " 952: 'hints',\n",
       " 953: 'jpa',\n",
       " 954: 'duplicate',\n",
       " 955: 'testing',\n",
       " 956: 'big',\n",
       " 957: 'tecplot',\n",
       " 958: 'fast',\n",
       " 959: 'possible',\n",
       " 960: 'translate',\n",
       " 961: 'choices',\n",
       " 962: 'frames',\n",
       " 963: 'dynamicupdate',\n",
       " 964: 'dynamicinsert',\n",
       " 965: 'performance',\n",
       " 966: 'effects',\n",
       " 967: 'expression',\n",
       " 968: 'implicitly',\n",
       " 969: 'coerced',\n",
       " 970: 'models',\n",
       " 971: '18',\n",
       " 972: 'apps',\n",
       " 973: 'foreignkey',\n",
       " 974: 'references',\n",
       " 975: 'configurationerrorsexception',\n",
       " 976: 'unhandled',\n",
       " 977: 'rows',\n",
       " 978: 'rpt',\n",
       " 979: 'onclick',\n",
       " 980: 'isometric',\n",
       " 981: 'grid',\n",
       " 982: 'screen',\n",
       " 983: 'space',\n",
       " 984: 'coords',\n",
       " 985: 'buffer',\n",
       " 986: 'around',\n",
       " 987: 'draw',\n",
       " 988: 'semicircle',\n",
       " 989: 'microsoft',\n",
       " 990: 'jdbc',\n",
       " 991: 'applet',\n",
       " 992: 'integers',\n",
       " 993: 'storing',\n",
       " 994: 'nsfastenumerationiteratorelement',\n",
       " 995: 'aka',\n",
       " 996: 'subscript',\n",
       " 997: 'members',\n",
       " 998: 'existing',\n",
       " 999: 'ipython',\n",
       " ...}"
      ]
     },
     "execution_count": 97,
     "metadata": {},
     "output_type": "execute_result"
    }
   ],
   "source": [
    "Ind2word_no_pad"
   ]
  },
  {
   "cell_type": "code",
   "execution_count": 89,
   "id": "cc65abbe-27eb-41a9-b364-9b04f81e375f",
   "metadata": {},
   "outputs": [],
   "source": [
    "pca_obj.fit(all_embedings_for_model)"
   ]
  },
  {
   "cell_type": "code",
   "execution_count": 91,
   "id": "f80983ef-8938-4f43-a4c2-1a457fa34614",
   "metadata": {},
   "outputs": [],
   "source": [
    "word_embedings_pca = pca_obj.pca_transform(all_embedings_for_model)"
   ]
  },
  {
   "cell_type": "code",
   "execution_count": 93,
   "id": "990c520b-5647-43e0-990d-3180eb628676",
   "metadata": {},
   "outputs": [
    {
     "data": {
      "image/png": "[encoded data removed]",
      "text/plain": [
       "<Figure size 640x480 with 1 Axes>"
      ]
     },
     "metadata": {},
     "output_type": "display_data"
    }
   ],
   "source": [
    "pca_obj.plot_explained_varience(all_embedings_for_model)"
   ]
  },
  {
   "cell_type": "code",
   "execution_count": 101,
   "id": "fb6cc130-cdbe-4f1a-af80-8fc3de20276b",
   "metadata": {},
   "outputs": [
    {
     "data": {
      "image/png": "[encoded data removed]",
      "text/plain": [
       "<Figure size 640x480 with 1 Axes>"
      ]
     },
     "metadata": {},
     "output_type": "display_data"
    }
   ],
   "source": [
    "word_embedings_pca_2_comp = pca_obj.pca_transform(all_embedings_for_model, 2)\n",
    "pca_obj.plot_some_data(word_embedings_pca_2_comp, word2Ind_no_pad, ['python','c','c++','c#','objectivec','sql','vba','get','java', 'android'])"
   ]
  },
  {
   "cell_type": "code",
   "execution_count": 219,
   "id": "7fdf25cf-5e60-4909-9a4d-b3bed9868c45",
   "metadata": {},
   "outputs": [],
   "source": [
    "embedings_means_for_model = np.mean(word_embedings[1:,:46],axis = 1)"
   ]
  },
  {
   "cell_type": "code",
   "execution_count": 191,
   "id": "74d5725a-12d8-4c60-b41d-fb2e4c41b1b8",
   "metadata": {},
   "outputs": [],
   "source": [
    "def transform_to_vector(data_to_transform, word2num_dictionary, embeding_matrix):\n",
    "    length_rows = len(data_to_transform)\n",
    "    length_col = embeding_matrix.shape[0]\n",
    "    TF_matrix = sp_sparse.lil_matrix((length_rows,length_col))\n",
    "    for row,sent in enumerate(data_to_transform):\n",
    "        for word in sent.split():\n",
    "            if word in list(word2num_dictionary.keys()):\n",
    "                num_of_word = word2num_dictionary.get(word,0)\n",
    "                TF_matrix[row,num_of_word] = embeding_matrix[num_of_word]\n",
    "    \n",
    "    return TF_matrix"
   ]
  },
  {
   "cell_type": "code",
   "execution_count": 223,
   "id": "b8640e6c-206f-49f2-81e3-483662123bb1",
   "metadata": {},
   "outputs": [],
   "source": [
    "X_train_cbow = transform_to_vector(X_train, word2Ind_no_pad, embedings_means_for_model)\n",
    "X_test_cbow = transform_to_vector(X_test, word2Ind_no_pad, embedings_means_for_model)"
   ]
  },
  {
   "cell_type": "markdown",
   "id": "52720152",
   "metadata": {},
   "source": [
    "<a name=\"3\"></a>\n",
    "## 3 - Model creation and evaluation"
   ]
  },
  {
   "cell_type": "code",
   "execution_count": 40,
   "id": "defcfbe9",
   "metadata": {},
   "outputs": [],
   "source": [
    "import Binarizer as binar"
   ]
  },
  {
   "cell_type": "code",
   "execution_count": 42,
   "id": "a799b041",
   "metadata": {},
   "outputs": [],
   "source": [
    "bnr = binar.Binarizer()\n",
    "bnr.fit(y_train)\n",
    "y_train_mat = bnr.transform(y_train)\n",
    "y_test_mat = bnr.transform(y_test)"
   ]
  },
  {
   "cell_type": "code",
   "execution_count": 44,
   "id": "6e81f9d8-d81b-4a05-ab3f-cb0d57b84ac9",
   "metadata": {},
   "outputs": [],
   "source": [
    "import Logistic_Reg as LR"
   ]
  },
  {
   "cell_type": "code",
   "execution_count": 46,
   "id": "0a2fc597-0ad1-4568-98b1-fd7807d70f4d",
   "metadata": {},
   "outputs": [],
   "source": [
    "lib = \"/Users/sergeiakhmadulin/Library/CloudStorage/GoogleDrive-akhmadulinsergey@gmail.com/My Drive/Simple NLP/\"\n",
    "\n",
    "def train_model(model, model_name, x_train, y_train, x_test, batchsize = None, resume_training = False, save_results = True):\n",
    "    if resume_training:\n",
    "        try:\n",
    "            all_weights = np.load(lib + 'all_weights_'+ model_name +'.npy',allow_pickle='TRUE').item()\n",
    "            all_preds = np.load(lib + 'all_preds_'+ model_name +'.npy')\n",
    "            all_preds_train = np.load(lib + 'all_preds_train_'+ model_name +'.npy')\n",
    "            starting_point = all_weights['w'].shape[0]\n",
    "            if starting_point == y_train.shape[1]:\n",
    "                print(\"All models trained\")\n",
    "                return all_weights, all_preds\n",
    "\n",
    "        except (FileNotFoundError, IOError):\n",
    "            starting_point = 0\n",
    "    else:\n",
    "        starting_point = 0\n",
    "\n",
    "    for i in range(starting_point, y_train.shape[1]):\n",
    "        model.fit(x_train, y_train[:,i, None],batchsize = batchsize)\n",
    "        weights = model.get_param()\n",
    "        predictions = model.predict_proba(x_test)\n",
    "        predictions_train = model.predict_proba(x_train)\n",
    "        if i == 0:\n",
    "            all_weights = weights\n",
    "            all_preds = predictions\n",
    "            all_preds_train = predictions_train\n",
    "        else:\n",
    "            all_weights = {key:np.concatenate(([all_weights[key],weights[key]]), axis=0) for key in all_weights.keys()}\n",
    "            all_preds = np.concatenate((all_preds ,predictions), axis=1)\n",
    "            all_preds_train = np.concatenate((all_preds_train ,predictions_train), axis=1)\n",
    "        if save_results:\n",
    "            np.save(lib + 'all_weights_'+ model_name +'.npy', all_weights)\n",
    "            np.save(lib + 'all_preds_'+ model_name +'.npy', all_preds)\n",
    "            np.save(lib + 'all_preds_train_'+ model_name +'.npy', all_preds_train)\n",
    "            print(\"data stored\", i)\n",
    "\n",
    "    print(\"All models trained\")\n",
    "    return all_preds, all_weights"
   ]
  },
  {
   "cell_type": "markdown",
   "id": "6d110ce2",
   "metadata": {},
   "source": [
    "<a name=\"3.1\"></a>\n",
    "## 3.1 - BOW model"
   ]
  },
  {
   "cell_type": "code",
   "execution_count": 186,
   "id": "dd455cf9-cc88-44d5-8e32-db179511a651",
   "metadata": {},
   "outputs": [],
   "source": [
    "Log_reg = LR.MyLogisticRegression(learning_rate = 0.01, num_iterations = 50)\n",
    "model_name = \"BOW\""
   ]
  },
  {
   "cell_type": "code",
   "execution_count": 474,
   "id": "86c570f5-d652-4ae0-b798-1d70a8fec69d",
   "metadata": {
    "scrolled": true
   },
   "outputs": [
    {
     "name": "stdout",
     "output_type": "stream",
     "text": [
      "data stored 0\n",
      "data stored 1\n",
      "data stored 2\n",
      "data stored 3\n",
      "data stored 4\n",
      "data stored 5\n",
      "data stored 6\n",
      "data stored 7\n",
      "data stored 8\n",
      "data stored 9\n",
      "data stored 10\n",
      "data stored 11\n",
      "data stored 12\n",
      "data stored 13\n",
      "data stored 14\n",
      "data stored 15\n",
      "data stored 16\n",
      "data stored 17\n",
      "data stored 18\n",
      "data stored 19\n",
      "data stored 20\n",
      "data stored 21\n",
      "data stored 22\n",
      "data stored 23\n",
      "data stored 24\n",
      "data stored 25\n",
      "data stored 26\n",
      "data stored 27\n",
      "data stored 28\n",
      "data stored 29\n",
      "data stored 30\n",
      "data stored 31\n",
      "data stored 32\n",
      "data stored 33\n",
      "data stored 34\n",
      "data stored 35\n",
      "data stored 36\n",
      "data stored 37\n",
      "data stored 38\n",
      "data stored 39\n",
      "data stored 40\n",
      "data stored 41\n",
      "data stored 42\n",
      "data stored 43\n",
      "data stored 44\n",
      "data stored 45\n",
      "data stored 46\n",
      "data stored 47\n",
      "data stored 48\n",
      "data stored 49\n",
      "data stored 50\n",
      "data stored 51\n",
      "data stored 52\n",
      "data stored 53\n",
      "data stored 54\n",
      "data stored 55\n",
      "data stored 56\n",
      "data stored 57\n",
      "data stored 58\n",
      "data stored 59\n",
      "data stored 60\n",
      "data stored 61\n",
      "data stored 62\n",
      "data stored 63\n",
      "data stored 64\n",
      "data stored 65\n",
      "data stored 66\n",
      "data stored 67\n",
      "data stored 68\n",
      "data stored 69\n",
      "data stored 70\n",
      "data stored 71\n",
      "data stored 72\n",
      "data stored 73\n",
      "data stored 74\n",
      "data stored 75\n",
      "data stored 76\n",
      "data stored 77\n",
      "data stored 78\n",
      "data stored 79\n",
      "data stored 80\n",
      "data stored 81\n",
      "data stored 82\n",
      "data stored 83\n",
      "data stored 84\n",
      "data stored 85\n",
      "data stored 86\n",
      "data stored 87\n",
      "data stored 88\n",
      "data stored 89\n",
      "data stored 90\n",
      "data stored 91\n",
      "data stored 92\n",
      "data stored 93\n",
      "data stored 94\n",
      "data stored 95\n",
      "data stored 96\n",
      "data stored 97\n",
      "data stored 98\n",
      "data stored 99\n",
      "All models trained\n"
     ]
    }
   ],
   "source": [
    "w, p = train_model(Log_reg, model_name, X_train_mybag, y_train_mat, X_test_mybag, resume_training = False)"
   ]
  },
  {
   "cell_type": "code",
   "execution_count": 190,
   "id": "997fc4b6-6b6a-451a-b9d5-d1a53cd9a46d",
   "metadata": {},
   "outputs": [],
   "source": [
    "all_weights_BOW = np.load('all_weights_'+ model_name +'.npy',allow_pickle='TRUE').item()\n",
    "all_preds_test_BOW = np.load('all_preds_'+ model_name +'.npy').astype(np.float16)\n",
    "all_preds_train_BOW = np.load('all_preds_train_'+ model_name +'.npy').astype(np.float16)"
   ]
  },
  {
   "cell_type": "code",
   "execution_count": 192,
   "id": "0fa08df1-f5a6-4486-989a-17d55c5bd864",
   "metadata": {},
   "outputs": [
    {
     "data": {
      "text/plain": [
       "array([[0.1735  , 0.01253 , 0.037   , ..., 0.00863 , 0.0056  , 0.00526 ],\n",
       "       [0.1588  , 0.01074 , 0.0296  , ..., 0.00732 , 0.0046  , 0.004684],\n",
       "       [0.1671  , 0.011154, 0.03001 , ..., 0.00842 , 0.00495 , 0.004604],\n",
       "       ...,\n",
       "       [0.1659  , 0.012245, 0.03397 , ..., 0.00849 , 0.005367, 0.00509 ],\n",
       "       [0.02975 , 0.00813 , 0.02156 , ..., 0.008675, 0.006218, 0.00381 ],\n",
       "       [0.1179  , 0.0109  , 0.02492 , ..., 0.006645, 0.004116, 0.003736]],\n",
       "      dtype=float16)"
      ]
     },
     "execution_count": 192,
     "metadata": {},
     "output_type": "execute_result"
    }
   ],
   "source": [
    "all_preds_test_BOW"
   ]
  },
  {
   "cell_type": "code",
   "execution_count": 251,
   "id": "004e8f8d-2792-4799-aac4-469474e3fb91",
   "metadata": {},
   "outputs": [],
   "source": [
    "import Classification_report as CR\n",
    "rep = CR.Report()"
   ]
  },
  {
   "cell_type": "code",
   "execution_count": 514,
   "id": "a6512c81-333d-477e-b209-577f9f01eec5",
   "metadata": {},
   "outputs": [],
   "source": [
    "#Finding the optimal threshold based on train data\n",
    "FPR, TPR, thresh = dict(), dict(), dict()\n",
    "opt_thresh = []\n",
    "for i in range(y_train_mat.shape[1]):\n",
    "    FPR[i], TPR[i], thresh[i] = rep_BOW.calculate_ROC(y_train_mat[:,i], all_preds_train[:,i])\n",
    "    opt_thresh.append(thresh[i][np.argmax(TPR[i] - FPR[i])])\n",
    "opt_thresh = np.sum(opt_thresh)/y_train_mat.shape[1]"
   ]
  },
  {
   "cell_type": "code",
   "execution_count": 580,
   "id": "cd80d6e6-df85-4349-b862-84498cecc73c",
   "metadata": {},
   "outputs": [
    {
     "name": "stdout",
     "output_type": "stream",
     "text": [
      "               precision   recall   f1-score\n",
      "\n",
      "    micro avg       0.94      0.27      0.41\n",
      "    macro avg       0.26      0.07      0.10\n",
      "    weighted avg    0.69      0.27      0.37\n",
      "\n"
     ]
    }
   ],
   "source": [
    "Y_train_zero_ones = (all_preds_train >= 0.5).astype(int)\n",
    "rep_BOW.calc_metrics(y_train_mat, Y_train_zero_ones)"
   ]
  },
  {
   "cell_type": "code",
   "execution_count": 582,
   "id": "b811760c-ec0e-40fc-876f-a557d5b83304",
   "metadata": {},
   "outputs": [
    {
     "name": "stdout",
     "output_type": "stream",
     "text": [
      "               precision   recall   f1-score\n",
      "\n",
      "    micro avg       0.94      0.27      0.42\n",
      "    macro avg       0.27      0.07      0.10\n",
      "    weighted avg    0.71      0.27      0.37\n",
      "\n"
     ]
    }
   ],
   "source": [
    "Y_test_zero_ones = (all_preds_test >= 0.5).astype(int)\n",
    "rep_BOW.calc_metrics(y_test_mat, Y_test_zero_ones)"
   ]
  },
  {
   "cell_type": "code",
   "execution_count": 612,
   "id": "994e7823-d772-4edd-8bce-433db164b745",
   "metadata": {},
   "outputs": [
    {
     "data": {
      "image/png": "[encoded data removed]",
      "text/plain": [
       "<Figure size 640x480 with 1 Axes>"
      ]
     },
     "metadata": {},
     "output_type": "display_data"
    }
   ],
   "source": [
    "rep_BOW.plot_ROC_curve(y_test_mat, all_preds_test)"
   ]
  },
  {
   "cell_type": "markdown",
   "id": "80539626",
   "metadata": {},
   "source": [
    "<a name=\"3.2\"></a>\n",
    "## 3.2 - Tfidf evaluation"
   ]
  },
  {
   "cell_type": "code",
   "execution_count": 52,
   "id": "c2018094",
   "metadata": {},
   "outputs": [],
   "source": [
    "Log_reg_tfidf = LR.MyLogisticRegression(learning_rate = 1, num_iterations = 50)\n",
    "model_name = \"TFIDF\""
   ]
  },
  {
   "cell_type": "code",
   "execution_count": 50,
   "id": "7f8673f3-ce09-478e-965b-a49bbbe2583c",
   "metadata": {},
   "outputs": [
    {
     "data": {
      "text/plain": [
       "<module 'Logistic_Reg' from '/Users/sergeiakhmadulin/My Drive/Simple NLP/Logistic_Reg.py'>"
      ]
     },
     "execution_count": 50,
     "metadata": {},
     "output_type": "execute_result"
    }
   ],
   "source": [
    "from importlib import reload\n",
    "reload(LR)"
   ]
  },
  {
   "cell_type": "code",
   "execution_count": null,
   "id": "b5bc40bb",
   "metadata": {
    "scrolled": true
   },
   "outputs": [
    {
     "name": "stdout",
     "output_type": "stream",
     "text": [
      "[[ 0.01874138  0.00630206 -0.00246977 ...  0.00479603  0.01624999\n",
      "  -0.00336883]]\n",
      "data stored 0\n",
      "[[-0.00866407 -0.00828572 -0.00528473 ...  0.01025934  0.00666193\n",
      "  -0.00513879]]\n",
      "data stored 1\n",
      "[[ 0.01458438 -0.0014634   0.02739878 ...  0.00166368  0.00793565\n",
      "   0.01001653]]\n",
      "data stored 2\n",
      "[[ 0.00843229 -0.004792    0.02198047 ...  0.00262773  0.01852216\n",
      "   0.00269361]]\n",
      "data stored 3\n",
      "[[-0.00164182  0.00609618 -0.00133547 ...  0.00911157 -0.00257869\n",
      "   0.02353691]]\n",
      "data stored 4\n",
      "[[-0.0073738   0.00050356 -0.0003884  ...  0.00449843 -0.0042739\n",
      "  -0.00800738]]\n",
      "data stored 5\n",
      "[[-0.00974033  0.00640593 -0.00670477 ... -0.0028785  -0.00846947\n",
      "   0.01409349]]\n",
      "data stored 6\n",
      "[[ 2.01507899e-02 -1.09555222e-02 -1.11727710e-02 ...  4.82766831e-03\n",
      "   6.90446530e-05 -2.31155496e-02]]\n",
      "data stored 7\n",
      "[[ 0.00575715  0.01559327  0.01247837 ... -0.01307338 -0.00447883\n",
      "  -0.00894575]]\n",
      "data stored 8\n",
      "[[-0.0202689   0.0046734   0.00367232 ... -0.0140564  -0.01290472\n",
      "  -0.00145575]]\n",
      "data stored 9\n",
      "[[ 0.01925929 -0.00680541 -0.01426278 ... -0.00184075 -0.00781963\n",
      "  -0.00859859]]\n",
      "data stored 10\n",
      "[[-0.01409221  0.00499927 -0.00406351 ... -0.00522468 -0.00563437\n",
      "  -0.00560679]]\n",
      "data stored 11\n",
      "[[ 0.00300289 -0.007911    0.0034803  ...  0.00094299 -0.00801107\n",
      "  -0.00919033]]\n",
      "data stored 12\n",
      "[[ 0.00890622  0.00241848  0.00321177 ...  0.0100388  -0.00982039\n",
      "   0.01142211]]\n",
      "data stored 13\n",
      "[[ 0.0041885   0.00535255  0.01084609 ...  0.00127103 -0.00867602\n",
      "   0.00918275]]\n",
      "data stored 14\n",
      "[[ 0.00669619  0.00854285  0.0027954  ... -0.00144166  0.00081179\n",
      "   0.00551889]]\n",
      "data stored 15\n",
      "[[ 0.00290468 -0.00412603 -0.0134981  ... -0.0098922   0.01105645\n",
      "   0.00106228]]\n",
      "data stored 16\n",
      "[[-0.01472376  0.01299673 -0.00572865 ...  0.0108166   0.00088753\n",
      "   0.01616785]]\n",
      "data stored 17\n",
      "[[-0.01525358 -0.00741726  0.02140945 ... -0.0141806   0.01770055\n",
      "  -0.00418161]]\n",
      "data stored 18\n",
      "[[-0.00860314 -0.02210968 -0.00047213 ... -0.00027977 -0.00081977\n",
      "  -0.00661271]]\n",
      "data stored 19\n",
      "[[-0.00883499 -0.01703456  0.00398639 ...  0.0102149  -0.00867628\n",
      "  -0.00320648]]\n",
      "data stored 20\n",
      "[[-0.01612582  0.00530108 -0.00452789 ...  0.00741471  0.00234014\n",
      "   0.01904011]]\n",
      "data stored 21\n",
      "[[-0.0113627   0.000494    0.01018433 ... -0.01568987  0.01073368\n",
      "  -0.00174644]]\n",
      "data stored 22\n",
      "[[-0.01789993 -0.01011879  0.00718971 ... -0.00213342 -0.01356321\n",
      "  -0.00047886]]\n",
      "data stored 23\n",
      "[[ 6.40618506e-04 -1.55719674e-02 -9.74888378e-03 ...  3.72141987e-03\n",
      "  -3.43477716e-03 -4.21265737e-05]]\n",
      "data stored 24\n",
      "[[ 0.01659502 -0.01549002 -0.01465378 ...  0.00110766  0.01548094\n",
      "  -0.00477383]]\n",
      "data stored 25\n",
      "[[ 0.0178605   0.00314986 -0.00987908 ... -0.00782016 -0.00078617\n",
      "   0.00260484]]\n",
      "data stored 26\n",
      "[[-0.01255703 -0.00914002  0.00952652 ... -0.00057142 -0.00180637\n",
      "   0.01624112]]\n",
      "data stored 27\n",
      "[[-0.00318546 -0.00275876 -0.00207996 ... -0.00305502  0.01040178\n",
      "  -0.00624275]]\n",
      "data stored 28\n",
      "[[-0.00339781  0.00691667 -0.00430048 ... -0.01004677  0.00668276\n",
      "   0.00557808]]\n",
      "data stored 29\n",
      "[[ 0.00890092  0.00488022 -0.00615008 ... -0.00588903 -0.00665537\n",
      "   0.00999019]]\n",
      "data stored 30\n",
      "[[-0.00355995 -0.00167794  0.01283637 ... -0.003638    0.0049882\n",
      "  -0.00940133]]\n",
      "data stored 31\n",
      "[[ 0.01263738  0.00236381 -0.01556718 ... -0.00110641 -0.01678631\n",
      "  -0.00822982]]\n",
      "data stored 32\n",
      "[[-0.00484503 -0.00368887 -0.02094902 ...  0.01633951  0.0091453\n",
      "  -0.01086671]]\n",
      "data stored 33\n",
      "[[-0.00216893  0.01460013  0.02417557 ... -0.00654545  0.00789126\n",
      "   0.00246339]]\n",
      "data stored 34\n",
      "[[-0.01209955  0.00705753  0.0143299  ...  0.01161656  0.00280079\n",
      "  -0.0103892 ]]\n",
      "data stored 35\n",
      "[[-0.02687683  0.00206032  0.00796644 ...  0.0143569  -0.00939107\n",
      "   0.00667015]]\n",
      "data stored 36\n",
      "[[ 0.00432451 -0.00302891  0.01716203 ...  0.00335173 -0.00511705\n",
      "  -0.00870806]]\n",
      "data stored 37\n",
      "[[-0.01006175 -0.00975494  0.00151109 ... -0.01338754 -0.00536381\n",
      "  -0.01579221]]\n",
      "data stored 38\n",
      "[[-0.00123122  0.00103556 -0.00297968 ...  0.00215453 -0.00468818\n",
      "  -0.01195407]]\n",
      "data stored 39\n",
      "[[-0.003655   -0.0042588   0.01366114 ... -0.00211526 -0.00404162\n",
      "   0.00967642]]\n",
      "data stored 40\n",
      "[[-0.00684433  0.02448958  0.02079608 ... -0.01610542  0.00235456\n",
      "  -0.0070941 ]]\n",
      "data stored 41\n",
      "[[ 0.00447    -0.01025726  0.00629174 ... -0.01192947  0.00646465\n",
      "  -0.02196174]]\n",
      "data stored 42\n",
      "[[ 0.00580196  0.00894657 -0.00410889 ... -0.01465973 -0.00665948\n",
      "  -0.00704211]]\n",
      "data stored 43\n",
      "[[-0.00752568 -0.00251206  0.0024119  ...  0.01377521 -0.00274384\n",
      "  -0.0012816 ]]\n",
      "data stored 44\n",
      "[[ 0.00492613 -0.00197618  0.00464173 ...  0.01084182 -0.01017196\n",
      "  -0.0053102 ]]\n",
      "data stored 45\n",
      "[[ 0.01392406 -0.0078166  -0.00137541 ... -0.00272734  0.01319043\n",
      "  -0.00305232]]\n",
      "data stored 46\n",
      "[[-0.00798546 -0.01762081 -0.00345372 ... -0.00323594  0.00139223\n",
      "  -0.00537974]]\n",
      "data stored 47\n",
      "[[-0.00382639 -0.00734732 -0.01498724 ... -0.00456349  0.00873642\n",
      "   0.01366729]]\n",
      "data stored 48\n",
      "[[-0.00812277  0.00630725  0.00279717 ... -0.00619962 -0.00085207\n",
      "  -0.00320462]]\n",
      "data stored 49\n",
      "[[-0.00179991 -0.00381845  0.00097594 ... -0.00577864  0.01185624\n",
      "  -0.00972311]]\n",
      "data stored 50\n",
      "[[ 0.02470786 -0.00215337  0.00754166 ... -0.00398626  0.01419351\n",
      "   0.00478473]]\n",
      "data stored 51\n",
      "[[-0.00212565  0.00697965 -0.01669907 ...  0.00507895 -0.00462185\n",
      "   0.01425616]]\n",
      "data stored 52\n",
      "[[-0.00159531  0.00522048 -0.01312873 ... -0.00404218  0.03483552\n",
      "  -0.01379314]]\n",
      "data stored 53\n",
      "[[-0.00761522 -0.00982201 -0.01481143 ... -0.01618109  0.01396549\n",
      "  -0.00478787]]\n",
      "data stored 54\n",
      "[[-0.00539389  0.00083504 -0.00617803 ... -0.00564366 -0.01102607\n",
      "  -0.00562027]]\n",
      "data stored 55\n",
      "[[-0.00210729  0.01478689  0.0073696  ... -0.00271606  0.006529\n",
      "  -0.00814011]]\n",
      "data stored 56\n",
      "[[-0.01525962  0.00082572 -0.0028278  ...  0.00168187 -0.00255459\n",
      "   0.00676803]]\n",
      "data stored 57\n",
      "[[-0.00484819  0.01260662 -0.01712972 ...  0.00926097  0.01060641\n",
      "  -0.00340458]]\n",
      "data stored 58\n",
      "[[-0.0065211   0.00904431  0.02920423 ... -0.00363556 -0.00907162\n",
      "  -0.00485444]]\n",
      "data stored 59\n",
      "[[-0.00635296  0.00189321 -0.01700355 ... -0.00184517 -0.01080759\n",
      "   0.00508535]]\n",
      "data stored 60\n",
      "[[-0.0132253   0.00523182 -0.01485879 ...  0.0243811   0.0088912\n",
      "   0.00372665]]\n",
      "data stored 61\n",
      "[[ 0.01446452 -0.00801862 -0.01639387 ...  0.0027681  -0.00998228\n",
      "   0.01356727]]\n",
      "data stored 62\n",
      "[[-0.0017182   0.00104714  0.01489428 ... -0.00827002  0.01233033\n",
      "  -0.00727146]]\n",
      "data stored 63\n",
      "[[ 0.00134732 -0.02528539 -0.00375482 ...  0.00200707  0.0030835\n",
      "   0.01014046]]\n"
     ]
    }
   ],
   "source": [
    "w, p = train_model(Log_reg_tfidf, model_name, X_train_tfidf, y_train_mat, X_test_tfidf, batchsize=32, \\\n",
    "                   resume_training = False, save_results = True)"
   ]
  },
  {
   "cell_type": "code",
   "execution_count": 760,
   "id": "d6b291ec-0710-4427-a935-b97e3e274e04",
   "metadata": {},
   "outputs": [],
   "source": [
    "def sigmoid(x, Θ_1, Θ_2):                                                        \n",
    "    z = (Θ_1*x + Θ_2).astype(\"float\")                                              \n",
    "    return 1.0 / (1.0 + np.exp(-z)) "
   ]
  },
  {
   "cell_type": "code",
   "execution_count": 762,
   "id": "d7e9b6f0-bef3-4b0e-9d43-609ab4d0148c",
   "metadata": {},
   "outputs": [],
   "source": [
    "def log_likelihood(x, y, Θ_1, Θ_2):                                                                \n",
    "    sigmoid_probs = sigmoid(x, Θ_1, Θ_2)                                        \n",
    "    return np.sum(y * np.log(sigmoid_probs)\n",
    "                  + (1 - y) * np.log(1 - sigmoid_probs))  "
   ]
  },
  {
   "cell_type": "code",
   "execution_count": 764,
   "id": "bc417e7a-64c5-4c22-a890-66b8b96a34f7",
   "metadata": {},
   "outputs": [],
   "source": [
    "def gradient(x, y, Θ_1, Θ_2):                                                         \n",
    "    sigmoid_probs = sigmoid(x, Θ_1, Θ_2)                                        \n",
    "    return np.array([[np.sum((y - sigmoid_probs) * x),                          \n",
    "                     np.sum((y - sigmoid_probs) * 1)]])                         \n",
    "\n",
    "def hessian(x, y, Θ_1, Θ_2):                                                          \n",
    "    sigmoid_probs = sigmoid(x, Θ_1, Θ_2)                                        \n",
    "    d1 = np.sum((sigmoid_probs * (1 - sigmoid_probs)) * x * x)                  \n",
    "    d2 = np.sum((sigmoid_probs * (1 - sigmoid_probs)) * x * 1)                  \n",
    "    d3 = np.sum((sigmoid_probs * (1 - sigmoid_probs)) * 1 * 1)                  \n",
    "    H = np.array([[d1, d2],[d2, d3]])                                           \n",
    "    return H"
   ]
  },
  {
   "cell_type": "code",
   "execution_count": 772,
   "id": "5cd4037d-1095-436c-af73-69d0300e0586",
   "metadata": {},
   "outputs": [],
   "source": [
    "def newtons_method(x, y):                                                             \n",
    "    \"\"\"\n",
    "    :param x (np.array(float)): Vector of Boston House Values in dollars\n",
    "    :param y (np.array(boolean)): Vector of Bools indicting if house has > 2 bedrooms:\n",
    "    :returns: np.array of logreg's parameters after convergence, [Θ_1, Θ_2]\n",
    "    \"\"\"\n",
    "\n",
    "    # Initialize log_likelihood & parameters                                                                   \n",
    "    Θ_1 = 15.1                                                                     \n",
    "    Θ_2 = -.4 # The intercept term                                                                 \n",
    "    Δl = np.Infinity                                                                \n",
    "    l = log_likelihood(x, y, Θ_1, Θ_2)                                                                 \n",
    "    # Convergence Conditions                                                        \n",
    "    δ = .0000000001                                                                 \n",
    "    max_iterations = 15                                                            \n",
    "    i = 0                                                                           \n",
    "    while abs(Δl) > δ and i < max_iterations:\n",
    "        \n",
    "        i += 1                                                                      \n",
    "        g = gradient(x, y, Θ_1, Θ_2)                                                      \n",
    "        hess = hessian(x, y, Θ_1, Θ_2)                                                 \n",
    "        H_inv = np.linalg.inv(hess)                                                 \n",
    "        # @ is syntactic sugar for np.dot(H_inv, g.T)¹\n",
    "        Δ = H_inv @ g.T                                                             \n",
    "        ΔΘ_1 = Δ[0][0]                                                              \n",
    "        ΔΘ_2 = Δ[1][0]                                                              \n",
    "                                                                                    \n",
    "        # Perform our update step                                                    \n",
    "        Θ_1 += ΔΘ_1                                                                 \n",
    "        Θ_2 += ΔΘ_2                                                                 \n",
    "                                                                                    \n",
    "        # Update the log-likelihood at each iteration                                     \n",
    "        l_new = log_likelihood(x, y, Θ_1, Θ_2)    \n",
    "        print(i,l_new)\n",
    "        Δl = l - l_new                                                           \n",
    "        l = l_new                                                                \n",
    "    return np.array([Θ_1, Θ_2]) "
   ]
  },
  {
   "cell_type": "code",
   "execution_count": 758,
   "id": "8eb58ceb-df6a-4bff-a4e5-9572691c4a40",
   "metadata": {},
   "outputs": [
    {
     "data": {
      "text/plain": [
       "((70000, 25042), (70000, 1))"
      ]
     },
     "execution_count": 758,
     "metadata": {},
     "output_type": "execute_result"
    }
   ],
   "source": [
    "X_train_tf_sc.shape, y_train_mat[:, :1].shape"
   ]
  },
  {
   "cell_type": "code",
   "execution_count": 1,
   "id": "78b8ea7d-7b19-452c-91b4-b4bfe0c6017c",
   "metadata": {},
   "outputs": [
    {
     "ename": "NameError",
     "evalue": "name 'newtons_method' is not defined",
     "output_type": "error",
     "traceback": [
      "\u001b[0;31m---------------------------------------------------------------------------\u001b[0m",
      "\u001b[0;31mNameError\u001b[0m                                 Traceback (most recent call last)",
      "Cell \u001b[0;32mIn[1], line 1\u001b[0m\n\u001b[0;32m----> 1\u001b[0m newtons_method(X_train_tf_sc\u001b[38;5;241m.\u001b[39mA, y_train_mat[:, :\u001b[38;5;241m1\u001b[39m])\n",
      "\u001b[0;31mNameError\u001b[0m: name 'newtons_method' is not defined"
     ]
    }
   ],
   "source": [
    "newtons_method(X_train_tf_sc.A, y_train_mat[:, :1])"
   ]
  },
  {
   "cell_type": "code",
   "execution_count": 651,
   "id": "b0115895-9a8c-4741-8dd2-5a9b0e64750f",
   "metadata": {},
   "outputs": [],
   "source": [
    "from sklearn.multiclass import OneVsRestClassifier\n",
    "from sklearn.linear_model import LogisticRegression, RidgeClassifier"
   ]
  },
  {
   "cell_type": "code",
   "execution_count": 653,
   "id": "a6e3a15d-821b-418d-a787-c66ff0c66d02",
   "metadata": {
    "scrolled": true
   },
   "outputs": [
    {
     "name": "stderr",
     "output_type": "stream",
     "text": [
      "/opt/anaconda3/lib/python3.11/site-packages/sklearn/linear_model/_logistic.py:458: ConvergenceWarning: lbfgs failed to converge (status=1):\n",
      "STOP: TOTAL NO. of ITERATIONS REACHED LIMIT.\n",
      "\n",
      "Increase the number of iterations (max_iter) or scale the data as shown in:\n",
      "    https://scikit-learn.org/stable/modules/preprocessing.html\n",
      "Please also refer to the documentation for alternative solver options:\n",
      "    https://scikit-learn.org/stable/modules/linear_model.html#logistic-regression\n",
      "  n_iter_i = _check_optimize_result(\n",
      "/opt/anaconda3/lib/python3.11/site-packages/sklearn/linear_model/_logistic.py:458: ConvergenceWarning: lbfgs failed to converge (status=1):\n",
      "STOP: TOTAL NO. of ITERATIONS REACHED LIMIT.\n",
      "\n",
      "Increase the number of iterations (max_iter) or scale the data as shown in:\n",
      "    https://scikit-learn.org/stable/modules/preprocessing.html\n",
      "Please also refer to the documentation for alternative solver options:\n",
      "    https://scikit-learn.org/stable/modules/linear_model.html#logistic-regression\n",
      "  n_iter_i = _check_optimize_result(\n",
      "/opt/anaconda3/lib/python3.11/site-packages/sklearn/linear_model/_logistic.py:458: ConvergenceWarning: lbfgs failed to converge (status=1):\n",
      "STOP: TOTAL NO. of ITERATIONS REACHED LIMIT.\n",
      "\n",
      "Increase the number of iterations (max_iter) or scale the data as shown in:\n",
      "    https://scikit-learn.org/stable/modules/preprocessing.html\n",
      "Please also refer to the documentation for alternative solver options:\n",
      "    https://scikit-learn.org/stable/modules/linear_model.html#logistic-regression\n",
      "  n_iter_i = _check_optimize_result(\n",
      "/opt/anaconda3/lib/python3.11/site-packages/sklearn/linear_model/_logistic.py:458: ConvergenceWarning: lbfgs failed to converge (status=1):\n",
      "STOP: TOTAL NO. of ITERATIONS REACHED LIMIT.\n",
      "\n",
      "Increase the number of iterations (max_iter) or scale the data as shown in:\n",
      "    https://scikit-learn.org/stable/modules/preprocessing.html\n",
      "Please also refer to the documentation for alternative solver options:\n",
      "    https://scikit-learn.org/stable/modules/linear_model.html#logistic-regression\n",
      "  n_iter_i = _check_optimize_result(\n",
      "/opt/anaconda3/lib/python3.11/site-packages/sklearn/linear_model/_logistic.py:458: ConvergenceWarning: lbfgs failed to converge (status=1):\n",
      "STOP: TOTAL NO. of ITERATIONS REACHED LIMIT.\n",
      "\n",
      "Increase the number of iterations (max_iter) or scale the data as shown in:\n",
      "    https://scikit-learn.org/stable/modules/preprocessing.html\n",
      "Please also refer to the documentation for alternative solver options:\n",
      "    https://scikit-learn.org/stable/modules/linear_model.html#logistic-regression\n",
      "  n_iter_i = _check_optimize_result(\n",
      "/opt/anaconda3/lib/python3.11/site-packages/sklearn/linear_model/_logistic.py:458: ConvergenceWarning: lbfgs failed to converge (status=1):\n",
      "STOP: TOTAL NO. of ITERATIONS REACHED LIMIT.\n",
      "\n",
      "Increase the number of iterations (max_iter) or scale the data as shown in:\n",
      "    https://scikit-learn.org/stable/modules/preprocessing.html\n",
      "Please also refer to the documentation for alternative solver options:\n",
      "    https://scikit-learn.org/stable/modules/linear_model.html#logistic-regression\n",
      "  n_iter_i = _check_optimize_result(\n",
      "/opt/anaconda3/lib/python3.11/site-packages/sklearn/linear_model/_logistic.py:458: ConvergenceWarning: lbfgs failed to converge (status=1):\n",
      "STOP: TOTAL NO. of ITERATIONS REACHED LIMIT.\n",
      "\n",
      "Increase the number of iterations (max_iter) or scale the data as shown in:\n",
      "    https://scikit-learn.org/stable/modules/preprocessing.html\n",
      "Please also refer to the documentation for alternative solver options:\n",
      "    https://scikit-learn.org/stable/modules/linear_model.html#logistic-regression\n",
      "  n_iter_i = _check_optimize_result(\n",
      "/opt/anaconda3/lib/python3.11/site-packages/sklearn/linear_model/_logistic.py:458: ConvergenceWarning: lbfgs failed to converge (status=1):\n",
      "STOP: TOTAL NO. of ITERATIONS REACHED LIMIT.\n",
      "\n",
      "Increase the number of iterations (max_iter) or scale the data as shown in:\n",
      "    https://scikit-learn.org/stable/modules/preprocessing.html\n",
      "Please also refer to the documentation for alternative solver options:\n",
      "    https://scikit-learn.org/stable/modules/linear_model.html#logistic-regression\n",
      "  n_iter_i = _check_optimize_result(\n",
      "/opt/anaconda3/lib/python3.11/site-packages/sklearn/linear_model/_logistic.py:458: ConvergenceWarning: lbfgs failed to converge (status=1):\n",
      "STOP: TOTAL NO. of ITERATIONS REACHED LIMIT.\n",
      "\n",
      "Increase the number of iterations (max_iter) or scale the data as shown in:\n",
      "    https://scikit-learn.org/stable/modules/preprocessing.html\n",
      "Please also refer to the documentation for alternative solver options:\n",
      "    https://scikit-learn.org/stable/modules/linear_model.html#logistic-regression\n",
      "  n_iter_i = _check_optimize_result(\n",
      "/opt/anaconda3/lib/python3.11/site-packages/sklearn/linear_model/_logistic.py:458: ConvergenceWarning: lbfgs failed to converge (status=1):\n",
      "STOP: TOTAL NO. of ITERATIONS REACHED LIMIT.\n",
      "\n",
      "Increase the number of iterations (max_iter) or scale the data as shown in:\n",
      "    https://scikit-learn.org/stable/modules/preprocessing.html\n",
      "Please also refer to the documentation for alternative solver options:\n",
      "    https://scikit-learn.org/stable/modules/linear_model.html#logistic-regression\n",
      "  n_iter_i = _check_optimize_result(\n",
      "/opt/anaconda3/lib/python3.11/site-packages/sklearn/linear_model/_logistic.py:458: ConvergenceWarning: lbfgs failed to converge (status=1):\n",
      "STOP: TOTAL NO. of ITERATIONS REACHED LIMIT.\n",
      "\n",
      "Increase the number of iterations (max_iter) or scale the data as shown in:\n",
      "    https://scikit-learn.org/stable/modules/preprocessing.html\n",
      "Please also refer to the documentation for alternative solver options:\n",
      "    https://scikit-learn.org/stable/modules/linear_model.html#logistic-regression\n",
      "  n_iter_i = _check_optimize_result(\n",
      "/opt/anaconda3/lib/python3.11/site-packages/sklearn/linear_model/_logistic.py:458: ConvergenceWarning: lbfgs failed to converge (status=1):\n",
      "STOP: TOTAL NO. of ITERATIONS REACHED LIMIT.\n",
      "\n",
      "Increase the number of iterations (max_iter) or scale the data as shown in:\n",
      "    https://scikit-learn.org/stable/modules/preprocessing.html\n",
      "Please also refer to the documentation for alternative solver options:\n",
      "    https://scikit-learn.org/stable/modules/linear_model.html#logistic-regression\n",
      "  n_iter_i = _check_optimize_result(\n",
      "/opt/anaconda3/lib/python3.11/site-packages/sklearn/linear_model/_logistic.py:458: ConvergenceWarning: lbfgs failed to converge (status=1):\n",
      "STOP: TOTAL NO. of ITERATIONS REACHED LIMIT.\n",
      "\n",
      "Increase the number of iterations (max_iter) or scale the data as shown in:\n",
      "    https://scikit-learn.org/stable/modules/preprocessing.html\n",
      "Please also refer to the documentation for alternative solver options:\n",
      "    https://scikit-learn.org/stable/modules/linear_model.html#logistic-regression\n",
      "  n_iter_i = _check_optimize_result(\n",
      "/opt/anaconda3/lib/python3.11/site-packages/sklearn/linear_model/_logistic.py:458: ConvergenceWarning: lbfgs failed to converge (status=1):\n",
      "STOP: TOTAL NO. of ITERATIONS REACHED LIMIT.\n",
      "\n",
      "Increase the number of iterations (max_iter) or scale the data as shown in:\n",
      "    https://scikit-learn.org/stable/modules/preprocessing.html\n",
      "Please also refer to the documentation for alternative solver options:\n",
      "    https://scikit-learn.org/stable/modules/linear_model.html#logistic-regression\n",
      "  n_iter_i = _check_optimize_result(\n",
      "/opt/anaconda3/lib/python3.11/site-packages/sklearn/linear_model/_logistic.py:458: ConvergenceWarning: lbfgs failed to converge (status=1):\n",
      "STOP: TOTAL NO. of ITERATIONS REACHED LIMIT.\n",
      "\n",
      "Increase the number of iterations (max_iter) or scale the data as shown in:\n",
      "    https://scikit-learn.org/stable/modules/preprocessing.html\n",
      "Please also refer to the documentation for alternative solver options:\n",
      "    https://scikit-learn.org/stable/modules/linear_model.html#logistic-regression\n",
      "  n_iter_i = _check_optimize_result(\n",
      "/opt/anaconda3/lib/python3.11/site-packages/sklearn/linear_model/_logistic.py:458: ConvergenceWarning: lbfgs failed to converge (status=1):\n",
      "STOP: TOTAL NO. of ITERATIONS REACHED LIMIT.\n",
      "\n",
      "Increase the number of iterations (max_iter) or scale the data as shown in:\n",
      "    https://scikit-learn.org/stable/modules/preprocessing.html\n",
      "Please also refer to the documentation for alternative solver options:\n",
      "    https://scikit-learn.org/stable/modules/linear_model.html#logistic-regression\n",
      "  n_iter_i = _check_optimize_result(\n",
      "/opt/anaconda3/lib/python3.11/site-packages/sklearn/linear_model/_logistic.py:458: ConvergenceWarning: lbfgs failed to converge (status=1):\n",
      "STOP: TOTAL NO. of ITERATIONS REACHED LIMIT.\n",
      "\n",
      "Increase the number of iterations (max_iter) or scale the data as shown in:\n",
      "    https://scikit-learn.org/stable/modules/preprocessing.html\n",
      "Please also refer to the documentation for alternative solver options:\n",
      "    https://scikit-learn.org/stable/modules/linear_model.html#logistic-regression\n",
      "  n_iter_i = _check_optimize_result(\n",
      "/opt/anaconda3/lib/python3.11/site-packages/sklearn/linear_model/_logistic.py:458: ConvergenceWarning: lbfgs failed to converge (status=1):\n",
      "STOP: TOTAL NO. of ITERATIONS REACHED LIMIT.\n",
      "\n",
      "Increase the number of iterations (max_iter) or scale the data as shown in:\n",
      "    https://scikit-learn.org/stable/modules/preprocessing.html\n",
      "Please also refer to the documentation for alternative solver options:\n",
      "    https://scikit-learn.org/stable/modules/linear_model.html#logistic-regression\n",
      "  n_iter_i = _check_optimize_result(\n",
      "/opt/anaconda3/lib/python3.11/site-packages/sklearn/linear_model/_logistic.py:458: ConvergenceWarning: lbfgs failed to converge (status=1):\n",
      "STOP: TOTAL NO. of ITERATIONS REACHED LIMIT.\n",
      "\n",
      "Increase the number of iterations (max_iter) or scale the data as shown in:\n",
      "    https://scikit-learn.org/stable/modules/preprocessing.html\n",
      "Please also refer to the documentation for alternative solver options:\n",
      "    https://scikit-learn.org/stable/modules/linear_model.html#logistic-regression\n",
      "  n_iter_i = _check_optimize_result(\n",
      "/opt/anaconda3/lib/python3.11/site-packages/sklearn/linear_model/_logistic.py:458: ConvergenceWarning: lbfgs failed to converge (status=1):\n",
      "STOP: TOTAL NO. of ITERATIONS REACHED LIMIT.\n",
      "\n",
      "Increase the number of iterations (max_iter) or scale the data as shown in:\n",
      "    https://scikit-learn.org/stable/modules/preprocessing.html\n",
      "Please also refer to the documentation for alternative solver options:\n",
      "    https://scikit-learn.org/stable/modules/linear_model.html#logistic-regression\n",
      "  n_iter_i = _check_optimize_result(\n",
      "/opt/anaconda3/lib/python3.11/site-packages/sklearn/linear_model/_logistic.py:458: ConvergenceWarning: lbfgs failed to converge (status=1):\n",
      "STOP: TOTAL NO. of ITERATIONS REACHED LIMIT.\n",
      "\n",
      "Increase the number of iterations (max_iter) or scale the data as shown in:\n",
      "    https://scikit-learn.org/stable/modules/preprocessing.html\n",
      "Please also refer to the documentation for alternative solver options:\n",
      "    https://scikit-learn.org/stable/modules/linear_model.html#logistic-regression\n",
      "  n_iter_i = _check_optimize_result(\n",
      "/opt/anaconda3/lib/python3.11/site-packages/sklearn/linear_model/_logistic.py:458: ConvergenceWarning: lbfgs failed to converge (status=1):\n",
      "STOP: TOTAL NO. of ITERATIONS REACHED LIMIT.\n",
      "\n",
      "Increase the number of iterations (max_iter) or scale the data as shown in:\n",
      "    https://scikit-learn.org/stable/modules/preprocessing.html\n",
      "Please also refer to the documentation for alternative solver options:\n",
      "    https://scikit-learn.org/stable/modules/linear_model.html#logistic-regression\n",
      "  n_iter_i = _check_optimize_result(\n",
      "/opt/anaconda3/lib/python3.11/site-packages/sklearn/linear_model/_logistic.py:458: ConvergenceWarning: lbfgs failed to converge (status=1):\n",
      "STOP: TOTAL NO. of ITERATIONS REACHED LIMIT.\n",
      "\n",
      "Increase the number of iterations (max_iter) or scale the data as shown in:\n",
      "    https://scikit-learn.org/stable/modules/preprocessing.html\n",
      "Please also refer to the documentation for alternative solver options:\n",
      "    https://scikit-learn.org/stable/modules/linear_model.html#logistic-regression\n",
      "  n_iter_i = _check_optimize_result(\n",
      "/opt/anaconda3/lib/python3.11/site-packages/sklearn/linear_model/_logistic.py:458: ConvergenceWarning: lbfgs failed to converge (status=1):\n",
      "STOP: TOTAL NO. of ITERATIONS REACHED LIMIT.\n",
      "\n",
      "Increase the number of iterations (max_iter) or scale the data as shown in:\n",
      "    https://scikit-learn.org/stable/modules/preprocessing.html\n",
      "Please also refer to the documentation for alternative solver options:\n",
      "    https://scikit-learn.org/stable/modules/linear_model.html#logistic-regression\n",
      "  n_iter_i = _check_optimize_result(\n",
      "/opt/anaconda3/lib/python3.11/site-packages/sklearn/linear_model/_logistic.py:458: ConvergenceWarning: lbfgs failed to converge (status=1):\n",
      "STOP: TOTAL NO. of ITERATIONS REACHED LIMIT.\n",
      "\n",
      "Increase the number of iterations (max_iter) or scale the data as shown in:\n",
      "    https://scikit-learn.org/stable/modules/preprocessing.html\n",
      "Please also refer to the documentation for alternative solver options:\n",
      "    https://scikit-learn.org/stable/modules/linear_model.html#logistic-regression\n",
      "  n_iter_i = _check_optimize_result(\n",
      "/opt/anaconda3/lib/python3.11/site-packages/sklearn/linear_model/_logistic.py:458: ConvergenceWarning: lbfgs failed to converge (status=1):\n",
      "STOP: TOTAL NO. of ITERATIONS REACHED LIMIT.\n",
      "\n",
      "Increase the number of iterations (max_iter) or scale the data as shown in:\n",
      "    https://scikit-learn.org/stable/modules/preprocessing.html\n",
      "Please also refer to the documentation for alternative solver options:\n",
      "    https://scikit-learn.org/stable/modules/linear_model.html#logistic-regression\n",
      "  n_iter_i = _check_optimize_result(\n",
      "/opt/anaconda3/lib/python3.11/site-packages/sklearn/linear_model/_logistic.py:458: ConvergenceWarning: lbfgs failed to converge (status=1):\n",
      "STOP: TOTAL NO. of ITERATIONS REACHED LIMIT.\n",
      "\n",
      "Increase the number of iterations (max_iter) or scale the data as shown in:\n",
      "    https://scikit-learn.org/stable/modules/preprocessing.html\n",
      "Please also refer to the documentation for alternative solver options:\n",
      "    https://scikit-learn.org/stable/modules/linear_model.html#logistic-regression\n",
      "  n_iter_i = _check_optimize_result(\n",
      "/opt/anaconda3/lib/python3.11/site-packages/sklearn/linear_model/_logistic.py:458: ConvergenceWarning: lbfgs failed to converge (status=1):\n",
      "STOP: TOTAL NO. of ITERATIONS REACHED LIMIT.\n",
      "\n",
      "Increase the number of iterations (max_iter) or scale the data as shown in:\n",
      "    https://scikit-learn.org/stable/modules/preprocessing.html\n",
      "Please also refer to the documentation for alternative solver options:\n",
      "    https://scikit-learn.org/stable/modules/linear_model.html#logistic-regression\n",
      "  n_iter_i = _check_optimize_result(\n",
      "/opt/anaconda3/lib/python3.11/site-packages/sklearn/linear_model/_logistic.py:458: ConvergenceWarning: lbfgs failed to converge (status=1):\n",
      "STOP: TOTAL NO. of ITERATIONS REACHED LIMIT.\n",
      "\n",
      "Increase the number of iterations (max_iter) or scale the data as shown in:\n",
      "    https://scikit-learn.org/stable/modules/preprocessing.html\n",
      "Please also refer to the documentation for alternative solver options:\n",
      "    https://scikit-learn.org/stable/modules/linear_model.html#logistic-regression\n",
      "  n_iter_i = _check_optimize_result(\n",
      "/opt/anaconda3/lib/python3.11/site-packages/sklearn/linear_model/_logistic.py:458: ConvergenceWarning: lbfgs failed to converge (status=1):\n",
      "STOP: TOTAL NO. of ITERATIONS REACHED LIMIT.\n",
      "\n",
      "Increase the number of iterations (max_iter) or scale the data as shown in:\n",
      "    https://scikit-learn.org/stable/modules/preprocessing.html\n",
      "Please also refer to the documentation for alternative solver options:\n",
      "    https://scikit-learn.org/stable/modules/linear_model.html#logistic-regression\n",
      "  n_iter_i = _check_optimize_result(\n",
      "/opt/anaconda3/lib/python3.11/site-packages/sklearn/linear_model/_logistic.py:458: ConvergenceWarning: lbfgs failed to converge (status=1):\n",
      "STOP: TOTAL NO. of ITERATIONS REACHED LIMIT.\n",
      "\n",
      "Increase the number of iterations (max_iter) or scale the data as shown in:\n",
      "    https://scikit-learn.org/stable/modules/preprocessing.html\n",
      "Please also refer to the documentation for alternative solver options:\n",
      "    https://scikit-learn.org/stable/modules/linear_model.html#logistic-regression\n",
      "  n_iter_i = _check_optimize_result(\n",
      "/opt/anaconda3/lib/python3.11/site-packages/sklearn/linear_model/_logistic.py:458: ConvergenceWarning: lbfgs failed to converge (status=1):\n",
      "STOP: TOTAL NO. of ITERATIONS REACHED LIMIT.\n",
      "\n",
      "Increase the number of iterations (max_iter) or scale the data as shown in:\n",
      "    https://scikit-learn.org/stable/modules/preprocessing.html\n",
      "Please also refer to the documentation for alternative solver options:\n",
      "    https://scikit-learn.org/stable/modules/linear_model.html#logistic-regression\n",
      "  n_iter_i = _check_optimize_result(\n",
      "/opt/anaconda3/lib/python3.11/site-packages/sklearn/linear_model/_logistic.py:458: ConvergenceWarning: lbfgs failed to converge (status=1):\n",
      "STOP: TOTAL NO. of ITERATIONS REACHED LIMIT.\n",
      "\n",
      "Increase the number of iterations (max_iter) or scale the data as shown in:\n",
      "    https://scikit-learn.org/stable/modules/preprocessing.html\n",
      "Please also refer to the documentation for alternative solver options:\n",
      "    https://scikit-learn.org/stable/modules/linear_model.html#logistic-regression\n",
      "  n_iter_i = _check_optimize_result(\n",
      "/opt/anaconda3/lib/python3.11/site-packages/sklearn/linear_model/_logistic.py:458: ConvergenceWarning: lbfgs failed to converge (status=1):\n",
      "STOP: TOTAL NO. of ITERATIONS REACHED LIMIT.\n",
      "\n",
      "Increase the number of iterations (max_iter) or scale the data as shown in:\n",
      "    https://scikit-learn.org/stable/modules/preprocessing.html\n",
      "Please also refer to the documentation for alternative solver options:\n",
      "    https://scikit-learn.org/stable/modules/linear_model.html#logistic-regression\n",
      "  n_iter_i = _check_optimize_result(\n",
      "/opt/anaconda3/lib/python3.11/site-packages/sklearn/linear_model/_logistic.py:458: ConvergenceWarning: lbfgs failed to converge (status=1):\n",
      "STOP: TOTAL NO. of ITERATIONS REACHED LIMIT.\n",
      "\n",
      "Increase the number of iterations (max_iter) or scale the data as shown in:\n",
      "    https://scikit-learn.org/stable/modules/preprocessing.html\n",
      "Please also refer to the documentation for alternative solver options:\n",
      "    https://scikit-learn.org/stable/modules/linear_model.html#logistic-regression\n",
      "  n_iter_i = _check_optimize_result(\n"
     ]
    }
   ],
   "source": [
    "clf = OneVsRestClassifier(LogisticRegression(max_iter=50)).fit(X_train_tfidf, y_train_mat)"
   ]
  },
  {
   "cell_type": "code",
   "execution_count": 681,
   "id": "112f829b-d7b1-4c1a-916e-5c629af22328",
   "metadata": {},
   "outputs": [],
   "source": [
    "from sklearn.metrics import log_loss\n",
    "\n"
   ]
  },
  {
   "cell_type": "code",
   "execution_count": 689,
   "id": "2bc1d104-cddf-477f-8497-67323920dcaf",
   "metadata": {},
   "outputs": [
    {
     "data": {
      "text/plain": [
       "(70000, 25420)"
      ]
     },
     "execution_count": 689,
     "metadata": {},
     "output_type": "execute_result"
    }
   ],
   "source": [
    "X_train_tfidf.shape"
   ]
  },
  {
   "cell_type": "code",
   "execution_count": 691,
   "id": "278d1342-698f-48b8-9b1f-d586f684847a",
   "metadata": {},
   "outputs": [
    {
     "data": {
      "text/plain": [
       "array([[0.14345704, 0.85654296],\n",
       "       [0.80963995, 0.19036005],\n",
       "       [0.78412229, 0.21587771],\n",
       "       ...,\n",
       "       [0.96505181, 0.03494819],\n",
       "       [0.80084335, 0.19915665],\n",
       "       [0.85548442, 0.14451558]])"
      ]
     },
     "execution_count": 691,
     "metadata": {},
     "output_type": "execute_result"
    }
   ],
   "source": [
    "X_train_tfidf"
   ]
  },
  {
   "cell_type": "code",
   "execution_count": 703,
   "id": "b20e0096-5ca9-4fa6-a94b-c4c95d2a160f",
   "metadata": {},
   "outputs": [
    {
     "data": {
      "text/plain": [
       "0.03592996627005272"
      ]
     },
     "execution_count": 703,
     "metadata": {},
     "output_type": "execute_result"
    }
   ],
   "source": [
    "log_loss(y_train_mat[:, :2], clf.estimators_[1].predict_proba(X_train_tfidf), eps=1e-15)"
   ]
  },
  {
   "cell_type": "code",
   "execution_count": 659,
   "id": "f5082556-6168-4e76-9919-8f606f7616db",
   "metadata": {},
   "outputs": [
    {
     "data": {
      "text/plain": [
       "array([[0.85654296, 0.45923615, 0.01536333, ..., 0.00258232, 0.0026903 ,\n",
       "        0.00165105],\n",
       "       [0.19036005, 0.0146308 , 0.22644676, ..., 0.00666973, 0.00245874,\n",
       "        0.00599102],\n",
       "       [0.21587771, 0.0074708 , 0.03173683, ..., 0.00345434, 0.00198778,\n",
       "        0.00211484],\n",
       "       ...,\n",
       "       [0.03494819, 0.00716996, 0.00769238, ..., 0.00184726, 0.00174471,\n",
       "        0.00159038],\n",
       "       [0.19915665, 0.00592819, 0.00430151, ..., 0.00219455, 0.0014029 ,\n",
       "        0.00115299],\n",
       "       [0.14451558, 0.00924296, 0.00823898, ..., 0.00503125, 0.00223206,\n",
       "        0.00186031]])"
      ]
     },
     "execution_count": 659,
     "metadata": {},
     "output_type": "execute_result"
    }
   ],
   "source": [
    "clf.predict_proba(X_train_tfidf)"
   ]
  },
  {
   "cell_type": "code",
   "execution_count": 641,
   "id": "abb050fc-7318-47af-a318-0848b724a83f",
   "metadata": {},
   "outputs": [],
   "source": [
    "all_weights_tfidf = np.load('all_weights_'+ model_name +'.npy',allow_pickle='TRUE').item()\n",
    "all_preds_test_tfidf = np.load('all_preds_'+ model_name +'.npy').astype(np.float16)\n",
    "all_preds_train_tfidf = np.load('all_preds_train_'+ model_name +'.npy').astype(np.float16)"
   ]
  },
  {
   "cell_type": "code",
   "execution_count": 647,
   "id": "034fa2d5-61ac-4c9b-9e8a-c2fd2cb982c0",
   "metadata": {},
   "outputs": [
    {
     "data": {
      "text/plain": [
       "array([[0.4636, 0.4429, 0.445 , ..., 0.4421, 0.4417, 0.4417],\n",
       "       [0.4634, 0.4424, 0.4448, ..., 0.442 , 0.4414, 0.4414],\n",
       "       [0.4636, 0.4426, 0.445 , ..., 0.4421, 0.4417, 0.4417],\n",
       "       ...,\n",
       "       [0.4636, 0.4426, 0.445 , ..., 0.4421, 0.4417, 0.4417],\n",
       "       [0.4636, 0.4426, 0.445 , ..., 0.4421, 0.4417, 0.4417],\n",
       "       [0.4634, 0.4426, 0.445 , ..., 0.4421, 0.4417, 0.4417]],\n",
       "      dtype=float16)"
      ]
     },
     "execution_count": 647,
     "metadata": {},
     "output_type": "execute_result"
    }
   ],
   "source": [
    "all_preds_train_tfidf"
   ]
  },
  {
   "cell_type": "code",
   "execution_count": 257,
   "id": "48e4e42a-3f61-4f9a-94b2-8f207e49b981",
   "metadata": {},
   "outputs": [
    {
     "name": "stdout",
     "output_type": "stream",
     "text": [
      "               precision   recall   f1-score\n",
      "\n",
      "    micro avg       nan      0.00      nan\n",
      "    macro avg       0.00      0.00      0.00\n",
      "    weighted avg    0.00      0.00      0.00\n",
      "\n"
     ]
    },
    {
     "name": "stderr",
     "output_type": "stream",
     "text": [
      "/Users/sergeiakhmadulin/My Drive/Simple NLP/Classification_report.py:164: RuntimeWarning: invalid value encountered in scalar divide\n",
      "  self.precision_micro = TP / (TP + FP)\n"
     ]
    }
   ],
   "source": [
    "Y_train_zero_ones_tfidf = (all_preds_test_tfidf >= 0.5).astype(int)\n",
    "rep.calc_metrics(y_test_mat, Y_train_zero_ones_tfidf)"
   ]
  },
  {
   "cell_type": "code",
   "execution_count": 659,
   "id": "c16d9c47-c937-4904-9e3d-e549f0fc486b",
   "metadata": {},
   "outputs": [
    {
     "data": {
      "image/png": "[encoded data removed]",
      "text/plain": [
       "<Figure size 640x480 with 1 Axes>"
      ]
     },
     "metadata": {},
     "output_type": "display_data"
    }
   ],
   "source": [
    "rep_BOW.plot_ROC_curve(y_test_mat, all_preds_test_tfidf)"
   ]
  },
  {
   "cell_type": "markdown",
   "id": "117b65af",
   "metadata": {},
   "source": [
    "<a name=\"3.3\"></a>\n",
    "## 3.3 - CBOW evaluation"
   ]
  },
  {
   "cell_type": "code",
   "execution_count": 634,
   "id": "78e47e64",
   "metadata": {},
   "outputs": [],
   "source": [
    "Log_reg_cbow = LR.MyLogisticRegression(learning_rate = 0.1, num_iterations = 50)\n",
    "model_name = \"CBOW\""
   ]
  },
  {
   "cell_type": "code",
   "execution_count": 636,
   "id": "ea6d348a",
   "metadata": {
    "scrolled": true
   },
   "outputs": [
    {
     "name": "stdout",
     "output_type": "stream",
     "text": [
      "data stored 0\n",
      "data stored 1\n",
      "data stored 2\n",
      "data stored 3\n",
      "data stored 4\n",
      "data stored 5\n",
      "data stored 6\n",
      "data stored 7\n",
      "data stored 8\n",
      "data stored 9\n",
      "data stored 10\n",
      "data stored 11\n",
      "data stored 12\n",
      "data stored 13\n",
      "data stored 14\n",
      "data stored 15\n",
      "data stored 16\n",
      "data stored 17\n",
      "data stored 18\n",
      "data stored 19\n",
      "data stored 20\n",
      "data stored 21\n",
      "data stored 22\n",
      "data stored 23\n",
      "data stored 24\n",
      "data stored 25\n",
      "data stored 26\n",
      "data stored 27\n",
      "data stored 28\n",
      "data stored 29\n",
      "data stored 30\n",
      "data stored 31\n",
      "data stored 32\n",
      "data stored 33\n",
      "data stored 34\n",
      "data stored 35\n",
      "data stored 36\n",
      "data stored 37\n",
      "data stored 38\n",
      "data stored 39\n",
      "data stored 40\n",
      "data stored 41\n",
      "data stored 42\n",
      "data stored 43\n",
      "data stored 44\n",
      "data stored 45\n",
      "data stored 46\n",
      "data stored 47\n",
      "data stored 48\n",
      "data stored 49\n",
      "data stored 50\n",
      "data stored 51\n",
      "data stored 52\n",
      "data stored 53\n",
      "data stored 54\n",
      "data stored 55\n",
      "data stored 56\n",
      "data stored 57\n",
      "data stored 58\n",
      "data stored 59\n",
      "data stored 60\n",
      "data stored 61\n",
      "data stored 62\n",
      "data stored 63\n",
      "data stored 64\n",
      "data stored 65\n",
      "data stored 66\n",
      "data stored 67\n",
      "data stored 68\n",
      "data stored 69\n",
      "data stored 70\n",
      "data stored 71\n",
      "data stored 72\n",
      "data stored 73\n",
      "data stored 74\n",
      "data stored 75\n",
      "data stored 76\n",
      "data stored 77\n",
      "data stored 78\n",
      "data stored 79\n",
      "data stored 80\n",
      "data stored 81\n",
      "data stored 82\n",
      "data stored 83\n",
      "data stored 84\n",
      "data stored 85\n",
      "data stored 86\n",
      "data stored 87\n",
      "data stored 88\n",
      "data stored 89\n",
      "data stored 90\n",
      "data stored 91\n",
      "data stored 92\n",
      "data stored 93\n",
      "data stored 94\n",
      "data stored 95\n",
      "data stored 96\n",
      "data stored 97\n",
      "data stored 98\n",
      "data stored 99\n",
      "All models trained\n"
     ]
    }
   ],
   "source": [
    "w, p = train_model(Log_reg_cbow, model_name, X_train_cbow, y_train_mat, X_test_cbow, batchsize=None, resume_training = False)"
   ]
  },
  {
   "cell_type": "code",
   "execution_count": 638,
   "id": "73100098-8be7-444d-ab81-4129fcd478d1",
   "metadata": {},
   "outputs": [],
   "source": [
    "all_weights_cbow = np.load('all_weights_'+ model_name +'.npy',allow_pickle='TRUE').item()\n",
    "all_preds_test_cbow = np.load('all_preds_'+ model_name +'.npy').astype(np.float16)\n",
    "all_preds_train_cbow = np.load('all_preds_train_'+ model_name +'.npy').astype(np.float16)"
   ]
  },
  {
   "cell_type": "code",
   "execution_count": 648,
   "id": "569a6371-a0c4-44eb-940e-bb5eb9b520b1",
   "metadata": {},
   "outputs": [
    {
     "data": {
      "text/plain": [
       "array([[0.2876, 0.1868, 0.1969, ..., 0.1842, 0.1826, 0.1824],\n",
       "       [0.2876, 0.1868, 0.1969, ..., 0.1842, 0.1826, 0.1824],\n",
       "       [0.2876, 0.1868, 0.1969, ..., 0.1842, 0.1826, 0.1824],\n",
       "       ...,\n",
       "       [0.2876, 0.1868, 0.1969, ..., 0.1842, 0.1826, 0.1824],\n",
       "       [0.2876, 0.1868, 0.1969, ..., 0.1842, 0.1826, 0.1824],\n",
       "       [0.2876, 0.1868, 0.1969, ..., 0.1842, 0.1826, 0.1824]],\n",
       "      dtype=float16)"
      ]
     },
     "execution_count": 648,
     "metadata": {},
     "output_type": "execute_result"
    }
   ],
   "source": [
    "all_preds_train_cbow"
   ]
  },
  {
   "cell_type": "code",
   "execution_count": 253,
   "id": "48787c78-6a82-4e27-bf4a-b92796fe27c9",
   "metadata": {},
   "outputs": [
    {
     "name": "stdout",
     "output_type": "stream",
     "text": [
      "               precision   recall   f1-score\n",
      "\n",
      "    micro avg       nan      0.00      nan\n",
      "    macro avg       0.00      0.00      0.00\n",
      "    weighted avg    0.00      0.00      0.00\n",
      "\n"
     ]
    },
    {
     "name": "stderr",
     "output_type": "stream",
     "text": [
      "/Users/sergeiakhmadulin/My Drive/Simple NLP/Classification_report.py:164: RuntimeWarning: invalid value encountered in scalar divide\n",
      "  self.precision_micro = TP / (TP + FP)\n"
     ]
    }
   ],
   "source": [
    "Y_train_zero_ones_cbow = (all_preds_test_cbow >= 0.5).astype(int)\n",
    "rep.calc_metrics(y_test_mat, Y_train_zero_ones_cbow)"
   ]
  },
  {
   "cell_type": "code",
   "execution_count": 317,
   "id": "95d59dc6-2dd6-4493-abad-7678d925ccbe",
   "metadata": {},
   "outputs": [
    {
     "data": {
      "text/plain": [
       "<70000x25420 sparse matrix of type '<class 'numpy.float64'>'\n",
       "\twith 389409 stored elements in List of Lists format>"
      ]
     },
     "execution_count": 317,
     "metadata": {},
     "output_type": "execute_result"
    }
   ],
   "source": [
    "X_train_tfidf"
   ]
  },
  {
   "cell_type": "code",
   "execution_count": 327,
   "id": "6750b7ab-db34-49f9-9764-889716ba054c",
   "metadata": {},
   "outputs": [],
   "source": [
    "from sklearn.multiclass import OneVsRestClassifier\n",
    "from sklearn.linear_model import LogisticRegression, RidgeClassifier\n",
    "import sklearn"
   ]
  },
  {
   "cell_type": "code",
   "execution_count": 281,
   "id": "debbbfb3-d966-4a19-bfaf-5110f30be7d4",
   "metadata": {},
   "outputs": [],
   "source": [
    "clf = OneVsRestClassifier(LogisticRegression(max_iter=50,penalty='l2',C=0.1)).fit(X_train_cbow, y_train_mat)"
   ]
  },
  {
   "cell_type": "code",
   "execution_count": 311,
   "id": "b00a4346-1eda-438b-a08c-58273ac48494",
   "metadata": {},
   "outputs": [
    {
     "data": {
      "text/plain": [
       "array([-2.48862621e-04,  5.73793791e-02, -1.26164871e-04, ...,\n",
       "        6.53589530e-05,  5.02663012e-05,  8.44468772e-05])"
      ]
     },
     "execution_count": 311,
     "metadata": {},
     "output_type": "execute_result"
    }
   ],
   "source": [
    "clf.estimators_[0].coef_[0]"
   ]
  },
  {
   "cell_type": "code",
   "execution_count": 313,
   "id": "a6b7140d-4570-4fec-9082-6f17d6282cc8",
   "metadata": {},
   "outputs": [
    {
     "data": {
      "text/plain": [
       "array([-3.06910343e-04,  2.87035742e-02, -1.55593089e-04, ...,\n",
       "        4.30291399e-06,  3.30196165e-06,  5.52244232e-06])"
      ]
     },
     "execution_count": 313,
     "metadata": {},
     "output_type": "execute_result"
    }
   ],
   "source": [
    "clf.estimators_[1].coef_[0]"
   ]
  },
  {
   "cell_type": "code",
   "execution_count": 343,
   "id": "f0dffba0-8d11-43a2-ab15-bc24319e35b6",
   "metadata": {},
   "outputs": [],
   "source": [
    "X, y = sklearn.datasets.make_multilabel_classification(n_samples=1000, n_classes=5, n_labels=3, random_state=42)"
   ]
  },
  {
   "cell_type": "code",
   "execution_count": 365,
   "id": "206e1ed9-5591-4821-9531-3ad2e17b6d52",
   "metadata": {},
   "outputs": [
    {
     "data": {
      "text/plain": [
       "(1000, 20)"
      ]
     },
     "execution_count": 365,
     "metadata": {},
     "output_type": "execute_result"
    }
   ],
   "source": [
    "X.shape"
   ]
  },
  {
   "cell_type": "code",
   "execution_count": 353,
   "id": "980a2101-2be4-43df-a079-9ab84bfe282a",
   "metadata": {},
   "outputs": [],
   "source": [
    "clf = OneVsRestClassifier(LogisticRegression(max_iter=50,penalty='l2',C=0.1)).fit(X, y)"
   ]
  },
  {
   "cell_type": "code",
   "execution_count": 482,
   "id": "a11608b8-cdee-4cff-90a9-643b4628c433",
   "metadata": {},
   "outputs": [
    {
     "data": {
      "text/plain": [
       "array([-1.67010791e-01, -2.52869904e-01, -1.62635524e-01,  3.20734301e-04,\n",
       "        2.05712699e-01,  1.35040063e-01,  1.35223678e-01, -2.60416379e-01,\n",
       "        1.32817135e-01,  1.07444159e-01,  5.46658386e-01, -8.66075090e-02,\n",
       "        6.47564725e-02,  1.98288663e-01,  1.84315359e-01,  2.30326281e-01,\n",
       "       -1.26505930e-01, -1.55280211e-01,  3.70762803e-02, -2.66798648e-01])"
      ]
     },
     "execution_count": 482,
     "metadata": {},
     "output_type": "execute_result"
    }
   ],
   "source": [
    "clf.estimators_[0].coef_[0]"
   ]
  },
  {
   "cell_type": "code",
   "execution_count": 538,
   "id": "8ae76ad4-32a8-4be0-9488-ea8ed7f4bdbc",
   "metadata": {},
   "outputs": [
    {
     "data": {
      "text/plain": [
       "array([[1, 1, 0, 1, 1],\n",
       "       [0, 1, 1, 1, 0],\n",
       "       [0, 1, 0, 0, 0],\n",
       "       ...,\n",
       "       [1, 1, 0, 0, 0],\n",
       "       [0, 0, 0, 1, 0],\n",
       "       [0, 1, 0, 0, 1]])"
      ]
     },
     "execution_count": 538,
     "metadata": {},
     "output_type": "execute_result"
    }
   ],
   "source": [
    "clf.predict(X)"
   ]
  },
  {
   "cell_type": "code",
   "execution_count": 624,
   "id": "d58748ea-99ad-422c-9bba-81a8998e7324",
   "metadata": {},
   "outputs": [],
   "source": [
    "Log_reg_cbow = LR.MyLogisticRegression(learning_rate = 0.1, num_iterations = 50)\n",
    "model_name = \"test\""
   ]
  },
  {
   "cell_type": "code",
   "execution_count": null,
   "id": "f0200c4c-5313-4271-8714-1f4adf7ee696",
   "metadata": {},
   "outputs": [],
   "source": []
  },
  {
   "cell_type": "code",
   "execution_count": 396,
   "id": "0398ba74-e8c4-4d5e-adc7-b7ea84bed037",
   "metadata": {},
   "outputs": [],
   "source": [
    "from scipy import sparse as sp_sparse\n",
    "X = sp_sparse.lil_matrix(X)"
   ]
  },
  {
   "cell_type": "code",
   "execution_count": 626,
   "id": "6fc22fe6-f5ab-4588-b7af-1c986f4376df",
   "metadata": {},
   "outputs": [
    {
     "name": "stdout",
     "output_type": "stream",
     "text": [
      "data stored 0\n",
      "data stored 1\n",
      "data stored 2\n",
      "data stored 3\n",
      "data stored 4\n",
      "All models trained\n"
     ]
    }
   ],
   "source": [
    "p, w = train_model(Log_reg_cbow, model_name, X, y, X,batchsize=None, resume_training = False)"
   ]
  },
  {
   "cell_type": "code",
   "execution_count": 628,
   "id": "04ac7de8-9b96-4e93-bf87-a086697c06e7",
   "metadata": {},
   "outputs": [
    {
     "data": {
      "text/plain": [
       "0.7818"
      ]
     },
     "execution_count": 628,
     "metadata": {},
     "output_type": "execute_result"
    }
   ],
   "source": [
    "np.sum((p>=0.5).astype(int) == y)/5000"
   ]
  },
  {
   "cell_type": "code",
   "execution_count": 534,
   "id": "4e563514-0e72-424f-a58c-64e14e945a12",
   "metadata": {},
   "outputs": [
    {
     "data": {
      "text/plain": [
       "(1000, 5)"
      ]
     },
     "execution_count": 534,
     "metadata": {},
     "output_type": "execute_result"
    }
   ],
   "source": []
  },
  {
   "cell_type": "code",
   "execution_count": 540,
   "id": "5de965ba-721c-4d57-83d8-72a0bfd154e1",
   "metadata": {},
   "outputs": [
    {
     "data": {
      "text/plain": [
       "0.794"
      ]
     },
     "execution_count": 540,
     "metadata": {},
     "output_type": "execute_result"
    }
   ],
   "source": [
    "np.sum((clf.predict(X)>=0.5).astype(int) == y)/5000"
   ]
  },
  {
   "cell_type": "code",
   "execution_count": null,
   "id": "48c7abac-9112-41ee-a090-2815e82f810e",
   "metadata": {},
   "outputs": [],
   "source": []
  }
 ],
 "metadata": {
  "kernelspec": {
   "display_name": "Python 3 (ipykernel)",
   "language": "python",
   "name": "python3"
  },
  "language_info": {
   "codemirror_mode": {
    "name": "ipython",
    "version": 3
   },
   "file_extension": ".py",
   "mimetype": "text/x-python",
   "name": "python",
   "nbconvert_exporter": "python",
   "pygments_lexer": "ipython3",
   "version": "3.11.7"
  }
 },
 "nbformat": 4,
 "nbformat_minor": 5
}
