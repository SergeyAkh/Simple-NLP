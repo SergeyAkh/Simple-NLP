{
 "cells": [
  {
   "attachments": {},
   "cell_type": "markdown",
   "id": "c874133c-5f16-4068-a157-8a1c844afee4",
   "metadata": {},
   "source": [
    "# StackOverflow Tags Prediction without specific ML packagess\n",
    "\n",
    "# Outline\n",
    "- [ 1 - Import Data](#1)\n",
    "- [ 2 - Exploring and preparing data for model](#2)\n",
    "  - [ 2.1 - Bag of words](#2.1)\n",
    "  - [ 2.2 - TF-IDF](#2.2)\n",
    "  - [ 2.3 - CBOW](#2.3)\n",
    "    - [ 2.3.1 - Data prepare](#2.3.1)\n",
    "    - [ 2.3.2 - Train neuron network and transform train/test data](#2.3.2)\n",
    "    - [ 2.3.3 - PCA for plotting results](#2.3.3)\n",
    "- [ 3 - Model creation and evaluation](#3)\n",
    "    - [ 3.1 - BOW model](#3.1)\n",
    "    - [ 3.2 - TFIDF model](#3.2)\n",
    "    - [ 3.3 - CBOW model](#3.3)    \n",
    "    \n",
    "\n",
    "<a name=\"1\"></a>\n",
    "## 1 - Import Data"
   ]
  },
  {
   "cell_type": "markdown",
   "id": "968e3d5e",
   "metadata": {},
   "source": [
    "TO DO!!!!\n",
    "\n",
    "In this section, you will use [`Kaggle Questions csv file`](https://www.kaggle.com/code/miljan/predicting-tags-for-stackoverflow/input?select=Questions.csv) to transform the sentences into integers, so they can be fed into the model you will build later on.\n",
    "[`Kaggle Labled Tags csv file`](https://www.kaggle.com/code/miljan/predicting-tags-for-stackoverflow/input?select=Tags.csv)"
   ]
  },
  {
   "cell_type": "code",
   "execution_count": 3,
   "id": "c7db10a4",
   "metadata": {},
   "outputs": [
    {
     "name": "stderr",
     "output_type": "stream",
     "text": [
      "[nltk_data] Downloading package stopwords to\n",
      "[nltk_data]     /Users/sergeiakhmadulin/nltk_data...\n",
      "[nltk_data]   Package stopwords is already up-to-date!\n"
     ]
    }
   ],
   "source": [
    "import numpy as np\n",
    "import pandas as pd\n",
    "from scipy import sparse as sp_sparse\n",
    "import re\n",
    "%matplotlib inline\n",
    "import matplotlib.pyplot as plt\n",
    "\n",
    "from ast import literal_eval\n",
    "\n",
    "import nltk\n",
    "nltk.download('stopwords')\n",
    "from nltk.corpus import stopwords"
   ]
  },
  {
   "cell_type": "code",
   "execution_count": 4,
   "id": "21b0dc54-eb04-4358-878d-d83ddcff72ac",
   "metadata": {},
   "outputs": [],
   "source": [
    "train = pd.read_csv('/Users/sergeiakhmadulin/Library/CloudStorage/GoogleDrive-akhmadulinsergey@gmail.com/My Drive/Simple NLP/Questions.csv/Questions.csv',\\\n",
    "                    encoding = \"ISO-8859-1\", nrows=100000,index_col=False)"
   ]
  },
  {
   "cell_type": "code",
   "execution_count": 5,
   "id": "83cc8b77-3d4e-44df-94f2-bea5978856cc",
   "metadata": {},
   "outputs": [],
   "source": [
    "y_data = pd.read_csv('/Users/sergeiakhmadulin/Library/CloudStorage/GoogleDrive-akhmadulinsergey@gmail.com/My Drive/Simple NLP/Tags.csv/Tags_1.csv',\\\n",
    "                     encoding = \"ISO-8859-1\",index_col=False)"
   ]
  },
  {
   "cell_type": "code",
   "execution_count": 6,
   "id": "42da1945-3524-4c2d-850d-e978e2a4e39b",
   "metadata": {},
   "outputs": [],
   "source": [
    "all_data = pd.concat([train, y_data], axis=1)"
   ]
  },
  {
   "cell_type": "markdown",
   "id": "31f864c4",
   "metadata": {},
   "source": [
    "<a name=\"2\"></a>\n",
    "## 2 - Exploring and preparing data for model"
   ]
  },
  {
   "cell_type": "code",
   "execution_count": 7,
   "id": "3e0900ec-f5cb-4e89-92ae-0f00184e07a6",
   "metadata": {},
   "outputs": [
    {
     "data": {
      "text/html": [
       "<div>\n",
       "<style scoped>\n",
       "    .dataframe tbody tr th:only-of-type {\n",
       "        vertical-align: middle;\n",
       "    }\n",
       "\n",
       "    .dataframe tbody tr th {\n",
       "        vertical-align: top;\n",
       "    }\n",
       "\n",
       "    .dataframe thead th {\n",
       "        text-align: right;\n",
       "    }\n",
       "</style>\n",
       "<table border=\"1\" class=\"dataframe\">\n",
       "  <thead>\n",
       "    <tr style=\"text-align: right;\">\n",
       "      <th></th>\n",
       "      <th>title</th>\n",
       "      <th>tags</th>\n",
       "    </tr>\n",
       "  </thead>\n",
       "  <tbody>\n",
       "    <tr>\n",
       "      <th>0</th>\n",
       "      <td>How to draw a stacked dotplot in R?</td>\n",
       "      <td>['r']</td>\n",
       "    </tr>\n",
       "    <tr>\n",
       "      <th>1</th>\n",
       "      <td>mysql select all records where a datetime fiel...</td>\n",
       "      <td>['php', 'mysql']</td>\n",
       "    </tr>\n",
       "    <tr>\n",
       "      <th>2</th>\n",
       "      <td>How to terminate windows phone 8.1 app</td>\n",
       "      <td>['c#']</td>\n",
       "    </tr>\n",
       "    <tr>\n",
       "      <th>3</th>\n",
       "      <td>get current time in a specific country via jquery</td>\n",
       "      <td>['javascript', 'jquery']</td>\n",
       "    </tr>\n",
       "    <tr>\n",
       "      <th>4</th>\n",
       "      <td>Configuring Tomcat to Use SSL</td>\n",
       "      <td>['java']</td>\n",
       "    </tr>\n",
       "  </tbody>\n",
       "</table>\n",
       "</div>"
      ],
      "text/plain": [
       "                                               title                      tags\n",
       "0                How to draw a stacked dotplot in R?                     ['r']\n",
       "1  mysql select all records where a datetime fiel...          ['php', 'mysql']\n",
       "2             How to terminate windows phone 8.1 app                    ['c#']\n",
       "3  get current time in a specific country via jquery  ['javascript', 'jquery']\n",
       "4                      Configuring Tomcat to Use SSL                  ['java']"
      ]
     },
     "execution_count": 7,
     "metadata": {},
     "output_type": "execute_result"
    }
   ],
   "source": [
    "all_data.head()"
   ]
  },
  {
   "cell_type": "code",
   "execution_count": 8,
   "id": "2ae23f57",
   "metadata": {},
   "outputs": [
    {
     "data": {
      "text/plain": [
       "100000"
      ]
     },
     "execution_count": 8,
     "metadata": {},
     "output_type": "execute_result"
    }
   ],
   "source": [
    "len(all_data)"
   ]
  },
  {
   "cell_type": "code",
   "execution_count": 9,
   "id": "38915fab-8a6c-4c40-a1b1-a6ebd6aa6240",
   "metadata": {},
   "outputs": [],
   "source": [
    "all_data['tags'] = all_data['tags'].apply(literal_eval)"
   ]
  },
  {
   "cell_type": "code",
   "execution_count": 10,
   "id": "bf48751e-d893-43c6-ad66-b200032b94f6",
   "metadata": {},
   "outputs": [],
   "source": [
    "def most_common_words(text):\n",
    "    words_counts = {}\n",
    "\n",
    "    for i in text:\n",
    "        try:\n",
    "            for j in i.split():\n",
    "                words_counts[j] = words_counts.get(j, 0) + 1\n",
    "        except:\n",
    "            for j in i:\n",
    "                words_counts[j] = words_counts.get(j, 0) + 1\n",
    "    return words_counts\n",
    "\n",
    "words_counts = most_common_words(all_data[\"tags\"])\n",
    "words_counts = dict(sorted(words_counts.items(), key=lambda x: x[1], reverse=True))"
   ]
  },
  {
   "cell_type": "code",
   "execution_count": 11,
   "id": "8cfa2597-24fe-4a4f-ae38-d391ff28c74c",
   "metadata": {},
   "outputs": [
    {
     "data": {
      "image/png": "[encoded data removed]",
      "text/plain": [
       "<Figure size 640x480 with 1 Axes>"
      ]
     },
     "metadata": {},
     "output_type": "display_data"
    }
   ],
   "source": [
    "max_words = 11\n",
    "x = range(max_words)\n",
    "y = list(words_counts.values())[:max_words]\n",
    "z = [i/10 for i in list(words_counts.values())[:max_words]]\n",
    "\n",
    "fig, ax = plt.subplots()\n",
    "\n",
    "ax.set_xlabel(\"Number\")\n",
    "ax.set_ylabel(\"Frequancy\")\n",
    "    \n",
    "ax.scatter(x, y, s=z)\n",
    "\n",
    "for i, txt in enumerate(list(words_counts.keys())[:max_words]):\n",
    "    ax.annotate(txt, (x[i], y[i]+100))\n",
    "\n",
    "\n",
    "plt.show()"
   ]
  },
  {
   "cell_type": "code",
   "execution_count": 12,
   "id": "f7944e06",
   "metadata": {},
   "outputs": [],
   "source": [
    "def train_test_splitting(X, y, test_size, shuffle=True):\n",
    "    length_data = len(X)\n",
    "    test_len = int(length_data*test_size)\n",
    "    train_len = length_data - test_len\n",
    "    if shuffle:\n",
    "        index = np.random.permutation(length_data)\n",
    "    else:\n",
    "        index = np.arange(length_data)\n",
    "    train_index = index[:train_len]\n",
    "    test_index = index[train_len:]\n",
    "\n",
    "    return X[train_index],X[test_index],y[train_index],y[test_index]"
   ]
  },
  {
   "cell_type": "code",
   "execution_count": 19,
   "id": "f32e0baa",
   "metadata": {},
   "outputs": [],
   "source": [
    "np.random.seed(0)\n",
    "X_train,X_test,y_train,y_test = train_test_splitting(all_data[\"title\"], all_data[\"tags\"], test_size=0.3 , shuffle=True) "
   ]
  },
  {
   "cell_type": "code",
   "execution_count": 24,
   "id": "72258ee7",
   "metadata": {},
   "outputs": [],
   "source": [
    "def text_prepare(text):\n",
    "    \n",
    "    REPLACE_BY_SPACE_RE = re.compile('[/(){}\\[\\]\\|@,;]')\n",
    "    BAD_SYMBOLS_RE = re.compile('[^0-9a-z #+_]')\n",
    "    STOPWORDS = set(stopwords.words('english'))\n",
    "    text = text.lower()\n",
    "\n",
    "    text = REPLACE_BY_SPACE_RE.sub(r' ',text)\n",
    "    text = BAD_SYMBOLS_RE.sub(r'',text)\n",
    "    text = [w for w in text.split() if not w in STOPWORDS]\n",
    "    \n",
    "    return ' '.join(text)"
   ]
  },
  {
   "cell_type": "code",
   "execution_count": 27,
   "id": "fb60a238",
   "metadata": {},
   "outputs": [],
   "source": [
    "X_train = [text_prepare(x) for x in X_train]\n",
    "X_test = [text_prepare(x) for x in X_test]"
   ]
  },
  {
   "cell_type": "markdown",
   "id": "b8939936",
   "metadata": {},
   "source": [
    "<a name=\"2.1\"></a>\n",
    "## 2.1 - Bag of words"
   ]
  },
  {
   "cell_type": "code",
   "execution_count": 28,
   "id": "116c4f2f",
   "metadata": {},
   "outputs": [],
   "source": [
    "import Bagofwords as BOW\n",
    "\n",
    "BagOW = BOW.BagOfWords(maximum_words = 5000)\n",
    "BagOW.fit(X_train)\n",
    "X_train_mybag = BagOW.transform(X_train)\n",
    "X_test_mybag = BagOW.transform(X_test)\n",
    "bag_of_words_dic = BagOW.get_vocab()"
   ]
  },
  {
   "cell_type": "code",
   "execution_count": 27,
   "id": "27c4bed8",
   "metadata": {},
   "outputs": [
    {
     "data": {
      "text/plain": [
       "<70000x5000 sparse matrix of type '<class 'numpy.float64'>'\n",
       "\twith 360175 stored elements in List of Lists format>"
      ]
     },
     "execution_count": 27,
     "metadata": {},
     "output_type": "execute_result"
    }
   ],
   "source": [
    "X_train_mybag"
   ]
  },
  {
   "cell_type": "markdown",
   "id": "2e467331",
   "metadata": {},
   "source": [
    "<a name=\"2.2\"></a>\n",
    "## 2.2 - TF-IDF"
   ]
  },
  {
   "cell_type": "markdown",
   "id": "775a1ce9",
   "metadata": {},
   "source": [
    " For this approuch we'll create module Tfidf that create a class and make fit, transform tramsformation"
   ]
  },
  {
   "cell_type": "code",
   "execution_count": 34,
   "id": "1f2fe852",
   "metadata": {
    "scrolled": true
   },
   "outputs": [
    {
     "name": "stderr",
     "output_type": "stream",
     "text": [
      "/Users/sergeiakhmadulin/My Drive/Simple NLP/Tfidf.py:55: RuntimeWarning: divide by zero encountered in divide\n",
      "  norm_tfidf = tfidf.multiply(1/np.sqrt(np.sum(tfidf.power(2), axis = 1)).reshape((length_rows,1)))\n"
     ]
    }
   ],
   "source": [
    "import Tfidf as tf\n",
    "\n",
    "tfidf_obj = tf.TFIDF()\n",
    "tfidf_obj.fit(X_train)\n",
    "\n",
    "X_train_tfidf = tfidf_obj.transform(X_train)\n",
    "X_test_tfidf = tfidf_obj.transform(X_test)\n",
    "tfidf_vocab = tfidf_obj.get_vocab()\n",
    "\n",
    "tfidf_index_to_word = {index:word for index,word in enumerate(tfidf_vocab)}"
   ]
  },
  {
   "cell_type": "code",
   "execution_count": null,
   "id": "c1480bce-9d96-4579-849e-cef335724123",
   "metadata": {},
   "outputs": [],
   "source": [
    "from importlib import reload\n",
    "reload(tf)"
   ]
  },
  {
   "cell_type": "code",
   "execution_count": 38,
   "id": "d2cd8d31",
   "metadata": {},
   "outputs": [
    {
     "data": {
      "text/plain": [
       "<70000x25420 sparse matrix of type '<class 'numpy.float64'>'\n",
       "\twith 389409 stored elements in List of Lists format>"
      ]
     },
     "execution_count": 38,
     "metadata": {},
     "output_type": "execute_result"
    }
   ],
   "source": [
    "X_train_tfidf"
   ]
  },
  {
   "cell_type": "markdown",
   "id": "44333be6",
   "metadata": {},
   "source": [
    "<a name=\"2.3\"></a>\n",
    "## 2.3 - CBOW"
   ]
  },
  {
   "cell_type": "markdown",
   "id": "018f4ad4",
   "metadata": {},
   "source": [
    " For this approuch we'll create two dictionaries to convert all unick words into a number and vise versa. Next we'll create two arres one with context words and another with center, that is what we are going to feed into neuron network. Train simple neuron networt with only 2 layers. As a result we'll get two matrises with trained weights the mean sum of them give us embedings of each word."
   ]
  },
  {
   "cell_type": "markdown",
   "id": "35787d9b",
   "metadata": {},
   "source": [
    "<a name=\"2.3.1\"></a>\n",
    "### 2.3.1 - Data prepare"
   ]
  },
  {
   "cell_type": "code",
   "execution_count": 82,
   "id": "717eb497",
   "metadata": {},
   "outputs": [],
   "source": [
    "def add_pad(text, num_of_padding, padding_car):\n",
    "    text_with_pad = []\n",
    "    for sent in text:\n",
    "        sent = (padding_car + \" \") * num_of_padding + sent + (\" \" + padding_car) * num_of_padding\n",
    "        text_with_pad.append(sent)\n",
    "    return text_with_pad"
   ]
  },
  {
   "cell_type": "code",
   "execution_count": 84,
   "id": "c38423ea",
   "metadata": {},
   "outputs": [],
   "source": [
    "def get_dict(text): \n",
    "    idx = 0\n",
    "    word2Ind = {}\n",
    "    Ind2word = {}\n",
    "    for sent in text:\n",
    "        try:\n",
    "            for word in sent.split():\n",
    "                if word not in word2Ind.keys():\n",
    "                    word2Ind[word] = idx\n",
    "                    Ind2word[idx] = word\n",
    "                    idx += 1\n",
    "        except:\n",
    "            for word in sent:\n",
    "                if word not in word2Ind.keys():\n",
    "                    word2Ind[word] = idx\n",
    "                    Ind2word[idx] = word\n",
    "                    idx += 1\n",
    "    return word2Ind,Ind2word"
   ]
  },
  {
   "cell_type": "code",
   "execution_count": 175,
   "id": "89757570",
   "metadata": {},
   "outputs": [],
   "source": [
    "def get_data_with_window(text, num_neighbor_words, padding = False):\n",
    "    \n",
    "    if padding:\n",
    "        text = add_pad(text, num_neighbor_words, \"PAD\")\n",
    "        \n",
    "    word2Ind, Ind2word = get_dict(text)\n",
    "    vector_lenght = len(word2Ind)\n",
    "    count = 0\n",
    "    for sent in text:\n",
    "        length = len(sent.split()) - 2*num_neighbor_words\n",
    "        if length > 0:\n",
    "            count += length\n",
    "    X_matrix = sp_sparse.lil_matrix((count,vector_lenght))\n",
    "    y_matrix = sp_sparse.lil_matrix((count,vector_lenght))\n",
    "    Y = []\n",
    "    n = 0\n",
    "    for row, sent in enumerate(text):\n",
    "        sent_to_separete = sent.split()\n",
    "        for i in range(num_neighbor_words, len(sent_to_separete) - num_neighbor_words):\n",
    "            center_word = sent_to_separete[i]\n",
    "            context_words = sent_to_separete[(i - num_neighbor_words):i] + sent_to_separete[(i+1):(i+num_neighbor_words+1)]\n",
    "            \n",
    "            y_matrix[n, word2Ind[center_word]] = 1\n",
    "            Y.append(word2Ind[center_word])\n",
    "            for con_word in context_words:\n",
    "                X_matrix[n, word2Ind[con_word]] += 1\n",
    "            n += 1\n",
    "    X_matrix = (X_matrix/sp_sparse.lil_matrix.sum(X_matrix, axis = 1)).tolil()\n",
    "    Y = np.array(Y)\n",
    "    return X_matrix, y_matrix,Y, word2Ind, Ind2word"
   ]
  },
  {
   "cell_type": "code",
   "execution_count": 177,
   "id": "b6f14495",
   "metadata": {},
   "outputs": [],
   "source": [
    "X, y, Y_ar, word2Ind, Ind2word  = get_data_with_window(X_train, 2, padding = True)"
   ]
  },
  {
   "cell_type": "code",
   "execution_count": 179,
   "id": "1c3ee9b8-2fbb-49cf-a827-d74157dedcc6",
   "metadata": {},
   "outputs": [
    {
     "data": {
      "text/plain": [
       "array([    1,     2,     3, ...,    60, 25420, 14602])"
      ]
     },
     "execution_count": 179,
     "metadata": {},
     "output_type": "execute_result"
    }
   ],
   "source": [
    "Y_ar"
   ]
  },
  {
   "cell_type": "code",
   "execution_count": 96,
   "id": "83a7bf66",
   "metadata": {},
   "outputs": [
    {
     "data": {
      "text/plain": [
       "((396118, 25421), 25420)"
      ]
     },
     "execution_count": 96,
     "metadata": {},
     "output_type": "execute_result"
    }
   ],
   "source": [
    "X.shape, max(Ind2word)"
   ]
  },
  {
   "cell_type": "markdown",
   "id": "c1b9d436",
   "metadata": {},
   "source": [
    "<a name=\"2.3.2\"></a>\n",
    "### 2.3.2 - Train neuron network and transform train/test data"
   ]
  },
  {
   "cell_type": "code",
   "execution_count": 99,
   "id": "af2efc1f",
   "metadata": {},
   "outputs": [],
   "source": [
    "import NN_for_CBOW as NN"
   ]
  },
  {
   "cell_type": "code",
   "execution_count": 335,
   "id": "53854c6b-3955-47b8-8d6e-120a9106f022",
   "metadata": {},
   "outputs": [
    {
     "data": {
      "text/plain": [
       "<module 'NN_for_CBOW' from '/Users/sergeiakhmadulin/My Drive/Simple NLP/NN_for_CBOW.py'>"
      ]
     },
     "execution_count": 335,
     "metadata": {},
     "output_type": "execute_result"
    }
   ],
   "source": [
    "from importlib import reload\n",
    "reload(NN)"
   ]
  },
  {
   "cell_type": "code",
   "execution_count": 189,
   "id": "1dfc2c3c-31b7-446d-918c-db9244e4f37f",
   "metadata": {},
   "outputs": [
    {
     "data": {
      "text/plain": [
       "(396118, 25421)"
      ]
     },
     "execution_count": 189,
     "metadata": {},
     "output_type": "execute_result"
    }
   ],
   "source": [
    "y.shape"
   ]
  },
  {
   "cell_type": "code",
   "execution_count": 187,
   "id": "ab74e0e5-dd9d-455d-9531-b6a5740675fc",
   "metadata": {},
   "outputs": [
    {
     "data": {
      "text/plain": [
       "25420"
      ]
     },
     "execution_count": 187,
     "metadata": {},
     "output_type": "execute_result"
    }
   ],
   "source": [
    "y.toarray()"
   ]
  },
  {
   "cell_type": "code",
   "execution_count": 337,
   "id": "0455f3dc",
   "metadata": {
    "scrolled": true
   },
   "outputs": [
    {
     "name": "stdout",
     "output_type": "stream",
     "text": [
      "done 25.2% of epoch - 0, loss: 6.334908484364909 \n",
      "time for 100000 samples: 0:03:02.139597\n",
      "done 50.5% of epoch - 0, loss: 9.487801831512321 \n",
      "time for 100000 samples: 0:06:01.206355\n",
      "done 75.7% of epoch - 0, loss: 5.416987453108742 \n",
      "time for 100000 samples: 0:09:00.586726\n",
      "done epoch: 0, loss: 10.863486802623637 \n",
      " weights saved\n",
      "done 25.2% of epoch - 1, loss: 6.287556195151872 \n",
      "time for 100000 samples: 0:03:03.970030\n",
      "done 50.5% of epoch - 1, loss: 8.777134821829755 \n",
      "time for 100000 samples: 0:13:03.359937\n",
      "done 75.7% of epoch - 1, loss: 5.651972431286038 \n",
      "time for 100000 samples: 0:52:39.282627\n",
      "done epoch: 1, loss: 10.53540129391145 \n",
      " weights saved\n",
      "done 25.2% of epoch - 2, loss: 6.457847947674838 \n",
      "time for 100000 samples: 0:37:43.194238\n",
      "done 50.5% of epoch - 2, loss: 8.367545486983728 \n",
      "time for 100000 samples: 0:39:58.590892\n",
      "done 75.7% of epoch - 2, loss: 5.744790591799935 \n",
      "time for 100000 samples: 0:42:17.731443\n",
      "done epoch: 2, loss: 9.661882345957142 \n",
      " weights saved\n",
      "done 25.2% of epoch - 3, loss: 6.567539226783749 \n",
      "time for 100000 samples: 0:02:17.295335\n",
      "done 50.5% of epoch - 3, loss: 7.844193475131904 \n",
      "time for 100000 samples: 0:04:37.035356\n",
      "done 75.7% of epoch - 3, loss: 5.632999216782119 \n",
      "time for 100000 samples: 0:06:53.321700\n",
      "done epoch: 3, loss: 8.197473718472988 \n",
      " weights saved\n",
      "done 25.2% of epoch - 4, loss: 6.696835739936116 \n",
      "time for 100000 samples: 0:02:18.885140\n",
      "done 50.5% of epoch - 4, loss: 7.394213178785181 \n",
      "time for 100000 samples: 0:04:31.846006\n",
      "done 75.7% of epoch - 4, loss: 5.529859911728182 \n",
      "time for 100000 samples: 0:06:43.121498\n",
      "done epoch: 4, loss: 7.025297091632796 \n",
      " weights saved\n"
     ]
    }
   ],
   "source": [
    "res, W_1,W_2 = NN.train_network(X, y, learning_rate = 1, hidden_neurons = 128, num_epoch = 5, batchsize = 32, initialization = \"xavier\")"
   ]
  },
  {
   "cell_type": "code",
   "execution_count": null,
   "id": "f2996354-6bfe-4402-8d7a-bd13111fc5ff",
   "metadata": {},
   "outputs": [],
   "source": [
    "# Resume training code, with alredy updated weights\n",
    "\n",
    "# res, W_1,W_2 = NN.train_network(X, y, hidden_neurons = 64, num_epoch = 6, batchsize = 100, \\\n",
    "#                                 initialization = \"custom\",weights_1 = W_1, weights_2 = W_2)"
   ]
  },
  {
   "cell_type": "code",
   "execution_count": 199,
   "id": "e4d0e33b",
   "metadata": {},
   "outputs": [],
   "source": [
    "W_1 = np.array(pd.read_csv(\"weights_1.csv\", header=None))\n",
    "W_2 = np.array(pd.read_csv(\"weights_2.csv\", header=None))"
   ]
  },
  {
   "cell_type": "code",
   "execution_count": 339,
   "id": "4993a278",
   "metadata": {},
   "outputs": [],
   "source": [
    "word_embedings = (W_1 + W_2.T)/2"
   ]
  },
  {
   "cell_type": "markdown",
   "id": "bf1edb46",
   "metadata": {},
   "source": [
    "<a name=\"2.3.3\"></a>\n",
    "### 2.3.3 - PCA for plotting results"
   ]
  },
  {
   "cell_type": "code",
   "execution_count": 207,
   "id": "65beacf4",
   "metadata": {},
   "outputs": [],
   "source": [
    "import PCA as pca\n",
    "pca_obj = pca.PCA()"
   ]
  },
  {
   "cell_type": "code",
   "execution_count": 181,
   "id": "badd5bcc-43f8-481b-ac26-9f6e12c80c80",
   "metadata": {},
   "outputs": [],
   "source": [
    "from importlib import reload\n",
    "reload(pca)\n",
    "pca_obj = pca.PCA()"
   ]
  },
  {
   "cell_type": "code",
   "execution_count": 209,
   "id": "64615746-99c4-4ecf-8964-babf7eed5293",
   "metadata": {},
   "outputs": [
    {
     "data": {
      "text/plain": [
       "(25420, 128)"
      ]
     },
     "execution_count": 209,
     "metadata": {},
     "output_type": "execute_result"
    }
   ],
   "source": [
    "W_2.T[1:].shape"
   ]
  },
  {
   "cell_type": "code",
   "execution_count": 369,
   "id": "38e2d1ca-6eaf-4d7d-b1ab-e2c5f591dc00",
   "metadata": {},
   "outputs": [],
   "source": [
    "all_embedings_for_model = W_2.T[1:]"
   ]
  },
  {
   "cell_type": "code",
   "execution_count": 371,
   "id": "af6df6ee-70de-4e03-91e3-113aa41636bd",
   "metadata": {},
   "outputs": [],
   "source": [
    "Ind2word_no_pad = {k:v for k,v in enumerate(list(Ind2word.values())[1:])}\n",
    "word2Ind_no_pad = {k:v for v,k in Ind2word_no_pad.items()}"
   ]
  },
  {
   "cell_type": "code",
   "execution_count": 373,
   "id": "cc65abbe-27eb-41a9-b364-9b04f81e375f",
   "metadata": {},
   "outputs": [],
   "source": [
    "pca_obj.fit(all_embedings_for_model)"
   ]
  },
  {
   "cell_type": "code",
   "execution_count": 375,
   "id": "f80983ef-8938-4f43-a4c2-1a457fa34614",
   "metadata": {},
   "outputs": [],
   "source": [
    "word_embedings_pca = pca_obj.pca_transform(all_embedings_for_model)"
   ]
  },
  {
   "cell_type": "code",
   "execution_count": 377,
   "id": "990c520b-5647-43e0-990d-3180eb628676",
   "metadata": {},
   "outputs": [
    {
     "data": {
      "image/png": "[encoded data removed]",
      "text/plain": [
       "<Figure size 640x480 with 1 Axes>"
      ]
     },
     "metadata": {},
     "output_type": "display_data"
    }
   ],
   "source": [
    "pca_obj.plot_explained_varience(all_embedings_for_model)"
   ]
  },
  {
   "cell_type": "code",
   "execution_count": 379,
   "id": "fb6cc130-cdbe-4f1a-af80-8fc3de20276b",
   "metadata": {},
   "outputs": [
    {
     "data": {
      "image/png": "[encoded data removed]",
      "text/plain": [
       "<Figure size 640x480 with 1 Axes>"
      ]
     },
     "metadata": {},
     "output_type": "display_data"
    }
   ],
   "source": [
    "word_embedings_pca_2_comp = pca_obj.pca_transform(all_embedings_for_model, 2)\n",
    "pca_obj.plot_some_data(word_embedings_pca_2_comp, word2Ind_no_pad, ['python','c','c++','c#','objectivec','sql','vba','get','java', 'android'])"
   ]
  },
  {
   "cell_type": "code",
   "execution_count": 265,
   "id": "7fdf25cf-5e60-4909-9a4d-b3bed9868c45",
   "metadata": {},
   "outputs": [],
   "source": [
    "embedings_means_for_model = np.mean(word_embedings[1:,:46],axis = 1)"
   ]
  },
  {
   "cell_type": "code",
   "execution_count": 381,
   "id": "310dafb8-7621-4fbc-953d-81d3007ca8c7",
   "metadata": {},
   "outputs": [],
   "source": [
    "embedings_means_for_model = np.mean(W_2.T[1:,:2],axis = 1)"
   ]
  },
  {
   "cell_type": "code",
   "execution_count": 393,
   "id": "74d5725a-12d8-4c60-b41d-fb2e4c41b1b8",
   "metadata": {},
   "outputs": [],
   "source": [
    "def transform_to_vector(data_to_transform, word2num_dictionary, embeding_matrix):\n",
    "    length_rows = len(data_to_transform)\n",
    "    length_col = embeding_matrix.shape[0]\n",
    "    TF_matrix = sp_sparse.lil_matrix((length_rows,length_col))\n",
    "    for row,sent in enumerate(data_to_transform):\n",
    "        for word in sent.split():\n",
    "            if word in list(word2num_dictionary.keys()):\n",
    "                num_of_word = word2num_dictionary.get(word,0)\n",
    "                TF_matrix[row,num_of_word] = embeding_matrix[num_of_word]\n",
    "    \n",
    "    return TF_matrix"
   ]
  },
  {
   "cell_type": "code",
   "execution_count": 395,
   "id": "b8640e6c-206f-49f2-81e3-483662123bb1",
   "metadata": {},
   "outputs": [],
   "source": [
    "X_train_cbow = transform_to_vector(X_train, word2Ind_no_pad, embedings_means_for_model)\n",
    "X_test_cbow = transform_to_vector(X_test, word2Ind_no_pad, embedings_means_for_model)"
   ]
  },
  {
   "cell_type": "markdown",
   "id": "52720152",
   "metadata": {},
   "source": [
    "<a name=\"3\"></a>\n",
    "## 3 - Model creation and evaluation"
   ]
  },
  {
   "cell_type": "code",
   "execution_count": 270,
   "id": "defcfbe9",
   "metadata": {},
   "outputs": [],
   "source": [
    "import Binarizer as binar"
   ]
  },
  {
   "cell_type": "code",
   "execution_count": 271,
   "id": "a799b041",
   "metadata": {},
   "outputs": [],
   "source": [
    "bnr = binar.Binarizer()\n",
    "bnr.fit(y_train)\n",
    "y_train_mat = bnr.transform(y_train)\n",
    "y_test_mat = bnr.transform(y_test)"
   ]
  },
  {
   "cell_type": "code",
   "execution_count": 272,
   "id": "6e81f9d8-d81b-4a05-ab3f-cb0d57b84ac9",
   "metadata": {},
   "outputs": [],
   "source": [
    "import Logistic_Reg as LR"
   ]
  },
  {
   "cell_type": "code",
   "execution_count": 273,
   "id": "0a2fc597-0ad1-4568-98b1-fd7807d70f4d",
   "metadata": {},
   "outputs": [],
   "source": [
    "lib = \"/Users/sergeiakhmadulin/Library/CloudStorage/GoogleDrive-akhmadulinsergey@gmail.com/My Drive/Simple NLP/\"\n",
    "\n",
    "def train_model(model, model_name, x_train, y_train, x_test, batchsize = None, resume_training = False, save_results = True):\n",
    "    if resume_training:\n",
    "        try:\n",
    "            all_weights = np.load(lib + 'all_weights_'+ model_name +'.npy',allow_pickle='TRUE').item()\n",
    "            all_preds = np.load(lib + 'all_preds_'+ model_name +'.npy')\n",
    "            all_preds_train = np.load(lib + 'all_preds_train_'+ model_name +'.npy')\n",
    "            starting_point = all_weights['w'].shape[0]\n",
    "            if starting_point == y_train.shape[1]:\n",
    "                print(\"All models trained\")\n",
    "                return all_weights, all_preds\n",
    "\n",
    "        except (FileNotFoundError, IOError):\n",
    "            starting_point = 0\n",
    "    else:\n",
    "        starting_point = 0\n",
    "\n",
    "    for i in range(starting_point, y_train.shape[1]):\n",
    "        model.fit(x_train, y_train[:,i, None],batchsize = batchsize)\n",
    "        weights = model.get_param()\n",
    "        predictions = model.predict_proba(x_test)\n",
    "        predictions_train = model.predict_proba(x_train)\n",
    "        if i == 0:\n",
    "            all_weights = weights\n",
    "            all_preds = predictions\n",
    "            all_preds_train = predictions_train\n",
    "        else:\n",
    "            all_weights = {key:np.concatenate(([all_weights[key],weights[key]]), axis=0) for key in all_weights.keys()}\n",
    "            all_preds = np.concatenate((all_preds ,predictions), axis=1)\n",
    "            all_preds_train = np.concatenate((all_preds_train ,predictions_train), axis=1)\n",
    "        if save_results:\n",
    "            np.save(lib + 'all_weights_'+ model_name +'.npy', all_weights)\n",
    "            np.save(lib + 'all_preds_'+ model_name +'.npy', all_preds)\n",
    "            np.save(lib + 'all_preds_train_'+ model_name +'.npy', all_preds_train)\n",
    "            print(\"data stored\", i)\n",
    "\n",
    "    print(\"All models trained\")\n",
    "    return all_preds, all_weights"
   ]
  },
  {
   "cell_type": "markdown",
   "id": "6d110ce2",
   "metadata": {},
   "source": [
    "<a name=\"3.1\"></a>\n",
    "## 3.1 - BOW model"
   ]
  },
  {
   "cell_type": "code",
   "execution_count": 499,
   "id": "14645408-5d3f-420c-90dd-0557266ae75c",
   "metadata": {},
   "outputs": [],
   "source": [
    "import Classification_report as CR\n",
    "rep_BOW = CR.Report()"
   ]
  },
  {
   "cell_type": "code",
   "execution_count": 483,
   "id": "022866e9-00e8-4c0a-aedf-093e87c0221d",
   "metadata": {},
   "outputs": [
    {
     "data": {
      "text/plain": [
       "<module 'Logistic_Reg' from '/Users/sergeiakhmadulin/My Drive/Simple NLP/Logistic_Reg.py'>"
      ]
     },
     "execution_count": 483,
     "metadata": {},
     "output_type": "execute_result"
    }
   ],
   "source": [
    "from importlib import reload\n",
    "reload(LR)"
   ]
  },
  {
   "cell_type": "code",
   "execution_count": 485,
   "id": "dd455cf9-cc88-44d5-8e32-db179511a651",
   "metadata": {},
   "outputs": [],
   "source": [
    "Log_reg = LR.MyLogisticRegression(learning_rate = 1, num_iterations = 50)\n",
    "model_name = \"BOW\""
   ]
  },
  {
   "cell_type": "code",
   "execution_count": 487,
   "id": "86c570f5-d652-4ae0-b798-1d70a8fec69d",
   "metadata": {
    "scrolled": true
   },
   "outputs": [
    {
     "name": "stdout",
     "output_type": "stream",
     "text": [
      "data stored 0\n",
      "data stored 1\n",
      "data stored 2\n",
      "data stored 3\n",
      "data stored 4\n",
      "data stored 5\n",
      "data stored 6\n",
      "data stored 7\n",
      "data stored 8\n",
      "data stored 9\n",
      "data stored 10\n",
      "data stored 11\n",
      "data stored 12\n",
      "data stored 13\n",
      "data stored 14\n",
      "data stored 15\n",
      "data stored 16\n",
      "data stored 17\n",
      "data stored 18\n",
      "data stored 19\n",
      "data stored 20\n",
      "data stored 21\n",
      "data stored 22\n",
      "data stored 23\n",
      "data stored 24\n",
      "data stored 25\n",
      "data stored 26\n",
      "data stored 27\n",
      "data stored 28\n",
      "data stored 29\n",
      "data stored 30\n",
      "data stored 31\n",
      "data stored 32\n",
      "data stored 33\n",
      "data stored 34\n",
      "data stored 35\n",
      "data stored 36\n",
      "data stored 37\n",
      "data stored 38\n",
      "data stored 39\n",
      "data stored 40\n",
      "data stored 41\n",
      "data stored 42\n",
      "data stored 43\n",
      "data stored 44\n",
      "data stored 45\n",
      "data stored 46\n",
      "data stored 47\n",
      "data stored 48\n",
      "data stored 49\n",
      "data stored 50\n",
      "data stored 51\n",
      "data stored 52\n",
      "data stored 53\n",
      "data stored 54\n",
      "data stored 55\n",
      "data stored 56\n",
      "data stored 57\n",
      "data stored 58\n",
      "data stored 59\n",
      "data stored 60\n",
      "data stored 61\n",
      "data stored 62\n",
      "data stored 63\n",
      "data stored 64\n",
      "data stored 65\n",
      "data stored 66\n",
      "data stored 67\n",
      "data stored 68\n",
      "data stored 69\n",
      "data stored 70\n",
      "data stored 71\n",
      "data stored 72\n",
      "data stored 73\n",
      "data stored 74\n",
      "data stored 75\n",
      "data stored 76\n",
      "data stored 77\n",
      "data stored 78\n",
      "data stored 79\n",
      "data stored 80\n",
      "data stored 81\n",
      "data stored 82\n",
      "data stored 83\n",
      "data stored 84\n",
      "data stored 85\n",
      "data stored 86\n",
      "data stored 87\n",
      "data stored 88\n",
      "data stored 89\n",
      "data stored 90\n",
      "data stored 91\n",
      "data stored 92\n",
      "data stored 93\n",
      "data stored 94\n",
      "data stored 95\n",
      "data stored 96\n",
      "data stored 97\n",
      "data stored 98\n",
      "data stored 99\n",
      "All models trained\n"
     ]
    }
   ],
   "source": [
    "w, p = train_model(Log_reg, model_name, X_train_mybag, y_train_mat, X_test_mybag, batchsize=32, \\\n",
    "                   resume_training = False, save_results = True)"
   ]
  },
  {
   "cell_type": "code",
   "execution_count": 489,
   "id": "997fc4b6-6b6a-451a-b9d5-d1a53cd9a46d",
   "metadata": {},
   "outputs": [],
   "source": [
    "all_weights_BOW = np.load('all_weights_'+ model_name +'.npy',allow_pickle='TRUE').item()\n",
    "all_preds_test_BOW = np.load('all_preds_'+ model_name +'.npy').astype(np.float16)\n",
    "all_preds_train_BOW = np.load('all_preds_train_'+ model_name +'.npy').astype(np.float16)"
   ]
  },
  {
   "cell_type": "code",
   "execution_count": 514,
   "id": "a6512c81-333d-477e-b209-577f9f01eec5",
   "metadata": {},
   "outputs": [],
   "source": [
    "#Finding the optimal threshold based on train data\n",
    "FPR, TPR, thresh = dict(), dict(), dict()\n",
    "opt_thresh = []\n",
    "for i in range(y_train_mat.shape[1]):\n",
    "    FPR[i], TPR[i], thresh[i] = rep_BOW.calculate_ROC(y_train_mat[:,i], all_preds_train[:,i])\n",
    "    opt_thresh.append(thresh[i][np.argmax(TPR[i] - FPR[i])])\n",
    "opt_thresh = np.sum(opt_thresh)/y_train_mat.shape[1]"
   ]
  },
  {
   "cell_type": "code",
   "execution_count": 580,
   "id": "cd80d6e6-df85-4349-b862-84498cecc73c",
   "metadata": {},
   "outputs": [
    {
     "name": "stdout",
     "output_type": "stream",
     "text": [
      "               precision   recall   f1-score\n",
      "\n",
      "    micro avg       0.94      0.27      0.41\n",
      "    macro avg       0.26      0.07      0.10\n",
      "    weighted avg    0.69      0.27      0.37\n",
      "\n"
     ]
    }
   ],
   "source": [
    "Y_train_zero_ones = (all_preds_train >= 0.5).astype(int)\n",
    "rep_BOW.calc_metrics(y_train_mat, Y_train_zero_ones)"
   ]
  },
  {
   "cell_type": "code",
   "execution_count": 501,
   "id": "b811760c-ec0e-40fc-876f-a557d5b83304",
   "metadata": {},
   "outputs": [
    {
     "name": "stdout",
     "output_type": "stream",
     "text": [
      "               precision   recall   f1-score\n",
      "\n",
      "    micro avg       0.83      0.56      0.67\n",
      "    macro avg       0.67      0.43      0.51\n",
      "    weighted avg    0.79      0.56      0.65\n",
      "\n"
     ]
    }
   ],
   "source": [
    "Y_test_zero_ones = (all_preds_test_BOW >= 0.5).astype(int)\n",
    "rep_BOW.calc_metrics(y_test_mat, Y_test_zero_ones)"
   ]
  },
  {
   "cell_type": "code",
   "execution_count": 505,
   "id": "994e7823-d772-4edd-8bce-433db164b745",
   "metadata": {},
   "outputs": [
    {
     "data": {
      "image/png": "[encoded data removed]",
      "text/plain": [
       "<Figure size 640x480 with 1 Axes>"
      ]
     },
     "metadata": {},
     "output_type": "display_data"
    }
   ],
   "source": [
    "rep_BOW.plot_ROC_curve(y_test_mat, all_preds_test_BOW)"
   ]
  },
  {
   "cell_type": "markdown",
   "id": "80539626",
   "metadata": {},
   "source": [
    "<a name=\"3.2\"></a>\n",
    "## 3.2 - Tfidf evaluation"
   ]
  },
  {
   "cell_type": "code",
   "execution_count": 297,
   "id": "c2018094",
   "metadata": {},
   "outputs": [],
   "source": [
    "Log_reg_tfidf = LR.MyLogisticRegression(learning_rate = 1, num_iterations = 50)\n",
    "model_name = \"TFIDF\""
   ]
  },
  {
   "cell_type": "code",
   "execution_count": null,
   "id": "47be5e7a-96f4-417a-a20b-15101bd0d66c",
   "metadata": {},
   "outputs": [],
   "source": [
    "rep_tfidf = CR.Report()"
   ]
  },
  {
   "cell_type": "code",
   "execution_count": 50,
   "id": "7f8673f3-ce09-478e-965b-a49bbbe2583c",
   "metadata": {},
   "outputs": [
    {
     "data": {
      "text/plain": [
       "<module 'Logistic_Reg' from '/Users/sergeiakhmadulin/My Drive/Simple NLP/Logistic_Reg.py'>"
      ]
     },
     "execution_count": 50,
     "metadata": {},
     "output_type": "execute_result"
    }
   ],
   "source": [
    "from importlib import reload\n",
    "reload(LR)"
   ]
  },
  {
   "cell_type": "code",
   "execution_count": 60,
   "id": "b5bc40bb",
   "metadata": {
    "scrolled": true
   },
   "outputs": [
    {
     "name": "stdout",
     "output_type": "stream",
     "text": [
      "[[ 0.01874138  0.00630206 -0.00246977 ...  0.00479603  0.01624999\n",
      "  -0.00336883]]\n",
      "data stored 0\n",
      "[[-0.00866407 -0.00828572 -0.00528473 ...  0.01025934  0.00666193\n",
      "  -0.00513879]]\n",
      "data stored 1\n",
      "[[ 0.01458438 -0.0014634   0.02739878 ...  0.00166368  0.00793565\n",
      "   0.01001653]]\n",
      "data stored 2\n",
      "[[ 0.00843229 -0.004792    0.02198047 ...  0.00262773  0.01852216\n",
      "   0.00269361]]\n",
      "data stored 3\n",
      "[[-0.00164182  0.00609618 -0.00133547 ...  0.00911157 -0.00257869\n",
      "   0.02353691]]\n",
      "data stored 4\n",
      "[[-0.0073738   0.00050356 -0.0003884  ...  0.00449843 -0.0042739\n",
      "  -0.00800738]]\n",
      "data stored 5\n",
      "[[-0.00974033  0.00640593 -0.00670477 ... -0.0028785  -0.00846947\n",
      "   0.01409349]]\n",
      "data stored 6\n",
      "[[ 2.01507899e-02 -1.09555222e-02 -1.11727710e-02 ...  4.82766831e-03\n",
      "   6.90446530e-05 -2.31155496e-02]]\n",
      "data stored 7\n",
      "[[ 0.00575715  0.01559327  0.01247837 ... -0.01307338 -0.00447883\n",
      "  -0.00894575]]\n",
      "data stored 8\n",
      "[[-0.0202689   0.0046734   0.00367232 ... -0.0140564  -0.01290472\n",
      "  -0.00145575]]\n",
      "data stored 9\n",
      "[[ 0.01925929 -0.00680541 -0.01426278 ... -0.00184075 -0.00781963\n",
      "  -0.00859859]]\n",
      "data stored 10\n",
      "[[-0.01409221  0.00499927 -0.00406351 ... -0.00522468 -0.00563437\n",
      "  -0.00560679]]\n",
      "data stored 11\n",
      "[[ 0.00300289 -0.007911    0.0034803  ...  0.00094299 -0.00801107\n",
      "  -0.00919033]]\n",
      "data stored 12\n",
      "[[ 0.00890622  0.00241848  0.00321177 ...  0.0100388  -0.00982039\n",
      "   0.01142211]]\n",
      "data stored 13\n",
      "[[ 0.0041885   0.00535255  0.01084609 ...  0.00127103 -0.00867602\n",
      "   0.00918275]]\n",
      "data stored 14\n",
      "[[ 0.00669619  0.00854285  0.0027954  ... -0.00144166  0.00081179\n",
      "   0.00551889]]\n",
      "data stored 15\n",
      "[[ 0.00290468 -0.00412603 -0.0134981  ... -0.0098922   0.01105645\n",
      "   0.00106228]]\n",
      "data stored 16\n",
      "[[-0.01472376  0.01299673 -0.00572865 ...  0.0108166   0.00088753\n",
      "   0.01616785]]\n",
      "data stored 17\n",
      "[[-0.01525358 -0.00741726  0.02140945 ... -0.0141806   0.01770055\n",
      "  -0.00418161]]\n",
      "data stored 18\n",
      "[[-0.00860314 -0.02210968 -0.00047213 ... -0.00027977 -0.00081977\n",
      "  -0.00661271]]\n",
      "data stored 19\n",
      "[[-0.00883499 -0.01703456  0.00398639 ...  0.0102149  -0.00867628\n",
      "  -0.00320648]]\n",
      "data stored 20\n",
      "[[-0.01612582  0.00530108 -0.00452789 ...  0.00741471  0.00234014\n",
      "   0.01904011]]\n",
      "data stored 21\n",
      "[[-0.0113627   0.000494    0.01018433 ... -0.01568987  0.01073368\n",
      "  -0.00174644]]\n",
      "data stored 22\n",
      "[[-0.01789993 -0.01011879  0.00718971 ... -0.00213342 -0.01356321\n",
      "  -0.00047886]]\n",
      "data stored 23\n",
      "[[ 6.40618506e-04 -1.55719674e-02 -9.74888378e-03 ...  3.72141987e-03\n",
      "  -3.43477716e-03 -4.21265737e-05]]\n",
      "data stored 24\n",
      "[[ 0.01659502 -0.01549002 -0.01465378 ...  0.00110766  0.01548094\n",
      "  -0.00477383]]\n",
      "data stored 25\n",
      "[[ 0.0178605   0.00314986 -0.00987908 ... -0.00782016 -0.00078617\n",
      "   0.00260484]]\n",
      "data stored 26\n",
      "[[-0.01255703 -0.00914002  0.00952652 ... -0.00057142 -0.00180637\n",
      "   0.01624112]]\n",
      "data stored 27\n",
      "[[-0.00318546 -0.00275876 -0.00207996 ... -0.00305502  0.01040178\n",
      "  -0.00624275]]\n",
      "data stored 28\n",
      "[[-0.00339781  0.00691667 -0.00430048 ... -0.01004677  0.00668276\n",
      "   0.00557808]]\n",
      "data stored 29\n",
      "[[ 0.00890092  0.00488022 -0.00615008 ... -0.00588903 -0.00665537\n",
      "   0.00999019]]\n",
      "data stored 30\n",
      "[[-0.00355995 -0.00167794  0.01283637 ... -0.003638    0.0049882\n",
      "  -0.00940133]]\n",
      "data stored 31\n",
      "[[ 0.01263738  0.00236381 -0.01556718 ... -0.00110641 -0.01678631\n",
      "  -0.00822982]]\n",
      "data stored 32\n",
      "[[-0.00484503 -0.00368887 -0.02094902 ...  0.01633951  0.0091453\n",
      "  -0.01086671]]\n",
      "data stored 33\n",
      "[[-0.00216893  0.01460013  0.02417557 ... -0.00654545  0.00789126\n",
      "   0.00246339]]\n",
      "data stored 34\n",
      "[[-0.01209955  0.00705753  0.0143299  ...  0.01161656  0.00280079\n",
      "  -0.0103892 ]]\n",
      "data stored 35\n",
      "[[-0.02687683  0.00206032  0.00796644 ...  0.0143569  -0.00939107\n",
      "   0.00667015]]\n",
      "data stored 36\n",
      "[[ 0.00432451 -0.00302891  0.01716203 ...  0.00335173 -0.00511705\n",
      "  -0.00870806]]\n",
      "data stored 37\n",
      "[[-0.01006175 -0.00975494  0.00151109 ... -0.01338754 -0.00536381\n",
      "  -0.01579221]]\n",
      "data stored 38\n",
      "[[-0.00123122  0.00103556 -0.00297968 ...  0.00215453 -0.00468818\n",
      "  -0.01195407]]\n",
      "data stored 39\n",
      "[[-0.003655   -0.0042588   0.01366114 ... -0.00211526 -0.00404162\n",
      "   0.00967642]]\n",
      "data stored 40\n",
      "[[-0.00684433  0.02448958  0.02079608 ... -0.01610542  0.00235456\n",
      "  -0.0070941 ]]\n",
      "data stored 41\n",
      "[[ 0.00447    -0.01025726  0.00629174 ... -0.01192947  0.00646465\n",
      "  -0.02196174]]\n",
      "data stored 42\n",
      "[[ 0.00580196  0.00894657 -0.00410889 ... -0.01465973 -0.00665948\n",
      "  -0.00704211]]\n",
      "data stored 43\n",
      "[[-0.00752568 -0.00251206  0.0024119  ...  0.01377521 -0.00274384\n",
      "  -0.0012816 ]]\n",
      "data stored 44\n",
      "[[ 0.00492613 -0.00197618  0.00464173 ...  0.01084182 -0.01017196\n",
      "  -0.0053102 ]]\n",
      "data stored 45\n",
      "[[ 0.01392406 -0.0078166  -0.00137541 ... -0.00272734  0.01319043\n",
      "  -0.00305232]]\n",
      "data stored 46\n",
      "[[-0.00798546 -0.01762081 -0.00345372 ... -0.00323594  0.00139223\n",
      "  -0.00537974]]\n",
      "data stored 47\n",
      "[[-0.00382639 -0.00734732 -0.01498724 ... -0.00456349  0.00873642\n",
      "   0.01366729]]\n",
      "data stored 48\n",
      "[[-0.00812277  0.00630725  0.00279717 ... -0.00619962 -0.00085207\n",
      "  -0.00320462]]\n",
      "data stored 49\n",
      "[[-0.00179991 -0.00381845  0.00097594 ... -0.00577864  0.01185624\n",
      "  -0.00972311]]\n",
      "data stored 50\n",
      "[[ 0.02470786 -0.00215337  0.00754166 ... -0.00398626  0.01419351\n",
      "   0.00478473]]\n",
      "data stored 51\n",
      "[[-0.00212565  0.00697965 -0.01669907 ...  0.00507895 -0.00462185\n",
      "   0.01425616]]\n",
      "data stored 52\n",
      "[[-0.00159531  0.00522048 -0.01312873 ... -0.00404218  0.03483552\n",
      "  -0.01379314]]\n",
      "data stored 53\n",
      "[[-0.00761522 -0.00982201 -0.01481143 ... -0.01618109  0.01396549\n",
      "  -0.00478787]]\n",
      "data stored 54\n",
      "[[-0.00539389  0.00083504 -0.00617803 ... -0.00564366 -0.01102607\n",
      "  -0.00562027]]\n",
      "data stored 55\n",
      "[[-0.00210729  0.01478689  0.0073696  ... -0.00271606  0.006529\n",
      "  -0.00814011]]\n",
      "data stored 56\n",
      "[[-0.01525962  0.00082572 -0.0028278  ...  0.00168187 -0.00255459\n",
      "   0.00676803]]\n",
      "data stored 57\n",
      "[[-0.00484819  0.01260662 -0.01712972 ...  0.00926097  0.01060641\n",
      "  -0.00340458]]\n",
      "data stored 58\n",
      "[[-0.0065211   0.00904431  0.02920423 ... -0.00363556 -0.00907162\n",
      "  -0.00485444]]\n",
      "data stored 59\n",
      "[[-0.00635296  0.00189321 -0.01700355 ... -0.00184517 -0.01080759\n",
      "   0.00508535]]\n",
      "data stored 60\n",
      "[[-0.0132253   0.00523182 -0.01485879 ...  0.0243811   0.0088912\n",
      "   0.00372665]]\n",
      "data stored 61\n",
      "[[ 0.01446452 -0.00801862 -0.01639387 ...  0.0027681  -0.00998228\n",
      "   0.01356727]]\n",
      "data stored 62\n",
      "[[-0.0017182   0.00104714  0.01489428 ... -0.00827002  0.01233033\n",
      "  -0.00727146]]\n",
      "data stored 63\n",
      "[[ 0.00134732 -0.02528539 -0.00375482 ...  0.00200707  0.0030835\n",
      "   0.01014046]]\n",
      "data stored 64\n",
      "[[ 0.00135785 -0.01113735  0.00214846 ... -0.00408093  0.00589761\n",
      "   0.01113472]]\n",
      "data stored 65\n",
      "[[-0.01351956  0.00223124 -0.00539534 ...  0.01044145  0.00175835\n",
      "  -0.00255862]]\n",
      "data stored 66\n",
      "[[-0.00165827 -0.00527091 -0.01133623 ... -0.00859635 -0.00727678\n",
      "   0.00040886]]\n",
      "data stored 67\n",
      "[[ 0.0123009  -0.00578141 -0.02449681 ... -0.01163016 -0.00899614\n",
      "  -0.00422974]]\n",
      "data stored 68\n",
      "[[-0.00235215  0.01739699 -0.00606321 ...  0.00692087 -0.00449972\n",
      "   0.01450019]]\n",
      "data stored 69\n",
      "[[-0.01726846 -0.00327997 -0.02814429 ... -0.01530139  0.01613496\n",
      "  -0.00341226]]\n",
      "data stored 70\n",
      "[[ 0.00743257 -0.0168363  -0.00146591 ...  0.00914457  0.0051981\n",
      "  -0.00526134]]\n",
      "data stored 71\n",
      "[[ 0.01130973  0.00717905  0.00706833 ...  0.00786915 -0.01435986\n",
      "   0.0040797 ]]\n",
      "data stored 72\n",
      "[[-0.00488111  0.00911743 -0.00660448 ...  0.00393822  0.01065792\n",
      "  -0.01460219]]\n",
      "data stored 73\n",
      "[[-8.40397309e-03  1.34313842e-02  3.29330272e-04 ...  4.22447061e-03\n",
      "   1.01013015e-02 -3.99929165e-05]]\n",
      "data stored 74\n",
      "[[ 0.00230986 -0.00086677 -0.00877277 ...  0.00048225  0.00733078\n",
      "  -0.0013504 ]]\n",
      "data stored 75\n",
      "[[ 0.0061222   0.00551486 -0.01596005 ...  0.00123502  0.01635786\n",
      "  -0.0028134 ]]\n",
      "data stored 76\n",
      "[[ 0.00051546 -0.00444781 -0.00432666 ... -0.00359723 -0.00739294\n",
      "  -0.01390719]]\n",
      "data stored 77\n",
      "[[ 0.00210455 -0.02549799 -0.00484886 ... -0.00815126  0.00851952\n",
      "   0.01565505]]\n",
      "data stored 78\n",
      "[[ 0.0017999   0.00135291  0.01414513 ...  0.00881817 -0.01103186\n",
      "   0.0080527 ]]\n",
      "data stored 79\n",
      "[[ 0.01960104  0.01769321  0.01058664 ... -0.00132873 -0.00800336\n",
      "   0.02632404]]\n",
      "data stored 80\n",
      "[[-0.01082867 -0.0171997  -0.00653108 ... -0.0075594   0.00250435\n",
      "   0.00099476]]\n",
      "data stored 81\n",
      "[[-0.00113514 -0.00549749  0.00497993 ...  0.01185452 -0.02733391\n",
      "   0.00158787]]\n",
      "data stored 82\n",
      "[[-0.0234067   0.00614036  0.008845   ...  0.00125554  0.01264771\n",
      "  -0.00416289]]\n",
      "data stored 83\n",
      "[[ 0.01147371 -0.00952317 -0.00907718 ... -0.00110371  0.00398732\n",
      "  -0.0041632 ]]\n",
      "data stored 84\n",
      "[[ 0.0004006  -0.00197065 -0.00852759 ...  0.00247118 -0.00058353\n",
      "  -0.00361976]]\n",
      "data stored 85\n",
      "[[-0.0097024   0.00191488  0.01722788 ... -0.00060663  0.01094842\n",
      "  -0.00119075]]\n",
      "data stored 86\n",
      "[[-0.00249406  0.00542267  0.0006369  ... -0.00633128 -0.00833181\n",
      "   0.00745158]]\n",
      "data stored 87\n",
      "[[ 0.00223961  0.00032655 -0.0013676  ...  0.00985769  0.00851022\n",
      "  -0.00759782]]\n",
      "data stored 88\n",
      "[[ 0.00557763 -0.00613662  0.02931381 ... -0.01303504 -0.00595093\n",
      "  -0.00370411]]\n",
      "data stored 89\n",
      "[[ 0.01517655  0.00419019  0.00065406 ... -0.00154536 -0.01390018\n",
      "  -0.0163403 ]]\n",
      "data stored 90\n",
      "[[-0.00226343  0.01575368 -0.00839194 ... -0.00183587  0.01517685\n",
      "   0.00815292]]\n",
      "data stored 91\n",
      "[[-0.0091126  -0.00026822 -0.00399999 ...  0.00822864  0.00194953\n",
      "   0.00647038]]\n",
      "data stored 92\n",
      "[[ 0.00250341 -0.00926628 -0.00663079 ...  0.00285873  0.00254888\n",
      "   0.00132782]]\n",
      "data stored 93\n",
      "[[ 0.00804363  0.0022516  -0.00271334 ... -0.0066574   0.00734608\n",
      "  -0.00980885]]\n",
      "data stored 94\n",
      "[[-0.00587996  0.00058365  0.00627275 ...  0.00089687 -0.01763316\n",
      "   0.00627427]]\n",
      "data stored 95\n",
      "[[-0.00502738 -0.00191446 -0.00077583 ...  0.00358083  0.01757946\n",
      "   0.01784746]]\n",
      "data stored 96\n",
      "[[ 0.01101584  0.00077439  0.00871781 ... -0.00861531  0.01090924\n",
      "   0.01151741]]\n",
      "data stored 97\n",
      "[[-0.00819394  0.00306964  0.00352386 ...  0.02094384 -0.00629433\n",
      "   0.00212523]]\n",
      "data stored 98\n",
      "[[ 0.00770778  0.00550085 -0.01100823 ... -0.00677556 -0.00294172\n",
      "  -0.00384896]]\n",
      "data stored 99\n",
      "All models trained\n"
     ]
    }
   ],
   "source": [
    "w, p = train_model(Log_reg_tfidf, model_name, X_train_tfidf, y_train_mat, X_test_tfidf, batchsize=32, \\\n",
    "                   resume_training = False, save_results = True)"
   ]
  },
  {
   "cell_type": "code",
   "execution_count": 299,
   "id": "abb050fc-7318-47af-a318-0848b724a83f",
   "metadata": {},
   "outputs": [],
   "source": [
    "all_weights_tfidf = np.load('all_weights_'+ model_name +'.npy',allow_pickle='TRUE').item()\n",
    "all_preds_test_tfidf = np.load('all_preds_'+ model_name +'.npy').astype(np.float16)\n",
    "all_preds_train_tfidf = np.load('all_preds_train_'+ model_name +'.npy').astype(np.float16)"
   ]
  },
  {
   "cell_type": "code",
   "execution_count": 76,
   "id": "48e4e42a-3f61-4f9a-94b2-8f207e49b981",
   "metadata": {},
   "outputs": [
    {
     "name": "stdout",
     "output_type": "stream",
     "text": [
      "               precision   recall   f1-score\n",
      "\n",
      "    micro avg       0.86      0.55      0.67\n",
      "    macro avg       0.71      0.41      0.51\n",
      "    weighted avg    0.82      0.55      0.65\n",
      "\n"
     ]
    }
   ],
   "source": [
    "Y_train_zero_ones_tfidf = (all_preds_test_tfidf >= 0.5).astype(int)\n",
    "rep_tfidf.calc_metrics(y_test_mat, Y_train_zero_ones_tfidf)"
   ]
  },
  {
   "cell_type": "code",
   "execution_count": 80,
   "id": "c16d9c47-c937-4904-9e3d-e549f0fc486b",
   "metadata": {},
   "outputs": [
    {
     "data": {
      "image/png": "[encoded data removed]",
      "text/plain": [
       "<Figure size 640x480 with 1 Axes>"
      ]
     },
     "metadata": {},
     "output_type": "display_data"
    }
   ],
   "source": [
    "rep.plot_ROC_curve(y_test_mat, all_preds_test_tfidf)"
   ]
  },
  {
   "cell_type": "markdown",
   "id": "117b65af",
   "metadata": {},
   "source": [
    "<a name=\"3.3\"></a>\n",
    "## 3.3 - CBOW evaluation"
   ]
  },
  {
   "cell_type": "code",
   "execution_count": 409,
   "id": "78e47e64",
   "metadata": {},
   "outputs": [],
   "source": [
    "Log_reg_cbow = LR.MyLogisticRegression(learning_rate = 1, num_iterations = 50)\n",
    "model_name = \"CBOW\""
   ]
  },
  {
   "cell_type": "code",
   "execution_count": 507,
   "id": "ac512815-3919-45ef-8fb7-ce9b000b5dcf",
   "metadata": {},
   "outputs": [],
   "source": [
    "rep_CBOW = CR.Report()"
   ]
  },
  {
   "cell_type": "code",
   "execution_count": 411,
   "id": "ea6d348a",
   "metadata": {
    "scrolled": true
   },
   "outputs": [
    {
     "name": "stdout",
     "output_type": "stream",
     "text": [
      "[[ 0.00691169  0.0035367  -0.00979832 ... -0.0013318  -0.00695445\n",
      "  -0.00288814]]\n",
      "data stored 0\n",
      "[[ 0.00415692 -0.01329574 -0.00081818 ... -0.00491654 -0.0057894\n",
      "  -0.0152766 ]]\n",
      "data stored 1\n",
      "[[ 1.59903566e-02 -4.48347199e-03 -7.94088757e-05 ... -2.93300294e-03\n",
      "  -1.13690211e-03  2.09833674e-03]]\n",
      "data stored 2\n",
      "[[ 0.00108428 -0.00823013  0.00482066 ...  0.00170289 -0.02443868\n",
      "   0.01428443]]\n",
      "data stored 3\n",
      "[[ 0.01398053  0.01764637 -0.00218093 ...  0.00978569 -0.02335522\n",
      "   0.00276067]]\n",
      "data stored 4\n",
      "[[-0.00479951 -0.00151623  0.01641591 ... -0.01221714  0.01634912\n",
      "   0.00135505]]\n",
      "data stored 5\n",
      "[[-0.00214523  0.00325312 -0.01025122 ...  0.00835063  0.00274783\n",
      "   0.00485003]]\n",
      "data stored 6\n",
      "[[-0.0080777  -0.00408422  0.00871697 ...  0.00681296  0.00218065\n",
      "   0.00721134]]\n",
      "data stored 7\n",
      "[[-0.01462386 -0.00571847  0.01331836 ...  0.00839894 -0.00910551\n",
      "  -0.01688356]]\n",
      "data stored 8\n",
      "[[-0.00492414  0.00139713  0.00406046 ...  0.00847382  0.01683538\n",
      "   0.00871918]]\n",
      "data stored 9\n",
      "[[ 0.01221275 -0.00033683 -0.00087052 ...  0.00395393 -0.00524053\n",
      "  -0.00303832]]\n",
      "data stored 10\n",
      "[[-0.01101456  0.02132597  0.0007158  ...  0.01126802 -0.01443039\n",
      "  -0.00423254]]\n",
      "data stored 11\n",
      "[[-0.00945943  0.00027119 -0.00825333 ...  0.00052695  0.00502967\n",
      "  -0.01098656]]\n",
      "data stored 12\n",
      "[[ 0.00447441 -0.00347337  0.00020014 ...  0.01198817  0.00190267\n",
      "  -0.01331859]]\n",
      "data stored 13\n",
      "[[ 5.28820978e-03 -7.32640111e-03 -1.94689855e-03 ... -6.07423984e-05\n",
      "  -3.81450990e-03 -5.78978659e-03]]\n",
      "data stored 14\n",
      "[[-0.0104581   0.00637836  0.0036312  ... -0.00120021 -0.00272074\n",
      "   0.01125462]]\n",
      "data stored 15\n",
      "[[ 0.00698048  0.00571807 -0.00968682 ... -0.00118844 -0.01570224\n",
      "  -0.01338998]]\n",
      "data stored 16\n",
      "[[ 0.01481662 -0.00704508 -0.00138892 ... -0.00172034  0.00589215\n",
      "   0.00087483]]\n",
      "data stored 17\n",
      "[[-0.00928734  0.00052765 -0.00785263 ...  0.00446749 -0.00886671\n",
      "   0.00225821]]\n",
      "data stored 18\n",
      "[[ 0.01447574 -0.0057607  -0.00583248 ... -0.00810556 -0.01674743\n",
      "  -0.01163146]]\n",
      "data stored 19\n",
      "[[ 0.01377444 -0.01103202  0.01829822 ...  0.01201152 -0.01456049\n",
      "  -0.00464575]]\n",
      "data stored 20\n",
      "[[-0.00250339  0.00630959  0.01361461 ...  0.00514737  0.00236261\n",
      "   0.01774644]]\n",
      "data stored 21\n",
      "[[-0.00730175  0.00607416  0.00517814 ...  0.00297757 -0.00688506\n",
      "   0.02905986]]\n",
      "data stored 22\n",
      "[[ 0.00104904 -0.00159713  0.00178507 ... -0.01520731  0.0111346\n",
      "  -0.0248352 ]]\n",
      "data stored 23\n",
      "[[ 0.01207764 -0.01820966 -0.0041769  ... -0.0221568   0.01283552\n",
      "  -0.00484939]]\n",
      "data stored 24\n",
      "[[-0.00805651 -0.0030518   0.00103018 ...  0.01568149 -0.00294697\n",
      "   0.00060405]]\n",
      "data stored 25\n",
      "[[ 0.00814013  0.00143845 -0.01206287 ... -0.00017415  0.01143152\n",
      "   0.00677876]]\n",
      "data stored 26\n",
      "[[-0.0164206   0.00794831  0.00287516 ...  0.00997696  0.00302899\n",
      "  -0.00885845]]\n",
      "data stored 27\n",
      "[[ 0.00398957 -0.00741037 -0.00950215 ... -0.00923178 -0.01605042\n",
      "   0.01635577]]\n",
      "data stored 28\n",
      "[[-0.00529432  0.00374083 -0.00203261 ... -0.01098778 -0.01322984\n",
      "   0.00042931]]\n",
      "data stored 29\n",
      "[[-0.00610544  0.00697688  0.01044356 ...  0.00502387 -0.00398046\n",
      "  -0.00227091]]\n",
      "data stored 30\n",
      "[[ 0.00651903  0.00497087  0.01179194 ...  0.00226598 -0.00444131\n",
      "  -0.00392435]]\n",
      "data stored 31\n",
      "[[ 0.01240337 -0.00984751  0.00350064 ... -0.00098792  0.01770008\n",
      "  -0.00248511]]\n",
      "data stored 32\n",
      "[[0.00212549 0.00700285 0.00194179 ... 0.00684469 0.0223924  0.00544428]]\n",
      "data stored 33\n",
      "[[-1.34480264e-02 -5.96113388e-03  1.42959780e-02 ...  1.14180997e-02\n",
      "  -8.19091677e-06 -6.96076575e-03]]\n",
      "data stored 34\n",
      "[[ 0.00608092 -0.00734501  0.00093781 ... -0.00681226 -0.00425772\n",
      "   0.00548902]]\n",
      "data stored 35\n",
      "[[ 0.00757937  0.01271324  0.00762129 ...  0.00100618 -0.0129564\n",
      "  -0.00681537]]\n",
      "data stored 36\n",
      "[[ 0.00959973  0.00481506 -0.00340371 ...  0.00499283  0.00515291\n",
      "  -0.0217609 ]]\n",
      "data stored 37\n",
      "[[ 0.01798055  0.01674217 -0.00305149 ... -0.01974902  0.01787191\n",
      "   0.00215732]]\n",
      "data stored 38\n",
      "[[-0.00416029  0.00089137  0.00213969 ... -0.01818635  0.00020834\n",
      "   0.0070104 ]]\n",
      "data stored 39\n",
      "[[-0.00190507  0.00650469  0.00761228 ...  0.00227088  0.00438187\n",
      "   0.01750293]]\n",
      "data stored 40\n",
      "[[0.01364321 0.00792741 0.0074366  ... 0.00659631 0.00159791 0.00236297]]\n",
      "data stored 41\n",
      "[[-0.00223948  0.00452989 -0.00432288 ...  0.00187247  0.00848958\n",
      "   0.01708619]]\n",
      "data stored 42\n",
      "[[ 0.00737706  0.01212143 -0.00707041 ... -0.00869522 -0.00212588\n",
      "  -0.00718745]]\n",
      "data stored 43\n",
      "[[-1.48651563e-02 -1.53344997e-03 -7.53547493e-03 ...  1.15895794e-02\n",
      "  -7.80680824e-06 -2.04757862e-03]]\n",
      "data stored 44\n",
      "[[ 0.01264447 -0.00058962 -0.00697431 ...  0.00688335  0.02071785\n",
      "   0.00637273]]\n",
      "data stored 45\n",
      "[[ 0.00257508 -0.00967377  0.01470154 ... -0.00287526 -0.02195479\n",
      "  -0.00786531]]\n",
      "data stored 46\n",
      "[[ 0.0032623  -0.01928863  0.01809818 ... -0.00038679  0.01726021\n",
      "  -0.01108149]]\n",
      "data stored 47\n",
      "[[ 0.00675577 -0.0055114  -0.00201359 ... -0.00720411 -0.00639339\n",
      "  -0.01706547]]\n",
      "data stored 48\n",
      "[[-0.00395004 -0.0096269  -0.00155457 ... -0.0086522  -0.00619906\n",
      "  -0.00327291]]\n",
      "data stored 49\n",
      "[[ 0.00751878  0.0054813   0.00112138 ... -0.01075464 -0.00424968\n",
      "   0.01369373]]\n",
      "data stored 50\n",
      "[[-0.00632839 -0.00031091  0.00057375 ...  0.00245437  0.02411354\n",
      "  -0.00987774]]\n",
      "data stored 51\n",
      "[[-0.01369337  0.00559411  0.01056413 ... -0.01953631 -0.00625517\n",
      "   0.00042882]]\n",
      "data stored 52\n",
      "[[-0.00042399 -0.00812916 -0.00857422 ... -0.01267591 -0.00948529\n",
      "   0.00656998]]\n",
      "data stored 53\n",
      "[[ 0.00896043  0.01361816 -0.01127872 ...  0.00540555  0.00024789\n",
      "  -0.01465288]]\n",
      "data stored 54\n",
      "[[-6.91463388e-03 -8.50346045e-03 -2.72031302e-05 ... -4.67954424e-03\n",
      "   1.23632436e-02 -1.18124366e-03]]\n",
      "data stored 55\n",
      "[[ 0.01029191  0.0145627   0.01022377 ...  0.00012178 -0.00146782\n",
      "   0.02078065]]\n",
      "data stored 56\n",
      "[[-0.00398731  0.00646029  0.01159752 ... -0.00381983  0.00809055\n",
      "  -0.00025824]]\n",
      "data stored 57\n",
      "[[-0.00196938 -0.01705372 -0.01223724 ... -0.00260728 -0.00943007\n",
      "  -0.00234169]]\n",
      "data stored 58\n",
      "[[-0.00543136 -0.01180616  0.00689101 ...  0.01300365 -0.00398016\n",
      "  -0.00828034]]\n",
      "data stored 59\n",
      "[[-0.00918085 -0.00538971  0.01994732 ... -0.00012457  0.01187572\n",
      "  -0.01094319]]\n",
      "data stored 60\n",
      "[[-0.00222457  0.01233728  0.01083003 ...  0.00373118  0.00511858\n",
      "  -0.00596994]]\n",
      "data stored 61\n",
      "[[ 0.00254438 -0.00046621  0.00230068 ... -0.00557063  0.00538854\n",
      "  -0.00340319]]\n",
      "data stored 62\n",
      "[[ 0.00070242 -0.00139556 -0.00177583 ...  0.00951583 -0.00696758\n",
      "  -0.00176685]]\n",
      "data stored 63\n",
      "[[ 0.01443685  0.0179943   0.00131597 ...  0.00983292 -0.00561697\n",
      "  -0.0036385 ]]\n",
      "data stored 64\n",
      "[[-0.00449648  0.00119087 -0.00132063 ... -0.0040179   0.00385096\n",
      "   0.00479244]]\n",
      "data stored 65\n",
      "[[-0.00133489  0.0065594   0.01570206 ...  0.0021795  -0.01490406\n",
      "  -0.00344369]]\n",
      "data stored 66\n",
      "[[ 0.0144587   0.00467023 -0.00488688 ...  0.00073843 -0.0036423\n",
      "   0.0131017 ]]\n",
      "data stored 67\n",
      "[[ 0.00733332 -0.00143506  0.00416677 ...  0.00975419 -0.00920012\n",
      "   0.01131464]]\n",
      "data stored 68\n",
      "[[ 0.00747626 -0.00474703 -0.01089901 ... -0.00776957 -0.0097094\n",
      "  -0.0075895 ]]\n",
      "data stored 69\n",
      "[[ 0.00207663  0.0051349   0.00430713 ...  0.01138015 -0.00728818\n",
      "  -0.00342411]]\n",
      "data stored 70\n",
      "[[-0.02207651 -0.01136149  0.00717197 ... -0.00028498  0.00271048\n",
      "   0.01079176]]\n",
      "data stored 71\n",
      "[[-0.00316871  0.01661749  0.00775521 ...  0.00253295  0.00072211\n",
      "   0.00669067]]\n",
      "data stored 72\n",
      "[[ 0.00895891  0.01107825  0.00067841 ...  0.0179136  -0.01612424\n",
      "  -0.00604338]]\n",
      "data stored 73\n",
      "[[-0.00522168  0.00139787  0.00381284 ... -0.00400757 -0.00560662\n",
      "  -0.01234252]]\n",
      "data stored 74\n",
      "[[-0.00026552 -0.01569888  0.00487656 ...  0.01650646 -0.00376945\n",
      "  -0.00675462]]\n",
      "data stored 75\n",
      "[[ 0.00029188 -0.00224088 -0.01955209 ... -0.01451895  0.01899766\n",
      "  -0.00357875]]\n",
      "data stored 76\n",
      "[[ 0.00406006  0.00415787  0.00053778 ... -0.00992291  0.00042485\n",
      "   0.00235407]]\n",
      "data stored 77\n",
      "[[ 0.00358614 -0.00494251  0.00122731 ...  0.01082534  0.00882893\n",
      "  -0.00492687]]\n",
      "data stored 78\n",
      "[[-8.89922200e-05 -2.12654849e-03  5.93947393e-03 ...  7.59670343e-03\n",
      "   2.27668442e-02  1.26713515e-03]]\n",
      "data stored 79\n",
      "[[-0.0011381   0.00595647  0.00490482 ... -0.00141543  0.0076339\n",
      "  -0.00115968]]\n",
      "data stored 80\n",
      "[[ 0.00247851  0.01189269  0.00287041 ... -0.00206291 -0.00410346\n",
      "   0.00948663]]\n",
      "data stored 81\n",
      "[[-0.00651958  0.00707941 -0.01140518 ... -0.0014479   0.00621539\n",
      "   0.0008847 ]]\n",
      "data stored 82\n",
      "[[ 4.98894632e-03 -3.27433306e-05  2.69521343e-04 ...  1.14107636e-02\n",
      "  -5.24032815e-03 -7.02861611e-04]]\n",
      "data stored 83\n",
      "[[-0.00950941  0.01182267 -0.01541711 ...  0.0024172   0.00044384\n",
      "   0.00879649]]\n",
      "data stored 84\n",
      "[[ 0.01064098  0.00811217 -0.00037221 ...  0.0098685   0.00846905\n",
      "  -0.00683157]]\n",
      "data stored 85\n",
      "[[ 0.01832495 -0.01485191  0.01489348 ...  0.00216492 -0.00222851\n",
      "   0.00142283]]\n",
      "data stored 86\n",
      "[[ 0.00797497 -0.01517008  0.00050536 ... -0.00877723 -0.00409637\n",
      "   0.00422632]]\n",
      "data stored 87\n",
      "[[-0.0135414  -0.00011099  0.00209038 ... -0.00078287  0.00616978\n",
      "   0.01914111]]\n",
      "data stored 88\n",
      "[[ 1.14863785e-02  4.13633050e-03  8.07795118e-03 ... -4.00651009e-03\n",
      "  -7.12248608e-05 -9.13097112e-03]]\n",
      "data stored 89\n",
      "[[-0.00024964 -0.00895785  0.00530015 ...  0.00480141  0.0096351\n",
      "  -0.01533673]]\n",
      "data stored 90\n",
      "[[-0.02381894  0.01084185  0.00031662 ... -0.00121316 -0.01281106\n",
      "   0.00681819]]\n",
      "data stored 91\n",
      "[[-0.00587698 -0.01729475  0.00897084 ...  0.00369889 -0.00149276\n",
      "  -0.0064981 ]]\n",
      "data stored 92\n",
      "[[ 0.01245898 -0.02335895 -0.00636664 ...  0.01010936  0.01008446\n",
      "   0.00626536]]\n",
      "data stored 93\n",
      "[[-0.00012504 -0.00687503  0.01288692 ...  0.00495874 -0.0041988\n",
      "   0.0050888 ]]\n",
      "data stored 94\n",
      "[[-0.00709744 -0.00788774 -0.00797642 ... -0.00740438  0.01729523\n",
      "   0.0139097 ]]\n",
      "data stored 95\n",
      "[[-0.00494975 -0.01057379 -0.01109387 ...  0.01127253 -0.00679033\n",
      "  -0.01057464]]\n",
      "data stored 96\n",
      "[[ 0.00222247  0.00820713 -0.01065985 ... -0.01897307  0.01484595\n",
      "   0.00201655]]\n",
      "data stored 97\n",
      "[[-0.0108788   0.00633637  0.00439314 ...  0.01462794 -0.00764467\n",
      "  -0.00508207]]\n",
      "data stored 98\n",
      "[[ 0.00737673  0.00104037  0.00251517 ... -0.00654447  0.01309294\n",
      "  -0.01218004]]\n",
      "data stored 99\n",
      "All models trained\n"
     ]
    }
   ],
   "source": [
    "w, p = train_model(Log_reg_tfidf, model_name, X_train_cbow, y_train_mat, X_test_cbow, batchsize=32, \\\n",
    "                   resume_training = False, save_results = True)"
   ]
  },
  {
   "cell_type": "code",
   "execution_count": 413,
   "id": "73100098-8be7-444d-ab81-4129fcd478d1",
   "metadata": {},
   "outputs": [],
   "source": [
    "all_weights_cbow = np.load('all_weights_'+ model_name +'.npy',allow_pickle='TRUE').item()\n",
    "all_preds_test_cbow = np.load('all_preds_'+ model_name +'.npy').astype(np.float16)\n",
    "all_preds_train_cbow = np.load('all_preds_train_'+ model_name +'.npy').astype(np.float16)"
   ]
  },
  {
   "cell_type": "code",
   "execution_count": 509,
   "id": "48787c78-6a82-4e27-bf4a-b92796fe27c9",
   "metadata": {},
   "outputs": [
    {
     "name": "stdout",
     "output_type": "stream",
     "text": [
      "               precision   recall   f1-score\n",
      "\n",
      "    micro avg       0.87      0.46      0.60\n",
      "    macro avg       0.67      0.32      0.41\n",
      "    weighted avg    0.82      0.46      0.57\n",
      "\n"
     ]
    }
   ],
   "source": [
    "Y_test_zero_ones_cbow = (all_preds_test_cbow >= 0.5).astype(int)\n",
    "rep_CBOW.calc_metrics(y_test_mat, Y_test_zero_ones_cbow)"
   ]
  },
  {
   "cell_type": "code",
   "execution_count": null,
   "id": "95d59dc6-2dd6-4493-abad-7678d925ccbe",
   "metadata": {},
   "outputs": [],
   "source": [
    "rep_CBOW.plot_ROC_curve(y_test_mat, all_preds_test_tfidf)"
   ]
  },
  {
   "cell_type": "code",
   "execution_count": 327,
   "id": "6750b7ab-db34-49f9-9764-889716ba054c",
   "metadata": {},
   "outputs": [],
   "source": [
    "from sklearn.multiclass import OneVsRestClassifier\n",
    "from sklearn.linear_model import LogisticRegression, RidgeClassifier\n",
    "import sklearn"
   ]
  }
 ],
 "metadata": {
  "kernelspec": {
   "display_name": "Python 3 (ipykernel)",
   "language": "python",
   "name": "python3"
  },
  "language_info": {
   "codemirror_mode": {
    "name": "ipython",
    "version": 3
   },
   "file_extension": ".py",
   "mimetype": "text/x-python",
   "name": "python",
   "nbconvert_exporter": "python",
   "pygments_lexer": "ipython3",
   "version": "3.11.7"
  }
 },
 "nbformat": 4,
 "nbformat_minor": 5
}
