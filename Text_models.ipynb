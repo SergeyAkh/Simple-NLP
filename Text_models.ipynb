{
 "cells": [
  {
   "cell_type": "markdown",
   "id": "cb3b805f",
   "metadata": {},
   "source": [
    "# StackOverflow Tags Prediction without specific packagess\n",
    "\n",
    "# Outline\n",
    "- [ 1 - Import the Data](#1)\n",
    "- [ 2 - Exploring the Data](#2)\n",
    "  - [ 2.1 - Bag of words](#2.1)\n",
    "  - [ 2.2 - TF-IDF](#2.2)\n",
    "  - [ 2.3 - CBOW](#2.3)\n",
    "    - [ 2.3.1 - Data prepare](#2.3.1)\n",
    "    - [ 2.3.2 - Train neuron network](#2.3.2)\n",
    "    - [ 2.3.3 - PCA for plotting the results](#2.3.3)"
   ]
  },
  {
   "cell_type": "markdown",
   "id": "7ddbc416",
   "metadata": {},
   "source": [
    "<a name=\"1\"></a>\n",
    "## 1 - Import the Data"
   ]
  },
  {
   "cell_type": "markdown",
   "id": "968e3d5e",
   "metadata": {},
   "source": [
    "TO DO!!!!\n",
    "\n",
    "In this section, you will use [`Kaggle Questions csv file`](https://www.kaggle.com/code/miljan/predicting-tags-for-stackoverflow/input?select=Questions.csv) to transform the sentences into integers, so they can be fed into the model you will build later on.\n",
    "[`Kaggle Labled Tags csv file`](https://www.kaggle.com/code/miljan/predicting-tags-for-stackoverflow/input?select=Tags.csv)"
   ]
  },
  {
   "cell_type": "code",
   "execution_count": 2,
   "id": "c7db10a4",
   "metadata": {},
   "outputs": [],
   "source": [
    "import numpy as np\n",
    "import pandas as pd\n",
    "from scipy import sparse as sp_sparse\n",
    "import re\n",
    "from numpy import linalg as LA"
   ]
  },
  {
   "cell_type": "code",
   "execution_count": 3,
   "id": "deea2a40",
   "metadata": {},
   "outputs": [],
   "source": [
    "%timeit\n",
    "train = pd.read_csv('/Users/sergeiakhmadulin/Library/CloudStorage/GoogleDrive-akhmadulinsergey@gmail.com/My Drive/Simple NLP/Questions.csv/Questions.csv', encoding = \"ISO-8859-1\")"
   ]
  },
  {
   "cell_type": "code",
   "execution_count": 4,
   "id": "b983745f",
   "metadata": {},
   "outputs": [],
   "source": [
    "y_data = pd.read_csv('/Users/sergeiakhmadulin/Library/CloudStorage/GoogleDrive-akhmadulinsergey@gmail.com/My Drive/Simple NLP/Tags.csv/Tags.csv', encoding = \"ISO-8859-1\")"
   ]
  },
  {
   "cell_type": "markdown",
   "id": "31f864c4",
   "metadata": {},
   "source": [
    "<a name=\"2\"></a>\n",
    "## 2 - Exploring the Data and prepare data for model"
   ]
  },
  {
   "cell_type": "code",
   "execution_count": 5,
   "id": "2e806f53",
   "metadata": {},
   "outputs": [
    {
     "data": {
      "text/plain": [
       "True"
      ]
     },
     "execution_count": 5,
     "metadata": {},
     "output_type": "execute_result"
    }
   ],
   "source": [
    "train[\"Id\"].nunique() == len(train) == y_data[\"Id\"].nunique()"
   ]
  },
  {
   "cell_type": "code",
   "execution_count": 6,
   "id": "8494f9bd",
   "metadata": {},
   "outputs": [
    {
     "data": {
      "text/plain": [
       "False"
      ]
     },
     "execution_count": 6,
     "metadata": {},
     "output_type": "execute_result"
    }
   ],
   "source": [
    "y_data[\"Id\"].nunique() == len(y_data)"
   ]
  },
  {
   "cell_type": "code",
   "execution_count": 6,
   "id": "36c334a1",
   "metadata": {},
   "outputs": [
    {
     "data": {
      "text/html": [
       "<div>\n",
       "<style scoped>\n",
       "    .dataframe tbody tr th:only-of-type {\n",
       "        vertical-align: middle;\n",
       "    }\n",
       "\n",
       "    .dataframe tbody tr th {\n",
       "        vertical-align: top;\n",
       "    }\n",
       "\n",
       "    .dataframe thead th {\n",
       "        text-align: right;\n",
       "    }\n",
       "</style>\n",
       "<table border=\"1\" class=\"dataframe\">\n",
       "  <thead>\n",
       "    <tr style=\"text-align: right;\">\n",
       "      <th></th>\n",
       "      <th>Id</th>\n",
       "      <th>Tag</th>\n",
       "    </tr>\n",
       "  </thead>\n",
       "  <tbody>\n",
       "    <tr>\n",
       "      <th>0</th>\n",
       "      <td>80</td>\n",
       "      <td>[flex, actionscript-3, air]</td>\n",
       "    </tr>\n",
       "    <tr>\n",
       "      <th>1</th>\n",
       "      <td>90</td>\n",
       "      <td>[svn, tortoisesvn, branch, branching-and-merging]</td>\n",
       "    </tr>\n",
       "    <tr>\n",
       "      <th>2</th>\n",
       "      <td>120</td>\n",
       "      <td>[sql, asp.net, sitemap]</td>\n",
       "    </tr>\n",
       "    <tr>\n",
       "      <th>3</th>\n",
       "      <td>180</td>\n",
       "      <td>[algorithm, language-agnostic, colors, color-s...</td>\n",
       "    </tr>\n",
       "    <tr>\n",
       "      <th>4</th>\n",
       "      <td>260</td>\n",
       "      <td>[c#, .net, scripting, compiler-construction]</td>\n",
       "    </tr>\n",
       "  </tbody>\n",
       "</table>\n",
       "</div>"
      ],
      "text/plain": [
       "    Id                                                Tag\n",
       "0   80                        [flex, actionscript-3, air]\n",
       "1   90  [svn, tortoisesvn, branch, branching-and-merging]\n",
       "2  120                            [sql, asp.net, sitemap]\n",
       "3  180  [algorithm, language-agnostic, colors, color-s...\n",
       "4  260       [c#, .net, scripting, compiler-construction]"
      ]
     },
     "execution_count": 6,
     "metadata": {},
     "output_type": "execute_result"
    }
   ],
   "source": [
    "y_data = y_data.groupby(\"Id\")[\"Tag\"].apply(list).reset_index()\n",
    "y_data.head()"
   ]
  },
  {
   "cell_type": "code",
   "execution_count": 7,
   "id": "b00c65f5",
   "metadata": {},
   "outputs": [
    {
     "data": {
      "text/plain": [
       "False"
      ]
     },
     "execution_count": 7,
     "metadata": {},
     "output_type": "execute_result"
    }
   ],
   "source": [
    "y_data[\"Id\"].nunique() == len(y_data)"
   ]
  },
  {
   "cell_type": "code",
   "execution_count": 8,
   "id": "2ae23f57",
   "metadata": {},
   "outputs": [
    {
     "data": {
      "text/plain": [
       "1113"
      ]
     },
     "execution_count": 8,
     "metadata": {},
     "output_type": "execute_result"
    }
   ],
   "source": [
    "all_data = train.merge(y_data, how='left', left_on='Id', right_on='Id')\n",
    "all_data[\"Tag\"].isna().sum()"
   ]
  },
  {
   "cell_type": "code",
   "execution_count": 9,
   "id": "c3590ac5",
   "metadata": {},
   "outputs": [],
   "source": [
    "%matplotlib inline\n",
    "import matplotlib.pyplot as plt"
   ]
  },
  {
   "cell_type": "code",
   "execution_count": 10,
   "id": "a1f8834d",
   "metadata": {},
   "outputs": [
    {
     "data": {
      "image/png": "[encoded data removed]",
      "text/plain": [
       "<Figure size 640x480 with 1 Axes>"
      ]
     },
     "metadata": {},
     "output_type": "display_data"
    }
   ],
   "source": [
    "n=1000\n",
    "\n",
    "fig,ax = plt.subplots(1)\n",
    "ax.plot(range(len(all_data[\"CreationDate\"][::n])), all_data[\"CreationDate\"][::n], 'o', color='blue')\n",
    "ax.set_ylabel('CreationDate')\n",
    "ax.set_xlabel('Row number')\n",
    "\n",
    "# Turn off tick labels\n",
    "ax.set_yticklabels([])\n",
    "plt.show()"
   ]
  },
  {
   "cell_type": "code",
   "execution_count": 12,
   "id": "f7944e06",
   "metadata": {},
   "outputs": [],
   "source": [
    "np.random.seed(0)\n",
    "\n",
    "def train_test_splitting(X, y, test_size, shuffle=True):\n",
    "    length_data = len(X)\n",
    "    test_len = int(length_data*test_size)\n",
    "    train_len = length_data - test_len\n",
    "    if shuffle:\n",
    "        index = np.random.permutation(length_data)\n",
    "    else:\n",
    "        index = np.arange(length_data)\n",
    "    train_index = index[:train_len]\n",
    "    test_index = index[train_len:]\n",
    "\n",
    "    return X[train_index],X[test_index],y[train_index],y[test_index]"
   ]
  },
  {
   "cell_type": "code",
   "execution_count": 30,
   "id": "f32e0baa",
   "metadata": {},
   "outputs": [],
   "source": [
    "X_train,X_test,y_train,y_test = train_test_splitting(all_data[\"Title\"], all_data[\"Tag\"], test_size=0.3 , shuffle=True) "
   ]
  },
  {
   "cell_type": "code",
   "execution_count": 13,
   "id": "3a80f1a1",
   "metadata": {},
   "outputs": [
    {
     "name": "stderr",
     "output_type": "stream",
     "text": [
      "[nltk_data] Downloading package stopwords to\n",
      "[nltk_data]     /Users/sergeiakhmadulin/nltk_data...\n",
      "[nltk_data]   Package stopwords is already up-to-date!\n"
     ]
    }
   ],
   "source": [
    "import nltk\n",
    "nltk.download('stopwords')\n",
    "from nltk.corpus import stopwords"
   ]
  },
  {
   "cell_type": "code",
   "execution_count": 14,
   "id": "72258ee7",
   "metadata": {},
   "outputs": [],
   "source": [
    "def text_prepare(text):\n",
    "    \n",
    "    REPLACE_BY_SPACE_RE = re.compile('[/(){}\\[\\]\\|@,;]')\n",
    "    BAD_SYMBOLS_RE = re.compile('[^0-9a-z #+_]')\n",
    "    STOPWORDS = set(stopwords.words('english'))\n",
    "    text = text.lower()\n",
    "\n",
    "    text = REPLACE_BY_SPACE_RE.sub(r' ',text)\n",
    "    text = BAD_SYMBOLS_RE.sub(r'',text)\n",
    "    text = [w for w in text.split() if not w in STOPWORDS]\n",
    "    \n",
    "    return ' '.join(text)"
   ]
  },
  {
   "cell_type": "code",
   "execution_count": 33,
   "id": "fb60a238",
   "metadata": {},
   "outputs": [],
   "source": [
    "X_train = [text_prepare(x) for x in X_train]\n",
    "X_test = [text_prepare(x) for x in X_test]"
   ]
  },
  {
   "cell_type": "markdown",
   "id": "b8939936",
   "metadata": {},
   "source": [
    "<a name=\"2.1\"></a>\n",
    "## 2.1 - Bag of words"
   ]
  },
  {
   "cell_type": "code",
   "execution_count": 16,
   "id": "ba9a5e34",
   "metadata": {},
   "outputs": [],
   "source": [
    "def most_common_words(X):\n",
    "    words_counts = {}\n",
    "    \n",
    "    for i in X:\n",
    "        try:\n",
    "            for j in i.split():\n",
    "                words_counts[j] = words_counts.get(j, 0) + 1\n",
    "        except:\n",
    "            for j in i:\n",
    "                words_counts[j] = words_counts.get(j, 0) + 1\n",
    "\n",
    "    return sorted(words_counts.items(), key=lambda x: x[1], reverse=True)"
   ]
  },
  {
   "cell_type": "code",
   "execution_count": 17,
   "id": "36d0d9f1",
   "metadata": {},
   "outputs": [],
   "source": [
    "X_most_common_words, y_most_common_tags  = most_common_words(X_train), most_common_words(y_train)"
   ]
  },
  {
   "cell_type": "code",
   "execution_count": 18,
   "id": "6450ef35",
   "metadata": {},
   "outputs": [
    {
     "data": {
      "text/plain": [
       "[('javascript', 86858),\n",
       " ('java', 80679),\n",
       " ('c#', 70703),\n",
       " ('php', 69151),\n",
       " ('android', 63657)]"
      ]
     },
     "execution_count": 18,
     "metadata": {},
     "output_type": "execute_result"
    }
   ],
   "source": [
    "y_most_common_tags[:5]"
   ]
  },
  {
   "cell_type": "code",
   "execution_count": 19,
   "id": "5a96e673",
   "metadata": {},
   "outputs": [],
   "source": [
    "DICT_SIZE = 5000"
   ]
  },
  {
   "cell_type": "code",
   "execution_count": 20,
   "id": "8e9bf112",
   "metadata": {},
   "outputs": [],
   "source": [
    "words_index = {k: v for k, v in X_most_common_words[:DICT_SIZE]}\n",
    "index_words = {value: key for key, value in words_index.items()}"
   ]
  },
  {
   "cell_type": "code",
   "execution_count": 21,
   "id": "0b015652",
   "metadata": {},
   "outputs": [],
   "source": [
    "dict_index = {k: v for k, v in enumerate(words_index)}\n",
    "index_dict = {value: key for key, value in dict_index.items()}"
   ]
  },
  {
   "cell_type": "code",
   "execution_count": 22,
   "id": "d23a3598",
   "metadata": {},
   "outputs": [],
   "source": [
    "def my_bag_of_words(text, words_index, dict_size):\n",
    "\n",
    "#     words_to_index = {k:num for num,k in enumerate(words_index.keys())}\n",
    "    ALL_WORDS = words_index.keys()\n",
    "    result_vector = np.zeros(dict_size)\n",
    "    for i in text.split():\n",
    "        if i in ALL_WORDS:\n",
    "            result_vector[words_to_index[i]] = 1\n",
    "\n",
    "    return result_vector"
   ]
  },
  {
   "cell_type": "code",
   "execution_count": 23,
   "id": "eda85f14",
   "metadata": {},
   "outputs": [],
   "source": [
    "X_train_mybag = sp_sparse.vstack([sp_sparse.csr_matrix(my_bag_of_words(text, dict_index, DICT_SIZE)) for text in X_train])\n",
    "\n",
    "X_test_mybag = sp_sparse.vstack([sp_sparse.csr_matrix(my_bag_of_words(text, dict_index, DICT_SIZE)) for text in X_test])"
   ]
  },
  {
   "cell_type": "markdown",
   "id": "2e467331",
   "metadata": {},
   "source": [
    "<a name=\"2.2\"></a>\n",
    "## 2.2 - TF-IDF"
   ]
  },
  {
   "cell_type": "markdown",
   "id": "61267481",
   "metadata": {},
   "source": [
    " For this approuch we'll create module Tfidf that create a class and make fit, transform tramsformation"
   ]
  },
  {
   "cell_type": "code",
   "execution_count": 18,
   "id": "73c6e454",
   "metadata": {},
   "outputs": [],
   "source": [
    "import Tfidf as tf"
   ]
  },
  {
   "cell_type": "code",
   "execution_count": 36,
   "id": "6377a897",
   "metadata": {},
   "outputs": [
    {
     "data": {
      "text/plain": [
       "<module 'Tfidf' from '/Users/sergeiakhmadulin/Library/CloudStorage/GoogleDrive-akhmadulinsergey@gmail.com/My Drive/Simple NLP/Tfidf.py'>"
      ]
     },
     "execution_count": 36,
     "metadata": {},
     "output_type": "execute_result"
    }
   ],
   "source": [
    "from importlib import reload\n",
    "reload(tf)"
   ]
  },
  {
   "cell_type": "code",
   "execution_count": 37,
   "id": "50d5ab82",
   "metadata": {},
   "outputs": [],
   "source": [
    "tfidf_obj = tf.TFIDF()\n",
    "tfidf_obj.fit(X_train)"
   ]
  },
  {
   "cell_type": "code",
   "execution_count": 38,
   "id": "fce78d4c",
   "metadata": {},
   "outputs": [],
   "source": [
    "X_train_tfidf = tfidf_obj.transform(X_train)\n",
    "X_test_tfidf = tfidf_obj.transform(X_train)\n",
    "tfidf_vocab = tfidf_obj.vocab()"
   ]
  },
  {
   "cell_type": "code",
   "execution_count": 57,
   "id": "6d4912f4",
   "metadata": {},
   "outputs": [],
   "source": [
    "tfidf_index_to_word = {word[0]:index for index,word in enumerate(tfidf_vocab)}"
   ]
  },
  {
   "cell_type": "code",
   "execution_count": 61,
   "id": "8036494d",
   "metadata": {},
   "outputs": [
    {
     "data": {
      "text/plain": [
       "[('using', 200355), ('file', 110069), ('error', 102717), ('data', 96338)]"
      ]
     },
     "execution_count": 61,
     "metadata": {},
     "output_type": "execute_result"
    }
   ],
   "source": [
    "tfidf_vocab[:4]"
   ]
  },
  {
   "cell_type": "code",
   "execution_count": 68,
   "id": "30de4c46",
   "metadata": {},
   "outputs": [
    {
     "data": {
      "text/plain": [
       "36034"
      ]
     },
     "execution_count": 68,
     "metadata": {},
     "output_type": "execute_result"
    }
   ],
   "source": [
    "len([j[1] for j in tfidf_vocab if j[1] == 1])"
   ]
  },
  {
   "cell_type": "markdown",
   "id": "44333be6",
   "metadata": {},
   "source": [
    "<a name=\"2.3\"></a>\n",
    "## 2.3 - CBOW"
   ]
  },
  {
   "cell_type": "markdown",
   "id": "018f4ad4",
   "metadata": {},
   "source": [
    " For this approuch we'll create two dictionaries to convert all unick words into a number and vise versa. Next we'll create two arres one with context words and another with center, that is what we are going to feed into neuron network. Train simple neuron networt with only 2 layers. As a result we'll get two matrises with trained weights the mean sum of them give us embedings of each word."
   ]
  },
  {
   "cell_type": "markdown",
   "id": "dd3acaf0",
   "metadata": {},
   "source": [
    "<a name=\"2.3.1\"></a>\n",
    "### 2.3.1 - Data prepare"
   ]
  },
  {
   "cell_type": "code",
   "execution_count": 16,
   "id": "717eb497",
   "metadata": {},
   "outputs": [],
   "source": [
    "def add_pad(text, num_of_padding, padding_car):\n",
    "    text_with_pad = []\n",
    "    for sent in text:\n",
    "        sent = (padding_car + \" \") * num_of_padding + sent + (\" \" + padding_car) * num_of_padding\n",
    "        text_with_pad.append(sent)\n",
    "    return text_with_pad"
   ]
  },
  {
   "cell_type": "code",
   "execution_count": 51,
   "id": "c38423ea",
   "metadata": {},
   "outputs": [],
   "source": [
    "def get_dict(text): \n",
    "    idx = 0\n",
    "    word2Ind = {}\n",
    "    Ind2word = {}\n",
    "    for sent in text:\n",
    "        try:\n",
    "            for word in sent.split():\n",
    "                if word not in word2Ind.keys():\n",
    "                    word2Ind[word] = idx\n",
    "                    Ind2word[idx] = word\n",
    "                    idx += 1\n",
    "        except:\n",
    "            for word in sent:\n",
    "                if word not in word2Ind.keys():\n",
    "                    word2Ind[word] = idx\n",
    "                    Ind2word[idx] = word\n",
    "                    idx += 1\n",
    "    return word2Ind,Ind2word"
   ]
  },
  {
   "cell_type": "code",
   "execution_count": 18,
   "id": "89757570",
   "metadata": {},
   "outputs": [],
   "source": [
    "def get_data_with_window(text, num_neighbor_words, padding = False):\n",
    "    \n",
    "    if padding:\n",
    "        text = add_pad(text, num_neighbor_words, \"PAD\")\n",
    "        \n",
    "    word2Ind, Ind2word = get_dict(text)\n",
    "    vector_lenght = len(word2Ind)\n",
    "    count = 0\n",
    "    for sent in text:\n",
    "        length = len(sent.split()) - 2*num_neighbor_words\n",
    "        if length > 0:\n",
    "            count += length\n",
    "    X_matrix = sp.sparse.lil_matrix((count,vector_lenght))\n",
    "    y_matrix = sp.sparse.lil_matrix((count,vector_lenght))\n",
    "    Y = []\n",
    "    n = 0\n",
    "    for row, sent in enumerate(text):\n",
    "        sent_to_separete = sent.split()\n",
    "        for i in range(num_neighbor_words, len(sent_to_separete) - num_neighbor_words):\n",
    "            center_word = sent_to_separete[i]\n",
    "            context_words = sent_to_separete[(i - num_neighbor_words):i] + sent_to_separete[(i+1):(i+num_neighbor_words+1)]\n",
    "            y_matrix[n, word2Ind[center_word]] = 1\n",
    "            Y.append(word2Ind[center_word])\n",
    "            for con_word in context_words:\n",
    "                X_matrix[n, word2Ind[con_word]] += 1\n",
    "            n += 1\n",
    "    X_matrix = (X_matrix/sp.sparse.lil_matrix.sum(X_matrix, axis = 1)).tolil()\n",
    "    Y = np.array(Y)\n",
    "    return X_matrix, Y, word2Ind, Ind2word"
   ]
  },
  {
   "cell_type": "code",
   "execution_count": 19,
   "id": "b6f14495",
   "metadata": {},
   "outputs": [],
   "source": [
    "X, y, word2Ind, Ind2word  = get_data_with_window(X_train, 2, padding = True)"
   ]
  },
  {
   "cell_type": "code",
   "execution_count": 20,
   "id": "83a7bf66",
   "metadata": {},
   "outputs": [
    {
     "data": {
      "text/plain": [
       "((5078191, 163225), 163224)"
      ]
     },
     "execution_count": 20,
     "metadata": {},
     "output_type": "execute_result"
    }
   ],
   "source": [
    "X.shape, max(Ind2word)"
   ]
  },
  {
   "cell_type": "markdown",
   "id": "c1b9d436",
   "metadata": {},
   "source": [
    "<a name=\"2.3.2\"></a>\n",
    "### 2.3.2 - Train neuron network"
   ]
  },
  {
   "cell_type": "code",
   "execution_count": 33,
   "id": "af2efc1f",
   "metadata": {},
   "outputs": [],
   "source": [
    "import NN_for_CBOW as NN"
   ]
  },
  {
   "cell_type": "code",
   "execution_count": 45,
   "id": "ebcb80c1",
   "metadata": {
    "collapsed": true
   },
   "outputs": [
    {
     "data": {
      "text/plain": [
       "<module 'NN_for_CBOW' from '/Users/sergeiakhmadulin/Library/CloudStorage/GoogleDrive-akhmadulinsergey@gmail.com/My Drive/Simple NLP/NN_for_CBOW.py'>"
      ]
     },
     "execution_count": 45,
     "metadata": {},
     "output_type": "execute_result"
    }
   ],
   "source": [
    "from importlib import reload\n",
    "reload(NN)"
   ]
  },
  {
   "cell_type": "code",
   "execution_count": 48,
   "id": "0455f3dc",
   "metadata": {
    "collapsed": true
   },
   "outputs": [
    {
     "name": "stdout",
     "output_type": "stream",
     "text": [
      "done 2.0% of epoch - 0, loss: 11.87303365617129 \n",
      "time for 100000 samples: 0:09:00.242900\n",
      "done 3.9% of epoch - 0, loss: 9.189317101171694 \n",
      "time for 100000 samples: 0:18:50.386442\n",
      "done 5.9% of epoch - 0, loss: 9.01009113545022 \n",
      "time for 100000 samples: 0:43:16.708946\n",
      "done 7.9% of epoch - 0, loss: 8.84581000375355 \n",
      "time for 100000 samples: 1:17:40.290836\n",
      "done 9.8% of epoch - 0, loss: 8.458349133305855 \n",
      "time for 100000 samples: 1:39:00.345942\n",
      "done 11.8% of epoch - 0, loss: 8.444766678875077 \n",
      "time for 100000 samples: 1:47:34.238072\n",
      "done 13.8% of epoch - 0, loss: 7.962139519672881 \n",
      "time for 100000 samples: 2:11:20.780718\n",
      "done 15.8% of epoch - 0, loss: 8.462100994330601 \n",
      "time for 100000 samples: 2:50:55.336606\n",
      "done 17.7% of epoch - 0, loss: 8.548453941561947 \n",
      "time for 100000 samples: 2:59:46.559325\n",
      "done 19.7% of epoch - 0, loss: 8.399035070298059 \n",
      "time for 100000 samples: 3:08:42.295300\n",
      "done 21.7% of epoch - 0, loss: 8.415181703473326 \n",
      "time for 100000 samples: 3:17:59.496623\n",
      "done 23.6% of epoch - 0, loss: 8.38929934712288 \n",
      "time for 100000 samples: 3:27:34.578227\n",
      "done 25.6% of epoch - 0, loss: 8.118219120227359 \n",
      "time for 100000 samples: 3:36:52.935300\n",
      "done 27.6% of epoch - 0, loss: 8.414834967944454 \n",
      "time for 100000 samples: 3:45:47.017370\n",
      "done 29.5% of epoch - 0, loss: 7.754301037911074 \n",
      "time for 100000 samples: 3:54:42.081041\n",
      "done 31.5% of epoch - 0, loss: 8.141621337549832 \n",
      "time for 100000 samples: 4:03:37.517421\n",
      "done 33.5% of epoch - 0, loss: 8.677443008304046 \n",
      "time for 100000 samples: 4:12:33.614707\n",
      "done 35.4% of epoch - 0, loss: 7.736947040846065 \n",
      "time for 100000 samples: 4:21:32.901122\n",
      "done 37.4% of epoch - 0, loss: 8.312103252193353 \n",
      "time for 100000 samples: 4:30:31.020292\n",
      "done 39.4% of epoch - 0, loss: 8.037540356190297 \n",
      "time for 100000 samples: 4:39:29.410890\n",
      "done 41.4% of epoch - 0, loss: 7.978193355352777 \n",
      "time for 100000 samples: 4:48:27.191144\n",
      "done 43.3% of epoch - 0, loss: 8.487371171255724 \n",
      "time for 100000 samples: 4:57:32.127180\n",
      "done 45.3% of epoch - 0, loss: 8.270752147752466 \n",
      "time for 100000 samples: 5:06:29.153084\n",
      "done 47.3% of epoch - 0, loss: 8.25727621382568 \n",
      "time for 100000 samples: 5:15:37.615234\n",
      "done 49.2% of epoch - 0, loss: 8.287663253847143 \n",
      "time for 100000 samples: 5:24:40.225820\n",
      "done 51.2% of epoch - 0, loss: 8.538988469005021 \n",
      "time for 100000 samples: 5:33:34.117981\n",
      "done 53.2% of epoch - 0, loss: 8.429424729133677 \n",
      "time for 100000 samples: 5:42:27.489665\n",
      "done 55.1% of epoch - 0, loss: 8.213424074334242 \n",
      "time for 100000 samples: 5:55:01.096612\n",
      "done 57.1% of epoch - 0, loss: 8.003621307242794 \n",
      "time for 100000 samples: 6:03:55.120797\n",
      "done 59.1% of epoch - 0, loss: 8.287074355401812 \n",
      "time for 100000 samples: 6:33:05.489554\n",
      "done 61.0% of epoch - 0, loss: 8.495111561696994 \n",
      "time for 100000 samples: 7:17:29.414478\n",
      "done 63.0% of epoch - 0, loss: 8.628492423366588 \n",
      "time for 100000 samples: 7:28:23.633903\n",
      "done 65.0% of epoch - 0, loss: 8.092064220238345 \n",
      "time for 100000 samples: 7:42:00.602334\n",
      "done 67.0% of epoch - 0, loss: 8.016743235722286 \n",
      "time for 100000 samples: 7:50:57.587171\n",
      "done 68.9% of epoch - 0, loss: 8.382438073000484 \n",
      "time for 100000 samples: 7:59:54.716213\n",
      "done 70.9% of epoch - 0, loss: 8.356754439959625 \n",
      "time for 100000 samples: 8:08:52.232426\n",
      "done 72.9% of epoch - 0, loss: 8.365957629469724 \n",
      "time for 100000 samples: 8:30:28.512169\n",
      "done 74.8% of epoch - 0, loss: 8.036317106794039 \n",
      "time for 100000 samples: 8:39:25.933727\n",
      "done 76.8% of epoch - 0, loss: 8.005240598234609 \n",
      "time for 100000 samples: 8:48:22.182526\n",
      "done 78.8% of epoch - 0, loss: 7.929752071017675 \n",
      "time for 100000 samples: 9:27:42.432845\n",
      "done 80.7% of epoch - 0, loss: 7.788282150197062 \n",
      "time for 100000 samples: 10:02:16.553008\n",
      "done 82.7% of epoch - 0, loss: 8.122505278158048 \n",
      "time for 100000 samples: 10:36:41.552590\n",
      "done 84.7% of epoch - 0, loss: 8.351121869987267 \n",
      "time for 100000 samples: 11:21:04.169892\n",
      "done 86.6% of epoch - 0, loss: 8.453093231378402 \n",
      "time for 100000 samples: 12:04:13.187411\n",
      "done 88.6% of epoch - 0, loss: 8.159655719125736 \n",
      "time for 100000 samples: 12:43:37.276967\n",
      "done 90.6% of epoch - 0, loss: 8.354271780764742 \n",
      "time for 100000 samples: 13:17:38.892788\n",
      "done 92.6% of epoch - 0, loss: 7.71239432754891 \n",
      "time for 100000 samples: 13:56:54.925886\n",
      "done 94.5% of epoch - 0, loss: 8.142924182987814 \n",
      "time for 100000 samples: 14:36:20.398310\n",
      "done 96.5% of epoch - 0, loss: 8.132855109703836 \n",
      "time for 100000 samples: 15:15:35.317152\n",
      "done 98.5% of epoch - 0, loss: 7.996609965712629 \n",
      "time for 100000 samples: 15:50:09.464101\n",
      "done epoch: 0, loss: 8.023917639915416 \n",
      " weights saved\n"
     ]
    }
   ],
   "source": [
    "res, W_1,W_2 = NN.train_network(X, y, hidden_neurons = 64, num_epoch = 1, batchsize = 100, initialization = \"xavier\")"
   ]
  },
  {
   "cell_type": "code",
   "execution_count": 76,
   "id": "21704194",
   "metadata": {
    "collapsed": true
   },
   "outputs": [
    {
     "name": "stdout",
     "output_type": "stream",
     "text": [
      "done 2.0% of epoch - 0, loss: 9.409370113725881 \n",
      " time for 100000 samples: 0:06:15.776176\n",
      "done 3.9% of epoch - 0, loss: 8.739939438338556 \n",
      " time for 100000 samples: 0:12:22.916958\n",
      "done 5.9% of epoch - 0, loss: 8.25776119276121 \n",
      " time for 100000 samples: 0:18:25.489723\n",
      "done 7.9% of epoch - 0, loss: 8.23271822314867 \n",
      " time for 100000 samples: 0:24:30.342833\n",
      "done 9.9% of epoch - 0, loss: 8.445524782753651 \n",
      " time for 100000 samples: 0:30:30.936172\n",
      "done 11.8% of epoch - 0, loss: 8.117662160451824 \n",
      " time for 100000 samples: 0:36:36.671185\n",
      "done 13.8% of epoch - 0, loss: 8.36204527775428 \n",
      " time for 100000 samples: 0:42:37.673783\n",
      "done 15.8% of epoch - 0, loss: 8.242961961072115 \n",
      " time for 100000 samples: 0:48:35.373248\n",
      "done 17.7% of epoch - 0, loss: 8.084340025561714 \n",
      " time for 100000 samples: 0:54:30.845691\n",
      "done 19.7% of epoch - 0, loss: 8.37243577483956 \n",
      " time for 100000 samples: 1:00:26.359755\n",
      "done 21.7% of epoch - 0, loss: 8.106786033534462 \n",
      " time for 100000 samples: 1:06:16.936000\n",
      "done 23.7% of epoch - 0, loss: 8.011517947619208 \n",
      " time for 100000 samples: 1:12:05.071468\n",
      "done 25.6% of epoch - 0, loss: 8.168823770422549 \n",
      " time for 100000 samples: 1:17:55.378829\n",
      "done 27.6% of epoch - 0, loss: 8.101712712217315 \n",
      " time for 100000 samples: 1:23:51.361105\n",
      "done 29.6% of epoch - 0, loss: 8.239324492196326 \n",
      " time for 100000 samples: 1:29:47.771784\n",
      "done 31.5% of epoch - 0, loss: 8.057000254940185 \n",
      " time for 100000 samples: 1:35:39.708207\n",
      "done 33.5% of epoch - 0, loss: 8.235225078180978 \n",
      " time for 100000 samples: 1:41:33.302007\n",
      "done 35.5% of epoch - 0, loss: 8.15837316343943 \n",
      " time for 100000 samples: 1:47:22.813464\n",
      "done 37.5% of epoch - 0, loss: 7.997217283798007 \n",
      " time for 100000 samples: 1:53:38.775305\n",
      "done 39.4% of epoch - 0, loss: 8.218373342148507 \n",
      " time for 100000 samples: 1:59:59.024744\n",
      "done 41.4% of epoch - 0, loss: 8.188974348871533 \n",
      " time for 100000 samples: 2:06:08.504935\n",
      "done 43.4% of epoch - 0, loss: 8.150962721705676 \n",
      " time for 100000 samples: 2:12:01.037156\n",
      "done 45.3% of epoch - 0, loss: 8.13218216236324 \n",
      " time for 100000 samples: 2:18:02.244811\n",
      "done 47.3% of epoch - 0, loss: 8.10657306454535 \n",
      " time for 100000 samples: 2:24:12.032780\n",
      "done 49.3% of epoch - 0, loss: 8.415231814343521 \n",
      " time for 100000 samples: 2:30:16.073137\n",
      "done 51.2% of epoch - 0, loss: 7.854307159891384 \n",
      " time for 100000 samples: 2:36:15.668554\n",
      "done 53.2% of epoch - 0, loss: 8.30874012773595 \n",
      " time for 100000 samples: 2:42:16.410823\n",
      "done 55.2% of epoch - 0, loss: 8.336904640559307 \n",
      " time for 100000 samples: 2:48:20.653359\n",
      "done 57.2% of epoch - 0, loss: 8.187578373422792 \n",
      " time for 100000 samples: 2:54:28.213301\n",
      "done 59.1% of epoch - 0, loss: 8.045751511735197 \n",
      " time for 100000 samples: 3:00:30.446499\n",
      "done 61.1% of epoch - 0, loss: 8.295143030894181 \n",
      " time for 100000 samples: 3:06:31.438025\n",
      "done 63.1% of epoch - 0, loss: 8.117770104788336 \n",
      " time for 100000 samples: 3:12:33.425260\n",
      "done 65.0% of epoch - 0, loss: 8.360142891533789 \n",
      " time for 100000 samples: 3:18:29.616373\n",
      "done 67.0% of epoch - 0, loss: 8.246798664748576 \n",
      " time for 100000 samples: 3:24:30.466436\n",
      "done 69.0% of epoch - 0, loss: 8.285483895478425 \n",
      " time for 100000 samples: 3:31:02.357579\n",
      "done 71.0% of epoch - 0, loss: 8.14731999361976 \n",
      " time for 100000 samples: 3:37:28.070755\n",
      "done 72.9% of epoch - 0, loss: 8.164671468576758 \n",
      " time for 100000 samples: 3:43:38.875816\n",
      "done 74.9% of epoch - 0, loss: 8.214125731298147 \n",
      " time for 100000 samples: 3:50:00.480852\n",
      "done 76.9% of epoch - 0, loss: 8.17010455492065 \n",
      " time for 100000 samples: 3:56:22.323743\n",
      "done 78.8% of epoch - 0, loss: 8.054545565163192 \n",
      " time for 100000 samples: 4:02:33.937605\n",
      "done 80.8% of epoch - 0, loss: 8.05455953409449 \n",
      " time for 100000 samples: 4:08:56.523403\n",
      "done 82.8% of epoch - 0, loss: 8.05719643334018 \n",
      " time for 100000 samples: 4:15:16.774925\n",
      "done 84.8% of epoch - 0, loss: 8.162466403821778 \n",
      " time for 100000 samples: 4:21:44.248544\n",
      "done 86.7% of epoch - 0, loss: 7.974402805637124 \n",
      " time for 100000 samples: 4:28:07.525346\n",
      "done 88.7% of epoch - 0, loss: 8.208998894667282 \n",
      " time for 100000 samples: 4:34:35.730728\n",
      "done 90.7% of epoch - 0, loss: 8.302873546550428 \n",
      " time for 100000 samples: 4:40:58.212703\n",
      "done 92.6% of epoch - 0, loss: 8.012340090664717 \n",
      " time for 100000 samples: 4:47:14.518796\n",
      "done 94.6% of epoch - 0, loss: 8.118428678740079 \n",
      " time for 100000 samples: 4:53:32.089769\n",
      "done 96.6% of epoch - 0, loss: 8.05831949023966 \n",
      " time for 100000 samples: 4:59:50.575260\n",
      "done 98.6% of epoch - 0, loss: 8.105176048552027 \n",
      " time for 100000 samples: 5:06:09.613124\n",
      "done epoch: 0, loss: 8.13051491720744 \n",
      " weights saved\n",
      "done 2.0% of epoch - 1, loss: 8.227057788001195 \n",
      " time for 100000 samples: 0:06:19.610898\n",
      "done 3.9% of epoch - 1, loss: 8.488864548480834 \n",
      " time for 100000 samples: 0:12:40.042126\n"
     ]
    },
    {
     "ename": "KeyboardInterrupt",
     "evalue": "",
     "output_type": "error",
     "traceback": [
      "\u001b[0;31m---------------------------------------------------------------------------\u001b[0m",
      "\u001b[0;31mKeyboardInterrupt\u001b[0m                         Traceback (most recent call last)",
      "Cell \u001b[0;32mIn[76], line 1\u001b[0m\n\u001b[0;32m----> 1\u001b[0m res, W_1,W_2 \u001b[38;5;241m=\u001b[39m NN\u001b[38;5;241m.\u001b[39mtrain_network(X, y, hidden_neurons \u001b[38;5;241m=\u001b[39m \u001b[38;5;241m64\u001b[39m, num_epoch \u001b[38;5;241m=\u001b[39m \u001b[38;5;241m4\u001b[39m, batchsize \u001b[38;5;241m=\u001b[39m \u001b[38;5;241m500\u001b[39m, \\\n\u001b[1;32m      2\u001b[0m                                 initialization \u001b[38;5;241m=\u001b[39m \u001b[38;5;124m\"\u001b[39m\u001b[38;5;124mcustom\u001b[39m\u001b[38;5;124m\"\u001b[39m,weights_1 \u001b[38;5;241m=\u001b[39m W_1, weights_2 \u001b[38;5;241m=\u001b[39m W_2)\n",
      "File \u001b[0;32m~/Library/CloudStorage/GoogleDrive-akhmadulinsergey@gmail.com/My Drive/My_project/NN_for_CBOW.py:158\u001b[0m, in \u001b[0;36mtrain_network\u001b[0;34m(X_train, y_train, hidden_neurons, num_epoch, batchsize, initialization, weights_1, weights_2)\u001b[0m\n\u001b[1;32m    156\u001b[0m passes \u001b[38;5;241m=\u001b[39m \u001b[38;5;241m0\u001b[39m\n\u001b[1;32m    157\u001b[0m \u001b[38;5;28;01mfor\u001b[39;00m x_batch,y_batch \u001b[38;5;129;01min\u001b[39;00m iterate_minibatches(X_train, y_train, batchsize \u001b[38;5;241m=\u001b[39m batchsize):\n\u001b[0;32m--> 158\u001b[0m     loss \u001b[38;5;241m=\u001b[39m train(network,x_batch,y_batch)\n\u001b[1;32m    159\u001b[0m     passes \u001b[38;5;241m+\u001b[39m\u001b[38;5;241m=\u001b[39m batchsize\n\u001b[1;32m    160\u001b[0m     \u001b[38;5;28;01mif\u001b[39;00m passes \u001b[38;5;241m%\u001b[39m \u001b[38;5;241m100000\u001b[39m \u001b[38;5;241m==\u001b[39m \u001b[38;5;241m0\u001b[39m:\n",
      "File \u001b[0;32m~/Library/CloudStorage/GoogleDrive-akhmadulinsergey@gmail.com/My Drive/My_project/NN_for_CBOW.py:118\u001b[0m, in \u001b[0;36mtrain\u001b[0;34m(network, X, y)\u001b[0m\n\u001b[1;32m    115\u001b[0m loss_grad \u001b[38;5;241m=\u001b[39m grad_softmax_crossentropy_with_logits(logits,y)\n\u001b[1;32m    117\u001b[0m \u001b[38;5;66;03m# Reverse propogation as this is backprop\u001b[39;00m\n\u001b[0;32m--> 118\u001b[0m \u001b[38;5;28;01mfor\u001b[39;00m layer_index \u001b[38;5;129;01min\u001b[39;00m \u001b[38;5;28mrange\u001b[39m(\u001b[38;5;28mlen\u001b[39m(network))[::\u001b[38;5;241m-\u001b[39m\u001b[38;5;241m1\u001b[39m]:\n\u001b[1;32m    119\u001b[0m     layer \u001b[38;5;241m=\u001b[39m network[layer_index]\n\u001b[1;32m    121\u001b[0m     loss_grad \u001b[38;5;241m=\u001b[39m layer\u001b[38;5;241m.\u001b[39mbackward(layer_inputs[layer_index],loss_grad) \n",
      "\u001b[0;31mKeyboardInterrupt\u001b[0m: "
     ]
    }
   ],
   "source": [
    "res, W_1,W_2 = NN.train_network(X, y, hidden_neurons = 64, num_epoch = 4, batchsize = 500, \\\n",
    "                                initialization = \"custom\",weights_1 = W_1, weights_2 = W_2)"
   ]
  },
  {
   "cell_type": "code",
   "execution_count": 21,
   "id": "e4d0e33b",
   "metadata": {},
   "outputs": [],
   "source": [
    "W_1 = np.array(pd.read_csv(\"weights_1.csv\", header=None))\n",
    "W_2 = np.array(pd.read_csv(\"weights_2.csv\", header=None))"
   ]
  },
  {
   "cell_type": "code",
   "execution_count": 22,
   "id": "4993a278",
   "metadata": {},
   "outputs": [],
   "source": [
    "word_embedings = (W_1 + W_2.T)/2"
   ]
  },
  {
   "cell_type": "markdown",
   "id": "bf1edb46",
   "metadata": {},
   "source": [
    "<a name=\"2.3.3\"></a>\n",
    "### 2.3.3 - PCA for plotting the results"
   ]
  },
  {
   "cell_type": "code",
   "execution_count": 23,
   "id": "65beacf4",
   "metadata": {},
   "outputs": [],
   "source": [
    "def pca(data, number_components):\n",
    "    if number_components<=data.shape[1]:\n",
    "        cov_mat = np.cov(data.T)\n",
    "        eigenvalues, eigenvectors = LA.eig(cov_mat)\n",
    "        two_vectors = eigenvectors[np.argsort(eigenvalues)[:number_components]]\n",
    "        return data@two_vectors.T\n",
    "    else:\n",
    "        raise ValueError(\"Number of components > data dimention\")"
   ]
  },
  {
   "cell_type": "code",
   "execution_count": 24,
   "id": "b948fcce",
   "metadata": {},
   "outputs": [],
   "source": [
    "data_form_pca = pca(word_embedings[1:], 2)"
   ]
  },
  {
   "cell_type": "code",
   "execution_count": 30,
   "id": "e42be27d",
   "metadata": {},
   "outputs": [
    {
     "data": {
      "text/plain": [
       "(163224, 2)"
      ]
     },
     "execution_count": 30,
     "metadata": {},
     "output_type": "execute_result"
    }
   ],
   "source": [
    "data_form_pca.shape"
   ]
  },
  {
   "cell_type": "code",
   "execution_count": 26,
   "id": "8eeb2a85",
   "metadata": {},
   "outputs": [],
   "source": [
    "Ind2word_no_pad = {k:v for k,v in enumerate(list(Ind2word.values())[1:])}"
   ]
  },
  {
   "cell_type": "code",
   "execution_count": 27,
   "id": "0707f8db",
   "metadata": {},
   "outputs": [],
   "source": [
    "word2Ind_no_pad = {k:v for v,k in Ind2word_no_pad.items()}"
   ]
  },
  {
   "cell_type": "code",
   "execution_count": 31,
   "id": "1432fbb2",
   "metadata": {},
   "outputs": [],
   "source": [
    "def plot_some_data(names):\n",
    "    num_of_rows = list( map(word2Ind_no_pad.get, names) )\n",
    "    data_to_plot = data_form_pca[num_of_rows]\n",
    "    A = [i[0] for i in data_to_plot]\n",
    "    B = [i[1] for i in data_to_plot]\n",
    "    fig, ax = plt.subplots()\n",
    "    ax.scatter(A, B)\n",
    "\n",
    "    for i, txt in enumerate(names):\n",
    "        ax.annotate(txt, (A[i], B[i]))"
   ]
  },
  {
   "cell_type": "code",
   "execution_count": 32,
   "id": "deaaccd7",
   "metadata": {},
   "outputs": [
    {
     "data": {
      "image/png": "[encoded data removed]",
      "text/plain": [
       "<Figure size 640x480 with 1 Axes>"
      ]
     },
     "metadata": {},
     "output_type": "display_data"
    }
   ],
   "source": [
    "plot_some_data(['python','c','c++','c#','objectivec','sql','vba','get','java','eat','food','house'])"
   ]
  },
  {
   "cell_type": "code",
   "execution_count": null,
   "id": "aff11786",
   "metadata": {},
   "outputs": [],
   "source": []
  },
  {
   "cell_type": "code",
   "execution_count": null,
   "id": "2e07e7a6",
   "metadata": {},
   "outputs": [],
   "source": []
  },
  {
   "cell_type": "code",
   "execution_count": 156,
   "id": "2578ed70",
   "metadata": {},
   "outputs": [],
   "source": [
    "words_for_model = np.mean(word_embedings[1:],axis = 1)"
   ]
  },
  {
   "cell_type": "code",
   "execution_count": 158,
   "id": "f4661407",
   "metadata": {},
   "outputs": [
    {
     "data": {
      "text/plain": [
       "array([0.02509719, 0.03402059])"
      ]
     },
     "execution_count": 158,
     "metadata": {},
     "output_type": "execute_result"
    }
   ],
   "source": [
    "def create_matrix_for_model(data):\n",
    "    "
   ]
  },
  {
   "cell_type": "code",
   "execution_count": 52,
   "id": "41c17c88",
   "metadata": {},
   "outputs": [],
   "source": [
    "y_train_word2Ind,y_train_Ind2word = get_dict(y_train)"
   ]
  },
  {
   "cell_type": "code",
   "execution_count": 85,
   "id": "9a95e589",
   "metadata": {},
   "outputs": [],
   "source": [
    "def create_y_matrix(data):\n",
    "    y_word2Ind, y_Ind2word = get_dict(data)\n",
    "    vector_lenght = max(y_Ind2word)+1\n",
    "\n",
    "    y_matrix = sp.sparse.lil_matrix((len(data),vector_lenght))\n",
    "    for row, sent in enumerate(data):\n",
    "        for y_data in sent:\n",
    "            y_matrix[row, y_word2Ind[y_data]] = 1\n",
    "    return y_word2Ind, y_Ind2word, y_matrix"
   ]
  },
  {
   "cell_type": "code",
   "execution_count": null,
   "id": "eba4b165",
   "metadata": {},
   "outputs": [],
   "source": []
  },
  {
   "cell_type": "code",
   "execution_count": 86,
   "id": "7a5aca88",
   "metadata": {},
   "outputs": [],
   "source": [
    "y_word2Ind, y_Ind2word, y_matrix = create_y_matrix(y_train)"
   ]
  },
  {
   "cell_type": "code",
   "execution_count": 38,
   "id": "1a3e8c08",
   "metadata": {},
   "outputs": [],
   "source": [
    ">>> import numpy as np\n",
    ">>> from sklearn.datasets import make_multilabel_classification\n",
    ">>> from sklearn.multioutput import MultiOutputClassifier\n",
    ">>> from sklearn.linear_model import LogisticRegression\n"
   ]
  },
  {
   "cell_type": "code",
   "execution_count": 39,
   "id": "76e80292",
   "metadata": {},
   "outputs": [],
   "source": [
    ">>> X, y = make_multilabel_classification(n_classes=3, random_state=0)\n"
   ]
  },
  {
   "cell_type": "code",
   "execution_count": 45,
   "id": "7f460b7b",
   "metadata": {},
   "outputs": [
    {
     "data": {
      "text/plain": [
       "array([[1, 1, 1],\n",
       "       [1, 0, 1]])"
      ]
     },
     "execution_count": 45,
     "metadata": {},
     "output_type": "execute_result"
    }
   ],
   "source": [
    ">>> clf = MultiOutputClassifier(LogisticRegression()).fit(X, y)\n",
    ">>> clf.predict(X[-2:])"
   ]
  },
  {
   "cell_type": "code",
   "execution_count": 43,
   "id": "ae182cef",
   "metadata": {},
   "outputs": [
    {
     "data": {
      "text/plain": [
       "((100, 20), (100, 3))"
      ]
     },
     "execution_count": 43,
     "metadata": {},
     "output_type": "execute_result"
    }
   ],
   "source": [
    "mlb_1 = MultiLabelBinarizer()\n",
    "Y_1 = mlb_1.fit_transform(y_train_text_1)"
   ]
  },
  {
   "cell_type": "code",
   "execution_count": 46,
   "id": "78eb795f",
   "metadata": {},
   "outputs": [
    {
     "data": {
      "text/plain": [
       "array([[1, 1, 1],\n",
       "       [1, 0, 1]])"
      ]
     },
     "execution_count": 46,
     "metadata": {},
     "output_type": "execute_result"
    }
   ],
   "source": [
    "y[-2:]"
   ]
  },
  {
   "cell_type": "code",
   "execution_count": null,
   "id": "a97ef8a5",
   "metadata": {},
   "outputs": [],
   "source": []
  }
 ],
 "metadata": {
  "kernelspec": {
   "display_name": "Python 3 (ipykernel)",
   "language": "python",
   "name": "python3"
  },
  "language_info": {
   "codemirror_mode": {
    "name": "ipython",
    "version": 3
   },
   "file_extension": ".py",
   "mimetype": "text/x-python",
   "name": "python",
   "nbconvert_exporter": "python",
   "pygments_lexer": "ipython3",
   "version": "3.11.7"
  }
 },
 "nbformat": 4,
 "nbformat_minor": 5
}
