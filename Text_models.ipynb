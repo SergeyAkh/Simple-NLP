{
 "cells": [
  {
   "cell_type": "markdown",
   "id": "cb3b805f",
   "metadata": {},
   "source": [
    "# StackOverflow Tags Prediction without specific packagess\n",
    "\n",
    "# Outline\n",
    "- [ 1 - Import the Data](#1)\n",
    "- [ 2 - Exploring the Data](#2)\n",
    "  - [ 2.1 - Bag of words](#2.1)\n",
    "  - [ 2.2 - TF-IDF](#2.2)\n",
    "  - [ 2.3 - CBOW](#2.3)\n",
    "    - [ 2.3.1 - Data prepare](#2.3.1)\n",
    "    - [ 2.3.2 - Train neuron network](#2.3.2)\n",
    "    - [ 2.3.3 - PCA for plotting results](#2.3.3)\n",
    "- [ 3 - Model creation and evaluation](#3)    \n",
    "    "
   ]
  },
  {
   "cell_type": "markdown",
   "id": "7ddbc416",
   "metadata": {},
   "source": [
    "<a name=\"1\"></a>\n",
    "## 1 - Import the Data"
   ]
  },
  {
   "cell_type": "markdown",
   "id": "968e3d5e",
   "metadata": {},
   "source": [
    "TO DO!!!!\n",
    "\n",
    "In this section, you will use [`Kaggle Questions csv file`](https://www.kaggle.com/code/miljan/predicting-tags-for-stackoverflow/input?select=Questions.csv) to transform the sentences into integers, so they can be fed into the model you will build later on.\n",
    "[`Kaggle Labled Tags csv file`](https://www.kaggle.com/code/miljan/predicting-tags-for-stackoverflow/input?select=Tags.csv)"
   ]
  },
  {
   "cell_type": "code",
   "execution_count": 1,
   "id": "c7db10a4",
   "metadata": {},
   "outputs": [],
   "source": [
    "import numpy as np\n",
    "import pandas as pd\n",
    "from scipy import sparse as sp_sparse\n",
    "import re\n",
    "from numpy import linalg as LA"
   ]
  },
  {
   "cell_type": "code",
   "execution_count": 193,
   "id": "21b0dc54-eb04-4358-878d-d83ddcff72ac",
   "metadata": {},
   "outputs": [],
   "source": [
    "train = pd.read_csv('/Users/sergeiakhmadulin/Library/CloudStorage/GoogleDrive-akhmadulinsergey@gmail.com/My Drive/Simple NLP/Questions.csv/Questions.csv',\\\n",
    "                    encoding = \"ISO-8859-1\", nrows=100000)"
   ]
  },
  {
   "cell_type": "code",
   "execution_count": null,
   "id": "83cc8b77-3d4e-44df-94f2-bea5978856cc",
   "metadata": {},
   "outputs": [],
   "source": [
    "y_data = pd.read_csv('/Users/sergeiakhmadulin/Library/CloudStorage/GoogleDrive-akhmadulinsergey@gmail.com/My Drive/Simple NLP/Tags.csv/Tags.csv',\\\n",
    "                     encoding = \"ISO-8859-1\")"
   ]
  },
  {
   "cell_type": "markdown",
   "id": "31f864c4",
   "metadata": {},
   "source": [
    "<a name=\"2\"></a>\n",
    "## 2 - Exploring the Data and prepare data for model"
   ]
  },
  {
   "cell_type": "code",
   "execution_count": 195,
   "id": "2e806f53",
   "metadata": {},
   "outputs": [
    {
     "data": {
      "text/plain": [
       "False"
      ]
     },
     "execution_count": 195,
     "metadata": {},
     "output_type": "execute_result"
    }
   ],
   "source": [
    "train[\"Id\"].nunique() == len(train) == y_data[\"Id\"].nunique()"
   ]
  },
  {
   "cell_type": "code",
   "execution_count": 196,
   "id": "8494f9bd",
   "metadata": {},
   "outputs": [
    {
     "data": {
      "text/plain": [
       "False"
      ]
     },
     "execution_count": 196,
     "metadata": {},
     "output_type": "execute_result"
    }
   ],
   "source": [
    "y_data[\"Id\"].nunique() == len(y_data)"
   ]
  },
  {
   "cell_type": "code",
   "execution_count": 197,
   "id": "36c334a1",
   "metadata": {},
   "outputs": [
    {
     "data": {
      "text/html": [
       "<div>\n",
       "<style scoped>\n",
       "    .dataframe tbody tr th:only-of-type {\n",
       "        vertical-align: middle;\n",
       "    }\n",
       "\n",
       "    .dataframe tbody tr th {\n",
       "        vertical-align: top;\n",
       "    }\n",
       "\n",
       "    .dataframe thead th {\n",
       "        text-align: right;\n",
       "    }\n",
       "</style>\n",
       "<table border=\"1\" class=\"dataframe\">\n",
       "  <thead>\n",
       "    <tr style=\"text-align: right;\">\n",
       "      <th></th>\n",
       "      <th>Id</th>\n",
       "      <th>Tag</th>\n",
       "    </tr>\n",
       "  </thead>\n",
       "  <tbody>\n",
       "    <tr>\n",
       "      <th>0</th>\n",
       "      <td>80</td>\n",
       "      <td>[flex, actionscript-3, air]</td>\n",
       "    </tr>\n",
       "    <tr>\n",
       "      <th>1</th>\n",
       "      <td>90</td>\n",
       "      <td>[svn, tortoisesvn, branch, branching-and-merging]</td>\n",
       "    </tr>\n",
       "    <tr>\n",
       "      <th>2</th>\n",
       "      <td>120</td>\n",
       "      <td>[sql, asp.net, sitemap]</td>\n",
       "    </tr>\n",
       "    <tr>\n",
       "      <th>3</th>\n",
       "      <td>180</td>\n",
       "      <td>[algorithm, language-agnostic, colors, color-s...</td>\n",
       "    </tr>\n",
       "    <tr>\n",
       "      <th>4</th>\n",
       "      <td>260</td>\n",
       "      <td>[c#, .net, scripting, compiler-construction]</td>\n",
       "    </tr>\n",
       "  </tbody>\n",
       "</table>\n",
       "</div>"
      ],
      "text/plain": [
       "    Id                                                Tag\n",
       "0   80                        [flex, actionscript-3, air]\n",
       "1   90  [svn, tortoisesvn, branch, branching-and-merging]\n",
       "2  120                            [sql, asp.net, sitemap]\n",
       "3  180  [algorithm, language-agnostic, colors, color-s...\n",
       "4  260       [c#, .net, scripting, compiler-construction]"
      ]
     },
     "execution_count": 197,
     "metadata": {},
     "output_type": "execute_result"
    }
   ],
   "source": [
    "y_data = y_data.groupby(\"Id\")[\"Tag\"].apply(list).reset_index()\n",
    "y_data.head()"
   ]
  },
  {
   "cell_type": "code",
   "execution_count": 198,
   "id": "b00c65f5",
   "metadata": {},
   "outputs": [
    {
     "data": {
      "text/plain": [
       "True"
      ]
     },
     "execution_count": 198,
     "metadata": {},
     "output_type": "execute_result"
    }
   ],
   "source": [
    "y_data[\"Id\"].nunique() == len(y_data)"
   ]
  },
  {
   "cell_type": "code",
   "execution_count": 199,
   "id": "2ae23f57",
   "metadata": {},
   "outputs": [
    {
     "data": {
      "text/plain": [
       "0"
      ]
     },
     "execution_count": 199,
     "metadata": {},
     "output_type": "execute_result"
    }
   ],
   "source": [
    "all_data = train.merge(y_data, how='left', left_on='Id', right_on='Id')\n",
    "all_data[\"Tag\"].isna().sum()"
   ]
  },
  {
   "cell_type": "code",
   "execution_count": 201,
   "id": "c3590ac5",
   "metadata": {},
   "outputs": [],
   "source": [
    "%matplotlib inline\n",
    "import matplotlib.pyplot as plt"
   ]
  },
  {
   "cell_type": "code",
   "execution_count": 202,
   "id": "a1f8834d",
   "metadata": {},
   "outputs": [
    {
     "data": {
      "image/png": "[encoded data removed]",
      "text/plain": [
       "<Figure size 640x480 with 1 Axes>"
      ]
     },
     "metadata": {},
     "output_type": "display_data"
    }
   ],
   "source": [
    "n=1000\n",
    "\n",
    "fig,ax = plt.subplots(1)\n",
    "ax.plot(range(len(all_data[\"CreationDate\"][::n])), all_data[\"CreationDate\"][::n], 'o', color='blue')\n",
    "ax.set_ylabel('CreationDate')\n",
    "ax.set_xlabel('Row number')\n",
    "\n",
    "# Turn off tick labels\n",
    "ax.set_yticklabels([])\n",
    "plt.show()"
   ]
  },
  {
   "cell_type": "code",
   "execution_count": 203,
   "id": "f7944e06",
   "metadata": {},
   "outputs": [],
   "source": [
    "def train_test_splitting(X, y, test_size, shuffle=True):\n",
    "    length_data = len(X)\n",
    "    test_len = int(length_data*test_size)\n",
    "    train_len = length_data - test_len\n",
    "    if shuffle:\n",
    "        index = np.random.permutation(length_data)\n",
    "        a = index[:5]\n",
    "        \n",
    "    else:\n",
    "        index = np.arange(length_data)\n",
    "    train_index = index[:train_len]\n",
    "    test_index = index[train_len:]\n",
    "\n",
    "    return X[train_index],X[test_index],y[train_index],y[test_index], a"
   ]
  },
  {
   "cell_type": "code",
   "execution_count": 458,
   "id": "f32e0baa",
   "metadata": {},
   "outputs": [],
   "source": [
    "np.random.seed(0)\n",
    "X_train,X_test,y_train,y_test,ind = train_test_splitting(all_data[\"Title\"], all_data[\"Tag\"], test_size=0.3 , shuffle=True) "
   ]
  },
  {
   "cell_type": "code",
   "execution_count": 209,
   "id": "5a8bb6b9",
   "metadata": {},
   "outputs": [],
   "source": [
    "ind_test = [ 3582, 60498, 53227, 21333,  3885]"
   ]
  },
  {
   "cell_type": "code",
   "execution_count": 210,
   "id": "23a60750",
   "metadata": {},
   "outputs": [],
   "source": [
    "assert set(ind_test) == set(ind), \"Indexes don't match\""
   ]
  },
  {
   "cell_type": "code",
   "execution_count": 211,
   "id": "3a80f1a1",
   "metadata": {},
   "outputs": [
    {
     "name": "stderr",
     "output_type": "stream",
     "text": [
      "[nltk_data] Downloading package stopwords to\n",
      "[nltk_data]     /Users/sergeiakhmadulin/nltk_data...\n",
      "[nltk_data]   Package stopwords is already up-to-date!\n"
     ]
    }
   ],
   "source": [
    "import nltk\n",
    "nltk.download('stopwords')\n",
    "from nltk.corpus import stopwords"
   ]
  },
  {
   "cell_type": "code",
   "execution_count": 212,
   "id": "72258ee7",
   "metadata": {},
   "outputs": [],
   "source": [
    "def text_prepare(text):\n",
    "    \n",
    "    REPLACE_BY_SPACE_RE = re.compile('[/(){}\\[\\]\\|@,;]')\n",
    "    BAD_SYMBOLS_RE = re.compile('[^0-9a-z #+_]')\n",
    "    STOPWORDS = set(stopwords.words('english'))\n",
    "    text = text.lower()\n",
    "\n",
    "    text = REPLACE_BY_SPACE_RE.sub(r' ',text)\n",
    "    text = BAD_SYMBOLS_RE.sub(r'',text)\n",
    "    text = [w for w in text.split() if not w in STOPWORDS]\n",
    "    \n",
    "    return ' '.join(text)"
   ]
  },
  {
   "cell_type": "code",
   "execution_count": 213,
   "id": "fb60a238",
   "metadata": {},
   "outputs": [],
   "source": [
    "X_train = [text_prepare(x) for x in X_train]\n",
    "X_test = [text_prepare(x) for x in X_test]"
   ]
  },
  {
   "cell_type": "markdown",
   "id": "b8939936",
   "metadata": {},
   "source": [
    "<a name=\"2.1\"></a>\n",
    "## 2.1 - Bag of words"
   ]
  },
  {
   "cell_type": "code",
   "execution_count": 214,
   "id": "116c4f2f",
   "metadata": {},
   "outputs": [],
   "source": [
    "import Bagofwords as BOW"
   ]
  },
  {
   "cell_type": "code",
   "execution_count": 215,
   "id": "45c4bd95",
   "metadata": {},
   "outputs": [],
   "source": [
    "BagOW = BOW.BagOfWords()"
   ]
  },
  {
   "cell_type": "code",
   "execution_count": 77,
   "id": "32658726",
   "metadata": {},
   "outputs": [
    {
     "data": {
      "text/plain": [
       "<module 'Bagofwords' from '/Users/sergeiakhmadulin/Library/CloudStorage/GoogleDrive-akhmadulinsergey@gmail.com/My Drive/Simple NLP/Bagofwords.py'>"
      ]
     },
     "execution_count": 77,
     "metadata": {},
     "output_type": "execute_result"
    }
   ],
   "source": [
    "from importlib import reload\n",
    "reload(BOW)"
   ]
  },
  {
   "cell_type": "code",
   "execution_count": 216,
   "id": "70960517",
   "metadata": {
    "scrolled": true
   },
   "outputs": [],
   "source": [
    "BagOW = BOW.BagOfWords(maximum_words = 5000)\n",
    "BagOW.fit(X_train)\n",
    "X_train_mybag = BagOW.transform(X_train)\n",
    "X_test_mybag = BagOW.transform(X_test)\n",
    "bag_of_words_dic = BagOW.get_vocab()"
   ]
  },
  {
   "cell_type": "code",
   "execution_count": 217,
   "id": "27c4bed8",
   "metadata": {},
   "outputs": [
    {
     "data": {
      "text/plain": [
       "<70000x5000 sparse matrix of type '<class 'numpy.float64'>'\n",
       "\twith 341550 stored elements in List of Lists format>"
      ]
     },
     "execution_count": 217,
     "metadata": {},
     "output_type": "execute_result"
    }
   ],
   "source": [
    "X_train_mybag"
   ]
  },
  {
   "cell_type": "markdown",
   "id": "2e467331",
   "metadata": {},
   "source": [
    "<a name=\"2.2\"></a>\n",
    "## 2.2 - TF-IDF"
   ]
  },
  {
   "cell_type": "markdown",
   "id": "775a1ce9",
   "metadata": {},
   "source": [
    " For this approuch we'll create module Tfidf that create a class and make fit, transform tramsformation"
   ]
  },
  {
   "cell_type": "code",
   "execution_count": 218,
   "id": "1f2fe852",
   "metadata": {},
   "outputs": [],
   "source": [
    "import Tfidf as tf"
   ]
  },
  {
   "cell_type": "code",
   "execution_count": 219,
   "id": "7e29a598",
   "metadata": {},
   "outputs": [],
   "source": [
    "tfidf_obj = tf.TFIDF()\n",
    "tfidf_obj.fit(X_train)"
   ]
  },
  {
   "cell_type": "code",
   "execution_count": 220,
   "id": "75f293a3",
   "metadata": {},
   "outputs": [
    {
     "name": "stderr",
     "output_type": "stream",
     "text": [
      "/Users/sergeiakhmadulin/Library/CloudStorage/GoogleDrive-akhmadulinsergey@gmail.com/My Drive/Simple NLP/Tfidf.py:43: RuntimeWarning: divide by zero encountered in divide\n",
      "  norm_tfidf = tfidf.multiply(1/np.sqrt(np.sum(tfidf.power(2), axis = 1)).reshape((length_rows,1)))\n"
     ]
    }
   ],
   "source": [
    "X_train_tfidf = tfidf_obj.transform(X_train)\n",
    "X_test_tfidf = tfidf_obj.transform(X_test)\n",
    "tfidf_vocab = tfidf_obj.get_vocab()"
   ]
  },
  {
   "cell_type": "code",
   "execution_count": 221,
   "id": "12de0bfb",
   "metadata": {},
   "outputs": [],
   "source": [
    "tfidf_index_to_word = {word[0]:index for index,word in enumerate(tfidf_vocab)}"
   ]
  },
  {
   "cell_type": "code",
   "execution_count": 222,
   "id": "f663a53e",
   "metadata": {},
   "outputs": [
    {
     "data": {
      "text/plain": [
       "70000"
      ]
     },
     "execution_count": 222,
     "metadata": {},
     "output_type": "execute_result"
    }
   ],
   "source": [
    "len(X_train)"
   ]
  },
  {
   "cell_type": "code",
   "execution_count": 224,
   "id": "d2cd8d31",
   "metadata": {},
   "outputs": [
    {
     "data": {
      "text/plain": [
       "<70000x28151 sparse matrix of type '<class 'numpy.float64'>'\n",
       "\twith 378659 stored elements in COOrdinate format>"
      ]
     },
     "execution_count": 224,
     "metadata": {},
     "output_type": "execute_result"
    }
   ],
   "source": [
    "X_train_tfidf"
   ]
  },
  {
   "cell_type": "markdown",
   "id": "44333be6",
   "metadata": {},
   "source": [
    "<a name=\"2.3\"></a>\n",
    "## 2.3 - CBOW"
   ]
  },
  {
   "cell_type": "markdown",
   "id": "018f4ad4",
   "metadata": {},
   "source": [
    " For this approuch we'll create two dictionaries to convert all unick words into a number and vise versa. Next we'll create two arres one with context words and another with center, that is what we are going to feed into neuron network. Train simple neuron networt with only 2 layers. As a result we'll get two matrises with trained weights the mean sum of them give us embedings of each word."
   ]
  },
  {
   "cell_type": "markdown",
   "id": "35787d9b",
   "metadata": {},
   "source": [
    "<a name=\"2.3.1\"></a>\n",
    "### 2.3.1 - Data prepare"
   ]
  },
  {
   "cell_type": "code",
   "execution_count": 225,
   "id": "717eb497",
   "metadata": {},
   "outputs": [],
   "source": [
    "def add_pad(text, num_of_padding, padding_car):\n",
    "    text_with_pad = []\n",
    "    for sent in text:\n",
    "        sent = (padding_car + \" \") * num_of_padding + sent + (\" \" + padding_car) * num_of_padding\n",
    "        text_with_pad.append(sent)\n",
    "    return text_with_pad"
   ]
  },
  {
   "cell_type": "code",
   "execution_count": 226,
   "id": "c38423ea",
   "metadata": {},
   "outputs": [],
   "source": [
    "def get_dict(text): \n",
    "    idx = 0\n",
    "    word2Ind = {}\n",
    "    Ind2word = {}\n",
    "    for sent in text:\n",
    "        try:\n",
    "            for word in sent.split():\n",
    "                if word not in word2Ind.keys():\n",
    "                    word2Ind[word] = idx\n",
    "                    Ind2word[idx] = word\n",
    "                    idx += 1\n",
    "        except:\n",
    "            for word in sent:\n",
    "                if word not in word2Ind.keys():\n",
    "                    word2Ind[word] = idx\n",
    "                    Ind2word[idx] = word\n",
    "                    idx += 1\n",
    "    return word2Ind,Ind2word"
   ]
  },
  {
   "cell_type": "code",
   "execution_count": 227,
   "id": "89757570",
   "metadata": {},
   "outputs": [],
   "source": [
    "def get_data_with_window(text, num_neighbor_words, padding = False):\n",
    "    \n",
    "    if padding:\n",
    "        text = add_pad(text, num_neighbor_words, \"PAD\")\n",
    "        \n",
    "    word2Ind, Ind2word = get_dict(text)\n",
    "    vector_lenght = len(word2Ind)\n",
    "    count = 0\n",
    "    for sent in text:\n",
    "        length = len(sent.split()) - 2*num_neighbor_words\n",
    "        if length > 0:\n",
    "            count += length\n",
    "    X_matrix = sp_sparse.lil_matrix((count,vector_lenght))\n",
    "    y_matrix = sp_sparse.lil_matrix((count,vector_lenght))\n",
    "    Y = []\n",
    "    n = 0\n",
    "    for row, sent in enumerate(text):\n",
    "        sent_to_separete = sent.split()\n",
    "        for i in range(num_neighbor_words, len(sent_to_separete) - num_neighbor_words):\n",
    "            center_word = sent_to_separete[i]\n",
    "            context_words = sent_to_separete[(i - num_neighbor_words):i] + sent_to_separete[(i+1):(i+num_neighbor_words+1)]\n",
    "            y_matrix[n, word2Ind[center_word]] = 1\n",
    "            Y.append(word2Ind[center_word])\n",
    "            for con_word in context_words:\n",
    "                X_matrix[n, word2Ind[con_word]] += 1\n",
    "            n += 1\n",
    "    X_matrix = (X_matrix/sp_sparse.lil_matrix.sum(X_matrix, axis = 1)).tolil()\n",
    "    Y = np.array(Y)\n",
    "    return X_matrix, Y, word2Ind, Ind2word"
   ]
  },
  {
   "cell_type": "code",
   "execution_count": 228,
   "id": "b6f14495",
   "metadata": {},
   "outputs": [],
   "source": [
    "X, y, word2Ind, Ind2word  = get_data_with_window(X_train, 2, padding = True)"
   ]
  },
  {
   "cell_type": "code",
   "execution_count": 229,
   "id": "83a7bf66",
   "metadata": {},
   "outputs": [
    {
     "data": {
      "text/plain": [
       "((384493, 28152), 28151)"
      ]
     },
     "execution_count": 229,
     "metadata": {},
     "output_type": "execute_result"
    }
   ],
   "source": [
    "X.shape, max(Ind2word)"
   ]
  },
  {
   "cell_type": "markdown",
   "id": "c1b9d436",
   "metadata": {},
   "source": [
    "<a name=\"2.3.2\"></a>\n",
    "### 2.3.2 - Train neuron network"
   ]
  },
  {
   "cell_type": "code",
   "execution_count": 230,
   "id": "af2efc1f",
   "metadata": {},
   "outputs": [],
   "source": [
    "import NN_for_CBOW as NN"
   ]
  },
  {
   "cell_type": "code",
   "execution_count": 231,
   "id": "0455f3dc",
   "metadata": {
    "scrolled": true
   },
   "outputs": [
    {
     "name": "stdout",
     "output_type": "stream",
     "text": [
      "done 26.0% of epoch - 0, loss: 10.079217083488908 \n",
      "time for 100000 samples: 0:01:43.795003\n",
      "done 52.0% of epoch - 0, loss: 8.293559011116294 \n",
      "time for 100000 samples: 0:03:26.806583\n",
      "done 78.0% of epoch - 0, loss: 8.116268169996228 \n",
      "time for 100000 samples: 0:05:05.712090\n",
      "done epoch: 0, loss: 7.947154052122614 \n",
      " weights saved\n",
      "done 26.0% of epoch - 1, loss: 7.813936136084558 \n",
      "time for 100000 samples: 0:01:40.157458\n",
      "done 52.0% of epoch - 1, loss: 7.807762216795308 \n",
      "time for 100000 samples: 0:03:17.004728\n",
      "done 78.0% of epoch - 1, loss: 7.991509249881737 \n",
      "time for 100000 samples: 0:04:55.216219\n",
      "done epoch: 1, loss: 7.876133416517761 \n",
      " weights saved\n",
      "done 26.0% of epoch - 2, loss: 7.814714439214164 \n",
      "time for 100000 samples: 0:01:39.552393\n",
      "done 52.0% of epoch - 2, loss: 7.802307866887494 \n",
      "time for 100000 samples: 0:03:16.893595\n",
      "done 78.0% of epoch - 2, loss: 7.982859796840323 \n",
      "time for 100000 samples: 0:04:55.474927\n",
      "done epoch: 2, loss: 7.862088946110937 \n",
      " weights saved\n",
      "done 26.0% of epoch - 3, loss: 7.816215703065423 \n",
      "time for 100000 samples: 0:01:49.503618\n",
      "done 52.0% of epoch - 3, loss: 7.798319904387386 \n",
      "time for 100000 samples: 0:03:37.784536\n",
      "done 78.0% of epoch - 3, loss: 7.9749717931759605 \n",
      "time for 100000 samples: 0:05:27.010147\n",
      "done epoch: 3, loss: 7.852441409840416 \n",
      " weights saved\n"
     ]
    }
   ],
   "source": [
    "res, W_1,W_2 = NN.train_network(X, y, hidden_neurons = 64, num_epoch = 4, batchsize = 100, initialization = \"xavier\")"
   ]
  },
  {
   "cell_type": "code",
   "execution_count": 76,
   "id": "21704194",
   "metadata": {
    "collapsed": true,
    "jupyter": {
     "outputs_hidden": true
    }
   },
   "outputs": [
    {
     "name": "stdout",
     "output_type": "stream",
     "text": [
      "done 2.0% of epoch - 0, loss: 9.409370113725881 \n",
      " time for 100000 samples: 0:06:15.776176\n",
      "done 3.9% of epoch - 0, loss: 8.739939438338556 \n",
      " time for 100000 samples: 0:12:22.916958\n",
      "done 5.9% of epoch - 0, loss: 8.25776119276121 \n",
      " time for 100000 samples: 0:18:25.489723\n",
      "done 7.9% of epoch - 0, loss: 8.23271822314867 \n",
      " time for 100000 samples: 0:24:30.342833\n",
      "done 9.9% of epoch - 0, loss: 8.445524782753651 \n",
      " time for 100000 samples: 0:30:30.936172\n",
      "done 11.8% of epoch - 0, loss: 8.117662160451824 \n",
      " time for 100000 samples: 0:36:36.671185\n",
      "done 13.8% of epoch - 0, loss: 8.36204527775428 \n",
      " time for 100000 samples: 0:42:37.673783\n",
      "done 15.8% of epoch - 0, loss: 8.242961961072115 \n",
      " time for 100000 samples: 0:48:35.373248\n",
      "done 17.7% of epoch - 0, loss: 8.084340025561714 \n",
      " time for 100000 samples: 0:54:30.845691\n",
      "done 19.7% of epoch - 0, loss: 8.37243577483956 \n",
      " time for 100000 samples: 1:00:26.359755\n",
      "done 21.7% of epoch - 0, loss: 8.106786033534462 \n",
      " time for 100000 samples: 1:06:16.936000\n",
      "done 23.7% of epoch - 0, loss: 8.011517947619208 \n",
      " time for 100000 samples: 1:12:05.071468\n",
      "done 25.6% of epoch - 0, loss: 8.168823770422549 \n",
      " time for 100000 samples: 1:17:55.378829\n",
      "done 27.6% of epoch - 0, loss: 8.101712712217315 \n",
      " time for 100000 samples: 1:23:51.361105\n",
      "done 29.6% of epoch - 0, loss: 8.239324492196326 \n",
      " time for 100000 samples: 1:29:47.771784\n",
      "done 31.5% of epoch - 0, loss: 8.057000254940185 \n",
      " time for 100000 samples: 1:35:39.708207\n",
      "done 33.5% of epoch - 0, loss: 8.235225078180978 \n",
      " time for 100000 samples: 1:41:33.302007\n",
      "done 35.5% of epoch - 0, loss: 8.15837316343943 \n",
      " time for 100000 samples: 1:47:22.813464\n",
      "done 37.5% of epoch - 0, loss: 7.997217283798007 \n",
      " time for 100000 samples: 1:53:38.775305\n",
      "done 39.4% of epoch - 0, loss: 8.218373342148507 \n",
      " time for 100000 samples: 1:59:59.024744\n",
      "done 41.4% of epoch - 0, loss: 8.188974348871533 \n",
      " time for 100000 samples: 2:06:08.504935\n",
      "done 43.4% of epoch - 0, loss: 8.150962721705676 \n",
      " time for 100000 samples: 2:12:01.037156\n",
      "done 45.3% of epoch - 0, loss: 8.13218216236324 \n",
      " time for 100000 samples: 2:18:02.244811\n",
      "done 47.3% of epoch - 0, loss: 8.10657306454535 \n",
      " time for 100000 samples: 2:24:12.032780\n",
      "done 49.3% of epoch - 0, loss: 8.415231814343521 \n",
      " time for 100000 samples: 2:30:16.073137\n",
      "done 51.2% of epoch - 0, loss: 7.854307159891384 \n",
      " time for 100000 samples: 2:36:15.668554\n",
      "done 53.2% of epoch - 0, loss: 8.30874012773595 \n",
      " time for 100000 samples: 2:42:16.410823\n",
      "done 55.2% of epoch - 0, loss: 8.336904640559307 \n",
      " time for 100000 samples: 2:48:20.653359\n",
      "done 57.2% of epoch - 0, loss: 8.187578373422792 \n",
      " time for 100000 samples: 2:54:28.213301\n",
      "done 59.1% of epoch - 0, loss: 8.045751511735197 \n",
      " time for 100000 samples: 3:00:30.446499\n",
      "done 61.1% of epoch - 0, loss: 8.295143030894181 \n",
      " time for 100000 samples: 3:06:31.438025\n",
      "done 63.1% of epoch - 0, loss: 8.117770104788336 \n",
      " time for 100000 samples: 3:12:33.425260\n",
      "done 65.0% of epoch - 0, loss: 8.360142891533789 \n",
      " time for 100000 samples: 3:18:29.616373\n",
      "done 67.0% of epoch - 0, loss: 8.246798664748576 \n",
      " time for 100000 samples: 3:24:30.466436\n",
      "done 69.0% of epoch - 0, loss: 8.285483895478425 \n",
      " time for 100000 samples: 3:31:02.357579\n",
      "done 71.0% of epoch - 0, loss: 8.14731999361976 \n",
      " time for 100000 samples: 3:37:28.070755\n",
      "done 72.9% of epoch - 0, loss: 8.164671468576758 \n",
      " time for 100000 samples: 3:43:38.875816\n",
      "done 74.9% of epoch - 0, loss: 8.214125731298147 \n",
      " time for 100000 samples: 3:50:00.480852\n",
      "done 76.9% of epoch - 0, loss: 8.17010455492065 \n",
      " time for 100000 samples: 3:56:22.323743\n",
      "done 78.8% of epoch - 0, loss: 8.054545565163192 \n",
      " time for 100000 samples: 4:02:33.937605\n",
      "done 80.8% of epoch - 0, loss: 8.05455953409449 \n",
      " time for 100000 samples: 4:08:56.523403\n",
      "done 82.8% of epoch - 0, loss: 8.05719643334018 \n",
      " time for 100000 samples: 4:15:16.774925\n",
      "done 84.8% of epoch - 0, loss: 8.162466403821778 \n",
      " time for 100000 samples: 4:21:44.248544\n",
      "done 86.7% of epoch - 0, loss: 7.974402805637124 \n",
      " time for 100000 samples: 4:28:07.525346\n",
      "done 88.7% of epoch - 0, loss: 8.208998894667282 \n",
      " time for 100000 samples: 4:34:35.730728\n",
      "done 90.7% of epoch - 0, loss: 8.302873546550428 \n",
      " time for 100000 samples: 4:40:58.212703\n",
      "done 92.6% of epoch - 0, loss: 8.012340090664717 \n",
      " time for 100000 samples: 4:47:14.518796\n",
      "done 94.6% of epoch - 0, loss: 8.118428678740079 \n",
      " time for 100000 samples: 4:53:32.089769\n",
      "done 96.6% of epoch - 0, loss: 8.05831949023966 \n",
      " time for 100000 samples: 4:59:50.575260\n",
      "done 98.6% of epoch - 0, loss: 8.105176048552027 \n",
      " time for 100000 samples: 5:06:09.613124\n",
      "done epoch: 0, loss: 8.13051491720744 \n",
      " weights saved\n",
      "done 2.0% of epoch - 1, loss: 8.227057788001195 \n",
      " time for 100000 samples: 0:06:19.610898\n",
      "done 3.9% of epoch - 1, loss: 8.488864548480834 \n",
      " time for 100000 samples: 0:12:40.042126\n"
     ]
    },
    {
     "ename": "KeyboardInterrupt",
     "evalue": "",
     "output_type": "error",
     "traceback": [
      "\u001b[0;31m---------------------------------------------------------------------------\u001b[0m",
      "\u001b[0;31mKeyboardInterrupt\u001b[0m                         Traceback (most recent call last)",
      "Cell \u001b[0;32mIn[76], line 1\u001b[0m\n\u001b[0;32m----> 1\u001b[0m res, W_1,W_2 \u001b[38;5;241m=\u001b[39m NN\u001b[38;5;241m.\u001b[39mtrain_network(X, y, hidden_neurons \u001b[38;5;241m=\u001b[39m \u001b[38;5;241m64\u001b[39m, num_epoch \u001b[38;5;241m=\u001b[39m \u001b[38;5;241m4\u001b[39m, batchsize \u001b[38;5;241m=\u001b[39m \u001b[38;5;241m500\u001b[39m, \\\n\u001b[1;32m      2\u001b[0m                                 initialization \u001b[38;5;241m=\u001b[39m \u001b[38;5;124m\"\u001b[39m\u001b[38;5;124mcustom\u001b[39m\u001b[38;5;124m\"\u001b[39m,weights_1 \u001b[38;5;241m=\u001b[39m W_1, weights_2 \u001b[38;5;241m=\u001b[39m W_2)\n",
      "File \u001b[0;32m~/Library/CloudStorage/GoogleDrive-akhmadulinsergey@gmail.com/My Drive/My_project/NN_for_CBOW.py:158\u001b[0m, in \u001b[0;36mtrain_network\u001b[0;34m(X_train, y_train, hidden_neurons, num_epoch, batchsize, initialization, weights_1, weights_2)\u001b[0m\n\u001b[1;32m    156\u001b[0m passes \u001b[38;5;241m=\u001b[39m \u001b[38;5;241m0\u001b[39m\n\u001b[1;32m    157\u001b[0m \u001b[38;5;28;01mfor\u001b[39;00m x_batch,y_batch \u001b[38;5;129;01min\u001b[39;00m iterate_minibatches(X_train, y_train, batchsize \u001b[38;5;241m=\u001b[39m batchsize):\n\u001b[0;32m--> 158\u001b[0m     loss \u001b[38;5;241m=\u001b[39m train(network,x_batch,y_batch)\n\u001b[1;32m    159\u001b[0m     passes \u001b[38;5;241m+\u001b[39m\u001b[38;5;241m=\u001b[39m batchsize\n\u001b[1;32m    160\u001b[0m     \u001b[38;5;28;01mif\u001b[39;00m passes \u001b[38;5;241m%\u001b[39m \u001b[38;5;241m100000\u001b[39m \u001b[38;5;241m==\u001b[39m \u001b[38;5;241m0\u001b[39m:\n",
      "File \u001b[0;32m~/Library/CloudStorage/GoogleDrive-akhmadulinsergey@gmail.com/My Drive/My_project/NN_for_CBOW.py:118\u001b[0m, in \u001b[0;36mtrain\u001b[0;34m(network, X, y)\u001b[0m\n\u001b[1;32m    115\u001b[0m loss_grad \u001b[38;5;241m=\u001b[39m grad_softmax_crossentropy_with_logits(logits,y)\n\u001b[1;32m    117\u001b[0m \u001b[38;5;66;03m# Reverse propogation as this is backprop\u001b[39;00m\n\u001b[0;32m--> 118\u001b[0m \u001b[38;5;28;01mfor\u001b[39;00m layer_index \u001b[38;5;129;01min\u001b[39;00m \u001b[38;5;28mrange\u001b[39m(\u001b[38;5;28mlen\u001b[39m(network))[::\u001b[38;5;241m-\u001b[39m\u001b[38;5;241m1\u001b[39m]:\n\u001b[1;32m    119\u001b[0m     layer \u001b[38;5;241m=\u001b[39m network[layer_index]\n\u001b[1;32m    121\u001b[0m     loss_grad \u001b[38;5;241m=\u001b[39m layer\u001b[38;5;241m.\u001b[39mbackward(layer_inputs[layer_index],loss_grad) \n",
      "\u001b[0;31mKeyboardInterrupt\u001b[0m: "
     ]
    }
   ],
   "source": [
    "res, W_1,W_2 = NN.train_network(X, y, hidden_neurons = 64, num_epoch = 4, batchsize = 100, \\\n",
    "                                initialization = \"custom\",weights_1 = W_1, weights_2 = W_2)"
   ]
  },
  {
   "cell_type": "code",
   "execution_count": 36,
   "id": "e4d0e33b",
   "metadata": {},
   "outputs": [],
   "source": [
    "W_1 = np.array(pd.read_csv(\"weights_1.csv\", header=None))\n",
    "W_2 = np.array(pd.read_csv(\"weights_2.csv\", header=None))"
   ]
  },
  {
   "cell_type": "code",
   "execution_count": 232,
   "id": "4993a278",
   "metadata": {},
   "outputs": [],
   "source": [
    "word_embedings = (W_1 + W_2.T)/2"
   ]
  },
  {
   "cell_type": "code",
   "execution_count": 233,
   "id": "737f3c81",
   "metadata": {},
   "outputs": [],
   "source": [
    "embedings_for_model = np.mean(word_embedings[1:],axis = 1)"
   ]
  },
  {
   "cell_type": "markdown",
   "id": "bf1edb46",
   "metadata": {},
   "source": [
    "<a name=\"2.3.3\"></a>\n",
    "### 2.3.3 - PCA for plotting results"
   ]
  },
  {
   "cell_type": "code",
   "execution_count": 234,
   "id": "65beacf4",
   "metadata": {},
   "outputs": [],
   "source": [
    "def pca(data, number_components):\n",
    "    if number_components<=data.shape[1]:\n",
    "        cov_mat = np.cov(data.T)\n",
    "        eigenvalues, eigenvectors = LA.eig(cov_mat)\n",
    "        two_vectors = eigenvectors[np.argsort(eigenvalues)[:number_components]]\n",
    "        return data@two_vectors.T\n",
    "    else:\n",
    "        raise ValueError(\"Number of components > data dimention\")"
   ]
  },
  {
   "cell_type": "code",
   "execution_count": 236,
   "id": "8eeb2a85",
   "metadata": {},
   "outputs": [],
   "source": [
    "data_form_pca = pca(word_embedings[1:], 2)\n",
    "Ind2word_no_pad = {k:v for k,v in enumerate(list(Ind2word.values())[1:])}\n",
    "word2Ind_no_pad = {k:v for v,k in Ind2word_no_pad.items()}"
   ]
  },
  {
   "cell_type": "code",
   "execution_count": 237,
   "id": "1432fbb2",
   "metadata": {},
   "outputs": [],
   "source": [
    "def plot_some_data(names):\n",
    "    num_of_rows = list(map(word2Ind_no_pad.get, names) )\n",
    "    data_to_plot = data_form_pca[num_of_rows]\n",
    "    A = [i[0] for i in data_to_plot]\n",
    "    B = [i[1] for i in data_to_plot]\n",
    "    fig, ax = plt.subplots()\n",
    "    ax.set_xlabel(\"Component_1\")\n",
    "    ax.set_ylabel(\"Component_2\")\n",
    "    \n",
    "    ax.scatter(A, B)\n",
    "\n",
    "    for i, txt in enumerate(names):\n",
    "        ax.annotate(txt, (A[i], B[i]))\n",
    "    plt.show()"
   ]
  },
  {
   "cell_type": "code",
   "execution_count": 424,
   "id": "79e47f2b",
   "metadata": {},
   "outputs": [
    {
     "data": {
      "image/png": "[encoded data removed]",
      "text/plain": [
       "<Figure size 640x480 with 1 Axes>"
      ]
     },
     "metadata": {},
     "output_type": "display_data"
    }
   ],
   "source": [
    "plot_some_data(['python','c','c++','c#','objectivec','sql','vba','get','java', 'android'])"
   ]
  },
  {
   "cell_type": "markdown",
   "id": "52720152",
   "metadata": {},
   "source": [
    "<a name=\"3\"></a>\n",
    "## 3 - Model creation and evaluation"
   ]
  },
  {
   "cell_type": "code",
   "execution_count": 249,
   "id": "defcfbe9",
   "metadata": {},
   "outputs": [],
   "source": [
    "import Binarizer as binar"
   ]
  },
  {
   "cell_type": "code",
   "execution_count": 664,
   "id": "a799b041",
   "metadata": {},
   "outputs": [],
   "source": [
    "bnr = binar.Binarizer()\n",
    "bnr.fit(y_train)\n",
    "y_train_mat = bnr.transform(y_train)\n",
    "y_test_mat = bnr.transform(y_test)"
   ]
  },
  {
   "cell_type": "code",
   "execution_count": 767,
   "id": "23c4a54c-7c20-47f5-b30a-ab14421e92ef",
   "metadata": {},
   "outputs": [],
   "source": [
    "import Logistic_Reg as LR"
   ]
  },
  {
   "cell_type": "code",
   "execution_count": 822,
   "id": "13e94678-d362-4f02-b27d-e92980b7bdc2",
   "metadata": {},
   "outputs": [
    {
     "data": {
      "text/plain": [
       "<module 'Logistic_Reg' from '/Users/sergeiakhmadulin/Library/CloudStorage/GoogleDrive-akhmadulinsergey@gmail.com/My Drive/Simple NLP/Logistic_Reg.py'>"
      ]
     },
     "execution_count": 822,
     "metadata": {},
     "output_type": "execute_result"
    }
   ],
   "source": [
    "from importlib import reload\n",
    "reload(LR)"
   ]
  },
  {
   "cell_type": "code",
   "execution_count": null,
   "id": "321737ba-a04a-40dc-974d-b422169054a6",
   "metadata": {},
   "outputs": [],
   "source": []
  },
  {
   "cell_type": "code",
   "execution_count": 666,
   "id": "dacfe694-75bf-4a56-b2e5-9b748fb4711a",
   "metadata": {},
   "outputs": [
    {
     "data": {
      "text/plain": [
       "(30000, 11657)"
      ]
     },
     "execution_count": 666,
     "metadata": {},
     "output_type": "execute_result"
    }
   ],
   "source": [
    "y_test_mat.shape"
   ]
  },
  {
   "cell_type": "code",
   "execution_count": 769,
   "id": "f9180e4d",
   "metadata": {},
   "outputs": [
    {
     "data": {
      "text/plain": [
       "<module 'Binarizer' from '/Users/sergeiakhmadulin/Library/CloudStorage/GoogleDrive-akhmadulinsergey@gmail.com/My Drive/Simple NLP/Binarizer.py'>"
      ]
     },
     "execution_count": 769,
     "metadata": {},
     "output_type": "execute_result"
    }
   ],
   "source": [
    "from importlib import reload\n",
    "reload(binar)"
   ]
  },
  {
   "cell_type": "code",
   "execution_count": 469,
   "id": "eab1057e-2680-4e99-9d42-2af88543c544",
   "metadata": {},
   "outputs": [
    {
     "data": {
      "text/plain": [
       "(70000,)"
      ]
     },
     "execution_count": 469,
     "metadata": {},
     "output_type": "execute_result"
    }
   ],
   "source": [
    "y_train_mat[:,0].shape"
   ]
  },
  {
   "cell_type": "code",
   "execution_count": 25,
   "id": "37418b05-3f61-4d3c-912f-4b6730b0cc02",
   "metadata": {},
   "outputs": [],
   "source": [
    "from sklearn.linear_model import LogisticRegression"
   ]
  },
  {
   "cell_type": "code",
   "execution_count": 28,
   "id": "c1dc0067-97ad-4c50-9330-741e436e570a",
   "metadata": {},
   "outputs": [],
   "source": [
    "clf = LogisticRegression(solver='lbfgs',max_iter=3000).fit(X_train_mybag, y_train_mat[:,0])"
   ]
  },
  {
   "cell_type": "code",
   "execution_count": 635,
   "id": "bcfb186a-00ed-45de-b904-6d2f75007824",
   "metadata": {},
   "outputs": [
    {
     "data": {
      "text/plain": [
       "0.9435714285714286"
      ]
     },
     "execution_count": 635,
     "metadata": {},
     "output_type": "execute_result"
    }
   ],
   "source": [
    "sum(clf.predict(X_train_mybag) == y_train_mat.T[0])/len(y_train_mat.T[0])"
   ]
  },
  {
   "cell_type": "code",
   "execution_count": 650,
   "id": "ae546893-93a8-478d-a6b3-260265ef229d",
   "metadata": {},
   "outputs": [],
   "source": [
    "from sklearn.metrics import f1_score"
   ]
  },
  {
   "cell_type": "code",
   "execution_count": 37,
   "id": "1d89786e-5529-4636-bcb4-a76be2c821e3",
   "metadata": {},
   "outputs": [
    {
     "data": {
      "text/plain": [
       "0.9536154235572055"
      ]
     },
     "execution_count": 37,
     "metadata": {},
     "output_type": "execute_result"
    }
   ],
   "source": [
    "clf.score(X_test_mybag,y_test_mat.T[0])"
   ]
  },
  {
   "cell_type": "code",
   "execution_count": null,
   "id": "d326f60b-e147-42eb-822e-100f4952f6db",
   "metadata": {},
   "outputs": [],
   "source": [
    "def f1(C):\n",
    "    num_classes = np.shape(C)[0]\n",
    "    f1_score = np.zeros(shape=(num_classes,), dtype='float32')\n",
    "    weights = np.sum(C, axis=0)/np.sum(C)\n",
    "\n",
    "    for j in range(num_classes):\n",
    "        tp = np.sum(C[j, j])\n",
    "        fp = np.sum(C[j, np.concatenate((np.arange(0, j), np.arange(j+1, num_classes)))])\n",
    "        fn = np.sum(C[np.concatenate((np.arange(0, j), np.arange(j+1, num_classes))), j])\n",
    "#         tn = np.sum(C[np.concatenate((np.arange(0, j), np.arange(j+1, num_classes))), np.concatenate((np.arange(0, j), np.arange(j+1, num_classes)))])\n",
    "\n",
    "        precision = tp/(tp+fp) if (tp+fp) > 0 else 0\n",
    "        recall = tp/(tp+fn) if (tp+fn) > 0 else 0\n",
    "        f1_score[j] = 2*precision*recall/(precision + recall)*weights[j] if (precision + recall) > 0 else 0\n",
    "\n",
    "    f1_score = np.sum(f1_score)\n",
    "    return f1_score"
   ]
  },
  {
   "cell_type": "code",
   "execution_count": 251,
   "id": "fab47f2b",
   "metadata": {},
   "outputs": [],
   "source": []
  },
  {
   "cell_type": "code",
   "execution_count": 823,
   "id": "0a2fc597-0ad1-4568-98b1-fd7807d70f4d",
   "metadata": {},
   "outputs": [],
   "source": [
    "def train_model(model, x_train, y_train, x_test, resume_training = False):\n",
    "    if resume_training:\n",
    "        try:\n",
    "            all_weights = np.load('all_weights.npy')\n",
    "            all_preds = np.load('all_preds.npy')\n",
    "            starting_point = all_weights.shape[0]\n",
    "            if starting_point == y_train.shape[1]:\n",
    "                print(\"All models trained\")\n",
    "                return all_weights, all_preds\n",
    "            \n",
    "        except (FileNotFoundError, IOError):\n",
    "            starting_point = 0\n",
    "    else:\n",
    "        starting_point = 0\n",
    "        \n",
    "    for i in range(starting_point, y_train.shape[1]):\n",
    "        model.fit(x_train, y_train[:,i, None],batchsize = 64)\n",
    "        weights = np.expand_dims(model.get_param()[0], axis=0)\n",
    "        predictions = model.predict_proba(x_test)\n",
    "        if i == 0:\n",
    "            all_weights = weights\n",
    "            all_preds = predictions\n",
    "        else:\n",
    "            all_weights = np.concatenate((all_weights ,weights), axis=0)\n",
    "            all_preds = np.concatenate((all_preds ,predictions), axis=1)\n",
    "        np.save('all_weights.npy', all_weights)\n",
    "        np.save('all_preds.npy', all_preds)\n",
    "        print(\"data stored\", i)\n",
    "\n",
    "    print(\"All models trained\")\n",
    "    return predictions, all_weights"
   ]
  },
  {
   "cell_type": "code",
   "execution_count": 826,
   "id": "b0ddb8eb-4afc-4fd7-a1cd-0af3b005898b",
   "metadata": {},
   "outputs": [],
   "source": [
    "Log_reg = LR.MyLogisticRegression(learning_rate = 0.01, num_iterations = 50)"
   ]
  },
  {
   "cell_type": "code",
   "execution_count": 827,
   "id": "5b67b1f0-4e52-4017-9569-f9b1ea5ae096",
   "metadata": {
    "scrolled": true
   },
   "outputs": [
    {
     "name": "stdout",
     "output_type": "stream",
     "text": [
      "data stored 0\n",
      "data stored 1\n",
      "data stored 2\n",
      "data stored 3\n",
      "data stored 4\n",
      "data stored 5\n",
      "data stored 6\n",
      "data stored 7\n",
      "data stored 8\n",
      "data stored 9\n",
      "data stored 10\n",
      "data stored 11\n",
      "data stored 12\n",
      "data stored 13\n",
      "data stored 14\n",
      "data stored 15\n",
      "data stored 16\n",
      "data stored 17\n",
      "data stored 18\n",
      "data stored 19\n",
      "data stored 20\n",
      "data stored 21\n",
      "data stored 22\n",
      "data stored 23\n",
      "data stored 24\n",
      "data stored 25\n",
      "data stored 26\n",
      "data stored 27\n",
      "data stored 28\n",
      "data stored 29\n",
      "data stored 30\n",
      "data stored 31\n",
      "data stored 32\n",
      "data stored 33\n",
      "data stored 34\n",
      "data stored 35\n",
      "data stored 36\n",
      "data stored 37\n",
      "data stored 38\n",
      "data stored 39\n",
      "data stored 40\n",
      "data stored 41\n",
      "data stored 42\n",
      "data stored 43\n",
      "data stored 44\n",
      "data stored 45\n",
      "data stored 46\n",
      "data stored 47\n",
      "data stored 48\n",
      "data stored 49\n",
      "data stored 50\n",
      "data stored 51\n",
      "data stored 52\n",
      "data stored 53\n",
      "data stored 54\n",
      "data stored 55\n",
      "data stored 56\n",
      "data stored 57\n",
      "data stored 58\n",
      "data stored 59\n",
      "data stored 60\n",
      "data stored 61\n",
      "data stored 62\n",
      "data stored 63\n",
      "data stored 64\n",
      "data stored 65\n",
      "data stored 66\n",
      "data stored 67\n",
      "data stored 68\n",
      "data stored 69\n",
      "data stored 70\n",
      "data stored 71\n",
      "data stored 72\n",
      "data stored 73\n",
      "data stored 74\n",
      "data stored 75\n",
      "data stored 76\n",
      "data stored 77\n",
      "data stored 78\n",
      "data stored 79\n",
      "data stored 80\n",
      "data stored 81\n",
      "data stored 82\n",
      "data stored 83\n",
      "data stored 84\n",
      "data stored 85\n",
      "data stored 86\n",
      "data stored 87\n",
      "data stored 88\n",
      "data stored 89\n",
      "data stored 90\n",
      "data stored 91\n",
      "data stored 92\n",
      "data stored 93\n",
      "data stored 94\n",
      "data stored 95\n",
      "data stored 96\n",
      "data stored 97\n",
      "data stored 98\n",
      "data stored 99\n",
      "data stored 100\n",
      "data stored 101\n",
      "data stored 102\n",
      "data stored 103\n",
      "data stored 104\n",
      "data stored 105\n",
      "data stored 106\n",
      "data stored 107\n",
      "data stored 108\n",
      "data stored 109\n",
      "data stored 110\n",
      "data stored 111\n",
      "data stored 112\n",
      "data stored 113\n",
      "data stored 114\n",
      "data stored 115\n",
      "data stored 116\n",
      "data stored 117\n",
      "data stored 118\n",
      "data stored 119\n",
      "data stored 120\n",
      "data stored 121\n",
      "data stored 122\n",
      "data stored 123\n",
      "data stored 124\n",
      "data stored 125\n",
      "data stored 126\n",
      "data stored 127\n",
      "data stored 128\n",
      "data stored 129\n",
      "data stored 130\n",
      "Unexpected exception formatting exception. Falling back to standard exception\n"
     ]
    },
    {
     "name": "stderr",
     "output_type": "stream",
     "text": [
      "Traceback (most recent call last):\n",
      "  File \"/opt/anaconda3/lib/python3.11/site-packages/IPython/core/interactiveshell.py\", line 3553, in run_code\n",
      "    exec(code_obj, self.user_global_ns, self.user_ns)\n",
      "  File \"/var/folders/08/jl099bnd35nfjhpfdphwd9400000gn/T/ipykernel_6859/3858017738.py\", line 1, in <module>\n",
      "    w, p = train_model(Log_reg, X_train_mybag, y_train_mat, X_test_mybag, resume_training = False)\n",
      "           ^^^^^^^^^^^^^^^^^^^^^^^^^^^^^^^^^^^^^^^^^^^^^^^^^^^^^^^^^^^^^^^^^^^^^^^^^^^^^^^^^^^^^^^\n",
      "  File \"/var/folders/08/jl099bnd35nfjhpfdphwd9400000gn/T/ipykernel_6859/42736396.py\", line 17, in train_model\n",
      "    model.fit(x_train, y_train[:,i, None],batchsize = 64)\n",
      "  File \"/Users/sergeiakhmadulin/Library/CloudStorage/GoogleDrive-akhmadulinsergey@gmail.com/My Drive/Simple NLP/Logistic_Reg.py\", line 146, in fit\n",
      "    parameters, grads, cost = self.gradient_descent(w, b, X_train, Y_train, batchsize)\n",
      "                              ^^^^^^^^^^^^^^^^^^^^^^^^^^^^^^^^^^^^^^^^^^^^^^^^^^^^^^^^\n",
      "  File \"/Users/sergeiakhmadulin/Library/CloudStorage/GoogleDrive-akhmadulinsergey@gmail.com/My Drive/Simple NLP/Logistic_Reg.py\", line 115, in gradient_descent\n",
      "    grads, cost = self.gradient_position(w,b,x_batch, y_batch)\n",
      "                  ^^^^^^^^^^^^^^^^^^^^^^^^^^^^^^^^^^^^^^^^^^^^\n",
      "  File \"/Users/sergeiakhmadulin/Library/CloudStorage/GoogleDrive-akhmadulinsergey@gmail.com/My Drive/Simple NLP/Logistic_Reg.py\", line 88, in gradient_position\n",
      "    grads = self.cal_gradient(w, H, X, Y) # compute gradient\n",
      "            ^^^^^^^^^^^^^^^^^^^^^^^^^^^^^\n",
      "  File \"/Users/sergeiakhmadulin/Library/CloudStorage/GoogleDrive-akhmadulinsergey@gmail.com/My Drive/Simple NLP/Logistic_Reg.py\", line 70, in cal_gradient\n",
      "    db = np.sum(H-Y)/m\n",
      "         ^^^^^^^^^^^\n",
      "  File \"/opt/anaconda3/lib/python3.11/site-packages/numpy/core/fromnumeric.py\", line 2172, in _sum_dispatcher\n",
      "    def _sum_dispatcher(a, axis=None, dtype=None, out=None, keepdims=None,\n",
      "    \n",
      "KeyboardInterrupt\n",
      "\n",
      "During handling of the above exception, another exception occurred:\n",
      "\n",
      "Traceback (most recent call last):\n",
      "  File \"/opt/anaconda3/lib/python3.11/site-packages/IPython/core/interactiveshell.py\", line 2144, in showtraceback\n",
      "    stb = self.InteractiveTB.structured_traceback(\n",
      "          ^^^^^^^^^^^^^^^^^^^^^^^^^^^^^^^^^^^^^^^^\n",
      "  File \"/opt/anaconda3/lib/python3.11/site-packages/IPython/core/ultratb.py\", line 1435, in structured_traceback\n",
      "    return FormattedTB.structured_traceback(\n",
      "           ^^^^^^^^^^^^^^^^^^^^^^^^^^^^^^^^^\n",
      "  File \"/opt/anaconda3/lib/python3.11/site-packages/IPython/core/ultratb.py\", line 1326, in structured_traceback\n",
      "    return VerboseTB.structured_traceback(\n",
      "           ^^^^^^^^^^^^^^^^^^^^^^^^^^^^^^^\n",
      "  File \"/opt/anaconda3/lib/python3.11/site-packages/IPython/core/ultratb.py\", line 1173, in structured_traceback\n",
      "    formatted_exception = self.format_exception_as_a_whole(etype, evalue, etb, number_of_lines_of_context,\n",
      "                          ^^^^^^^^^^^^^^^^^^^^^^^^^^^^^^^^^^^^^^^^^^^^^^^^^^^^^^^^^^^^^^^^^^^^^^^^^^^^^^^^\n",
      "  File \"/opt/anaconda3/lib/python3.11/site-packages/IPython/core/ultratb.py\", line 1088, in format_exception_as_a_whole\n",
      "    frames.append(self.format_record(record))\n",
      "                  ^^^^^^^^^^^^^^^^^^^^^^^^^^\n",
      "  File \"/opt/anaconda3/lib/python3.11/site-packages/IPython/core/ultratb.py\", line 970, in format_record\n",
      "    frame_info.lines, Colors, self.has_colors, lvals\n",
      "    ^^^^^^^^^^^^^^^^\n",
      "  File \"/opt/anaconda3/lib/python3.11/site-packages/IPython/core/ultratb.py\", line 792, in lines\n",
      "    return self._sd.lines\n",
      "           ^^^^^^^^^^^^^^\n",
      "  File \"/opt/anaconda3/lib/python3.11/site-packages/stack_data/utils.py\", line 145, in cached_property_wrapper\n",
      "    value = obj.__dict__[self.func.__name__] = self.func(obj)\n",
      "                                               ^^^^^^^^^^^^^^\n",
      "  File \"/opt/anaconda3/lib/python3.11/site-packages/stack_data/core.py\", line 698, in lines\n",
      "    pieces = self.included_pieces\n",
      "             ^^^^^^^^^^^^^^^^^^^^\n",
      "  File \"/opt/anaconda3/lib/python3.11/site-packages/stack_data/utils.py\", line 145, in cached_property_wrapper\n",
      "    value = obj.__dict__[self.func.__name__] = self.func(obj)\n",
      "                                               ^^^^^^^^^^^^^^\n",
      "  File \"/opt/anaconda3/lib/python3.11/site-packages/stack_data/core.py\", line 649, in included_pieces\n",
      "    pos = scope_pieces.index(self.executing_piece)\n",
      "                             ^^^^^^^^^^^^^^^^^^^^\n",
      "  File \"/opt/anaconda3/lib/python3.11/site-packages/stack_data/utils.py\", line 145, in cached_property_wrapper\n",
      "    value = obj.__dict__[self.func.__name__] = self.func(obj)\n",
      "                                               ^^^^^^^^^^^^^^\n",
      "  File \"/opt/anaconda3/lib/python3.11/site-packages/stack_data/core.py\", line 628, in executing_piece\n",
      "    return only(\n",
      "           ^^^^^\n",
      "  File \"/opt/anaconda3/lib/python3.11/site-packages/executing/executing.py\", line 164, in only\n",
      "    raise NotOneValueFound('Expected one value, found 0')\n",
      "executing.executing.NotOneValueFound: Expected one value, found 0\n"
     ]
    }
   ],
   "source": [
    "w, p = train_model(Log_reg, X_train_mybag, y_train_mat, X_test_mybag, resume_training = False)"
   ]
  },
  {
   "cell_type": "code",
   "execution_count": 828,
   "id": "cfca1d53-520d-473f-9992-e8a5629e864c",
   "metadata": {},
   "outputs": [],
   "source": [
    "all_weights = np.load('all_weights.npy')"
   ]
  },
  {
   "cell_type": "code",
   "execution_count": 831,
   "id": "61bf8929-466f-4804-a353-b538afe5e883",
   "metadata": {},
   "outputs": [
    {
     "data": {
      "text/plain": [
       "(131, 1, 5000)"
      ]
     },
     "execution_count": 831,
     "metadata": {},
     "output_type": "execute_result"
    }
   ],
   "source": [
    "all_weights.shape"
   ]
  },
  {
   "cell_type": "code",
   "execution_count": 643,
   "id": "490e6553-9d54-46cc-a1d1-1e0957a228ab",
   "metadata": {},
   "outputs": [
    {
     "data": {
      "text/plain": [
       "100"
      ]
     },
     "execution_count": 643,
     "metadata": {},
     "output_type": "execute_result"
    }
   ],
   "source": [
    "np.sum(Log_reg.predict(X_test_mybag[:100]) == y_test_mat[:100,0])"
   ]
  },
  {
   "cell_type": "code",
   "execution_count": 701,
   "id": "91052cf7-0084-4ba2-ae18-e84f471aa849",
   "metadata": {},
   "outputs": [
    {
     "data": {
      "text/plain": [
       "(1, 100)"
      ]
     },
     "execution_count": 701,
     "metadata": {},
     "output_type": "execute_result"
    }
   ],
   "source": [
    "Log_reg.predict(X_test_mybag[:100]).shape"
   ]
  },
  {
   "cell_type": "code",
   "execution_count": 570,
   "id": "45a632b1-baa3-4df1-8684-69b7abe143a5",
   "metadata": {},
   "outputs": [
    {
     "data": {
      "text/plain": [
       "(1, 5000)"
      ]
     },
     "execution_count": 570,
     "metadata": {},
     "output_type": "execute_result"
    }
   ],
   "source": [
    "Log_reg.get_param()[0].shape"
   ]
  },
  {
   "cell_type": "code",
   "execution_count": 524,
   "id": "3fecbecc-2d26-45ed-916d-4d154d43891b",
   "metadata": {},
   "outputs": [
    {
     "data": {
      "text/plain": [
       "array([0.5, 0.5, 0.5])"
      ]
     },
     "execution_count": 524,
     "metadata": {},
     "output_type": "execute_result"
    }
   ],
   "source": [
    "np.squeeze(H)"
   ]
  },
  {
   "cell_type": "code",
   "execution_count": null,
   "id": "7a9c5d23-1675-4902-a59c-bac205a3e76c",
   "metadata": {},
   "outputs": [],
   "source": []
  },
  {
   "cell_type": "code",
   "execution_count": 481,
   "id": "07594ed7-8ef6-4e8b-bbb6-bfc5f0ae18f0",
   "metadata": {},
   "outputs": [],
   "source": [
    "x = np.array([[1,2,3], [4,5,6]])\n",
    "y = np.array([[4,5,6], [1,2,3]])"
   ]
  },
  {
   "cell_type": "code",
   "execution_count": 483,
   "id": "182da759-e3c3-43a5-a8a5-5bd5c21f8181",
   "metadata": {},
   "outputs": [
    {
     "data": {
      "text/plain": [
       "(array([[1, 2, 3],\n",
       "        [4, 5, 6]]),\n",
       " array([[4, 5, 6],\n",
       "        [1, 2, 3]]))"
      ]
     },
     "execution_count": 483,
     "metadata": {},
     "output_type": "execute_result"
    }
   ],
   "source": [
    "x,y"
   ]
  },
  {
   "cell_type": "code",
   "execution_count": 482,
   "id": "fb795899-54a6-4bac-bfb4-35b748bd5faf",
   "metadata": {},
   "outputs": [
    {
     "data": {
      "text/plain": [
       "array([[-3,  3],\n",
       "       [ 6, -6],\n",
       "       [-3,  3]])"
      ]
     },
     "execution_count": 482,
     "metadata": {},
     "output_type": "execute_result"
    }
   ],
   "source": [
    "np.cross(x, y, axisc=0)"
   ]
  },
  {
   "cell_type": "code",
   "execution_count": null,
   "id": "0d09d885-71aa-4c60-b919-078b4f5b70f3",
   "metadata": {},
   "outputs": [],
   "source": []
  },
  {
   "cell_type": "code",
   "execution_count": 455,
   "id": "523ead44-ecdd-4b8f-86ac-0fa24b135c6d",
   "metadata": {},
   "outputs": [
    {
     "data": {
      "text/plain": [
       "(128, 11657)"
      ]
     },
     "execution_count": 455,
     "metadata": {},
     "output_type": "execute_result"
    }
   ],
   "source": [
    "y_train_mat[:128].shape"
   ]
  },
  {
   "cell_type": "code",
   "execution_count": 456,
   "id": "61e290f8-4aa1-4064-a068-b393d974b409",
   "metadata": {},
   "outputs": [
    {
     "data": {
      "text/plain": [
       "(70000, 5000)"
      ]
     },
     "execution_count": 456,
     "metadata": {},
     "output_type": "execute_result"
    }
   ],
   "source": [
    "X_train_mybag.shape"
   ]
  },
  {
   "cell_type": "markdown",
   "id": "6d110ce2",
   "metadata": {},
   "source": [
    "<a name=\"3.1\"></a>\n",
    "## 3.1 - BOW evaluation"
   ]
  },
  {
   "cell_type": "code",
   "execution_count": null,
   "id": "5df1140a-5f1e-4082-9f38-4d41a893dcf1",
   "metadata": {},
   "outputs": [],
   "source": []
  },
  {
   "cell_type": "code",
   "execution_count": 31,
   "id": "eba4b165",
   "metadata": {},
   "outputs": [
    {
     "data": {
      "text/plain": [
       "<884952x5000 sparse matrix of type '<class 'numpy.float64'>'\n",
       "\twith 4422607 stored elements in List of Lists format>"
      ]
     },
     "execution_count": 31,
     "metadata": {},
     "output_type": "execute_result"
    }
   ],
   "source": [
    "X_train_mybag"
   ]
  },
  {
   "cell_type": "code",
   "execution_count": 33,
   "id": "0be9aed3",
   "metadata": {},
   "outputs": [
    {
     "data": {
      "text/plain": [
       "(884952,)"
      ]
     },
     "execution_count": 33,
     "metadata": {},
     "output_type": "execute_result"
    }
   ],
   "source": [
    "y_train_mat.T[0].shape"
   ]
  },
  {
   "cell_type": "code",
   "execution_count": 47,
   "id": "e3721561",
   "metadata": {},
   "outputs": [
    {
     "data": {
      "text/plain": [
       "<128x5000 sparse matrix of type '<class 'numpy.float64'>'\n",
       "\twith 636 stored elements in List of Lists format>"
      ]
     },
     "execution_count": 47,
     "metadata": {},
     "output_type": "execute_result"
    }
   ],
   "source": [
    "X_train_mybag[:128]"
   ]
  },
  {
   "cell_type": "markdown",
   "id": "80539626",
   "metadata": {},
   "source": [
    "<a name=\"3.2\"></a>\n",
    "## 3.2 - Tfidf evaluation"
   ]
  },
  {
   "cell_type": "code",
   "execution_count": 286,
   "id": "c2018094",
   "metadata": {},
   "outputs": [
    {
     "data": {
      "text/plain": [
       "(70000,)"
      ]
     },
     "execution_count": 286,
     "metadata": {},
     "output_type": "execute_result"
    }
   ],
   "source": [
    "y_train_mat.T[0].shape"
   ]
  },
  {
   "cell_type": "code",
   "execution_count": null,
   "id": "b5bc40bb",
   "metadata": {},
   "outputs": [],
   "source": []
  },
  {
   "cell_type": "markdown",
   "id": "117b65af",
   "metadata": {},
   "source": [
    "<a name=\"3.3\"></a>\n",
    "## 3.3 - CBOW evaluation"
   ]
  },
  {
   "cell_type": "code",
   "execution_count": 83,
   "id": "78e47e64",
   "metadata": {},
   "outputs": [
    {
     "data": {
      "text/plain": [
       "(884952, 163224)"
      ]
     },
     "execution_count": 83,
     "metadata": {},
     "output_type": "execute_result"
    }
   ],
   "source": [
    "X_train_tfidf.shape"
   ]
  },
  {
   "cell_type": "code",
   "execution_count": 64,
   "id": "ea6d348a",
   "metadata": {},
   "outputs": [
    {
     "data": {
      "text/plain": [
       "(884952,)"
      ]
     },
     "execution_count": 64,
     "metadata": {},
     "output_type": "execute_result"
    }
   ],
   "source": [
    "y_train_mat.T[0].shape"
   ]
  },
  {
   "cell_type": "code",
   "execution_count": 277,
   "id": "7a5aca88",
   "metadata": {},
   "outputs": [],
   "source": [
    "X_tr = np.array([[5,6,1,3,7,4,10,1,2,0,5,3,1,4],[1,2,0,2,3,3,9,4,4,3,6,5,3,7]]).T\n",
    "Y_tr = np.array([[0,0,0,0,0,0,0,1,1,1,1,1,1,1]]).T\n",
    "X_ts  = np.array([[2,3,3,3,2,4],[1,1,0,7,6,5]]).T\n",
    "Y_ts  = np.array([[0,0,0,1,1,1]]).T"
   ]
  },
  {
   "cell_type": "code",
   "execution_count": 437,
   "id": "51327e2f-d636-462b-acf6-817d9b4ffefa",
   "metadata": {},
   "outputs": [],
   "source": [
    "X_tr = sp_sparse.lil_matrix(np.random.randint(5, size=(2000, 2)))"
   ]
  },
  {
   "cell_type": "code",
   "execution_count": 449,
   "id": "9da48e72-ff6b-465e-9bd7-06f8c8d4b6e4",
   "metadata": {},
   "outputs": [],
   "source": [
    "Y_tr = np.random.randint(2,size = (2000)).T"
   ]
  },
  {
   "cell_type": "code",
   "execution_count": 450,
   "id": "94fcb031-7734-4171-94dd-6634b7bcd1ef",
   "metadata": {},
   "outputs": [
    {
     "data": {
      "text/plain": [
       "array([1, 1, 1, ..., 0, 0, 0])"
      ]
     },
     "execution_count": 450,
     "metadata": {},
     "output_type": "execute_result"
    }
   ],
   "source": [
    "Y_tr"
   ]
  },
  {
   "cell_type": "code",
   "execution_count": 451,
   "id": "d8784759-1b6c-48ba-802a-5679490946e7",
   "metadata": {},
   "outputs": [],
   "source": [
    "from importlib import reload\n",
    "reload(LR)\n",
    "\n",
    "Log_reg = LR.MyLogisticRegression(learning_rate = 1, num_iterations = 50)"
   ]
  },
  {
   "cell_type": "code",
   "execution_count": 38,
   "id": "1a3e8c08",
   "metadata": {},
   "outputs": [],
   "source": [
    ">>> import numpy as np\n",
    ">>> from sklearn.datasets import make_multilabel_classification\n",
    ">>> from sklearn.multioutput import MultiOutputClassifier\n",
    ">>> from sklearn.linear_model import LogisticRegression\n"
   ]
  },
  {
   "cell_type": "code",
   "execution_count": 39,
   "id": "76e80292",
   "metadata": {},
   "outputs": [],
   "source": [
    ">>> X, y = make_multilabel_classification(n_classes=3, random_state=0)\n"
   ]
  },
  {
   "cell_type": "code",
   "execution_count": 45,
   "id": "7f460b7b",
   "metadata": {},
   "outputs": [
    {
     "data": {
      "text/plain": [
       "array([[1, 1, 1],\n",
       "       [1, 0, 1]])"
      ]
     },
     "execution_count": 45,
     "metadata": {},
     "output_type": "execute_result"
    }
   ],
   "source": [
    ">>> clf = MultiOutputClassifier(LogisticRegression()).fit(X, y)\n",
    ">>> clf.predict(X[-2:])"
   ]
  },
  {
   "cell_type": "code",
   "execution_count": 43,
   "id": "ae182cef",
   "metadata": {},
   "outputs": [
    {
     "data": {
      "text/plain": [
       "((100, 20), (100, 3))"
      ]
     },
     "execution_count": 43,
     "metadata": {},
     "output_type": "execute_result"
    }
   ],
   "source": [
    "mlb_1 = MultiLabelBinarizer()\n",
    "Y_1 = mlb_1.fit_transform(y_train_text_1)"
   ]
  },
  {
   "cell_type": "code",
   "execution_count": 46,
   "id": "78eb795f",
   "metadata": {},
   "outputs": [
    {
     "data": {
      "text/plain": [
       "array([[1, 1, 1],\n",
       "       [1, 0, 1]])"
      ]
     },
     "execution_count": 46,
     "metadata": {},
     "output_type": "execute_result"
    }
   ],
   "source": [
    "y[-2:]"
   ]
  },
  {
   "cell_type": "code",
   "execution_count": null,
   "id": "a97ef8a5",
   "metadata": {},
   "outputs": [],
   "source": []
  }
 ],
 "metadata": {
  "kernelspec": {
   "display_name": "Python 3 (ipykernel)",
   "language": "python",
   "name": "python3"
  },
  "language_info": {
   "codemirror_mode": {
    "name": "ipython",
    "version": 3
   },
   "file_extension": ".py",
   "mimetype": "text/x-python",
   "name": "python",
   "nbconvert_exporter": "python",
   "pygments_lexer": "ipython3",
   "version": "3.11.7"
  }
 },
 "nbformat": 4,
 "nbformat_minor": 5
}
